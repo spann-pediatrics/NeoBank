{
 "cells": [
  {
   "cell_type": "code",
   "execution_count": 2,
   "id": "bb8653e3",
   "metadata": {},
   "outputs": [],
   "source": [
    "import numpy as np\n",
    "import pandas as pd\n",
    "import glob\n",
    "import os"
   ]
  },
  {
   "cell_type": "code",
   "execution_count": 5,
   "id": "018ff139",
   "metadata": {},
   "outputs": [
    {
     "name": "stdout",
     "output_type": "stream",
     "text": [
      "['international_newborn_size_girls_weight_z_long.csv', 'international_newborn_size_boys_length_z_long.csv', 'international_newborn_size_girls_length_z_long.csv', 'international_newborn_size_girls_hc_z_long (1).csv', 'newborn_boys_hc_z_long.csv', 'international_zscores_merged.ipynb', 'international_newborn_size_boys_weight_zscores.csv']\n"
     ]
    }
   ],
   "source": [
    "import os\n",
    "print(os.listdir(\"/Users/kspann/Desktop/NeoBank/INTERGROWTH/International\"))\n"
   ]
  },
  {
   "cell_type": "code",
   "execution_count": 8,
   "id": "4ef31df9",
   "metadata": {},
   "outputs": [
    {
     "name": "stdout",
     "output_type": "stream",
     "text": [
      "Loaded files: 6\n",
      "  measure     sex ga_label  ga_weeks  z_level  value  \\\n",
      "0  weight  female     33+0      33.0       -3   0.75   \n",
      "1  weight  female     33+0      33.0       -2   1.15   \n",
      "2  weight  female     33+0      33.0       -1   1.50   \n",
      "3  weight  female     33+0      33.0        0   1.85   \n",
      "4  weight  female     33+0      33.0        1   2.23   \n",
      "\n",
      "                                         source_file  \n",
      "0  international_newborn_size_girls_weight_z_long...  \n",
      "1  international_newborn_size_girls_weight_z_long...  \n",
      "2  international_newborn_size_girls_weight_z_long...  \n",
      "3  international_newborn_size_girls_weight_z_long...  \n",
      "4  international_newborn_size_girls_weight_z_long...  \n",
      "(2135, 7)\n"
     ]
    }
   ],
   "source": [
    "# import all files\n",
    "\n",
    "# Path to International folder \n",
    "path = \"/Users/kspann/Desktop/NeoBank/INTERGROWTH/International\"\n",
    "\n",
    "# Get all CSV files in that folder\n",
    "csv_files = glob.glob(os.path.join(path, \"*.csv\"))\n",
    "\n",
    "# Read all files and combine into one dataframe\n",
    "dfs = []\n",
    "for f in csv_files:\n",
    "    df = pd.read_csv(f)\n",
    "    df[\"source_file\"] = os.path.basename(f)  # optional: keep track of origin\n",
    "    dfs.append(df)\n",
    "\n",
    "# Merge them together\n",
    "international_df = pd.concat(dfs, ignore_index=True)\n",
    "\n",
    "# Preview\n",
    "print(\"Loaded files:\", len(csv_files))\n",
    "print(international_df.head())\n",
    "print(international_df.shape)\n"
   ]
  },
  {
   "cell_type": "code",
   "execution_count": 9,
   "id": "dcd60e45",
   "metadata": {},
   "outputs": [
    {
     "name": "stdout",
     "output_type": "stream",
     "text": [
      "✅ File saved to: /Users/kspann/Desktop/NeoBank/INTERGROWTH/International/international_zscores_merged.csv\n"
     ]
    }
   ],
   "source": [
    "output_path = \"/Users/kspann/Desktop/NeoBank/INTERGROWTH/International/international_zscores_merged.csv\"\n",
    "international_df.to_csv(output_path, index=False)\n",
    "print(\"✅ File saved to:\", output_path)\n"
   ]
  }
 ],
 "metadata": {
  "kernelspec": {
   "display_name": ".hmo-kernel (3.13.5)",
   "language": "python",
   "name": "python3"
  },
  "language_info": {
   "codemirror_mode": {
    "name": "ipython",
    "version": 3
   },
   "file_extension": ".py",
   "mimetype": "text/x-python",
   "name": "python",
   "nbconvert_exporter": "python",
   "pygments_lexer": "ipython3",
   "version": "3.13.5"
  }
 },
 "nbformat": 4,
 "nbformat_minor": 5
}
