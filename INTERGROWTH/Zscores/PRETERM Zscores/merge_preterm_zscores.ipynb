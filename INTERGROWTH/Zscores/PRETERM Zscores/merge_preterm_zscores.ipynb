{
 "cells": [
  {
   "cell_type": "code",
   "execution_count": 1,
   "id": "da1e72ab",
   "metadata": {},
   "outputs": [],
   "source": [
    "import numpy as np\n",
    "import pandas as pd"
   ]
  },
  {
   "cell_type": "code",
   "execution_count": 7,
   "id": "24c82f6c",
   "metadata": {},
   "outputs": [],
   "source": [
    "preterm_boy_hc = pd.read_csv(\"/Users/kspann/Desktop/NeoBank/INTERGROWTH/Preterm/PRETERM_intergrowth_hc_boys_zscores.csv\")\n",
    "preterm_girl_hc = pd.read_csv(\"/Users/kspann/Desktop/NeoBank/INTERGROWTH/Preterm/PRETERM_intergrowth_hc_girls_zscores.csv\")\n",
    "\n",
    "preterm_boy_len = pd.read_csv(\"/Users/kspann/Desktop/NeoBank/INTERGROWTH/Preterm/PRETERM_intergrowth_length_boys_zscores.csv\")\n",
    "preterm_girl_len = pd.read_csv(\"/Users/kspann/Desktop/NeoBank/INTERGROWTH/Preterm/PRETERM_ntergrowth_length_girls_zscores.csv\")\n",
    "\n",
    "preterm_boy_weight = pd.read_csv(\"/Users/kspann/Desktop/NeoBank/INTERGROWTH/Preterm/PRETERM_intergrowth_weight_boys_zscores.csv\")\n",
    "preterm_girl_weight = pd.read_csv(\"/Users/kspann/Desktop/NeoBank/INTERGROWTH/Preterm/PRETERM_ntergrowth_weight_girls_zscores.csv\")"
   ]
  },
  {
   "cell_type": "code",
   "execution_count": 10,
   "id": "5e3e59ac",
   "metadata": {},
   "outputs": [
    {
     "name": "stdout",
     "output_type": "stream",
     "text": [
      "merged_preterm: 1596 rows, 6 columns\n"
     ]
    },
    {
     "data": {
      "application/vnd.microsoft.datawrangler.viewer.v0+json": {
       "columns": [
        {
         "name": "index",
         "rawType": "int64",
         "type": "integer"
        },
        {
         "name": "ga_label",
         "rawType": "int64",
         "type": "integer"
        },
        {
         "name": "ga_weeks",
         "rawType": "float64",
         "type": "float"
        },
        {
         "name": "measure",
         "rawType": "object",
         "type": "string"
        },
        {
         "name": "sex",
         "rawType": "object",
         "type": "string"
        },
        {
         "name": "value",
         "rawType": "float64",
         "type": "float"
        },
        {
         "name": "z_level",
         "rawType": "float64",
         "type": "float"
        }
       ],
       "ref": "d14c95e1-937a-406f-aec9-aa457edb4922",
       "rows": [
        [
         "0",
         "27",
         "27.0",
         "hc",
         "male",
         "19.57",
         "-3.0"
        ],
        [
         "1",
         "27",
         "27.0",
         "hc",
         "male",
         "21.31",
         "-2.0"
        ],
        [
         "2",
         "27",
         "27.0",
         "hc",
         "male",
         "23.04",
         "-1.0"
        ],
        [
         "3",
         "27",
         "27.0",
         "hc",
         "male",
         "24.78",
         "0.0"
        ],
        [
         "4",
         "27",
         "27.0",
         "hc",
         "male",
         "26.51",
         "1.0"
        ]
       ],
       "shape": {
        "columns": 6,
        "rows": 5
       }
      },
      "text/html": [
       "<div>\n",
       "<style scoped>\n",
       "    .dataframe tbody tr th:only-of-type {\n",
       "        vertical-align: middle;\n",
       "    }\n",
       "\n",
       "    .dataframe tbody tr th {\n",
       "        vertical-align: top;\n",
       "    }\n",
       "\n",
       "    .dataframe thead th {\n",
       "        text-align: right;\n",
       "    }\n",
       "</style>\n",
       "<table border=\"1\" class=\"dataframe\">\n",
       "  <thead>\n",
       "    <tr style=\"text-align: right;\">\n",
       "      <th></th>\n",
       "      <th>ga_label</th>\n",
       "      <th>ga_weeks</th>\n",
       "      <th>measure</th>\n",
       "      <th>sex</th>\n",
       "      <th>value</th>\n",
       "      <th>z_level</th>\n",
       "    </tr>\n",
       "  </thead>\n",
       "  <tbody>\n",
       "    <tr>\n",
       "      <th>0</th>\n",
       "      <td>27</td>\n",
       "      <td>27.0</td>\n",
       "      <td>hc</td>\n",
       "      <td>male</td>\n",
       "      <td>19.57</td>\n",
       "      <td>-3.0</td>\n",
       "    </tr>\n",
       "    <tr>\n",
       "      <th>1</th>\n",
       "      <td>27</td>\n",
       "      <td>27.0</td>\n",
       "      <td>hc</td>\n",
       "      <td>male</td>\n",
       "      <td>21.31</td>\n",
       "      <td>-2.0</td>\n",
       "    </tr>\n",
       "    <tr>\n",
       "      <th>2</th>\n",
       "      <td>27</td>\n",
       "      <td>27.0</td>\n",
       "      <td>hc</td>\n",
       "      <td>male</td>\n",
       "      <td>23.04</td>\n",
       "      <td>-1.0</td>\n",
       "    </tr>\n",
       "    <tr>\n",
       "      <th>3</th>\n",
       "      <td>27</td>\n",
       "      <td>27.0</td>\n",
       "      <td>hc</td>\n",
       "      <td>male</td>\n",
       "      <td>24.78</td>\n",
       "      <td>0.0</td>\n",
       "    </tr>\n",
       "    <tr>\n",
       "      <th>4</th>\n",
       "      <td>27</td>\n",
       "      <td>27.0</td>\n",
       "      <td>hc</td>\n",
       "      <td>male</td>\n",
       "      <td>26.51</td>\n",
       "      <td>1.0</td>\n",
       "    </tr>\n",
       "  </tbody>\n",
       "</table>\n",
       "</div>"
      ],
      "text/plain": [
       "   ga_label  ga_weeks measure   sex  value  z_level\n",
       "0        27      27.0      hc  male  19.57     -3.0\n",
       "1        27      27.0      hc  male  21.31     -2.0\n",
       "2        27      27.0      hc  male  23.04     -1.0\n",
       "3        27      27.0      hc  male  24.78      0.0\n",
       "4        27      27.0      hc  male  26.51      1.0"
      ]
     },
     "execution_count": 10,
     "metadata": {},
     "output_type": "execute_result"
    }
   ],
   "source": [
    "# concatenate all loaded preterm CSV dataframes into one\n",
    "dfs = [\n",
    "    preterm_boy_hc,\n",
    "    preterm_girl_hc,\n",
    "    preterm_boy_len,\n",
    "    preterm_girl_len,\n",
    "    preterm_boy_weight,\n",
    "    preterm_girl_weight,\n",
    "]\n",
    "\n",
    "# ensure consistent columns (take intersection) then concat to avoid mismatched columns\n",
    "common_cols = set(dfs[0].columns).intersection(*(df.columns for df in dfs[1:]))\n",
    "cols = sorted(common_cols)\n",
    "merged_preterm = pd.concat([df.loc[:, cols] for df in dfs], ignore_index=True)\n",
    "\n",
    "# quick sanity check\n",
    "print(f\"merged_preterm: {merged_preterm.shape[0]} rows, {merged_preterm.shape[1]} columns\")\n",
    "merged_preterm.head()"
   ]
  },
  {
   "cell_type": "markdown",
   "id": "e7a816d4",
   "metadata": {},
   "source": [
    "### QC"
   ]
  },
  {
   "cell_type": "code",
   "execution_count": 11,
   "id": "692d99e4",
   "metadata": {},
   "outputs": [
    {
     "data": {
      "application/vnd.microsoft.datawrangler.viewer.v0+json": {
       "columns": [
        {
         "name": "measure",
         "rawType": "object",
         "type": "string"
        },
        {
         "name": "count",
         "rawType": "int64",
         "type": "integer"
        }
       ],
       "ref": "0dc27f9f-c62c-401d-aaae-436e383ea685",
       "rows": [
        [
         "hc",
         "532"
        ],
        [
         "length",
         "532"
        ],
        [
         "weight",
         "532"
        ]
       ],
       "shape": {
        "columns": 1,
        "rows": 3
       }
      },
      "text/plain": [
       "measure\n",
       "hc        532\n",
       "length    532\n",
       "weight    532\n",
       "Name: count, dtype: int64"
      ]
     },
     "execution_count": 11,
     "metadata": {},
     "output_type": "execute_result"
    }
   ],
   "source": [
    "merged_preterm['measure'].value_counts()"
   ]
  },
  {
   "cell_type": "code",
   "execution_count": 12,
   "id": "f028c858",
   "metadata": {},
   "outputs": [
    {
     "name": "stdout",
     "output_type": "stream",
     "text": [
      "Saved merged_preterm to merged_preterm.csv (1596 rows, 6 columns)\n"
     ]
    }
   ],
   "source": [
    "out_path = \"merged_preterm.csv\"\n",
    "merged_preterm.to_csv(out_path, index=False)\n",
    "print(f\"Saved merged_preterm to {out_path} ({merged_preterm.shape[0]} rows, {merged_preterm.shape[1]} columns)\")"
   ]
  }
 ],
 "metadata": {
  "kernelspec": {
   "display_name": ".hmo-kernel (3.13.5)",
   "language": "python",
   "name": "python3"
  },
  "language_info": {
   "codemirror_mode": {
    "name": "ipython",
    "version": 3
   },
   "file_extension": ".py",
   "mimetype": "text/x-python",
   "name": "python",
   "nbconvert_exporter": "python",
   "pygments_lexer": "ipython3",
   "version": "3.13.5"
  }
 },
 "nbformat": 4,
 "nbformat_minor": 5
}
