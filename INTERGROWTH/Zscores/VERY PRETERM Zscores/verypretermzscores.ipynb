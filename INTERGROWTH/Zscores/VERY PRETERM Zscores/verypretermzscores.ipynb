{
 "cells": [
  {
   "cell_type": "code",
   "execution_count": 1,
   "id": "0dbd1ee4",
   "metadata": {},
   "outputs": [],
   "source": [
    "import numpy as np\n",
    "import pandas as pd"
   ]
  },
  {
   "cell_type": "code",
   "execution_count": 2,
   "id": "3a3b5d21",
   "metadata": {},
   "outputs": [],
   "source": [
    "verypreterm_boy_hc = pd.read_csv(\"/Users/kspann/Desktop/NeoBank/INTERGROWTH/Zscores/VERY PRETERM Zscores/IG21_headcirc_zscores_boys_long.csv\")\n",
    "verypreterm_girl_hc = pd.read_csv(\"/Users/kspann/Desktop/NeoBank/INTERGROWTH/Zscores/VERY PRETERM Zscores/IG21_headcirc_zscores_girls_long.csv\")\n",
    "\n",
    "verypreterm_boy_len = pd.read_csv(\"/Users/kspann/Desktop/NeoBank/INTERGROWTH/Zscores/VERY PRETERM Zscores/IG21_length_zscores_boys_long.csv\")\n",
    "verypreterm_girl_len = pd.read_csv(\"/Users/kspann/Desktop/NeoBank/INTERGROWTH/Zscores/VERY PRETERM Zscores/IG21_length_zscores_girls_long.csv\")\n",
    "\n",
    "verypreterm_boy_weight = pd.read_csv(\"/Users/kspann/Desktop/NeoBank/INTERGROWTH/Zscores/VERY PRETERM Zscores/IG21_weight_zscores_boys_long.csv\")\n",
    "verypreterm_girl_weight = pd.read_csv(\"/Users/kspann/Desktop/NeoBank/INTERGROWTH/Zscores/VERY PRETERM Zscores/IG21_weight_zscores_girls_long.csv\")"
   ]
  },
  {
   "cell_type": "code",
   "execution_count": 3,
   "id": "ba7d22e8",
   "metadata": {},
   "outputs": [
    {
     "name": "stdout",
     "output_type": "stream",
     "text": [
      "merged_verypreterm: 1323 rows, 7 columns\n"
     ]
    },
    {
     "data": {
      "application/vnd.microsoft.datawrangler.viewer.v0+json": {
       "columns": [
        {
         "name": "index",
         "rawType": "int64",
         "type": "integer"
        },
        {
         "name": "ga_label",
         "rawType": "int64",
         "type": "integer"
        },
        {
         "name": "ga_weeks",
         "rawType": "int64",
         "type": "integer"
        },
        {
         "name": "ga_weeks_days",
         "rawType": "object",
         "type": "string"
        },
        {
         "name": "measure",
         "rawType": "object",
         "type": "string"
        },
        {
         "name": "sex",
         "rawType": "object",
         "type": "string"
        },
        {
         "name": "value",
         "rawType": "float64",
         "type": "float"
        },
        {
         "name": "z_level",
         "rawType": "int64",
         "type": "integer"
        }
       ],
       "ref": "c7364b72-04fd-4b3c-b4a5-85a2c32b5cd7",
       "rows": [
        [
         "0",
         "24",
         "24",
         "24+0",
         "hc",
         "male",
         "17.66",
         "-3"
        ],
        [
         "1",
         "24",
         "24",
         "24+0",
         "hc",
         "male",
         "19.22",
         "-2"
        ],
        [
         "2",
         "24",
         "24",
         "24+0",
         "hc",
         "male",
         "20.78",
         "-1"
        ],
        [
         "3",
         "24",
         "24",
         "24+0",
         "hc",
         "male",
         "22.34",
         "0"
        ],
        [
         "4",
         "24",
         "24",
         "24+0",
         "hc",
         "male",
         "23.9",
         "1"
        ]
       ],
       "shape": {
        "columns": 7,
        "rows": 5
       }
      },
      "text/html": [
       "<div>\n",
       "<style scoped>\n",
       "    .dataframe tbody tr th:only-of-type {\n",
       "        vertical-align: middle;\n",
       "    }\n",
       "\n",
       "    .dataframe tbody tr th {\n",
       "        vertical-align: top;\n",
       "    }\n",
       "\n",
       "    .dataframe thead th {\n",
       "        text-align: right;\n",
       "    }\n",
       "</style>\n",
       "<table border=\"1\" class=\"dataframe\">\n",
       "  <thead>\n",
       "    <tr style=\"text-align: right;\">\n",
       "      <th></th>\n",
       "      <th>ga_label</th>\n",
       "      <th>ga_weeks</th>\n",
       "      <th>ga_weeks_days</th>\n",
       "      <th>measure</th>\n",
       "      <th>sex</th>\n",
       "      <th>value</th>\n",
       "      <th>z_level</th>\n",
       "    </tr>\n",
       "  </thead>\n",
       "  <tbody>\n",
       "    <tr>\n",
       "      <th>0</th>\n",
       "      <td>24</td>\n",
       "      <td>24</td>\n",
       "      <td>24+0</td>\n",
       "      <td>hc</td>\n",
       "      <td>male</td>\n",
       "      <td>17.66</td>\n",
       "      <td>-3</td>\n",
       "    </tr>\n",
       "    <tr>\n",
       "      <th>1</th>\n",
       "      <td>24</td>\n",
       "      <td>24</td>\n",
       "      <td>24+0</td>\n",
       "      <td>hc</td>\n",
       "      <td>male</td>\n",
       "      <td>19.22</td>\n",
       "      <td>-2</td>\n",
       "    </tr>\n",
       "    <tr>\n",
       "      <th>2</th>\n",
       "      <td>24</td>\n",
       "      <td>24</td>\n",
       "      <td>24+0</td>\n",
       "      <td>hc</td>\n",
       "      <td>male</td>\n",
       "      <td>20.78</td>\n",
       "      <td>-1</td>\n",
       "    </tr>\n",
       "    <tr>\n",
       "      <th>3</th>\n",
       "      <td>24</td>\n",
       "      <td>24</td>\n",
       "      <td>24+0</td>\n",
       "      <td>hc</td>\n",
       "      <td>male</td>\n",
       "      <td>22.34</td>\n",
       "      <td>0</td>\n",
       "    </tr>\n",
       "    <tr>\n",
       "      <th>4</th>\n",
       "      <td>24</td>\n",
       "      <td>24</td>\n",
       "      <td>24+0</td>\n",
       "      <td>hc</td>\n",
       "      <td>male</td>\n",
       "      <td>23.90</td>\n",
       "      <td>1</td>\n",
       "    </tr>\n",
       "  </tbody>\n",
       "</table>\n",
       "</div>"
      ],
      "text/plain": [
       "   ga_label  ga_weeks ga_weeks_days measure   sex  value  z_level\n",
       "0        24        24          24+0      hc  male  17.66       -3\n",
       "1        24        24          24+0      hc  male  19.22       -2\n",
       "2        24        24          24+0      hc  male  20.78       -1\n",
       "3        24        24          24+0      hc  male  22.34        0\n",
       "4        24        24          24+0      hc  male  23.90        1"
      ]
     },
     "execution_count": 3,
     "metadata": {},
     "output_type": "execute_result"
    }
   ],
   "source": [
    "# concatenate all loaded preterm CSV dataframes into one\n",
    "dfs = [\n",
    "    verypreterm_boy_hc,\n",
    "    verypreterm_girl_hc,\n",
    "    verypreterm_boy_len,\n",
    "    verypreterm_girl_len,\n",
    "    verypreterm_boy_weight,\n",
    "    verypreterm_girl_weight,\n",
    "]\n",
    "\n",
    "# ensure consistent columns (take intersection) then concat to avoid mismatched columns\n",
    "common_cols = set(dfs[0].columns).intersection(*(df.columns for df in dfs[1:]))\n",
    "cols = sorted(common_cols)\n",
    "merged_verypreterm = pd.concat([df.loc[:, cols] for df in dfs], ignore_index=True)\n",
    "\n",
    "# quick sanity check\n",
    "print(f\"merged_verypreterm: {merged_verypreterm.shape[0]} rows, {merged_verypreterm.shape[1]} columns\")\n",
    "merged_verypreterm.head()"
   ]
  },
  {
   "cell_type": "code",
   "execution_count": 4,
   "id": "ec9cd00b",
   "metadata": {},
   "outputs": [
    {
     "data": {
      "application/vnd.microsoft.datawrangler.viewer.v0+json": {
       "columns": [
        {
         "name": "measure",
         "rawType": "object",
         "type": "string"
        },
        {
         "name": "count",
         "rawType": "int64",
         "type": "integer"
        }
       ],
       "ref": "4420b8fe-c0ee-472c-9ea5-8c68e7c708ce",
       "rows": [
        [
         "wt",
         "665"
        ],
        [
         "length",
         "420"
        ],
        [
         "hc",
         "238"
        ]
       ],
       "shape": {
        "columns": 1,
        "rows": 3
       }
      },
      "text/plain": [
       "measure\n",
       "wt        665\n",
       "length    420\n",
       "hc        238\n",
       "Name: count, dtype: int64"
      ]
     },
     "execution_count": 4,
     "metadata": {},
     "output_type": "execute_result"
    }
   ],
   "source": [
    "merged_verypreterm['measure'].value_counts()"
   ]
  },
  {
   "cell_type": "code",
   "execution_count": 6,
   "id": "4c639e9f",
   "metadata": {},
   "outputs": [
    {
     "name": "stdout",
     "output_type": "stream",
     "text": [
      "Saved merged_preterm to merged_verypreterm.csv (1323 rows, 7 columns)\n"
     ]
    }
   ],
   "source": [
    "out_path = \"merged_verypreterm.csv\"\n",
    "merged_verypreterm.to_csv(out_path, index=False)\n",
    "print(f\"Saved merged_preterm to {out_path} ({merged_verypreterm.shape[0]} rows, {merged_verypreterm.shape[1]} columns)\")"
   ]
  },
  {
   "cell_type": "code",
   "execution_count": null,
   "id": "a4034886",
   "metadata": {},
   "outputs": [],
   "source": [
    "import path as pth\n",
    "\n",
    "# ensure destination directory exists then save merged_verypreterm\n",
    "dest_file.parent.mkdir(parents=True, exist_ok=True)\n",
    "merged_verypreterm.to_csv(dest_file, index=False)\n",
    "print(f\"Saved copy to {dest_file} ({merged_verypreterm.shape[0]} rows)\")"
   ]
  }
 ],
 "metadata": {
  "kernelspec": {
   "display_name": ".hmo-kernel (3.13.5)",
   "language": "python",
   "name": "python3"
  },
  "language_info": {
   "codemirror_mode": {
    "name": "ipython",
    "version": 3
   },
   "file_extension": ".py",
   "mimetype": "text/x-python",
   "name": "python",
   "nbconvert_exporter": "python",
   "pygments_lexer": "ipython3",
   "version": "3.13.5"
  }
 },
 "nbformat": 4,
 "nbformat_minor": 5
}
