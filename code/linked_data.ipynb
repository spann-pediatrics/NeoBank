{
 "cells": [
  {
   "cell_type": "code",
   "execution_count": 1,
   "id": "dffc548c",
   "metadata": {},
   "outputs": [],
   "source": [
    "import pandas as pd\n",
    "import streamlit as st\n",
    "import numpy as np\n",
    "import plotly.express as px\n",
    "import re"
   ]
  },
  {
   "cell_type": "code",
   "execution_count": 2,
   "id": "aa966b87",
   "metadata": {},
   "outputs": [],
   "source": [
    "df = pd.read_excel(\"Raw Data/Copy of NeoBANK Linked Sample.xlsx\", sheet_name='Metadata')"
   ]
  },
  {
   "cell_type": "code",
   "execution_count": 3,
   "id": "826bd7df",
   "metadata": {},
   "outputs": [
    {
     "data": {
      "text/plain": [
       "Index(['Subject ID', 'Sample Type_#', 'CGA', 'DOL ', 'Current Weight',\n",
       "       'Current Height', 'Current HC', 'Scavenged/Fresh?', 'MBM/DMB?',\n",
       "       'HMF Y/N?', 'TPN Y/N?', 'Iron Y/N? ', 'Iron Date & time',\n",
       "       'Duration\\n(min)', 'Linked? ', 'feeding time ',\n",
       "       'Collection date/aliquot time for all samples ', '# Aliquots ',\n",
       "       'Additional Comments', 'Milk Prep Room Expiration Date & Time '],\n",
       "      dtype='object')"
      ]
     },
     "execution_count": 3,
     "metadata": {},
     "output_type": "execute_result"
    }
   ],
   "source": [
    "df.columns"
   ]
  },
  {
   "cell_type": "code",
   "execution_count": 4,
   "id": "fea75f8e",
   "metadata": {},
   "outputs": [],
   "source": [
    "df = df.rename(columns={\n",
    "    \"HMF Y/N?\": \"HMF\",\n",
    "    \"TPN Y/N?\": \"TPN\",\n",
    "    \"Linked?\": \"Linked\",\n",
    "    \"MBM/DMB?\": \"Type of Milk\",\n",
    "    \"Sample Type_#\": \"sample_unique_id\",\n",
    "    'Duration\\n(min)': \"Feeding Duration\"\n",
    "})"
   ]
  },
  {
   "cell_type": "code",
   "execution_count": 5,
   "id": "6385282e",
   "metadata": {},
   "outputs": [],
   "source": [
    "df.columns = df.columns.str.strip()\n",
    "df = df.rename(columns={'Iron Y/N?': 'Iron'})"
   ]
  },
  {
   "cell_type": "code",
   "execution_count": 6,
   "id": "7cb90137",
   "metadata": {},
   "outputs": [
    {
     "data": {
      "text/plain": [
       "Index(['Subject ID', 'sample_unique_id', 'CGA', 'DOL', 'Current Weight',\n",
       "       'Current Height', 'Current HC', 'Scavenged/Fresh?', 'Type of Milk',\n",
       "       'HMF', 'TPN', 'Iron', 'Iron Date & time', 'Feeding Duration', 'Linked?',\n",
       "       'feeding time', 'Collection date/aliquot time for all samples',\n",
       "       '# Aliquots', 'Additional Comments',\n",
       "       'Milk Prep Room Expiration Date & Time'],\n",
       "      dtype='object')"
      ]
     },
     "execution_count": 6,
     "metadata": {},
     "output_type": "execute_result"
    }
   ],
   "source": [
    "df.columns"
   ]
  },
  {
   "cell_type": "markdown",
   "id": "986936fa",
   "metadata": {},
   "source": [
    "### Clean Columns"
   ]
  },
  {
   "cell_type": "code",
   "execution_count": 7,
   "id": "4b8a59c4",
   "metadata": {},
   "outputs": [
    {
     "name": "stderr",
     "output_type": "stream",
     "text": [
      "/var/folders/c8/_21cxjf54_5d0qsx2dqt5qgc0000gp/T/ipykernel_76189/242626680.py:1: FutureWarning: DataFrame.applymap has been deprecated. Use DataFrame.map instead.\n",
      "  df = df.applymap(lambda x: x.strip() if isinstance(x, str) else x)\n"
     ]
    }
   ],
   "source": [
    "df = df.applymap(lambda x: x.strip() if isinstance(x, str) else x)"
   ]
  },
  {
   "cell_type": "code",
   "execution_count": 8,
   "id": "cfbb99a3",
   "metadata": {},
   "outputs": [
    {
     "data": {
      "application/vnd.microsoft.datawrangler.viewer.v0+json": {
       "columns": [
        {
         "name": "Iron",
         "rawType": "object",
         "type": "string"
        },
        {
         "name": "count",
         "rawType": "int64",
         "type": "integer"
        }
       ],
       "ref": "23a70647-6f59-420d-a905-4a0e49a78d02",
       "rows": [
        [
         "Y",
         "54"
        ],
        [
         "N",
         "26"
        ]
       ],
       "shape": {
        "columns": 1,
        "rows": 2
       }
      },
      "text/plain": [
       "Iron\n",
       "Y    54\n",
       "N    26\n",
       "Name: count, dtype: int64"
      ]
     },
     "execution_count": 8,
     "metadata": {},
     "output_type": "execute_result"
    }
   ],
   "source": [
    "df.Iron.value_counts()"
   ]
  },
  {
   "cell_type": "code",
   "execution_count": 9,
   "id": "1b324bf2",
   "metadata": {},
   "outputs": [
    {
     "data": {
      "application/vnd.microsoft.datawrangler.viewer.v0+json": {
       "columns": [
        {
         "name": "Type of Milk",
         "rawType": "object",
         "type": "string"
        },
        {
         "name": "count",
         "rawType": "int64",
         "type": "integer"
        }
       ],
       "ref": "64cec88e-4eb5-45f0-9566-22dd0c2c966c",
       "rows": [
        [
         "MBM",
         "108"
        ],
        [
         "DBM",
         "23"
        ],
        [
         "MBM + DBM",
         "6"
        ],
        [
         "DBM+MBM",
         "4"
        ]
       ],
       "shape": {
        "columns": 1,
        "rows": 4
       }
      },
      "text/plain": [
       "Type of Milk\n",
       "MBM          108\n",
       "DBM           23\n",
       "MBM + DBM      6\n",
       "DBM+MBM        4\n",
       "Name: count, dtype: int64"
      ]
     },
     "execution_count": 9,
     "metadata": {},
     "output_type": "execute_result"
    }
   ],
   "source": [
    "df[\"Type of Milk\"].value_counts()"
   ]
  },
  {
   "cell_type": "code",
   "execution_count": 10,
   "id": "a05fb3b8",
   "metadata": {},
   "outputs": [],
   "source": [
    "df['Type of Milk'] = df['Type of Milk'].replace({'MBM': 'MOM', 'MBM + DBM': 'MOM+DBM', 'DBM+MBM': 'MOM+DBM'})"
   ]
  },
  {
   "cell_type": "code",
   "execution_count": 11,
   "id": "3c876374",
   "metadata": {},
   "outputs": [
    {
     "data": {
      "application/vnd.microsoft.datawrangler.viewer.v0+json": {
       "columns": [
        {
         "name": "Type of Milk",
         "rawType": "object",
         "type": "string"
        },
        {
         "name": "count",
         "rawType": "int64",
         "type": "integer"
        }
       ],
       "ref": "9baa2d4a-d673-42ee-9bbf-66ed604e5264",
       "rows": [
        [
         "MOM",
         "108"
        ],
        [
         "DBM",
         "23"
        ],
        [
         "MOM+DBM",
         "10"
        ]
       ],
       "shape": {
        "columns": 1,
        "rows": 3
       }
      },
      "text/plain": [
       "Type of Milk\n",
       "MOM        108\n",
       "DBM         23\n",
       "MOM+DBM     10\n",
       "Name: count, dtype: int64"
      ]
     },
     "execution_count": 11,
     "metadata": {},
     "output_type": "execute_result"
    }
   ],
   "source": [
    "df[\"Type of Milk\"].value_counts()"
   ]
  },
  {
   "cell_type": "code",
   "execution_count": 12,
   "id": "b5e7b561",
   "metadata": {},
   "outputs": [],
   "source": [
    "df['Scavenged/Fresh?'] = df['Scavenged/Fresh?'].str.strip().str.capitalize()"
   ]
  },
  {
   "cell_type": "code",
   "execution_count": 13,
   "id": "6ff1802e",
   "metadata": {},
   "outputs": [
    {
     "data": {
      "application/vnd.microsoft.datawrangler.viewer.v0+json": {
       "columns": [
        {
         "name": "Scavenged/Fresh?",
         "rawType": "object",
         "type": "string"
        },
        {
         "name": "count",
         "rawType": "int64",
         "type": "integer"
        }
       ],
       "ref": "c0019445-524f-456a-b1f7-0cdb813f3b61",
       "rows": [
        [
         "Scavenged",
         "139"
        ],
        [
         "Scaveneged",
         "2"
        ]
       ],
       "shape": {
        "columns": 1,
        "rows": 2
       }
      },
      "text/plain": [
       "Scavenged/Fresh?\n",
       "Scavenged     139\n",
       "Scaveneged      2\n",
       "Name: count, dtype: int64"
      ]
     },
     "execution_count": 13,
     "metadata": {},
     "output_type": "execute_result"
    }
   ],
   "source": [
    "df[\"Scavenged/Fresh?\"].value_counts()"
   ]
  },
  {
   "cell_type": "code",
   "execution_count": 14,
   "id": "84f29738",
   "metadata": {},
   "outputs": [],
   "source": [
    "df['Scavenged/Fresh?'] = df['Scavenged/Fresh?'].replace({'Scaveneged': 'Scavenged'})"
   ]
  },
  {
   "cell_type": "code",
   "execution_count": 15,
   "id": "5db8bd32",
   "metadata": {},
   "outputs": [
    {
     "data": {
      "application/vnd.microsoft.datawrangler.viewer.v0+json": {
       "columns": [
        {
         "name": "Scavenged/Fresh?",
         "rawType": "object",
         "type": "string"
        },
        {
         "name": "count",
         "rawType": "int64",
         "type": "integer"
        }
       ],
       "ref": "fc4db0de-67bf-4f94-aa36-bfd8b7499873",
       "rows": [
        [
         "Scavenged",
         "141"
        ]
       ],
       "shape": {
        "columns": 1,
        "rows": 1
       }
      },
      "text/plain": [
       "Scavenged/Fresh?\n",
       "Scavenged    141\n",
       "Name: count, dtype: int64"
      ]
     },
     "execution_count": 15,
     "metadata": {},
     "output_type": "execute_result"
    }
   ],
   "source": [
    "df[\"Scavenged/Fresh?\"].value_counts()"
   ]
  },
  {
   "cell_type": "code",
   "execution_count": 16,
   "id": "9531c169",
   "metadata": {},
   "outputs": [
    {
     "data": {
      "application/vnd.microsoft.datawrangler.viewer.v0+json": {
       "columns": [
        {
         "name": "HMF",
         "rawType": "object",
         "type": "string"
        },
        {
         "name": "count",
         "rawType": "int64",
         "type": "integer"
        }
       ],
       "ref": "e9134378-1da7-4efb-8ed2-dcf6c5f63d68",
       "rows": [
        [
         "Y",
         "127"
        ],
        [
         "Nutramigen",
         "4"
        ],
        [
         "Y + Nutramigen",
         "4"
        ],
        [
         "N",
         "2"
        ],
        [
         "N+Nutramigen",
         "2"
        ],
        [
         "Y+Nutramigen",
         "1"
        ]
       ],
       "shape": {
        "columns": 1,
        "rows": 6
       }
      },
      "text/plain": [
       "HMF\n",
       "Y                 127\n",
       "Nutramigen          4\n",
       "Y + Nutramigen      4\n",
       "N                   2\n",
       "N+Nutramigen        2\n",
       "Y+Nutramigen        1\n",
       "Name: count, dtype: int64"
      ]
     },
     "execution_count": 16,
     "metadata": {},
     "output_type": "execute_result"
    }
   ],
   "source": [
    "df.HMF.value_counts()"
   ]
  },
  {
   "cell_type": "code",
   "execution_count": 17,
   "id": "6c58d87c",
   "metadata": {},
   "outputs": [],
   "source": [
    "df['HMF'] = df['HMF'].replace({'Y + Nutramigen': 'Y+Nutramigen'})"
   ]
  },
  {
   "cell_type": "code",
   "execution_count": 18,
   "id": "c476eedf",
   "metadata": {},
   "outputs": [
    {
     "data": {
      "application/vnd.microsoft.datawrangler.viewer.v0+json": {
       "columns": [
        {
         "name": "HMF",
         "rawType": "object",
         "type": "string"
        },
        {
         "name": "count",
         "rawType": "int64",
         "type": "integer"
        }
       ],
       "ref": "476efd4b-81ca-4288-b9eb-f5e796bab5eb",
       "rows": [
        [
         "Y",
         "127"
        ],
        [
         "Y+Nutramigen",
         "5"
        ],
        [
         "Nutramigen",
         "4"
        ],
        [
         "N",
         "2"
        ],
        [
         "N+Nutramigen",
         "2"
        ]
       ],
       "shape": {
        "columns": 1,
        "rows": 5
       }
      },
      "text/plain": [
       "HMF\n",
       "Y               127\n",
       "Y+Nutramigen      5\n",
       "Nutramigen        4\n",
       "N                 2\n",
       "N+Nutramigen      2\n",
       "Name: count, dtype: int64"
      ]
     },
     "execution_count": 18,
     "metadata": {},
     "output_type": "execute_result"
    }
   ],
   "source": [
    "df.HMF.value_counts()"
   ]
  },
  {
   "cell_type": "code",
   "execution_count": 19,
   "id": "6e939fd8",
   "metadata": {},
   "outputs": [],
   "source": [
    "df['Iron'] = df['Iron'].replace(r'^\\s*Y\\s*$', 'Y', regex=True)"
   ]
  },
  {
   "cell_type": "code",
   "execution_count": 20,
   "id": "2c6e1005",
   "metadata": {},
   "outputs": [
    {
     "data": {
      "application/vnd.microsoft.datawrangler.viewer.v0+json": {
       "columns": [
        {
         "name": "Iron",
         "rawType": "object",
         "type": "string"
        },
        {
         "name": "count",
         "rawType": "int64",
         "type": "integer"
        }
       ],
       "ref": "faa510cf-95bf-4d7d-aa38-6ed55eb333b4",
       "rows": [
        [
         "Y",
         "54"
        ],
        [
         "N",
         "26"
        ]
       ],
       "shape": {
        "columns": 1,
        "rows": 2
       }
      },
      "text/plain": [
       "Iron\n",
       "Y    54\n",
       "N    26\n",
       "Name: count, dtype: int64"
      ]
     },
     "execution_count": 20,
     "metadata": {},
     "output_type": "execute_result"
    }
   ],
   "source": [
    "df[\"Iron\"].value_counts()"
   ]
  },
  {
   "cell_type": "code",
   "execution_count": 21,
   "id": "340e7d1e",
   "metadata": {},
   "outputs": [
    {
     "data": {
      "application/vnd.microsoft.datawrangler.viewer.v0+json": {
       "columns": [
        {
         "name": "Additional Comments",
         "rawType": "object",
         "type": "string"
        },
        {
         "name": "count",
         "rawType": "int64",
         "type": "integer"
        }
       ],
       "ref": "6e7a41c2-7e64-44c9-a11e-be32615fc092",
       "rows": [
        [
         "Scavenged Feeding Tube",
         "70"
        ],
        [
         "Residual from Milk Prep Room",
         "68"
        ],
        [
         "Scavenged Bottle - Residual Feed",
         "2"
        ],
        [
         "Scavenged Feeding Syringe",
         "1"
        ]
       ],
       "shape": {
        "columns": 1,
        "rows": 4
       }
      },
      "text/plain": [
       "Additional Comments\n",
       "Scavenged Feeding Tube              70\n",
       "Residual from Milk Prep Room        68\n",
       "Scavenged Bottle - Residual Feed     2\n",
       "Scavenged Feeding Syringe            1\n",
       "Name: count, dtype: int64"
      ]
     },
     "execution_count": 21,
     "metadata": {},
     "output_type": "execute_result"
    }
   ],
   "source": [
    "df[\"Additional Comments\"].value_counts()"
   ]
  },
  {
   "cell_type": "code",
   "execution_count": 22,
   "id": "5def3e59",
   "metadata": {},
   "outputs": [],
   "source": [
    "df['Sample Source'] = df['Additional Comments'].replace({'Residual from Milk Prep Room': 'Prepped in Milk Room', 'Scavenged Feeding Tube': 'Scavenged', 'Scavenged Bottle - Residual Feed': 'Scavenged', 'Scavenged Feeding Syringe': 'Scavenged'})"
   ]
  },
  {
   "cell_type": "code",
   "execution_count": 23,
   "id": "9064b07c",
   "metadata": {},
   "outputs": [
    {
     "data": {
      "application/vnd.microsoft.datawrangler.viewer.v0+json": {
       "columns": [
        {
         "name": "Sample Source",
         "rawType": "object",
         "type": "string"
        },
        {
         "name": "count",
         "rawType": "int64",
         "type": "integer"
        }
       ],
       "ref": "bb9485c8-fcba-4079-ac73-5fdc1f7df005",
       "rows": [
        [
         "Scavenged",
         "73"
        ],
        [
         "Prepped in Milk Room",
         "68"
        ]
       ],
       "shape": {
        "columns": 1,
        "rows": 2
       }
      },
      "text/plain": [
       "Sample Source\n",
       "Scavenged               73\n",
       "Prepped in Milk Room    68\n",
       "Name: count, dtype: int64"
      ]
     },
     "execution_count": 23,
     "metadata": {},
     "output_type": "execute_result"
    }
   ],
   "source": [
    "df[\"Sample Source\"].value_counts()"
   ]
  },
  {
   "cell_type": "code",
   "execution_count": 24,
   "id": "b3fcf568",
   "metadata": {},
   "outputs": [],
   "source": [
    "df = df.drop(columns=['Additional Comments'])"
   ]
  },
  {
   "cell_type": "code",
   "execution_count": 25,
   "id": "3b1ee349",
   "metadata": {},
   "outputs": [],
   "source": [
    "def extract_numeric_aliquots(value):\n",
    "    match = re.match(r'^\\d+', str(value))\n",
    "    return int(match.group()) if match else None\n",
    "\n",
    "df['Aliquots_num'] = df['# Aliquots'].apply(extract_numeric_aliquots)"
   ]
  },
  {
   "cell_type": "code",
   "execution_count": 26,
   "id": "3627d631",
   "metadata": {},
   "outputs": [],
   "source": [
    "df = df.drop(columns=['# Aliquots'])"
   ]
  },
  {
   "cell_type": "code",
   "execution_count": 27,
   "id": "6f59698f",
   "metadata": {},
   "outputs": [
    {
     "data": {
      "application/vnd.microsoft.datawrangler.viewer.v0+json": {
       "columns": [
        {
         "name": "index",
         "rawType": "int64",
         "type": "integer"
        },
        {
         "name": "Subject ID",
         "rawType": "object",
         "type": "string"
        },
        {
         "name": "sample_unique_id",
         "rawType": "object",
         "type": "string"
        },
        {
         "name": "CGA",
         "rawType": "float64",
         "type": "float"
        },
        {
         "name": "DOL",
         "rawType": "float64",
         "type": "float"
        },
        {
         "name": "Current Weight",
         "rawType": "float64",
         "type": "float"
        },
        {
         "name": "Current Height",
         "rawType": "float64",
         "type": "float"
        },
        {
         "name": "Current HC",
         "rawType": "float64",
         "type": "float"
        },
        {
         "name": "Scavenged/Fresh?",
         "rawType": "object",
         "type": "string"
        },
        {
         "name": "Type of Milk",
         "rawType": "object",
         "type": "string"
        },
        {
         "name": "HMF",
         "rawType": "object",
         "type": "unknown"
        },
        {
         "name": "TPN",
         "rawType": "object",
         "type": "unknown"
        },
        {
         "name": "Iron",
         "rawType": "object",
         "type": "unknown"
        },
        {
         "name": "Iron Date & time",
         "rawType": "object",
         "type": "unknown"
        },
        {
         "name": "Feeding Duration",
         "rawType": "object",
         "type": "unknown"
        },
        {
         "name": "Linked?",
         "rawType": "object",
         "type": "string"
        },
        {
         "name": "feeding time",
         "rawType": "object",
         "type": "unknown"
        },
        {
         "name": "Collection date/aliquot time for all samples",
         "rawType": "object",
         "type": "unknown"
        },
        {
         "name": "Milk Prep Room Expiration Date & Time",
         "rawType": "object",
         "type": "unknown"
        },
        {
         "name": "Sample Source",
         "rawType": "object",
         "type": "string"
        },
        {
         "name": "Aliquots_num",
         "rawType": "int64",
         "type": "integer"
        }
       ],
       "ref": "07098904-8aa2-4240-bfb4-e9dc925f5ffc",
       "rows": [
        [
         "0",
         "NB00237",
         "NB00237_M_10",
         "35.0",
         "74.0",
         "2440.0",
         "44.0",
         "29.0",
         "Scavenged",
         "MOM",
         "Y",
         "N",
         null,
         null,
         null,
         "Y",
         "Prepped \n4/22/2025 PM",
         "4/23/2025\nDOL 21 11:13",
         null,
         "Prepped in Milk Room",
         "11"
        ],
        [
         "1",
         "NB00237",
         "NB00237_M_8",
         "34.5",
         "72.0",
         "2350.0",
         "43.5",
         "28.5",
         "Scavenged",
         "MOM",
         "Y",
         "N",
         null,
         null,
         null,
         "Y",
         "Prepped 4/20/25 PM",
         "2025-04-21 10:13:00",
         null,
         "Prepped in Milk Room",
         "6"
        ],
        [
         "2",
         "NB00237",
         "NB00237_M_17",
         "36.6",
         "87.0",
         "3010.0",
         "46.1",
         "30.0",
         "Scavenged",
         "MOM",
         "Y",
         "N",
         "Y",
         "2025-05-06 20:57:00",
         "unknown",
         "Y",
         "2025-05-06 08:56:00",
         "2025-05-06 13:47:00",
         "Unknown",
         "Scavenged",
         "2"
        ],
        [
         "3",
         "NB00237",
         "NB00237_M_19",
         "37.1",
         "89.0",
         "3110.0",
         "46.3",
         "30.5",
         "Scavenged",
         "MOM",
         "Y",
         "N",
         "Y",
         "2025-05-08 20:43:00",
         "45 min",
         "Y",
         "2025-05-08 12:03:00",
         "2025-05-08 14:07:00",
         "2025-05-08 16:49:00",
         "Scavenged",
         "3"
        ],
        [
         "4",
         "NB00237",
         "NB00237_M_20",
         "37.5",
         "93.0",
         "3380.0",
         "46.3",
         "30.5",
         "Scavenged",
         "MOM",
         "Y",
         "N",
         null,
         null,
         null,
         "Y",
         "Prepped 5/11/25 PM",
         "2025-05-12 10:58:00",
         null,
         "Prepped in Milk Room",
         "8"
        ],
        [
         "5",
         "NB00237",
         "NB00237_M_21",
         "37.5",
         "93.0",
         "3380.0",
         "46.3",
         "30.5",
         "Scavenged",
         "MOM",
         "Y",
         "N",
         "Y",
         "2025-05-11 21:08:00",
         "30 min",
         "Y",
         "2025-05-12 09:01:00",
         "2025-05-12 10:58:00",
         "2025-05-12 17:26:00",
         "Scavenged",
         "1"
        ],
        [
         "6",
         "NB00237",
         "NB00237_M_3",
         "33.1",
         "61.0",
         "1870.0",
         "43.0",
         "27.0",
         "Scavenged",
         "MOM",
         "Y",
         "N",
         "Y",
         "4/10/2025\nDOL 61   20:47",
         "?",
         "Y",
         "4/10/2025\nDOL 61   8:52",
         "4/10/2025\nDOL 61 14: 06",
         "2025-04-10 15:18:00",
         "Scavenged",
         "2"
        ],
        [
         "7",
         "NB00237",
         "NB00237_M_2",
         "33.1",
         "61.0",
         "1870.0",
         "43.0",
         "27.0",
         "Scavenged",
         "MOM",
         "Y",
         "N",
         null,
         null,
         null,
         "Y",
         "Prepped 4/9/2025 PM",
         "4/10/2025\nDOL 74 13:15",
         null,
         "Prepped in Milk Room",
         "11"
        ],
        [
         "8",
         "NB00237",
         "NB00237_M_4",
         "33.2",
         "62.0",
         "1910.0",
         "43.0",
         "27.0",
         "Scavenged",
         "MOM",
         "Y",
         "N",
         null,
         null,
         null,
         "Y",
         "Prepped 4/10/2025 PM",
         "4/11/2025\nDOL 62 10:16",
         null,
         "Prepped in Milk Room",
         "6"
        ],
        [
         "9",
         "NB00237",
         "NB00237_M_5",
         "33.2",
         "62.0",
         "1910.0",
         "43.0",
         "27.0",
         "Scavenged",
         "MOM",
         "Y",
         "N",
         "Y",
         "4/11/2025\nDOL 62 20:59",
         "?",
         "Y",
         "4/11/2025\nDOL 62 9:35",
         "4/11/2025\nDOL 62 9:47",
         "2025-04-11 15:20:00",
         "Scavenged",
         "1"
        ],
        [
         "10",
         "NB00237",
         "NB00237_M_6",
         "34.1",
         "68.0",
         "2110.0",
         "43.5",
         "28.5",
         "Scavenged",
         "MOM",
         "Y",
         "N",
         null,
         null,
         null,
         "Y",
         "Prepped 4/16/2025 PM",
         "4/17/2025 DOL 68 8:39",
         null,
         "Prepped in Milk Room",
         "4"
        ],
        [
         "11",
         "NB00237",
         "NB00237_M_7",
         "34.1",
         "68.0",
         "2110.0",
         "43.5",
         "28.5",
         "Scavenged",
         "MOM",
         "Y",
         "N",
         "Y",
         "04/16/25 \nDOL 67 2146",
         "?",
         "Y",
         "4/17/25 DOL 68 11:50",
         "4/17/25 DOL 68 14:10",
         "2025-04-17 16:04:00",
         "Scavenged",
         "1"
        ],
        [
         "12",
         "NB00237",
         "NB00237_M_9",
         "34.5",
         "72.0",
         "2350.0",
         "43.5",
         "28.5",
         "Scavenged",
         "MOM",
         "Y",
         "N",
         "Y",
         "4/20/2025\nDOL 72 21:09",
         "60",
         "Y",
         "4/21/25 DOL 72 08:45",
         "4/21/25 DOL 72 10:30",
         "2025-04-21 16:50:00",
         "Scavenged",
         "2"
        ],
        [
         "13",
         "NB00237",
         "NB00237_M_11",
         "35.0",
         "74.0",
         "2440.0",
         "44.0",
         "29.0",
         "Scavenged",
         "MOM",
         "Y",
         "N",
         "Y",
         "4/23/2025\nDOL 74 20:48",
         "45",
         "Y",
         "4/23/2025\nDOL 74 9:05",
         "4/23/2025\nDOL 74 18:35",
         "2025-04-22 15:51:00",
         "Scavenged",
         "1"
        ],
        [
         "14",
         "NB00237",
         "NB00237_M_13",
         "35.1",
         "75.0",
         "2500.0",
         "44.0",
         "29.0",
         "Scavenged",
         "MOM",
         "Y",
         "N",
         "Y",
         "4/24/2025\nDOL 75 21:02",
         "30",
         "Y",
         "4/24/2025\nDOL 75 8:58",
         "4/24/2025\nDOL 75 10:53",
         "2025-04-24 15:57:00",
         "Scavenged",
         "1"
        ],
        [
         "15",
         "NB00237",
         "NB00237_M_12",
         "35.1",
         "75.0",
         "2500.0",
         "44.0",
         "29.0",
         "Scavenged",
         "MOM",
         "Y",
         "N",
         null,
         null,
         null,
         "Y",
         "Prepped \n4/23/2025 PM",
         "4/24/2025\nDOL 75 8:33",
         null,
         "Prepped in Milk Room",
         "5"
        ],
        [
         "16",
         "NB00237",
         "NB00237_M_16",
         "36.6",
         "87.0",
         "3010.0",
         "46.1",
         "30.0",
         "Scavenged",
         "MOM",
         "Y",
         "N",
         null,
         null,
         null,
         "Y",
         "Prepped 5/5/25 PM",
         "5/6/2025 DOL 31 12:56",
         null,
         "Prepped in Milk Room",
         "10"
        ],
        [
         "17",
         "NB00237",
         "NB00237_M_18",
         "37.1",
         "89.0",
         "3110.0",
         "46.3",
         "30.5",
         "Scavenged",
         "MOM",
         "Y",
         "N",
         null,
         null,
         null,
         "Y",
         "Prepped 5/7/25 PM",
         "5/8/2025/1:53:00 PM",
         null,
         "Prepped in Milk Room",
         "7"
        ],
        [
         "18",
         "NB00238",
         "NB00238_M_2",
         "35.6",
         "74.0",
         "1950.0",
         "38.5",
         "28.3",
         "Scavenged",
         "MOM",
         "Y",
         "Y",
         null,
         null,
         null,
         "Y",
         "Prepped 4/9/2025 PM",
         "4/10/2025\nDOL 74 13: 01",
         null,
         "Prepped in Milk Room",
         "2"
        ],
        [
         "19",
         "NB00238",
         "NB00238_M_3",
         "35.6",
         "74.0",
         "1950.0",
         "38.5",
         "28.3",
         "Scavenged",
         "MOM",
         "Y",
         "Y",
         "Y",
         "4/10/2025\nDOL 74 20:39",
         null,
         "Y",
         "4/10/2025\nDOL 74 8:25",
         "4/10/2025\nDOL 74 14: 04",
         "2025-04-10 15:46:00",
         "Scavenged",
         "1"
        ],
        [
         "20",
         "NB00238",
         "NB00238_M_4",
         "36.0",
         "75.0",
         "1960.0",
         "41.0",
         "29.3",
         "Scavenged",
         "MOM",
         "Y",
         "Y",
         null,
         null,
         null,
         "Y",
         "Prepped 4/10/2025 PM",
         "4/11/2025\nDOL 75 8:45",
         null,
         "Prepped in Milk Room",
         "7"
        ],
        [
         "21",
         "NB00238",
         "NB00238_M_5",
         "36.0",
         "75.0",
         "1960.0",
         "41.0",
         "29.3",
         "Scavenged",
         "MOM",
         "Y",
         "Y",
         "Y",
         "4/11/2025\nDOL 75 20:58",
         null,
         "Y",
         "AM feed",
         "4/11/2025\nDOL 75 9:52",
         "2025-04-11 16:21:00",
         "Scavenged",
         "2"
        ],
        [
         "22",
         "NB00238",
         "NB00238_M_6",
         "36.5",
         "80.0",
         "2090.0",
         "41.0",
         "29.3",
         "Scavenged",
         "MOM",
         "Y",
         "Y",
         null,
         null,
         null,
         "Y",
         "Prepped 4/15/2025 PM",
         "4/16/2025 \nDOL 80 11:15",
         null,
         "Prepped in Milk Room",
         "5"
        ],
        [
         "23",
         "NB00238",
         "NB00238_M_7",
         "36.5",
         "80.0",
         "2090.0",
         "41.0",
         "29.3",
         "Scavenged",
         "MOM",
         "Y",
         "Y",
         "Y",
         "4/16/2025 \nDOL 80 20:26",
         null,
         "Y",
         "4/16/2025 \nDOL 80 8:16",
         "4/16/2025 \nDOL 80 11:30",
         "2025-04-16 17:04:00",
         "Scavenged",
         "1"
        ],
        [
         "24",
         "NB00238",
         "NB00238_M_9",
         "36.6",
         "81.0",
         "2090.0",
         "41.0",
         "29.3",
         "Scavenged",
         "MOM",
         "Y",
         "Y",
         "Y",
         "4/16/2025 DOL 20  20:26",
         null,
         "Y",
         "4/17/2025 \nDOL 81 05:31",
         "4/17/2025 \nDOL81 09:17",
         "2025-04-17 14:13:00",
         "Scavenged",
         "1"
        ],
        [
         "25",
         "NB00238",
         "NB00238_M_8",
         "36.6",
         "81.0",
         "2090.0",
         "41.0",
         "29.3",
         "Scavenged",
         "MOM",
         "Y",
         "Y",
         null,
         null,
         null,
         "Y",
         "Prepped 4/16/2025 PM",
         "4/17/25\n DOL 81 9:21",
         null,
         "Prepped in Milk Room",
         "6"
        ],
        [
         "26",
         "NB00354",
         "NB00354_M_4",
         "29.5",
         "13.0",
         "1000.0",
         "34.0",
         "34.5",
         "Scavenged",
         "MOM",
         "Y",
         "N",
         "N",
         "N",
         null,
         "Y",
         "4/10/2025\nDOL 13 8:36",
         "4/10/2025\nDOL 13 14: 11",
         "2025-04-10 15:37:00",
         "Scavenged",
         "1"
        ],
        [
         "27",
         "NB00354",
         "NB00354_M_3",
         "29.5",
         "13.0",
         "1000.0",
         "34.0",
         "34.5",
         "Scavenged",
         "MOM",
         "Y",
         "N",
         null,
         null,
         null,
         "Y",
         "Prepped 4/9/2025 PM",
         "4/10/2025\nDOL 74 13: 07",
         null,
         "Prepped in Milk Room",
         "5"
        ],
        [
         "28",
         "NB00354",
         "NB00354_M_5",
         "29.6",
         "14.0",
         "1015.0",
         "34.0",
         "34.5",
         "Scavenged",
         "MOM",
         "Y",
         "N",
         null,
         null,
         null,
         "Y",
         "Prepped 4/10/2025 PM",
         "4/11/2025\nDOL 14 10:06",
         null,
         "Prepped in Milk Room",
         "8"
        ],
        [
         "29",
         "NB00354",
         "NB00354_M_6",
         "29.6",
         "14.0",
         "1015.0",
         "34.0",
         "34.5",
         "Scavenged",
         "MOM",
         "Y",
         "N",
         "Y",
         "4/11/2025\nDOL 14 20:11",
         null,
         "Y",
         "4/11/2025\nDOL 14 8:07",
         "4/11/2025\nDOL 14 9:34",
         "2025-04-11 16:00:00",
         "Scavenged",
         "2"
        ],
        [
         "30",
         "NB00354",
         "NB00354_M_8",
         "30.2",
         "17.0",
         "1095.0",
         "35.2",
         "24.1",
         "Scavenged",
         "MOM",
         "Y",
         "N",
         "Y",
         "4/13/2025 DOL 17 20:16",
         null,
         "Y",
         "4/14/2025\nDOL 17 8:41",
         "4/14/2025\nDOL 17 10:20",
         "2025-04-14 16:39:00",
         "Scavenged",
         "1"
        ],
        [
         "31",
         "NB00354",
         "NB00354_M_9",
         "30.2",
         "17.0",
         "1095.0",
         "35.2",
         "24.1",
         "Scavenged",
         "MOM",
         "Y",
         "N",
         "Y",
         "4/13/2025 DOL 17 20:16",
         null,
         "Y",
         "AM feed 11:02",
         "4/14/2025\nDOL 17 12:32",
         "2025-04-14 16:39:00",
         "Scavenged",
         "1"
        ],
        [
         "32",
         "NB00354",
         "NB00354_M_7",
         "30.2",
         "17.0",
         "1095.0",
         "35.2",
         "24.1",
         "Scavenged",
         "MOM",
         "Y",
         "N",
         null,
         null,
         null,
         "Y",
         "Prepped \n4/13/2025 PM",
         "4/14/2025 \nDOL 17 8:47",
         null,
         "Prepped in Milk Room",
         "5"
        ],
        [
         "33",
         "NB00354",
         "NB00354_M_10",
         "30.3",
         "18.0",
         "1125.0",
         "35.2",
         "24.1",
         "Scavenged",
         "MOM",
         "Y",
         "N",
         null,
         null,
         null,
         "Y",
         "Prepped 4/14/2025  PM",
         "4/15/2025 DOL 18 07:45",
         null,
         "Prepped in Milk Room",
         "4"
        ],
        [
         "34",
         "NB00354",
         "NB00354_M_11",
         "30.3",
         "18.0",
         "1125.0",
         "35.2",
         "24.1",
         "Scavenged",
         "MOM",
         "Y",
         "N",
         "Y",
         "4/14/2025 DOL 17 20:02",
         null,
         "Y",
         "4/15/2025 DOL 18 08:09",
         "4/15/2025 DOL 18 09:35",
         "2025-04-15 17:13:00",
         "Scavenged",
         "1"
        ],
        [
         "35",
         "NB00354",
         "NB00354_M_12",
         "30.3",
         "18.0",
         "1125.0",
         "35.2",
         "24.1",
         "Scavenged",
         "MOM",
         "Y",
         "N",
         "Y",
         "4/14/2025 DOL 18 20:02",
         null,
         "Y",
         "4/15/2025 DOL 18 10:56",
         "4/15/2025 DOL 18 12:13",
         "Unknown",
         "Scavenged",
         "2"
        ],
        [
         "36",
         "NB00354",
         "NB00354_M_15",
         "30.5",
         "20.0",
         "1205.0",
         "36.5",
         "25.5",
         "Scavenged",
         "MOM",
         "Y",
         "N",
         "Y",
         "4/16/2025 DOL 20 20:24",
         null,
         "Y",
         "4/17/2025 DOL 20 08:38",
         "4/17/2025 DOL 20 14:15",
         "2025-04-17 16:04:00",
         "Scavenged",
         "2"
        ],
        [
         "37",
         "NB00354",
         "NB00354_M_14",
         "30.5",
         "20.0",
         "1205.0",
         "36.5",
         "25.5",
         "Scavenged",
         "MOM",
         "Y",
         "N",
         null,
         null,
         null,
         "Y",
         "Prepped 4/16/2025 PM",
         "4/17/2025 DOL 20 8:35",
         null,
         "Prepped in Milk Room",
         "7"
        ],
        [
         "38",
         "NB00354",
         "NB00354_M_16",
         "31.2",
         "24.0",
         "1305.0",
         "36.5",
         "26.0",
         "Scavenged",
         "MOM",
         "Y",
         null,
         null,
         null,
         null,
         "Y",
         "Prepped 4/20/25 PM",
         "4/21/2025 DOL 24 10:00:00 AM",
         null,
         "Prepped in Milk Room",
         "5"
        ],
        [
         "39",
         "NB00354",
         "NB00354_M_17",
         "31.2",
         "24.0",
         "1305.0",
         "36.5",
         "26.0",
         "Scavenged",
         "MOM",
         "Y",
         "N",
         "Y",
         "4/20/2025  2009",
         null,
         "Y",
         "4/21/25 DOL 24 08:25",
         "4/21/2025 DOL 24 10:20",
         "2025-04-21 17:14:00",
         "Scavenged",
         "1"
        ],
        [
         "40",
         "NB00354",
         "NB00354_M_18",
         "31.4",
         "26.0",
         "1415.0",
         "36.5",
         "26.0",
         "Scavenged",
         "MOM",
         "Y",
         "N",
         null,
         null,
         "45",
         "Y",
         "Prepped \n4/22/2025 PM",
         "4/23/2025\nDOL 21 11:13",
         null,
         "Prepped in Milk Room",
         "5"
        ],
        [
         "41",
         "NB00354",
         "NB00354_M_19",
         "31.4",
         "26.0",
         "1415.0",
         "36.5",
         "26.0",
         "Scavenged",
         "MOM",
         "Y",
         "N",
         "Y",
         "4/23/2025\nDOL 74 20:16",
         "45",
         "Y",
         "4/23/2025\nDOL 74 8:20",
         "4/23/2025\nDOL 74 18:33",
         "2025-04-23 16:14:00",
         "Scavenged",
         "1"
        ],
        [
         "42",
         "NB00354",
         "NB00354_M_21",
         "31.5",
         "27.0",
         "1475.0",
         "36.5",
         "26.0",
         "Scavenged",
         "MOM",
         "Y",
         "N",
         "Y",
         "4/24/2025\nDOL 27 20:08",
         "45",
         "Y",
         "4/24/2025\nDOL 75 8:04",
         "4/24/2025\nDOL 27 10:50",
         "2025-04-25 16:22:00",
         "Scavenged",
         "1"
        ],
        [
         "43",
         "NB00354",
         "NB00354_M_20",
         "31.5",
         "27.0",
         "1475.0",
         "36.5",
         "26.0",
         "Scavenged",
         "MOM",
         "Y",
         "N",
         null,
         null,
         "45",
         "Y",
         "Prepped \n4/23/2025 PM",
         "4/24/2025\nDOL 27 8:22",
         null,
         "Prepped in Milk Room",
         "11"
        ],
        [
         "44",
         "NB00359",
         "NB00359_M_14",
         "33.5",
         "24.0",
         "1720.0",
         "40.0",
         "28.0",
         "Scavenged",
         "MOM",
         "Y",
         null,
         null,
         null,
         null,
         "Y",
         "Prepped 4/20/25 PM",
         "2025-04-21 10:05:00",
         null,
         "Prepped in Milk Room",
         "3"
        ],
        [
         "45",
         "NB00359",
         "NB00359_M_17",
         "35.5",
         "38.0",
         "2045.0",
         "42.0",
         "29.5",
         "Scavenged",
         "MOM",
         "Y",
         "N",
         "Y",
         "2025-05-05 08:11:00",
         "unknown",
         "Y",
         "2025-05-05 08:08:00",
         "2025-05-05 13:42:00",
         "2025-05-05 17:02:00",
         "Scavenged",
         "2"
        ],
        [
         "46",
         "NB00359",
         "NB00359_M_18",
         "36.1",
         "41.0",
         "2195.0",
         "43.0",
         "30.5",
         "Scavenged",
         "MOM",
         "Y",
         null,
         null,
         null,
         null,
         "Y",
         "Prepped 5/7/25 PM",
         "2025-05-08 13:47:00",
         null,
         "Prepped in Milk Room",
         "7"
        ],
        [
         "47",
         "NB00359",
         "NB00359_M_19",
         "36.1",
         "41.0",
         "2195.0",
         "43.0",
         "30.5",
         "Scavenged",
         "MOM",
         "Y",
         "N",
         "Y",
         "2025-05-08 08:01:00",
         "unknown",
         "Y",
         "2025-05-08 08:01:00",
         "2025-05-08 14:13:00",
         "17:29:00",
         "Scavenged",
         "1"
        ],
        [
         "48",
         "NB00359",
         "NB00359_M_6",
         "32.1",
         "13.0",
         "1280.0",
         "39.0",
         "26.0",
         "Scavenged",
         "MOM",
         "Y",
         "N",
         "N",
         null,
         null,
         "Y",
         "4/10/2025\nDOL 13 8:02",
         "4/10/2025\nDOL 13 14: 08",
         "2025-04-10 16:19:00",
         "Scavenged",
         "1"
        ],
        [
         "49",
         "NB00359",
         "NB00359_M_5",
         "32.1",
         "13.0",
         "1280.0",
         "39.0",
         "26.0",
         "Scavenged",
         "MOM",
         "Y",
         "N",
         "N",
         null,
         null,
         "Y",
         "Prepped 4/9/2025 PM",
         "4/10/2025\nDOL 74 13: 09",
         null,
         "Prepped in Milk Room",
         "6"
        ]
       ],
       "shape": {
        "columns": 20,
        "rows": 141
       }
      },
      "text/html": [
       "<div>\n",
       "<style scoped>\n",
       "    .dataframe tbody tr th:only-of-type {\n",
       "        vertical-align: middle;\n",
       "    }\n",
       "\n",
       "    .dataframe tbody tr th {\n",
       "        vertical-align: top;\n",
       "    }\n",
       "\n",
       "    .dataframe thead th {\n",
       "        text-align: right;\n",
       "    }\n",
       "</style>\n",
       "<table border=\"1\" class=\"dataframe\">\n",
       "  <thead>\n",
       "    <tr style=\"text-align: right;\">\n",
       "      <th></th>\n",
       "      <th>Subject ID</th>\n",
       "      <th>sample_unique_id</th>\n",
       "      <th>CGA</th>\n",
       "      <th>DOL</th>\n",
       "      <th>Current Weight</th>\n",
       "      <th>Current Height</th>\n",
       "      <th>Current HC</th>\n",
       "      <th>Scavenged/Fresh?</th>\n",
       "      <th>Type of Milk</th>\n",
       "      <th>HMF</th>\n",
       "      <th>TPN</th>\n",
       "      <th>Iron</th>\n",
       "      <th>Iron Date &amp; time</th>\n",
       "      <th>Feeding Duration</th>\n",
       "      <th>Linked?</th>\n",
       "      <th>feeding time</th>\n",
       "      <th>Collection date/aliquot time for all samples</th>\n",
       "      <th>Milk Prep Room Expiration Date &amp; Time</th>\n",
       "      <th>Sample Source</th>\n",
       "      <th>Aliquots_num</th>\n",
       "    </tr>\n",
       "  </thead>\n",
       "  <tbody>\n",
       "    <tr>\n",
       "      <th>0</th>\n",
       "      <td>NB00237</td>\n",
       "      <td>NB00237_M_10</td>\n",
       "      <td>35.0</td>\n",
       "      <td>74.0</td>\n",
       "      <td>2440.0</td>\n",
       "      <td>44.0</td>\n",
       "      <td>29.0</td>\n",
       "      <td>Scavenged</td>\n",
       "      <td>MOM</td>\n",
       "      <td>Y</td>\n",
       "      <td>N</td>\n",
       "      <td>NaN</td>\n",
       "      <td>NaN</td>\n",
       "      <td>NaN</td>\n",
       "      <td>Y</td>\n",
       "      <td>Prepped \\n4/22/2025 PM</td>\n",
       "      <td>4/23/2025\\nDOL 21 11:13</td>\n",
       "      <td>NaN</td>\n",
       "      <td>Prepped in Milk Room</td>\n",
       "      <td>11</td>\n",
       "    </tr>\n",
       "    <tr>\n",
       "      <th>1</th>\n",
       "      <td>NB00237</td>\n",
       "      <td>NB00237_M_8</td>\n",
       "      <td>34.5</td>\n",
       "      <td>72.0</td>\n",
       "      <td>2350.0</td>\n",
       "      <td>43.5</td>\n",
       "      <td>28.5</td>\n",
       "      <td>Scavenged</td>\n",
       "      <td>MOM</td>\n",
       "      <td>Y</td>\n",
       "      <td>N</td>\n",
       "      <td>NaN</td>\n",
       "      <td>NaN</td>\n",
       "      <td>NaN</td>\n",
       "      <td>Y</td>\n",
       "      <td>Prepped 4/20/25 PM</td>\n",
       "      <td>2025-04-21 10:13:00</td>\n",
       "      <td>NaN</td>\n",
       "      <td>Prepped in Milk Room</td>\n",
       "      <td>6</td>\n",
       "    </tr>\n",
       "    <tr>\n",
       "      <th>2</th>\n",
       "      <td>NB00237</td>\n",
       "      <td>NB00237_M_17</td>\n",
       "      <td>36.6</td>\n",
       "      <td>87.0</td>\n",
       "      <td>3010.0</td>\n",
       "      <td>46.1</td>\n",
       "      <td>30.0</td>\n",
       "      <td>Scavenged</td>\n",
       "      <td>MOM</td>\n",
       "      <td>Y</td>\n",
       "      <td>N</td>\n",
       "      <td>Y</td>\n",
       "      <td>2025-05-06 20:57:00</td>\n",
       "      <td>unknown</td>\n",
       "      <td>Y</td>\n",
       "      <td>2025-05-06 08:56:00</td>\n",
       "      <td>2025-05-06 13:47:00</td>\n",
       "      <td>Unknown</td>\n",
       "      <td>Scavenged</td>\n",
       "      <td>2</td>\n",
       "    </tr>\n",
       "    <tr>\n",
       "      <th>3</th>\n",
       "      <td>NB00237</td>\n",
       "      <td>NB00237_M_19</td>\n",
       "      <td>37.1</td>\n",
       "      <td>89.0</td>\n",
       "      <td>3110.0</td>\n",
       "      <td>46.3</td>\n",
       "      <td>30.5</td>\n",
       "      <td>Scavenged</td>\n",
       "      <td>MOM</td>\n",
       "      <td>Y</td>\n",
       "      <td>N</td>\n",
       "      <td>Y</td>\n",
       "      <td>2025-05-08 20:43:00</td>\n",
       "      <td>45 min</td>\n",
       "      <td>Y</td>\n",
       "      <td>2025-05-08 12:03:00</td>\n",
       "      <td>2025-05-08 14:07:00</td>\n",
       "      <td>2025-05-08 16:49:00</td>\n",
       "      <td>Scavenged</td>\n",
       "      <td>3</td>\n",
       "    </tr>\n",
       "    <tr>\n",
       "      <th>4</th>\n",
       "      <td>NB00237</td>\n",
       "      <td>NB00237_M_20</td>\n",
       "      <td>37.5</td>\n",
       "      <td>93.0</td>\n",
       "      <td>3380.0</td>\n",
       "      <td>46.3</td>\n",
       "      <td>30.5</td>\n",
       "      <td>Scavenged</td>\n",
       "      <td>MOM</td>\n",
       "      <td>Y</td>\n",
       "      <td>N</td>\n",
       "      <td>NaN</td>\n",
       "      <td>NaN</td>\n",
       "      <td>NaN</td>\n",
       "      <td>Y</td>\n",
       "      <td>Prepped 5/11/25 PM</td>\n",
       "      <td>2025-05-12 10:58:00</td>\n",
       "      <td>NaN</td>\n",
       "      <td>Prepped in Milk Room</td>\n",
       "      <td>8</td>\n",
       "    </tr>\n",
       "    <tr>\n",
       "      <th>...</th>\n",
       "      <td>...</td>\n",
       "      <td>...</td>\n",
       "      <td>...</td>\n",
       "      <td>...</td>\n",
       "      <td>...</td>\n",
       "      <td>...</td>\n",
       "      <td>...</td>\n",
       "      <td>...</td>\n",
       "      <td>...</td>\n",
       "      <td>...</td>\n",
       "      <td>...</td>\n",
       "      <td>...</td>\n",
       "      <td>...</td>\n",
       "      <td>...</td>\n",
       "      <td>...</td>\n",
       "      <td>...</td>\n",
       "      <td>...</td>\n",
       "      <td>...</td>\n",
       "      <td>...</td>\n",
       "      <td>...</td>\n",
       "    </tr>\n",
       "    <tr>\n",
       "      <th>136</th>\n",
       "      <td>NB00469</td>\n",
       "      <td>NB00469_M_2</td>\n",
       "      <td>34.1</td>\n",
       "      <td>25.0</td>\n",
       "      <td>2040.0</td>\n",
       "      <td>42.5</td>\n",
       "      <td>30.3</td>\n",
       "      <td>Scavenged</td>\n",
       "      <td>MOM</td>\n",
       "      <td>Y+Nutramigen</td>\n",
       "      <td>N</td>\n",
       "      <td>Y</td>\n",
       "      <td>2025-05-09 21:09:00</td>\n",
       "      <td>unknown</td>\n",
       "      <td>Y</td>\n",
       "      <td>2025-05-09 08:30:00</td>\n",
       "      <td>2025-05-09 12:12:00</td>\n",
       "      <td>2025-05-09 16:06:00</td>\n",
       "      <td>Scavenged</td>\n",
       "      <td>2</td>\n",
       "    </tr>\n",
       "    <tr>\n",
       "      <th>137</th>\n",
       "      <td>NB00486</td>\n",
       "      <td>NB00486_M_1</td>\n",
       "      <td>32.1</td>\n",
       "      <td>9.0</td>\n",
       "      <td>1055.0</td>\n",
       "      <td>36.0</td>\n",
       "      <td>26.7</td>\n",
       "      <td>Scavenged</td>\n",
       "      <td>DBM</td>\n",
       "      <td>Y</td>\n",
       "      <td>NaN</td>\n",
       "      <td>NaN</td>\n",
       "      <td>NaN</td>\n",
       "      <td>NaN</td>\n",
       "      <td>Y</td>\n",
       "      <td>Prepped 5/13/25 PM</td>\n",
       "      <td>2025-05-14 10:45:00</td>\n",
       "      <td>NaN</td>\n",
       "      <td>Prepped in Milk Room</td>\n",
       "      <td>8</td>\n",
       "    </tr>\n",
       "    <tr>\n",
       "      <th>138</th>\n",
       "      <td>NB00486</td>\n",
       "      <td>NB00486_M_2</td>\n",
       "      <td>32.1</td>\n",
       "      <td>9.0</td>\n",
       "      <td>1055.0</td>\n",
       "      <td>36.0</td>\n",
       "      <td>26.7</td>\n",
       "      <td>Scavenged</td>\n",
       "      <td>DBM</td>\n",
       "      <td>Y</td>\n",
       "      <td>N</td>\n",
       "      <td>N</td>\n",
       "      <td>NaN</td>\n",
       "      <td>unknown</td>\n",
       "      <td>Y</td>\n",
       "      <td>5/14/2025 done @ 08:11</td>\n",
       "      <td>2025-05-14 10:45:00</td>\n",
       "      <td>2025-05-14 17:37:00</td>\n",
       "      <td>Scavenged</td>\n",
       "      <td>1</td>\n",
       "    </tr>\n",
       "    <tr>\n",
       "      <th>139</th>\n",
       "      <td>NB00487</td>\n",
       "      <td>NB00487_M_1</td>\n",
       "      <td>34.2</td>\n",
       "      <td>7.0</td>\n",
       "      <td>1940.0</td>\n",
       "      <td>44.3</td>\n",
       "      <td>29.0</td>\n",
       "      <td>Scavenged</td>\n",
       "      <td>MOM+DBM</td>\n",
       "      <td>Y</td>\n",
       "      <td>N</td>\n",
       "      <td>NaN</td>\n",
       "      <td>NaN</td>\n",
       "      <td>NaN</td>\n",
       "      <td>Y</td>\n",
       "      <td>Prepped 5/13/25 PM</td>\n",
       "      <td>2025-05-14 11:00:00</td>\n",
       "      <td>NaN</td>\n",
       "      <td>Prepped in Milk Room</td>\n",
       "      <td>7</td>\n",
       "    </tr>\n",
       "    <tr>\n",
       "      <th>140</th>\n",
       "      <td>NB00487</td>\n",
       "      <td>NB00487_M_2</td>\n",
       "      <td>34.2</td>\n",
       "      <td>7.0</td>\n",
       "      <td>1940.0</td>\n",
       "      <td>44.3</td>\n",
       "      <td>29.0</td>\n",
       "      <td>Scavenged</td>\n",
       "      <td>MOM+DBM</td>\n",
       "      <td>Y</td>\n",
       "      <td>N</td>\n",
       "      <td>N</td>\n",
       "      <td>NaN</td>\n",
       "      <td>90</td>\n",
       "      <td>Y</td>\n",
       "      <td>2025-05-14 08:58:00</td>\n",
       "      <td>2025-05-14 11:00:00</td>\n",
       "      <td>2025-05-14 17:47:00</td>\n",
       "      <td>Scavenged</td>\n",
       "      <td>1</td>\n",
       "    </tr>\n",
       "  </tbody>\n",
       "</table>\n",
       "<p>141 rows × 20 columns</p>\n",
       "</div>"
      ],
      "text/plain": [
       "    Subject ID sample_unique_id   CGA   DOL  Current Weight  Current Height  \\\n",
       "0      NB00237     NB00237_M_10  35.0  74.0          2440.0            44.0   \n",
       "1      NB00237      NB00237_M_8  34.5  72.0          2350.0            43.5   \n",
       "2      NB00237     NB00237_M_17  36.6  87.0          3010.0            46.1   \n",
       "3      NB00237     NB00237_M_19  37.1  89.0          3110.0            46.3   \n",
       "4      NB00237     NB00237_M_20  37.5  93.0          3380.0            46.3   \n",
       "..         ...              ...   ...   ...             ...             ...   \n",
       "136    NB00469      NB00469_M_2  34.1  25.0          2040.0            42.5   \n",
       "137    NB00486      NB00486_M_1  32.1   9.0          1055.0            36.0   \n",
       "138    NB00486      NB00486_M_2  32.1   9.0          1055.0            36.0   \n",
       "139    NB00487      NB00487_M_1  34.2   7.0          1940.0            44.3   \n",
       "140    NB00487      NB00487_M_2  34.2   7.0          1940.0            44.3   \n",
       "\n",
       "     Current HC Scavenged/Fresh? Type of Milk           HMF  TPN Iron  \\\n",
       "0          29.0        Scavenged          MOM             Y    N  NaN   \n",
       "1          28.5        Scavenged          MOM             Y    N  NaN   \n",
       "2          30.0        Scavenged          MOM             Y    N    Y   \n",
       "3          30.5        Scavenged          MOM             Y    N    Y   \n",
       "4          30.5        Scavenged          MOM             Y    N  NaN   \n",
       "..          ...              ...          ...           ...  ...  ...   \n",
       "136        30.3        Scavenged          MOM  Y+Nutramigen    N    Y   \n",
       "137        26.7        Scavenged          DBM             Y  NaN  NaN   \n",
       "138        26.7        Scavenged          DBM             Y    N    N   \n",
       "139        29.0        Scavenged      MOM+DBM             Y    N  NaN   \n",
       "140        29.0        Scavenged      MOM+DBM             Y    N    N   \n",
       "\n",
       "        Iron Date & time Feeding Duration Linked?            feeding time  \\\n",
       "0                    NaN              NaN       Y  Prepped \\n4/22/2025 PM   \n",
       "1                    NaN              NaN       Y      Prepped 4/20/25 PM   \n",
       "2    2025-05-06 20:57:00          unknown       Y     2025-05-06 08:56:00   \n",
       "3    2025-05-08 20:43:00           45 min       Y     2025-05-08 12:03:00   \n",
       "4                    NaN              NaN       Y      Prepped 5/11/25 PM   \n",
       "..                   ...              ...     ...                     ...   \n",
       "136  2025-05-09 21:09:00          unknown       Y     2025-05-09 08:30:00   \n",
       "137                  NaN              NaN       Y      Prepped 5/13/25 PM   \n",
       "138                  NaN          unknown       Y  5/14/2025 done @ 08:11   \n",
       "139                  NaN              NaN       Y      Prepped 5/13/25 PM   \n",
       "140                  NaN               90       Y     2025-05-14 08:58:00   \n",
       "\n",
       "    Collection date/aliquot time for all samples  \\\n",
       "0                        4/23/2025\\nDOL 21 11:13   \n",
       "1                            2025-04-21 10:13:00   \n",
       "2                            2025-05-06 13:47:00   \n",
       "3                            2025-05-08 14:07:00   \n",
       "4                            2025-05-12 10:58:00   \n",
       "..                                           ...   \n",
       "136                          2025-05-09 12:12:00   \n",
       "137                          2025-05-14 10:45:00   \n",
       "138                          2025-05-14 10:45:00   \n",
       "139                          2025-05-14 11:00:00   \n",
       "140                          2025-05-14 11:00:00   \n",
       "\n",
       "    Milk Prep Room Expiration Date & Time         Sample Source  Aliquots_num  \n",
       "0                                     NaN  Prepped in Milk Room            11  \n",
       "1                                     NaN  Prepped in Milk Room             6  \n",
       "2                                 Unknown             Scavenged             2  \n",
       "3                     2025-05-08 16:49:00             Scavenged             3  \n",
       "4                                     NaN  Prepped in Milk Room             8  \n",
       "..                                    ...                   ...           ...  \n",
       "136                   2025-05-09 16:06:00             Scavenged             2  \n",
       "137                                   NaN  Prepped in Milk Room             8  \n",
       "138                   2025-05-14 17:37:00             Scavenged             1  \n",
       "139                                   NaN  Prepped in Milk Room             7  \n",
       "140                   2025-05-14 17:47:00             Scavenged             1  \n",
       "\n",
       "[141 rows x 20 columns]"
      ]
     },
     "execution_count": 27,
     "metadata": {},
     "output_type": "execute_result"
    }
   ],
   "source": [
    "df"
   ]
  },
  {
   "cell_type": "code",
   "execution_count": 28,
   "id": "f8ff1786",
   "metadata": {},
   "outputs": [],
   "source": [
    "df.to_excel(\"Cleaned Data/cleaned_linkedmeta_updated.xlsx\", index=False)"
   ]
  },
  {
   "cell_type": "code",
   "execution_count": null,
   "id": "3286b184",
   "metadata": {},
   "outputs": [],
   "source": [
    "subject_counts = df['Subject ID'].value_counts()\n",
    "num_subjects_more_than_3 = (subject_counts > 3).sum()\n",
    "print(num_subjects_more_than_3)"
   ]
  },
  {
   "cell_type": "markdown",
   "id": "4523b0f0",
   "metadata": {},
   "source": [
    "## Area Counts - LINKED"
   ]
  },
  {
   "cell_type": "code",
   "execution_count": null,
   "id": "c3b19c38",
   "metadata": {},
   "outputs": [],
   "source": [
    "AC = pd.read_excel(\"Raw Data/Linked AC.xlsx\")\n",
    "AC"
   ]
  },
  {
   "cell_type": "code",
   "execution_count": null,
   "id": "cef3e28a",
   "metadata": {},
   "outputs": [],
   "source": [
    "AC_long = AC.set_index('sample_unique_id').transpose().reset_index()\n",
    "AC_long = AC_long.rename(columns={'index': 'Lab_ID_full'})\n",
    "AC_long"
   ]
  },
  {
   "cell_type": "code",
   "execution_count": null,
   "id": "31794156",
   "metadata": {},
   "outputs": [],
   "source": [
    "AC_long = AC_long.rename(columns={\n",
    "    \"2'FL\": \"2FL\",\n",
    "    \"3'SL\": \"3SL\",\n",
    "    \"6'SL\": \"6SL\",\n",
    "})"
   ]
  },
  {
   "cell_type": "code",
   "execution_count": null,
   "id": "95e7f6c1",
   "metadata": {},
   "outputs": [],
   "source": [
    "AC_long.columns"
   ]
  },
  {
   "cell_type": "code",
   "execution_count": null,
   "id": "53206efb",
   "metadata": {},
   "outputs": [],
   "source": [
    "AC_long.to_excel(\"Raw Data/AC_long.xlsx\", index=False)"
   ]
  },
  {
   "cell_type": "code",
   "execution_count": null,
   "id": "45ebb267",
   "metadata": {},
   "outputs": [],
   "source": [
    "AC_long"
   ]
  },
  {
   "cell_type": "code",
   "execution_count": null,
   "id": "d026d439",
   "metadata": {},
   "outputs": [],
   "source": [
    "AC_volumes = pd.read_excel(\"Raw Data/Linked AC.xlsx\", sheet_name=\"volumes\")"
   ]
  },
  {
   "cell_type": "code",
   "execution_count": null,
   "id": "11204163",
   "metadata": {},
   "outputs": [],
   "source": [
    "AC_volumes['Lab_ID_full'] = AC_volumes['Lab ID'].astype(str) + AC_volumes['Unnamed: 4'].astype(str)"
   ]
  },
  {
   "cell_type": "code",
   "execution_count": null,
   "id": "d116dcc8",
   "metadata": {},
   "outputs": [],
   "source": [
    "AC_volumes"
   ]
  },
  {
   "cell_type": "code",
   "execution_count": null,
   "id": "942d27a7",
   "metadata": {},
   "outputs": [],
   "source": [
    "AC_volumes['sample_unique_id'] = AC_volumes['Subject ID'].astype(str) + '_' + AC_volumes['Prepped'].astype(str)"
   ]
  },
  {
   "cell_type": "code",
   "execution_count": null,
   "id": "afedd0fc",
   "metadata": {},
   "outputs": [],
   "source": [
    "AC_volumes"
   ]
  },
  {
   "cell_type": "code",
   "execution_count": null,
   "id": "303060f5",
   "metadata": {},
   "outputs": [],
   "source": [
    "AC_volumes = AC_volumes[['Lab_ID_full', 'sample_unique_id']]"
   ]
  },
  {
   "cell_type": "code",
   "execution_count": null,
   "id": "906fa7e5",
   "metadata": {},
   "outputs": [],
   "source": [
    "AC_long = AC_long.merge(AC_volumes, on='Lab_ID_full', how='left')"
   ]
  },
  {
   "cell_type": "code",
   "execution_count": null,
   "id": "994add39",
   "metadata": {},
   "outputs": [],
   "source": [
    "cols = ['sample_unique_id'] + [col for col in AC_long.columns if col != 'sample_unique_id']\n",
    "AC_long = AC_long[cols]\n",
    "AC_long"
   ]
  },
  {
   "cell_type": "code",
   "execution_count": null,
   "id": "39832192",
   "metadata": {},
   "outputs": [],
   "source": [
    "AC_long = AC_long.drop(columns=['Lab_ID_full'])"
   ]
  },
  {
   "cell_type": "markdown",
   "id": "46598496",
   "metadata": {},
   "source": [
    "### Merge AC to Metadata"
   ]
  },
  {
   "cell_type": "code",
   "execution_count": null,
   "id": "6650318f",
   "metadata": {},
   "outputs": [],
   "source": [
    "AC_long"
   ]
  },
  {
   "cell_type": "code",
   "execution_count": null,
   "id": "ee4f236b",
   "metadata": {},
   "outputs": [],
   "source": [
    "df"
   ]
  },
  {
   "cell_type": "code",
   "execution_count": null,
   "id": "8abc497c",
   "metadata": {},
   "outputs": [],
   "source": [
    "merged_df = df.merge(AC_long, on='sample_unique_id', how='left')\n",
    "merged_df"
   ]
  },
  {
   "cell_type": "code",
   "execution_count": null,
   "id": "262ff9c8",
   "metadata": {},
   "outputs": [],
   "source": [
    "merged_df.to_excel(\"Cleaned Data/Linked_Merged.xlsx\", index=False)"
   ]
  }
 ],
 "metadata": {
  "kernelspec": {
   "display_name": ".hmo-kernel (3.13.5)",
   "language": "python",
   "name": "python3"
  },
  "language_info": {
   "codemirror_mode": {
    "name": "ipython",
    "version": 3
   },
   "file_extension": ".py",
   "mimetype": "text/x-python",
   "name": "python",
   "nbconvert_exporter": "python",
   "pygments_lexer": "ipython3",
   "version": "3.13.5"
  }
 },
 "nbformat": 4,
 "nbformat_minor": 5
}
