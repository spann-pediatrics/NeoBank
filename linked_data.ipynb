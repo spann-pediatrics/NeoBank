{
 "cells": [
  {
   "cell_type": "code",
   "execution_count": 1,
   "id": "dffc548c",
   "metadata": {},
   "outputs": [],
   "source": [
    "import pandas as pd\n",
    "import streamlit as st\n",
    "import numpy as np\n",
    "import plotly.express as px"
   ]
  },
  {
   "cell_type": "code",
   "execution_count": 2,
   "id": "aa966b87",
   "metadata": {},
   "outputs": [],
   "source": [
    "df = pd.read_excel(\"cleaned_linkedmeta.xlsx\")"
   ]
  },
  {
   "cell_type": "code",
   "execution_count": 3,
   "id": "826bd7df",
   "metadata": {},
   "outputs": [
    {
     "data": {
      "text/plain": [
       "Index(['Subject ID', 'DOL', 'Current Weight', 'Current Height', 'Current HC',\n",
       "       'Scavenged/Fresh?', 'Type of Milk', 'HMF', 'TPN', 'Iron', 'Linked',\n",
       "       'Additional Comments', 'Milk Prep Room Expiration Date & Time',\n",
       "       'DOL at Collection', 'Collection Date/Time', 'DOL at Feeding Time',\n",
       "       'Feeding Time Period', 'Is Prepped', 'Feeding Time (Final)', 'Aliquots',\n",
       "       'Duration_Feed', 'DOL at Iron Feed', 'Milk Prepped Time',\n",
       "       'Iron DateTime', 'DOL Category'],\n",
       "      dtype='object')"
      ]
     },
     "execution_count": 3,
     "metadata": {},
     "output_type": "execute_result"
    }
   ],
   "source": [
    "df.columns"
   ]
  },
  {
   "cell_type": "code",
   "execution_count": 4,
   "id": "cfbb99a3",
   "metadata": {},
   "outputs": [
    {
     "data": {
      "application/vnd.microsoft.datawrangler.viewer.v0+json": {
       "columns": [
        {
         "name": "Iron",
         "rawType": "object",
         "type": "string"
        },
        {
         "name": "count",
         "rawType": "int64",
         "type": "integer"
        }
       ],
       "ref": "fc019f20-a0db-4db5-a8ed-4ff4c48bf56d",
       "rows": [
        [
         "Y",
         "53"
        ],
        [
         "N",
         "26"
        ],
        [
         "Y ",
         "1"
        ]
       ],
       "shape": {
        "columns": 1,
        "rows": 3
       }
      },
      "text/plain": [
       "Iron\n",
       "Y     53\n",
       "N     26\n",
       "Y      1\n",
       "Name: count, dtype: int64"
      ]
     },
     "execution_count": 4,
     "metadata": {},
     "output_type": "execute_result"
    }
   ],
   "source": [
    "df.Iron.value_counts()"
   ]
  },
  {
   "cell_type": "code",
   "execution_count": 7,
   "id": "1b324bf2",
   "metadata": {},
   "outputs": [
    {
     "data": {
      "application/vnd.microsoft.datawrangler.viewer.v0+json": {
       "columns": [
        {
         "name": "Type of Milk",
         "rawType": "object",
         "type": "string"
        },
        {
         "name": "count",
         "rawType": "int64",
         "type": "integer"
        }
       ],
       "ref": "b56a7242-7e6d-41b8-8d79-93fd6fad48d6",
       "rows": [
        [
         "MBM",
         "108"
        ],
        [
         "DBM",
         "23"
        ],
        [
         "MBM + DBM",
         "6"
        ],
        [
         "DBM+MBM",
         "4"
        ]
       ],
       "shape": {
        "columns": 1,
        "rows": 4
       }
      },
      "text/plain": [
       "Type of Milk\n",
       "MBM          108\n",
       "DBM           23\n",
       "MBM + DBM      6\n",
       "DBM+MBM        4\n",
       "Name: count, dtype: int64"
      ]
     },
     "execution_count": 7,
     "metadata": {},
     "output_type": "execute_result"
    }
   ],
   "source": [
    "df[\"Type of Milk\"].value_counts()"
   ]
  },
  {
   "cell_type": "code",
   "execution_count": 8,
   "id": "a05fb3b8",
   "metadata": {},
   "outputs": [],
   "source": [
    "df['Type of Milk'] = df['Type of Milk'].replace({'MBM + DBM': 'MBM+DBM', 'DBM+MBM': 'MBM+DBM'})"
   ]
  },
  {
   "cell_type": "code",
   "execution_count": 9,
   "id": "619967d9",
   "metadata": {},
   "outputs": [
    {
     "data": {
      "application/vnd.microsoft.datawrangler.viewer.v0+json": {
       "columns": [
        {
         "name": "Type of Milk",
         "rawType": "object",
         "type": "string"
        },
        {
         "name": "count",
         "rawType": "int64",
         "type": "integer"
        }
       ],
       "ref": "41f97ed0-5263-4b60-900a-f97b488587d6",
       "rows": [
        [
         "MBM",
         "108"
        ],
        [
         "DBM",
         "23"
        ],
        [
         "MBM+DBM",
         "10"
        ]
       ],
       "shape": {
        "columns": 1,
        "rows": 3
       }
      },
      "text/plain": [
       "Type of Milk\n",
       "MBM        108\n",
       "DBM         23\n",
       "MBM+DBM     10\n",
       "Name: count, dtype: int64"
      ]
     },
     "execution_count": 9,
     "metadata": {},
     "output_type": "execute_result"
    }
   ],
   "source": [
    "df[\"Type of Milk\"].value_counts()"
   ]
  },
  {
   "cell_type": "code",
   "execution_count": 10,
   "id": "b5e7b561",
   "metadata": {},
   "outputs": [],
   "source": [
    "df['Scavenged/Fresh?'] = df['Scavenged/Fresh?'].str.strip().str.capitalize()"
   ]
  },
  {
   "cell_type": "code",
   "execution_count": 11,
   "id": "6ff1802e",
   "metadata": {},
   "outputs": [
    {
     "data": {
      "application/vnd.microsoft.datawrangler.viewer.v0+json": {
       "columns": [
        {
         "name": "Scavenged/Fresh?",
         "rawType": "object",
         "type": "string"
        },
        {
         "name": "count",
         "rawType": "int64",
         "type": "integer"
        }
       ],
       "ref": "e0f375a3-6330-424f-9984-43c9c8ee8fc6",
       "rows": [
        [
         "Scavenged",
         "139"
        ],
        [
         "Scaveneged",
         "2"
        ]
       ],
       "shape": {
        "columns": 1,
        "rows": 2
       }
      },
      "text/plain": [
       "Scavenged/Fresh?\n",
       "Scavenged     139\n",
       "Scaveneged      2\n",
       "Name: count, dtype: int64"
      ]
     },
     "execution_count": 11,
     "metadata": {},
     "output_type": "execute_result"
    }
   ],
   "source": [
    "df[\"Scavenged/Fresh?\"].value_counts()"
   ]
  },
  {
   "cell_type": "code",
   "execution_count": 14,
   "id": "84f29738",
   "metadata": {},
   "outputs": [],
   "source": [
    "df['Scavenged/Fresh?'] = df['Scavenged/Fresh?'].replace({'Scaveneged': 'Scavenged'})"
   ]
  },
  {
   "cell_type": "code",
   "execution_count": 15,
   "id": "5db8bd32",
   "metadata": {},
   "outputs": [
    {
     "data": {
      "application/vnd.microsoft.datawrangler.viewer.v0+json": {
       "columns": [
        {
         "name": "Scavenged/Fresh?",
         "rawType": "object",
         "type": "string"
        },
        {
         "name": "count",
         "rawType": "int64",
         "type": "integer"
        }
       ],
       "ref": "34c6500d-3d59-4c6f-ab4b-0fa32798275e",
       "rows": [
        [
         "Scavenged",
         "141"
        ]
       ],
       "shape": {
        "columns": 1,
        "rows": 1
       }
      },
      "text/plain": [
       "Scavenged/Fresh?\n",
       "Scavenged    141\n",
       "Name: count, dtype: int64"
      ]
     },
     "execution_count": 15,
     "metadata": {},
     "output_type": "execute_result"
    }
   ],
   "source": [
    "df[\"Scavenged/Fresh?\"].value_counts()"
   ]
  },
  {
   "cell_type": "code",
   "execution_count": 16,
   "id": "9531c169",
   "metadata": {},
   "outputs": [
    {
     "data": {
      "application/vnd.microsoft.datawrangler.viewer.v0+json": {
       "columns": [
        {
         "name": "HMF",
         "rawType": "object",
         "type": "string"
        },
        {
         "name": "count",
         "rawType": "int64",
         "type": "integer"
        }
       ],
       "ref": "2856fbf9-99f1-4916-8b0f-28b5e3e95b9a",
       "rows": [
        [
         "Y",
         "127"
        ],
        [
         "Nutramigen",
         "4"
        ],
        [
         "Y + Nutramigen",
         "4"
        ],
        [
         "N",
         "2"
        ],
        [
         "N+Nutramigen",
         "2"
        ],
        [
         "Y+Nutramigen",
         "1"
        ]
       ],
       "shape": {
        "columns": 1,
        "rows": 6
       }
      },
      "text/plain": [
       "HMF\n",
       "Y                 127\n",
       "Nutramigen          4\n",
       "Y + Nutramigen      4\n",
       "N                   2\n",
       "N+Nutramigen        2\n",
       "Y+Nutramigen        1\n",
       "Name: count, dtype: int64"
      ]
     },
     "execution_count": 16,
     "metadata": {},
     "output_type": "execute_result"
    }
   ],
   "source": [
    "df.HMF.value_counts()"
   ]
  },
  {
   "cell_type": "code",
   "execution_count": 17,
   "id": "6c58d87c",
   "metadata": {},
   "outputs": [],
   "source": [
    "df['HMF'] = df['HMF'].replace({'Y + Nutramigen': 'Y+Nutramigen'})"
   ]
  },
  {
   "cell_type": "code",
   "execution_count": 18,
   "id": "c476eedf",
   "metadata": {},
   "outputs": [
    {
     "data": {
      "application/vnd.microsoft.datawrangler.viewer.v0+json": {
       "columns": [
        {
         "name": "HMF",
         "rawType": "object",
         "type": "string"
        },
        {
         "name": "count",
         "rawType": "int64",
         "type": "integer"
        }
       ],
       "ref": "d157b45d-dd26-4076-8553-a3f4ca2c275e",
       "rows": [
        [
         "Y",
         "127"
        ],
        [
         "Y+Nutramigen",
         "5"
        ],
        [
         "Nutramigen",
         "4"
        ],
        [
         "N",
         "2"
        ],
        [
         "N+Nutramigen",
         "2"
        ]
       ],
       "shape": {
        "columns": 1,
        "rows": 5
       }
      },
      "text/plain": [
       "HMF\n",
       "Y               127\n",
       "Y+Nutramigen      5\n",
       "Nutramigen        4\n",
       "N                 2\n",
       "N+Nutramigen      2\n",
       "Name: count, dtype: int64"
      ]
     },
     "execution_count": 18,
     "metadata": {},
     "output_type": "execute_result"
    }
   ],
   "source": [
    "df.HMF.value_counts()"
   ]
  },
  {
   "cell_type": "code",
   "execution_count": 19,
   "id": "6e939fd8",
   "metadata": {},
   "outputs": [],
   "source": [
    "df['Iron'] = df['Iron'].replace(r'^\\s*Y\\s*$', 'Y', regex=True)"
   ]
  },
  {
   "cell_type": "code",
   "execution_count": 21,
   "id": "2c6e1005",
   "metadata": {},
   "outputs": [
    {
     "data": {
      "application/vnd.microsoft.datawrangler.viewer.v0+json": {
       "columns": [
        {
         "name": "Iron",
         "rawType": "object",
         "type": "string"
        },
        {
         "name": "count",
         "rawType": "int64",
         "type": "integer"
        }
       ],
       "ref": "e4840556-f946-4cdb-9afe-7130175cb062",
       "rows": [
        [
         "Y",
         "54"
        ],
        [
         "N",
         "26"
        ]
       ],
       "shape": {
        "columns": 1,
        "rows": 2
       }
      },
      "text/plain": [
       "Iron\n",
       "Y    54\n",
       "N    26\n",
       "Name: count, dtype: int64"
      ]
     },
     "execution_count": 21,
     "metadata": {},
     "output_type": "execute_result"
    }
   ],
   "source": [
    "df[\"Iron\"].value_counts()"
   ]
  },
  {
   "cell_type": "code",
   "execution_count": 22,
   "id": "f8ff1786",
   "metadata": {},
   "outputs": [],
   "source": [
    "df.to_excel(\"cleaned_linkedmeta_updated.xlsx\", index=False)"
   ]
  },
  {
   "cell_type": "code",
   "execution_count": 23,
   "id": "3286b184",
   "metadata": {},
   "outputs": [
    {
     "name": "stdout",
     "output_type": "stream",
     "text": [
      "14\n"
     ]
    }
   ],
   "source": [
    "subject_counts = df['Subject ID'].value_counts()\n",
    "num_subjects_more_than_3 = (subject_counts > 3).sum()\n",
    "print(num_subjects_more_than_3)"
   ]
  }
 ],
 "metadata": {
  "kernelspec": {
   "display_name": ".hmo-kernel (3.13.5)",
   "language": "python",
   "name": "python3"
  },
  "language_info": {
   "codemirror_mode": {
    "name": "ipython",
    "version": 3
   },
   "file_extension": ".py",
   "mimetype": "text/x-python",
   "name": "python",
   "nbconvert_exporter": "python",
   "pygments_lexer": "ipython3",
   "version": "3.13.5"
  }
 },
 "nbformat": 4,
 "nbformat_minor": 5
}
