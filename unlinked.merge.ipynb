{
 "cells": [
  {
   "cell_type": "code",
   "execution_count": 1,
   "id": "42ef3949",
   "metadata": {},
   "outputs": [],
   "source": [
    "# import necessary libraries\n",
    "import pandas as pd\n",
    "import numpy as np\n",
    "import re\n",
    "import plotly.express as px\n"
   ]
  },
  {
   "cell_type": "markdown",
   "id": "6e0ba065",
   "metadata": {},
   "source": [
    "#### Import Data Sheets\n",
    "- Metadata = df\n",
    "- Subject Info = SI\n",
    "- Area counts = AC"
   ]
  },
  {
   "cell_type": "code",
   "execution_count": 3,
   "id": "ce7cc891",
   "metadata": {},
   "outputs": [
    {
     "data": {
      "application/vnd.microsoft.datawrangler.viewer.v0+json": {
       "columns": [
        {
         "name": "index",
         "rawType": "int64",
         "type": "integer"
        },
        {
         "name": "Subject ID",
         "rawType": "object",
         "type": "string"
        },
        {
         "name": "Patient Consented",
         "rawType": "object",
         "type": "string"
        },
        {
         "name": "Sample Type_#",
         "rawType": "object",
         "type": "string"
        },
        {
         "name": "CGA",
         "rawType": "float64",
         "type": "float"
        },
        {
         "name": "DOL ",
         "rawType": "int64",
         "type": "integer"
        },
        {
         "name": "Current Weight",
         "rawType": "int64",
         "type": "integer"
        },
        {
         "name": "Current Height",
         "rawType": "float64",
         "type": "float"
        },
        {
         "name": "Current HC",
         "rawType": "float64",
         "type": "float"
        },
        {
         "name": "Scavenged/Fresh?",
         "rawType": "object",
         "type": "string"
        },
        {
         "name": "MBM/DMB?",
         "rawType": "object",
         "type": "string"
        },
        {
         "name": "HMF Y/N?",
         "rawType": "object",
         "type": "string"
        },
        {
         "name": "TPN Y/N?",
         "rawType": "object",
         "type": "unknown"
        },
        {
         "name": "Iron Y/N? ",
         "rawType": "object",
         "type": "unknown"
        },
        {
         "name": "Linked? ",
         "rawType": "object",
         "type": "string"
        },
        {
         "name": "# Aliquots ",
         "rawType": "object",
         "type": "unknown"
        },
        {
         "name": "Additional Comments",
         "rawType": "object",
         "type": "string"
        }
       ],
       "ref": "97beade7-cbf6-4d61-b63e-fbd45f1206e4",
       "rows": [
        [
         "0",
         "NB00012",
         "N",
         "NB00012_M_1",
         "28.4",
         "27",
         "1430",
         "32.0",
         "26.0",
         "Scavenged ",
         "MBM + DBM",
         "Y",
         null,
         null,
         "N",
         "5 (~0.8)",
         "Residual from Milk Prep Room & B2 Full"
        ],
        [
         "1",
         "NB00003",
         "Y",
         "NB00003_M_1",
         "29.0",
         "22",
         "995",
         "35.7",
         "23.7",
         "Scavenged ",
         "DBM",
         "Y",
         "N",
         "Y",
         "N",
         "2",
         "Scavenged Feeding Tube"
        ],
        [
         "2",
         "NB00003",
         "Y",
         "NB00003_M_2",
         "29.0",
         "22",
         "1005",
         "36.0",
         "24.4",
         "Scavenged ",
         "DBM",
         "Y",
         "N",
         "Y",
         "N",
         "1",
         "Scavenged Feeding Tube"
        ],
        [
         "3",
         "NB00003",
         "Y",
         "NB00003_M_3",
         "29.3",
         "25",
         "1065",
         "36.0",
         "24.3",
         "Scavenged ",
         "DBM",
         "Y",
         "N",
         "Y",
         "N",
         "1",
         "Scavenged Feeding Tube"
        ],
        [
         "4",
         "NB00354",
         "N",
         "NB00354_M_1",
         "29.4",
         "12",
         "1005",
         "34.0",
         "34.5",
         "Scavenged ",
         "MBM",
         "Y",
         "Y",
         null,
         "N",
         "7",
         "Residual from Milk Prep Room"
        ]
       ],
       "shape": {
        "columns": 16,
        "rows": 5
       }
      },
      "text/html": [
       "<div>\n",
       "<style scoped>\n",
       "    .dataframe tbody tr th:only-of-type {\n",
       "        vertical-align: middle;\n",
       "    }\n",
       "\n",
       "    .dataframe tbody tr th {\n",
       "        vertical-align: top;\n",
       "    }\n",
       "\n",
       "    .dataframe thead th {\n",
       "        text-align: right;\n",
       "    }\n",
       "</style>\n",
       "<table border=\"1\" class=\"dataframe\">\n",
       "  <thead>\n",
       "    <tr style=\"text-align: right;\">\n",
       "      <th></th>\n",
       "      <th>Subject ID</th>\n",
       "      <th>Patient Consented</th>\n",
       "      <th>Sample Type_#</th>\n",
       "      <th>CGA</th>\n",
       "      <th>DOL</th>\n",
       "      <th>Current Weight</th>\n",
       "      <th>Current Height</th>\n",
       "      <th>Current HC</th>\n",
       "      <th>Scavenged/Fresh?</th>\n",
       "      <th>MBM/DMB?</th>\n",
       "      <th>HMF Y/N?</th>\n",
       "      <th>TPN Y/N?</th>\n",
       "      <th>Iron Y/N?</th>\n",
       "      <th>Linked?</th>\n",
       "      <th># Aliquots</th>\n",
       "      <th>Additional Comments</th>\n",
       "    </tr>\n",
       "  </thead>\n",
       "  <tbody>\n",
       "    <tr>\n",
       "      <th>0</th>\n",
       "      <td>NB00012</td>\n",
       "      <td>N</td>\n",
       "      <td>NB00012_M_1</td>\n",
       "      <td>28.4</td>\n",
       "      <td>27</td>\n",
       "      <td>1430</td>\n",
       "      <td>32.0</td>\n",
       "      <td>26.0</td>\n",
       "      <td>Scavenged</td>\n",
       "      <td>MBM + DBM</td>\n",
       "      <td>Y</td>\n",
       "      <td>NaN</td>\n",
       "      <td>NaN</td>\n",
       "      <td>N</td>\n",
       "      <td>5 (~0.8)</td>\n",
       "      <td>Residual from Milk Prep Room &amp; B2 Full</td>\n",
       "    </tr>\n",
       "    <tr>\n",
       "      <th>1</th>\n",
       "      <td>NB00003</td>\n",
       "      <td>Y</td>\n",
       "      <td>NB00003_M_1</td>\n",
       "      <td>29.0</td>\n",
       "      <td>22</td>\n",
       "      <td>995</td>\n",
       "      <td>35.7</td>\n",
       "      <td>23.7</td>\n",
       "      <td>Scavenged</td>\n",
       "      <td>DBM</td>\n",
       "      <td>Y</td>\n",
       "      <td>N</td>\n",
       "      <td>Y</td>\n",
       "      <td>N</td>\n",
       "      <td>2</td>\n",
       "      <td>Scavenged Feeding Tube</td>\n",
       "    </tr>\n",
       "    <tr>\n",
       "      <th>2</th>\n",
       "      <td>NB00003</td>\n",
       "      <td>Y</td>\n",
       "      <td>NB00003_M_2</td>\n",
       "      <td>29.0</td>\n",
       "      <td>22</td>\n",
       "      <td>1005</td>\n",
       "      <td>36.0</td>\n",
       "      <td>24.4</td>\n",
       "      <td>Scavenged</td>\n",
       "      <td>DBM</td>\n",
       "      <td>Y</td>\n",
       "      <td>N</td>\n",
       "      <td>Y</td>\n",
       "      <td>N</td>\n",
       "      <td>1</td>\n",
       "      <td>Scavenged Feeding Tube</td>\n",
       "    </tr>\n",
       "    <tr>\n",
       "      <th>3</th>\n",
       "      <td>NB00003</td>\n",
       "      <td>Y</td>\n",
       "      <td>NB00003_M_3</td>\n",
       "      <td>29.3</td>\n",
       "      <td>25</td>\n",
       "      <td>1065</td>\n",
       "      <td>36.0</td>\n",
       "      <td>24.3</td>\n",
       "      <td>Scavenged</td>\n",
       "      <td>DBM</td>\n",
       "      <td>Y</td>\n",
       "      <td>N</td>\n",
       "      <td>Y</td>\n",
       "      <td>N</td>\n",
       "      <td>1</td>\n",
       "      <td>Scavenged Feeding Tube</td>\n",
       "    </tr>\n",
       "    <tr>\n",
       "      <th>4</th>\n",
       "      <td>NB00354</td>\n",
       "      <td>N</td>\n",
       "      <td>NB00354_M_1</td>\n",
       "      <td>29.4</td>\n",
       "      <td>12</td>\n",
       "      <td>1005</td>\n",
       "      <td>34.0</td>\n",
       "      <td>34.5</td>\n",
       "      <td>Scavenged</td>\n",
       "      <td>MBM</td>\n",
       "      <td>Y</td>\n",
       "      <td>Y</td>\n",
       "      <td>NaN</td>\n",
       "      <td>N</td>\n",
       "      <td>7</td>\n",
       "      <td>Residual from Milk Prep Room</td>\n",
       "    </tr>\n",
       "  </tbody>\n",
       "</table>\n",
       "</div>"
      ],
      "text/plain": [
       "  Subject ID Patient Consented Sample Type_#   CGA  DOL   Current Weight  \\\n",
       "0    NB00012                 N   NB00012_M_1  28.4    27            1430   \n",
       "1    NB00003                 Y   NB00003_M_1  29.0    22             995   \n",
       "2    NB00003                 Y   NB00003_M_2  29.0    22            1005   \n",
       "3    NB00003                 Y   NB00003_M_3  29.3    25            1065   \n",
       "4    NB00354                 N   NB00354_M_1  29.4    12            1005   \n",
       "\n",
       "   Current Height  Current HC Scavenged/Fresh?   MBM/DMB? HMF Y/N? TPN Y/N?  \\\n",
       "0            32.0        26.0       Scavenged   MBM + DBM        Y      NaN   \n",
       "1            35.7        23.7       Scavenged         DBM        Y        N   \n",
       "2            36.0        24.4       Scavenged         DBM        Y        N   \n",
       "3            36.0        24.3       Scavenged         DBM        Y        N   \n",
       "4            34.0        34.5       Scavenged         MBM        Y        Y   \n",
       "\n",
       "  Iron Y/N?  Linked?  # Aliquots                      Additional Comments  \n",
       "0        NaN        N    5 (~0.8)  Residual from Milk Prep Room & B2 Full  \n",
       "1          Y        N           2                  Scavenged Feeding Tube  \n",
       "2          Y        N           1                  Scavenged Feeding Tube  \n",
       "3          Y        N           1                  Scavenged Feeding Tube  \n",
       "4        NaN        N           7            Residual from Milk Prep Room  "
      ]
     },
     "execution_count": 3,
     "metadata": {},
     "output_type": "execute_result"
    }
   ],
   "source": [
    "df = pd.read_excel('Raw Data/Unlinked Metadata 0625.xlsx')\n",
    "df.head()"
   ]
  },
  {
   "cell_type": "code",
   "execution_count": 4,
   "id": "c892ab2b",
   "metadata": {},
   "outputs": [],
   "source": [
    "df.columns = df.columns.str.strip()  # Remove leading/trailing whitespace from column names"
   ]
  },
  {
   "cell_type": "code",
   "execution_count": 5,
   "id": "287dbb5d",
   "metadata": {},
   "outputs": [
    {
     "data": {
      "text/plain": [
       "Index(['Subject ID', 'Patient Consented', 'Sample Type_#', 'CGA', 'DOL',\n",
       "       'Current Weight', 'Current Height', 'Current HC', 'Scavenged/Fresh?',\n",
       "       'MBM/DMB?', 'HMF Y/N?', 'TPN Y/N?', 'Iron Y/N?', 'Linked?',\n",
       "       '# Aliquots', 'Additional Comments'],\n",
       "      dtype='object')"
      ]
     },
     "execution_count": 5,
     "metadata": {},
     "output_type": "execute_result"
    }
   ],
   "source": [
    "df.columns"
   ]
  },
  {
   "cell_type": "code",
   "execution_count": 7,
   "id": "1ced454c",
   "metadata": {},
   "outputs": [
    {
     "data": {
      "application/vnd.microsoft.datawrangler.viewer.v0+json": {
       "columns": [
        {
         "name": "index",
         "rawType": "int64",
         "type": "integer"
        },
        {
         "name": "Subject ID",
         "rawType": "object",
         "type": "string"
        },
        {
         "name": "Infant Sex",
         "rawType": "object",
         "type": "string"
        },
        {
         "name": "Birth Weight (g)",
         "rawType": "int64",
         "type": "integer"
        },
        {
         "name": "Birth Length (cm)",
         "rawType": "float64",
         "type": "float"
        },
        {
         "name": "Birth HC (cm)",
         "rawType": "float64",
         "type": "float"
        },
        {
         "name": "LOS (days)",
         "rawType": "int64",
         "type": "integer"
        }
       ],
       "ref": "7dc4dbda-7f68-47a0-a180-e39a85278207",
       "rows": [
        [
         "0",
         "NB00001",
         "Male",
         "2090",
         "43.0",
         "30.8",
         "19"
        ],
        [
         "1",
         "NB00002",
         "Male",
         "1015",
         "35.5",
         "26.0",
         "68"
        ],
        [
         "2",
         "NB00003",
         "Female",
         "850",
         "34.0",
         "24.0",
         "130"
        ],
        [
         "3",
         "NB00004",
         "Male",
         "1085",
         "35.0",
         "26.5",
         "114"
        ],
        [
         "4",
         "NB00005",
         "Female",
         "1180",
         "36.0",
         "24.0",
         "85"
        ],
        [
         "5",
         "NB00006",
         "Male",
         "1220",
         "36.0",
         "27.5",
         "77"
        ],
        [
         "6",
         "NB00007",
         "Male",
         "2170",
         "43.0",
         "32.0",
         "44"
        ],
        [
         "7",
         "NB00008",
         "Male",
         "1690",
         "39.0",
         "29.0",
         "65"
        ],
        [
         "8",
         "NB00009",
         "Female",
         "1095",
         "38.2",
         "25.5",
         "88"
        ],
        [
         "9",
         "NB00010",
         "Female",
         "610",
         "32.0",
         "21.5",
         "50"
        ],
        [
         "10",
         "NB00011",
         "Male",
         "2600",
         "44.0",
         "32.5",
         "11"
        ],
        [
         "11",
         "NB00012",
         "Male",
         "790",
         "32.0",
         "23.8",
         "31"
        ],
        [
         "12",
         "NB00013",
         "Male",
         "1075",
         "38.0",
         "21.3",
         "77"
        ],
        [
         "13",
         "NB00014",
         "Female",
         "865",
         "35.0",
         "25.0",
         "83"
        ],
        [
         "14",
         "NB00015",
         "Male ",
         "3275",
         "49.0",
         "32.0",
         "401"
        ],
        [
         "15",
         "NB00237",
         "Male",
         "775",
         "34.0",
         "22.0",
         "113"
        ],
        [
         "16",
         "NB00238",
         "Male",
         "550",
         "39.5",
         "22.0",
         "149"
        ],
        [
         "17",
         "NB00354",
         "Male",
         "950",
         "34.0",
         "34.5",
         "97"
        ],
        [
         "18",
         "NB00359",
         "Female",
         "1155",
         "39.0",
         "27.5",
         "46"
        ],
        [
         "19",
         "NB00360",
         "Male",
         "1460",
         "40.0",
         "29.5",
         "17"
        ],
        [
         "20",
         "NB00361",
         "Male",
         "1110",
         "38.0",
         "27.0",
         "53"
        ],
        [
         "21",
         "NB00362",
         "Male",
         "1690",
         "40.0",
         "30.0",
         "17"
        ],
        [
         "22",
         "NB00365",
         "Male",
         "1695",
         "40.0",
         "28.0",
         "46"
        ],
        [
         "23",
         "NB00378",
         "Female",
         "2330",
         "47.0",
         "32.0",
         "41"
        ],
        [
         "24",
         "NB00379",
         "Female",
         "860",
         "32.0",
         "24.0",
         "4"
        ],
        [
         "25",
         "NB00380",
         "Male",
         "1345",
         "35.5",
         "29.0",
         "51"
        ],
        [
         "26",
         "NB00393",
         "Female",
         "1165",
         "37.0",
         "27.0",
         "45"
        ],
        [
         "27",
         "NB00398",
         "Female",
         "1050",
         "34.0",
         "24.5",
         "89"
        ],
        [
         "28",
         "NB00399",
         "Male",
         "1550",
         "40.8",
         "28.8",
         "44"
        ],
        [
         "29",
         "NB00400",
         "Male",
         "594",
         "29.0",
         "21.0",
         "129"
        ],
        [
         "30",
         "NB00414",
         "Male",
         "1215",
         "36.0",
         "27.8",
         "55"
        ],
        [
         "31",
         "NB00423",
         "Male",
         "1565",
         "43.0",
         "29.0",
         "53"
        ],
        [
         "32",
         "NB00438",
         "Female",
         "1475",
         "41.0",
         "28.5",
         "54"
        ],
        [
         "33",
         "NB00457",
         "Male",
         "1995",
         "43.0",
         "29.0",
         "30"
        ],
        [
         "34",
         "NB00468",
         "Male",
         "2560",
         "45.0",
         "33.5",
         "17"
        ]
       ],
       "shape": {
        "columns": 6,
        "rows": 35
       }
      },
      "text/html": [
       "<div>\n",
       "<style scoped>\n",
       "    .dataframe tbody tr th:only-of-type {\n",
       "        vertical-align: middle;\n",
       "    }\n",
       "\n",
       "    .dataframe tbody tr th {\n",
       "        vertical-align: top;\n",
       "    }\n",
       "\n",
       "    .dataframe thead th {\n",
       "        text-align: right;\n",
       "    }\n",
       "</style>\n",
       "<table border=\"1\" class=\"dataframe\">\n",
       "  <thead>\n",
       "    <tr style=\"text-align: right;\">\n",
       "      <th></th>\n",
       "      <th>Subject ID</th>\n",
       "      <th>Infant Sex</th>\n",
       "      <th>Birth Weight (g)</th>\n",
       "      <th>Birth Length (cm)</th>\n",
       "      <th>Birth HC (cm)</th>\n",
       "      <th>LOS (days)</th>\n",
       "    </tr>\n",
       "  </thead>\n",
       "  <tbody>\n",
       "    <tr>\n",
       "      <th>0</th>\n",
       "      <td>NB00001</td>\n",
       "      <td>Male</td>\n",
       "      <td>2090</td>\n",
       "      <td>43.0</td>\n",
       "      <td>30.8</td>\n",
       "      <td>19</td>\n",
       "    </tr>\n",
       "    <tr>\n",
       "      <th>1</th>\n",
       "      <td>NB00002</td>\n",
       "      <td>Male</td>\n",
       "      <td>1015</td>\n",
       "      <td>35.5</td>\n",
       "      <td>26.0</td>\n",
       "      <td>68</td>\n",
       "    </tr>\n",
       "    <tr>\n",
       "      <th>2</th>\n",
       "      <td>NB00003</td>\n",
       "      <td>Female</td>\n",
       "      <td>850</td>\n",
       "      <td>34.0</td>\n",
       "      <td>24.0</td>\n",
       "      <td>130</td>\n",
       "    </tr>\n",
       "    <tr>\n",
       "      <th>3</th>\n",
       "      <td>NB00004</td>\n",
       "      <td>Male</td>\n",
       "      <td>1085</td>\n",
       "      <td>35.0</td>\n",
       "      <td>26.5</td>\n",
       "      <td>114</td>\n",
       "    </tr>\n",
       "    <tr>\n",
       "      <th>4</th>\n",
       "      <td>NB00005</td>\n",
       "      <td>Female</td>\n",
       "      <td>1180</td>\n",
       "      <td>36.0</td>\n",
       "      <td>24.0</td>\n",
       "      <td>85</td>\n",
       "    </tr>\n",
       "    <tr>\n",
       "      <th>5</th>\n",
       "      <td>NB00006</td>\n",
       "      <td>Male</td>\n",
       "      <td>1220</td>\n",
       "      <td>36.0</td>\n",
       "      <td>27.5</td>\n",
       "      <td>77</td>\n",
       "    </tr>\n",
       "    <tr>\n",
       "      <th>6</th>\n",
       "      <td>NB00007</td>\n",
       "      <td>Male</td>\n",
       "      <td>2170</td>\n",
       "      <td>43.0</td>\n",
       "      <td>32.0</td>\n",
       "      <td>44</td>\n",
       "    </tr>\n",
       "    <tr>\n",
       "      <th>7</th>\n",
       "      <td>NB00008</td>\n",
       "      <td>Male</td>\n",
       "      <td>1690</td>\n",
       "      <td>39.0</td>\n",
       "      <td>29.0</td>\n",
       "      <td>65</td>\n",
       "    </tr>\n",
       "    <tr>\n",
       "      <th>8</th>\n",
       "      <td>NB00009</td>\n",
       "      <td>Female</td>\n",
       "      <td>1095</td>\n",
       "      <td>38.2</td>\n",
       "      <td>25.5</td>\n",
       "      <td>88</td>\n",
       "    </tr>\n",
       "    <tr>\n",
       "      <th>9</th>\n",
       "      <td>NB00010</td>\n",
       "      <td>Female</td>\n",
       "      <td>610</td>\n",
       "      <td>32.0</td>\n",
       "      <td>21.5</td>\n",
       "      <td>50</td>\n",
       "    </tr>\n",
       "    <tr>\n",
       "      <th>10</th>\n",
       "      <td>NB00011</td>\n",
       "      <td>Male</td>\n",
       "      <td>2600</td>\n",
       "      <td>44.0</td>\n",
       "      <td>32.5</td>\n",
       "      <td>11</td>\n",
       "    </tr>\n",
       "    <tr>\n",
       "      <th>11</th>\n",
       "      <td>NB00012</td>\n",
       "      <td>Male</td>\n",
       "      <td>790</td>\n",
       "      <td>32.0</td>\n",
       "      <td>23.8</td>\n",
       "      <td>31</td>\n",
       "    </tr>\n",
       "    <tr>\n",
       "      <th>12</th>\n",
       "      <td>NB00013</td>\n",
       "      <td>Male</td>\n",
       "      <td>1075</td>\n",
       "      <td>38.0</td>\n",
       "      <td>21.3</td>\n",
       "      <td>77</td>\n",
       "    </tr>\n",
       "    <tr>\n",
       "      <th>13</th>\n",
       "      <td>NB00014</td>\n",
       "      <td>Female</td>\n",
       "      <td>865</td>\n",
       "      <td>35.0</td>\n",
       "      <td>25.0</td>\n",
       "      <td>83</td>\n",
       "    </tr>\n",
       "    <tr>\n",
       "      <th>14</th>\n",
       "      <td>NB00015</td>\n",
       "      <td>Male</td>\n",
       "      <td>3275</td>\n",
       "      <td>49.0</td>\n",
       "      <td>32.0</td>\n",
       "      <td>401</td>\n",
       "    </tr>\n",
       "    <tr>\n",
       "      <th>15</th>\n",
       "      <td>NB00237</td>\n",
       "      <td>Male</td>\n",
       "      <td>775</td>\n",
       "      <td>34.0</td>\n",
       "      <td>22.0</td>\n",
       "      <td>113</td>\n",
       "    </tr>\n",
       "    <tr>\n",
       "      <th>16</th>\n",
       "      <td>NB00238</td>\n",
       "      <td>Male</td>\n",
       "      <td>550</td>\n",
       "      <td>39.5</td>\n",
       "      <td>22.0</td>\n",
       "      <td>149</td>\n",
       "    </tr>\n",
       "    <tr>\n",
       "      <th>17</th>\n",
       "      <td>NB00354</td>\n",
       "      <td>Male</td>\n",
       "      <td>950</td>\n",
       "      <td>34.0</td>\n",
       "      <td>34.5</td>\n",
       "      <td>97</td>\n",
       "    </tr>\n",
       "    <tr>\n",
       "      <th>18</th>\n",
       "      <td>NB00359</td>\n",
       "      <td>Female</td>\n",
       "      <td>1155</td>\n",
       "      <td>39.0</td>\n",
       "      <td>27.5</td>\n",
       "      <td>46</td>\n",
       "    </tr>\n",
       "    <tr>\n",
       "      <th>19</th>\n",
       "      <td>NB00360</td>\n",
       "      <td>Male</td>\n",
       "      <td>1460</td>\n",
       "      <td>40.0</td>\n",
       "      <td>29.5</td>\n",
       "      <td>17</td>\n",
       "    </tr>\n",
       "    <tr>\n",
       "      <th>20</th>\n",
       "      <td>NB00361</td>\n",
       "      <td>Male</td>\n",
       "      <td>1110</td>\n",
       "      <td>38.0</td>\n",
       "      <td>27.0</td>\n",
       "      <td>53</td>\n",
       "    </tr>\n",
       "    <tr>\n",
       "      <th>21</th>\n",
       "      <td>NB00362</td>\n",
       "      <td>Male</td>\n",
       "      <td>1690</td>\n",
       "      <td>40.0</td>\n",
       "      <td>30.0</td>\n",
       "      <td>17</td>\n",
       "    </tr>\n",
       "    <tr>\n",
       "      <th>22</th>\n",
       "      <td>NB00365</td>\n",
       "      <td>Male</td>\n",
       "      <td>1695</td>\n",
       "      <td>40.0</td>\n",
       "      <td>28.0</td>\n",
       "      <td>46</td>\n",
       "    </tr>\n",
       "    <tr>\n",
       "      <th>23</th>\n",
       "      <td>NB00378</td>\n",
       "      <td>Female</td>\n",
       "      <td>2330</td>\n",
       "      <td>47.0</td>\n",
       "      <td>32.0</td>\n",
       "      <td>41</td>\n",
       "    </tr>\n",
       "    <tr>\n",
       "      <th>24</th>\n",
       "      <td>NB00379</td>\n",
       "      <td>Female</td>\n",
       "      <td>860</td>\n",
       "      <td>32.0</td>\n",
       "      <td>24.0</td>\n",
       "      <td>4</td>\n",
       "    </tr>\n",
       "    <tr>\n",
       "      <th>25</th>\n",
       "      <td>NB00380</td>\n",
       "      <td>Male</td>\n",
       "      <td>1345</td>\n",
       "      <td>35.5</td>\n",
       "      <td>29.0</td>\n",
       "      <td>51</td>\n",
       "    </tr>\n",
       "    <tr>\n",
       "      <th>26</th>\n",
       "      <td>NB00393</td>\n",
       "      <td>Female</td>\n",
       "      <td>1165</td>\n",
       "      <td>37.0</td>\n",
       "      <td>27.0</td>\n",
       "      <td>45</td>\n",
       "    </tr>\n",
       "    <tr>\n",
       "      <th>27</th>\n",
       "      <td>NB00398</td>\n",
       "      <td>Female</td>\n",
       "      <td>1050</td>\n",
       "      <td>34.0</td>\n",
       "      <td>24.5</td>\n",
       "      <td>89</td>\n",
       "    </tr>\n",
       "    <tr>\n",
       "      <th>28</th>\n",
       "      <td>NB00399</td>\n",
       "      <td>Male</td>\n",
       "      <td>1550</td>\n",
       "      <td>40.8</td>\n",
       "      <td>28.8</td>\n",
       "      <td>44</td>\n",
       "    </tr>\n",
       "    <tr>\n",
       "      <th>29</th>\n",
       "      <td>NB00400</td>\n",
       "      <td>Male</td>\n",
       "      <td>594</td>\n",
       "      <td>29.0</td>\n",
       "      <td>21.0</td>\n",
       "      <td>129</td>\n",
       "    </tr>\n",
       "    <tr>\n",
       "      <th>30</th>\n",
       "      <td>NB00414</td>\n",
       "      <td>Male</td>\n",
       "      <td>1215</td>\n",
       "      <td>36.0</td>\n",
       "      <td>27.8</td>\n",
       "      <td>55</td>\n",
       "    </tr>\n",
       "    <tr>\n",
       "      <th>31</th>\n",
       "      <td>NB00423</td>\n",
       "      <td>Male</td>\n",
       "      <td>1565</td>\n",
       "      <td>43.0</td>\n",
       "      <td>29.0</td>\n",
       "      <td>53</td>\n",
       "    </tr>\n",
       "    <tr>\n",
       "      <th>32</th>\n",
       "      <td>NB00438</td>\n",
       "      <td>Female</td>\n",
       "      <td>1475</td>\n",
       "      <td>41.0</td>\n",
       "      <td>28.5</td>\n",
       "      <td>54</td>\n",
       "    </tr>\n",
       "    <tr>\n",
       "      <th>33</th>\n",
       "      <td>NB00457</td>\n",
       "      <td>Male</td>\n",
       "      <td>1995</td>\n",
       "      <td>43.0</td>\n",
       "      <td>29.0</td>\n",
       "      <td>30</td>\n",
       "    </tr>\n",
       "    <tr>\n",
       "      <th>34</th>\n",
       "      <td>NB00468</td>\n",
       "      <td>Male</td>\n",
       "      <td>2560</td>\n",
       "      <td>45.0</td>\n",
       "      <td>33.5</td>\n",
       "      <td>17</td>\n",
       "    </tr>\n",
       "  </tbody>\n",
       "</table>\n",
       "</div>"
      ],
      "text/plain": [
       "   Subject ID Infant Sex  Birth Weight (g)  Birth Length (cm)  Birth HC (cm)  \\\n",
       "0     NB00001       Male              2090               43.0           30.8   \n",
       "1     NB00002       Male              1015               35.5           26.0   \n",
       "2     NB00003     Female               850               34.0           24.0   \n",
       "3     NB00004       Male              1085               35.0           26.5   \n",
       "4     NB00005     Female              1180               36.0           24.0   \n",
       "5     NB00006       Male              1220               36.0           27.5   \n",
       "6     NB00007       Male              2170               43.0           32.0   \n",
       "7     NB00008       Male              1690               39.0           29.0   \n",
       "8     NB00009     Female              1095               38.2           25.5   \n",
       "9     NB00010     Female               610               32.0           21.5   \n",
       "10    NB00011       Male              2600               44.0           32.5   \n",
       "11    NB00012       Male               790               32.0           23.8   \n",
       "12    NB00013       Male              1075               38.0           21.3   \n",
       "13    NB00014     Female               865               35.0           25.0   \n",
       "14    NB00015      Male               3275               49.0           32.0   \n",
       "15    NB00237       Male               775               34.0           22.0   \n",
       "16    NB00238       Male               550               39.5           22.0   \n",
       "17    NB00354       Male               950               34.0           34.5   \n",
       "18    NB00359     Female              1155               39.0           27.5   \n",
       "19    NB00360       Male              1460               40.0           29.5   \n",
       "20    NB00361       Male              1110               38.0           27.0   \n",
       "21    NB00362       Male              1690               40.0           30.0   \n",
       "22    NB00365       Male              1695               40.0           28.0   \n",
       "23    NB00378     Female              2330               47.0           32.0   \n",
       "24    NB00379     Female               860               32.0           24.0   \n",
       "25    NB00380       Male              1345               35.5           29.0   \n",
       "26    NB00393     Female              1165               37.0           27.0   \n",
       "27    NB00398     Female              1050               34.0           24.5   \n",
       "28    NB00399       Male              1550               40.8           28.8   \n",
       "29    NB00400       Male               594               29.0           21.0   \n",
       "30    NB00414       Male              1215               36.0           27.8   \n",
       "31    NB00423       Male              1565               43.0           29.0   \n",
       "32    NB00438     Female              1475               41.0           28.5   \n",
       "33    NB00457       Male              1995               43.0           29.0   \n",
       "34    NB00468       Male              2560               45.0           33.5   \n",
       "\n",
       "    LOS (days)  \n",
       "0           19  \n",
       "1           68  \n",
       "2          130  \n",
       "3          114  \n",
       "4           85  \n",
       "5           77  \n",
       "6           44  \n",
       "7           65  \n",
       "8           88  \n",
       "9           50  \n",
       "10          11  \n",
       "11          31  \n",
       "12          77  \n",
       "13          83  \n",
       "14         401  \n",
       "15         113  \n",
       "16         149  \n",
       "17          97  \n",
       "18          46  \n",
       "19          17  \n",
       "20          53  \n",
       "21          17  \n",
       "22          46  \n",
       "23          41  \n",
       "24           4  \n",
       "25          51  \n",
       "26          45  \n",
       "27          89  \n",
       "28          44  \n",
       "29         129  \n",
       "30          55  \n",
       "31          53  \n",
       "32          54  \n",
       "33          30  \n",
       "34          17  "
      ]
     },
     "execution_count": 7,
     "metadata": {},
     "output_type": "execute_result"
    }
   ],
   "source": [
    "SI = pd.read_excel('Raw Data/Unlinked Subject Metadata.xlsx', sheet_name='Subject Metadata')\n",
    "SI"
   ]
  },
  {
   "cell_type": "code",
   "execution_count": 8,
   "id": "bdfc468d",
   "metadata": {},
   "outputs": [],
   "source": [
    "df = df.merge(SI, on=\"Subject ID\", how=\"left\")"
   ]
  },
  {
   "cell_type": "code",
   "execution_count": 9,
   "id": "2c7355a0",
   "metadata": {},
   "outputs": [
    {
     "data": {
      "application/vnd.microsoft.datawrangler.viewer.v0+json": {
       "columns": [
        {
         "name": "index",
         "rawType": "int64",
         "type": "integer"
        },
        {
         "name": "Subject ID",
         "rawType": "object",
         "type": "string"
        },
        {
         "name": "Patient Consented",
         "rawType": "object",
         "type": "string"
        },
        {
         "name": "Sample Type_#",
         "rawType": "object",
         "type": "string"
        },
        {
         "name": "CGA",
         "rawType": "float64",
         "type": "float"
        },
        {
         "name": "DOL",
         "rawType": "int64",
         "type": "integer"
        },
        {
         "name": "Current Weight",
         "rawType": "int64",
         "type": "integer"
        },
        {
         "name": "Current Height",
         "rawType": "float64",
         "type": "float"
        },
        {
         "name": "Current HC",
         "rawType": "float64",
         "type": "float"
        },
        {
         "name": "Scavenged/Fresh?",
         "rawType": "object",
         "type": "string"
        },
        {
         "name": "MBM/DMB?",
         "rawType": "object",
         "type": "unknown"
        },
        {
         "name": "HMF Y/N?",
         "rawType": "object",
         "type": "unknown"
        },
        {
         "name": "TPN Y/N?",
         "rawType": "object",
         "type": "unknown"
        },
        {
         "name": "Iron Y/N?",
         "rawType": "object",
         "type": "unknown"
        },
        {
         "name": "Linked?",
         "rawType": "object",
         "type": "string"
        },
        {
         "name": "# Aliquots",
         "rawType": "object",
         "type": "unknown"
        },
        {
         "name": "Additional Comments",
         "rawType": "object",
         "type": "string"
        },
        {
         "name": "Infant Sex",
         "rawType": "object",
         "type": "string"
        },
        {
         "name": "Birth Weight (g)",
         "rawType": "int64",
         "type": "integer"
        },
        {
         "name": "Birth Length (cm)",
         "rawType": "float64",
         "type": "float"
        },
        {
         "name": "Birth HC (cm)",
         "rawType": "float64",
         "type": "float"
        },
        {
         "name": "LOS (days)",
         "rawType": "int64",
         "type": "integer"
        }
       ],
       "ref": "3e2ca505-8860-4f40-bad2-5cffae312368",
       "rows": [
        [
         "0",
         "NB00012",
         "N",
         "NB00012_M_1",
         "28.4",
         "27",
         "1430",
         "32.0",
         "26.0",
         "Scavenged ",
         "MBM + DBM",
         "Y",
         null,
         null,
         "N",
         "5 (~0.8)",
         "Residual from Milk Prep Room & B2 Full",
         "Male",
         "790",
         "32.0",
         "23.8",
         "31"
        ],
        [
         "1",
         "NB00003",
         "Y",
         "NB00003_M_1",
         "29.0",
         "22",
         "995",
         "35.7",
         "23.7",
         "Scavenged ",
         "DBM",
         "Y",
         "N",
         "Y",
         "N",
         "2",
         "Scavenged Feeding Tube",
         "Female",
         "850",
         "34.0",
         "24.0",
         "130"
        ],
        [
         "2",
         "NB00003",
         "Y",
         "NB00003_M_2",
         "29.0",
         "22",
         "1005",
         "36.0",
         "24.4",
         "Scavenged ",
         "DBM",
         "Y",
         "N",
         "Y",
         "N",
         "1",
         "Scavenged Feeding Tube",
         "Female",
         "850",
         "34.0",
         "24.0",
         "130"
        ],
        [
         "3",
         "NB00003",
         "Y",
         "NB00003_M_3",
         "29.3",
         "25",
         "1065",
         "36.0",
         "24.3",
         "Scavenged ",
         "DBM",
         "Y",
         "N",
         "Y",
         "N",
         "1",
         "Scavenged Feeding Tube",
         "Female",
         "850",
         "34.0",
         "24.0",
         "130"
        ],
        [
         "4",
         "NB00354",
         "N",
         "NB00354_M_1",
         "29.4",
         "12",
         "1005",
         "34.0",
         "34.5",
         "Scavenged ",
         "MBM",
         "Y",
         "Y",
         null,
         "N",
         "7",
         "Residual from Milk Prep Room",
         "Male",
         "950",
         "34.0",
         "34.5",
         "97"
        ],
        [
         "5",
         "NB00354",
         "N",
         "NB00354_M_2",
         "29.4",
         "12",
         "1005",
         "34.0",
         "34.5",
         "Scavenged ",
         "MBM",
         "Y",
         "Y",
         "N",
         "N",
         "1",
         "Scavenged Feeding Tube",
         "Male",
         "950",
         "34.0",
         "34.5",
         "97"
        ],
        [
         "6",
         "NB00002",
         "Y",
         "NB00002_M_1",
         "30.0",
         "9",
         "1045",
         "35.5",
         "26.0",
         "Scavenged ",
         "MBM",
         "N",
         "Y",
         "N",
         "N",
         "1 (~1mL)",
         "Scavenged Feeding Tube - Nurse needed to feed extra 1 mL",
         "Male",
         "1015",
         "35.5",
         "26.0",
         "68"
        ],
        [
         "7",
         "NB00003",
         "Y",
         "NB00003_M_4",
         "30.0",
         "29",
         "1150",
         "36.0",
         "24.5",
         "Scavenged ",
         "DBM",
         "Y",
         "N",
         "Y",
         "N",
         "1",
         "Scavenged Feeding Tube - also started on sodium chloride oral solution 6/15/24 ",
         "Female",
         "850",
         "34.0",
         "24.0",
         "130"
        ],
        [
         "8",
         "NB00003",
         "Y",
         "NB00003_M_5",
         "30.1",
         "31",
         "1125",
         "37.0",
         "24.5",
         "Scavenged ",
         "DBM",
         "Y",
         "N",
         "Y",
         "N",
         "1",
         "Scavenged Feeding Tube + NaCl Oral Solution",
         "Female",
         "850",
         "34.0",
         "24.0",
         "130"
        ],
        [
         "9",
         "NB00002",
         "Y",
         "NB00002_M_2",
         "30.2",
         "11",
         "1090",
         "35.5",
         "26.0",
         "Scavenged ",
         "MBM",
         "Y",
         "Y",
         "N",
         "N",
         "1",
         "Scanvenged Feeding Tube - Collected Outside of 4 hr Window ",
         "Male",
         "1015",
         "35.5",
         "26.0",
         "68"
        ],
        [
         "10",
         "NB00002",
         "Y",
         "NB00002_M_3",
         "30.3",
         "12",
         "1105",
         "36.5",
         "25.0",
         "Scavenged ",
         "MBM",
         "Y",
         "Y",
         "N",
         "N",
         "1",
         "Scavenged Feeding Tube",
         "Male",
         "1015",
         "35.5",
         "26.0",
         "68"
        ],
        [
         "11",
         "NB00003",
         "Y",
         "NB00003_M_6",
         "30.3",
         "32",
         "1165",
         "37.0",
         "24.7",
         "Scavenged ",
         "DBM",
         "Y",
         "N",
         "Y",
         "N",
         "1",
         "Scavenged Feeding Tube + NaCl Oral Solution",
         "Female",
         "850",
         "34.0",
         "24.0",
         "130"
        ],
        [
         "12",
         "NB00014",
         "N",
         "NB00014_M_1",
         "30.3",
         "10",
         "990",
         "35.0",
         "23.5",
         "Scavenged ",
         "MBM",
         "Y",
         null,
         null,
         "N",
         "3",
         "Residual from Milk Prep Room",
         "Female",
         "865",
         "35.0",
         "25.0",
         "83"
        ],
        [
         "13",
         "NB00002",
         "Y",
         "NB00002_M_4",
         "30.4",
         "13",
         "1125",
         "36.5",
         "25.0",
         "Scavenged ",
         "MBM",
         "Y",
         "Y",
         "N",
         "N",
         "1",
         "Scavenged Feeding Tube",
         "Male",
         "1015",
         "35.5",
         "26.0",
         "68"
        ],
        [
         "14",
         "NB00003",
         "Y",
         "NB00003_M_7",
         "30.4",
         "33",
         "1165",
         "37.0",
         "24.7",
         "Scavenged ",
         "DBM",
         "Y",
         "N",
         "Y",
         "N",
         "1",
         "Scavenged Feeding Tube + NaCl Oral Solution",
         "Female",
         "850",
         "34.0",
         "24.0",
         "130"
        ],
        [
         "15",
         "NB00354",
         "N",
         "NB00354_M_13",
         "30.4",
         "19",
         "1185",
         "36.5",
         "25.5",
         "Scavenged",
         "MBM",
         "Y",
         "N",
         null,
         "N",
         "7",
         "Residual from Milk Prep Room",
         "Male",
         "950",
         "34.0",
         "34.5",
         "97"
        ],
        [
         "16",
         "NB00006",
         "N",
         "NB00006_M_1",
         "30.6",
         "13",
         "1545",
         "40.0",
         "27.0",
         "Scavenged ",
         "MBM",
         "Y",
         null,
         null,
         "N",
         "5",
         "Residual from Milk Prep Room",
         "Male",
         "1220",
         "36.0",
         "27.5",
         "77"
        ],
        [
         "17",
         "NB00008",
         "N",
         "NB00008_M_1",
         "30.6",
         "13",
         "1545",
         "40.0",
         "27.0",
         "Scavenged ",
         "MBM",
         "Y",
         null,
         null,
         "N",
         "8",
         "Residual from Milk Prep Room",
         "Male",
         "1690",
         "39.0",
         "29.0",
         "65"
        ],
        [
         "18",
         "NB00400",
         "N",
         "NB00400_M_3",
         "30.6",
         "38",
         "1110",
         "33.0",
         "24.5",
         "Scavenged",
         "MBM",
         "Y",
         "Y",
         "N",
         "N",
         "6",
         "Residual from Milk Prep Room",
         "Male",
         "594",
         "29.0",
         "21.0",
         "129"
        ],
        [
         "19",
         "NB00003",
         "Y",
         "NB00003_M_8",
         "31.0",
         "36",
         "1275",
         "37.0",
         "26.0",
         "Scavenged ",
         "DBM",
         "Y",
         "N",
         "Y",
         "N",
         "1",
         "Scavenged Feeding Tube + NaCl Oral Solution - Pt intubated 6/25 & is NPO ",
         "Female",
         "850",
         "34.0",
         "24.0",
         "130"
        ],
        [
         "20",
         "NB00380",
         "N",
         "NB00380_M_3",
         "31.0",
         "15",
         "1515",
         "40.7",
         "28.0",
         "Scavenged",
         "MBM",
         "Y",
         "N",
         null,
         "N",
         "6",
         "Residual from Milk Prep Room",
         "Male",
         "1345",
         "35.5",
         "29.0",
         "51"
        ],
        [
         "21",
         "NB00002",
         "Y",
         "NB00002_M_5",
         "31.1",
         "17",
         "1135",
         "37.5",
         "26.0",
         "Scavenged ",
         "MBM",
         "Y",
         "Y",
         "N",
         "N",
         "1",
         "Scavenged Feeding Tube",
         "Male",
         "1015",
         "35.5",
         "26.0",
         "68"
        ],
        [
         "22",
         "NB00002",
         "Y",
         "NB00002_M_6",
         "31.3",
         "19",
         "1230",
         "37.5",
         "26.0",
         "Scavenged ",
         "MBM",
         "Y",
         "Y",
         "N",
         "N",
         "1 (~0.4 mL)",
         "Scavenged Feeding Tube",
         "Male",
         "1015",
         "35.5",
         "26.0",
         "68"
        ],
        [
         "23",
         "NB00414",
         "N",
         "NB00414_M_5",
         "31.3",
         "12",
         "1280",
         "38.0",
         "27.2",
         "Scavenged",
         "MBM",
         "Y",
         "N",
         "N",
         "N",
         "7",
         "Residual from Milk Prep Room",
         "Male",
         "1215",
         "36.0",
         "27.8",
         "55"
        ],
        [
         "24",
         "NB00002",
         "Y",
         "NB00002_M_7",
         "31.4",
         "20",
         "1230",
         "37.5",
         "26.0",
         "Scavenged ",
         "MBM",
         "Y",
         "Y",
         "N",
         "N",
         "1 (~0.6 mL)",
         "Scavenged Feeding Tube",
         "Male",
         "1015",
         "35.5",
         "26.0",
         "68"
        ],
        [
         "25",
         "NB00008",
         "N",
         "NB00008_M_2",
         "31.4",
         "18",
         "1660",
         "41.5",
         "29.0",
         "Scavenged ",
         "MBM",
         "Y",
         null,
         null,
         "N",
         "4 (~0.75)",
         "Residual from Milk Prep Room",
         "Male",
         "1690",
         "39.0",
         "29.0",
         "65"
        ],
        [
         "26",
         "NB00013",
         "N",
         "NB00013_M_1",
         "31.4",
         "13",
         "1215",
         "39.0",
         "26.5",
         "Scavenged ",
         "DBM",
         "Y",
         null,
         null,
         "N",
         "5",
         "Residual from Milk Prep Room",
         "Male",
         "1075",
         "38.0",
         "21.3",
         "77"
        ],
        [
         "27",
         "NB00008",
         "N",
         "NB00008_M_3",
         "31.5",
         "19",
         "1660",
         "41.5",
         "29.8",
         "Scavenged ",
         "DBM",
         "Y",
         null,
         null,
         "N",
         "8 (~0.9)",
         "Residual from Milk Prep Room",
         "Male",
         "1690",
         "39.0",
         "29.0",
         "65"
        ],
        [
         "28",
         "NB00380",
         "N",
         "NB00380_M_4",
         "31.5",
         "20",
         "1720",
         "40.7",
         "28.0",
         "Scavenged",
         "MBM",
         "Y",
         "N",
         null,
         "N",
         "9",
         "Residual from Milk Prep Room",
         "Male",
         "1345",
         "35.5",
         "29.0",
         "51"
        ],
        [
         "29",
         "NB00359",
         "N",
         "NB00359_M_1",
         "31.6",
         "11",
         "1230",
         "39.0",
         "26.0",
         "Scavenged ",
         "MBM",
         "Y",
         "N",
         "N",
         "N",
         "7",
         "Residual from Milk Prep Room",
         "Female",
         "1155",
         "39.0",
         "27.5",
         "46"
        ],
        [
         "30",
         "NB00359",
         "N",
         "NB00359_M_2",
         "31.6",
         "11",
         "1230",
         "39.0",
         "26.0",
         "Scavenged ",
         "MBM",
         "Y",
         "N",
         "N",
         "N",
         "2 (0.4)",
         "Scavenged Feeding Tube",
         "Female",
         "1155",
         "39.0",
         "27.5",
         "46"
        ],
        [
         "31",
         "NB00380",
         "N",
         "NB00380_M_5",
         "31.6",
         "21",
         "1790",
         "40.7",
         "28.0",
         "Scavenged",
         "MBM",
         "Y",
         "N",
         null,
         "N",
         "6",
         "Residual from Milk Prep Room",
         "Male",
         "1345",
         "35.5",
         "29.0",
         "51"
        ],
        [
         "32",
         "NB00438",
         "N",
         "NB00438_M_3",
         "31.6",
         "17",
         "1670",
         "42.3",
         "28.5",
         "Scavenged",
         null,
         null,
         null,
         null,
         "N",
         "9",
         "Residual from Milk Prep Room",
         "Female",
         "1475",
         "41.0",
         "28.5",
         "54"
        ],
        [
         "33",
         "NB00008",
         "N",
         "NB00008_M_4",
         "32.0",
         "21",
         "2045",
         "41.1",
         "30.2",
         "Scavenged ",
         "MBM + DBM",
         "Y",
         null,
         null,
         "N",
         "5",
         "Residual from Milk Prep Room",
         "Male",
         "1690",
         "39.0",
         "29.0",
         "65"
        ],
        [
         "34",
         "NB00359",
         "N",
         "NB00359_M_3",
         "32.0",
         "12",
         "1250",
         "39.0",
         "26.0",
         "Scavenged ",
         "MBM",
         "Y",
         "N",
         "N",
         "N",
         "10",
         "Residual from Milk Prep Room",
         "Female",
         "1155",
         "39.0",
         "27.5",
         "46"
        ],
        [
         "35",
         "NB00359",
         "N",
         "NB00359_M_4",
         "32.0",
         "12",
         "1250",
         "39.0",
         "26.0",
         "Scavenged ",
         "MBM",
         "Y",
         "N",
         "N",
         "N",
         "1",
         "Scavenged Feeding Tube",
         "Female",
         "1155",
         "39.0",
         "27.5",
         "46"
        ],
        [
         "36",
         "NB00002",
         "Y",
         "NB00002_M_8",
         "32.1",
         "24",
         "1290",
         "38.0",
         "26.5",
         "Scavenged ",
         "MBM",
         "Y",
         "N",
         "N",
         "N",
         "1",
         "Scavenged Feeding Tube",
         "Male",
         "1015",
         "35.5",
         "26.0",
         "68"
        ],
        [
         "37",
         "NB00002",
         "Y",
         "NB00002_M_9",
         "32.2",
         "25",
         "1370",
         "38.0",
         "26.5",
         "Scavenged ",
         "MBM",
         "Y",
         "N",
         "N",
         "N",
         "1",
         "Scavenged Feeding Tube - Outside 4-hr .indo. by 2 hours",
         "Male",
         "1015",
         "35.5",
         "26.0",
         "68"
        ],
        [
         "38",
         "NB00008",
         "N",
         "NB00008_M_5",
         "32.4",
         "25",
         "1870",
         "41.1",
         "32.3",
         "Scavenged ",
         "MBM ",
         "Y",
         null,
         null,
         "N",
         "2",
         "Residual from Milk Prep Room",
         "Male",
         "1690",
         "39.0",
         "29.0",
         "65"
        ],
        [
         "39",
         "NB00423",
         "N",
         "NB00423_M_1",
         "32.5",
         "15",
         "1710",
         "42.5",
         "28.5",
         "Scavenged",
         "MBM+DBM",
         "Y + Nutramigen",
         "N",
         null,
         "N",
         "1",
         "Residual from Milk Prep Room",
         "Male",
         "1565",
         "43.0",
         "29.0",
         "53"
        ],
        [
         "40",
         "NB00002",
         "Y",
         "NB00002_M_10",
         "32.6",
         "30",
         "1540",
         "39.5",
         "28.4",
         "Scavenged ",
         "MBM",
         "Y",
         "N",
         "Y",
         "N",
         "1",
         "Scavenged Feeding Tube",
         "Male",
         "1015",
         "35.5",
         "26.0",
         "68"
        ],
        [
         "41",
         "NB00003",
         "Y",
         "NB00003_M_9",
         "32.6",
         "50",
         "1755",
         "41.0",
         "27.5",
         "Scavenged ",
         "DBM",
         "Y",
         "Y",
         "Y",
         "N",
         "1",
         "Scavenged Feeding Tube",
         "Female",
         "850",
         "34.0",
         "24.0",
         "130"
        ],
        [
         "42",
         "NB00004",
         "N",
         "NB00004_M_1",
         "32.6",
         "33",
         "1705",
         "39.0",
         "27.5",
         "Scavenged ",
         "MBM",
         "Y",
         "N",
         "Y",
         "N",
         "8",
         "Residual from Milk Prep Room",
         "Male",
         "1085",
         "35.0",
         "26.5",
         "114"
        ],
        [
         "43",
         "NB00237",
         "Y",
         "NB00237_M_1",
         "32.6",
         "60",
         "1780",
         "43.0",
         "27.0",
         "Scavenged ",
         "MBM",
         "Y",
         "N",
         null,
         "N",
         "10",
         "Residual from Milk Prep Room",
         "Male",
         "775",
         "34.0",
         "22.0",
         "113"
        ],
        [
         "44",
         "NB00378",
         "N",
         "NB00378_M_3",
         "32.6",
         "7",
         "2110",
         "47.0",
         "32.0",
         "Scavenged",
         "MBM",
         "Y",
         "Y",
         null,
         "N",
         "3 (1.0)",
         "Residual from Milk Prep Room",
         "Female",
         "2330",
         "47.0",
         "32.0",
         "41"
        ],
        [
         "45",
         "NB00393",
         "N",
         "NB00393_M_1",
         "33.0",
         "11",
         "1340",
         "40.5",
         "26.5",
         "Scavenged",
         "MBM",
         "Y",
         "N",
         null,
         "N",
         "8",
         "Residual from Milk Prep Room",
         "Female",
         "1165",
         "37.0",
         "27.0",
         "45"
        ],
        [
         "46",
         "NB00002",
         "Y",
         "NB00002_M_11",
         "33.1",
         "31",
         "1570",
         "39.5",
         "28.4",
         "Scavenged ",
         "MBM",
         "Y",
         "N",
         "Y",
         "N",
         "1",
         "Scavenged Feeding Tube",
         "Male",
         "1015",
         "35.5",
         "26.0",
         "68"
        ],
        [
         "47",
         "NB00003",
         "Y",
         "NB00003_M_10",
         "33.1",
         "51",
         "1785",
         "41.0",
         "27.6",
         "Scavenged ",
         "DBM",
         "Y",
         "Y",
         "Y",
         "N",
         "1",
         "Scavenged Feeding Tube - Intubated 6/25 - NPO, restarted NG feeds 7/2",
         "Female",
         "850",
         "34.0",
         "24.0",
         "130"
        ],
        [
         "48",
         "NB00004",
         "N",
         "NB00004_M_2",
         "33.1",
         "12",
         "1765",
         "39.0",
         "27.5",
         "Scavenged ",
         "MBM",
         "Y",
         "N",
         "Y",
         "N",
         "3",
         "Residual from Milk Prep Room",
         "Male",
         "1085",
         "35.0",
         "26.5",
         "114"
        ],
        [
         "49",
         "NB00010",
         "N",
         "NB00010_M_1",
         "33.1",
         "12",
         "1130",
         "32.8",
         "26.3",
         "Scavenged ",
         "MBM",
         "Y",
         null,
         null,
         "N",
         "4",
         "Residual from Milk Prep Room",
         "Female",
         "610",
         "32.0",
         "21.5",
         "50"
        ]
       ],
       "shape": {
        "columns": 21,
        "rows": 134
       }
      },
      "text/html": [
       "<div>\n",
       "<style scoped>\n",
       "    .dataframe tbody tr th:only-of-type {\n",
       "        vertical-align: middle;\n",
       "    }\n",
       "\n",
       "    .dataframe tbody tr th {\n",
       "        vertical-align: top;\n",
       "    }\n",
       "\n",
       "    .dataframe thead th {\n",
       "        text-align: right;\n",
       "    }\n",
       "</style>\n",
       "<table border=\"1\" class=\"dataframe\">\n",
       "  <thead>\n",
       "    <tr style=\"text-align: right;\">\n",
       "      <th></th>\n",
       "      <th>Subject ID</th>\n",
       "      <th>Patient Consented</th>\n",
       "      <th>Sample Type_#</th>\n",
       "      <th>CGA</th>\n",
       "      <th>DOL</th>\n",
       "      <th>Current Weight</th>\n",
       "      <th>Current Height</th>\n",
       "      <th>Current HC</th>\n",
       "      <th>Scavenged/Fresh?</th>\n",
       "      <th>MBM/DMB?</th>\n",
       "      <th>...</th>\n",
       "      <th>TPN Y/N?</th>\n",
       "      <th>Iron Y/N?</th>\n",
       "      <th>Linked?</th>\n",
       "      <th># Aliquots</th>\n",
       "      <th>Additional Comments</th>\n",
       "      <th>Infant Sex</th>\n",
       "      <th>Birth Weight (g)</th>\n",
       "      <th>Birth Length (cm)</th>\n",
       "      <th>Birth HC (cm)</th>\n",
       "      <th>LOS (days)</th>\n",
       "    </tr>\n",
       "  </thead>\n",
       "  <tbody>\n",
       "    <tr>\n",
       "      <th>0</th>\n",
       "      <td>NB00012</td>\n",
       "      <td>N</td>\n",
       "      <td>NB00012_M_1</td>\n",
       "      <td>28.4</td>\n",
       "      <td>27</td>\n",
       "      <td>1430</td>\n",
       "      <td>32.0</td>\n",
       "      <td>26.0</td>\n",
       "      <td>Scavenged</td>\n",
       "      <td>MBM + DBM</td>\n",
       "      <td>...</td>\n",
       "      <td>NaN</td>\n",
       "      <td>NaN</td>\n",
       "      <td>N</td>\n",
       "      <td>5 (~0.8)</td>\n",
       "      <td>Residual from Milk Prep Room &amp; B2 Full</td>\n",
       "      <td>Male</td>\n",
       "      <td>790</td>\n",
       "      <td>32.0</td>\n",
       "      <td>23.8</td>\n",
       "      <td>31</td>\n",
       "    </tr>\n",
       "    <tr>\n",
       "      <th>1</th>\n",
       "      <td>NB00003</td>\n",
       "      <td>Y</td>\n",
       "      <td>NB00003_M_1</td>\n",
       "      <td>29.0</td>\n",
       "      <td>22</td>\n",
       "      <td>995</td>\n",
       "      <td>35.7</td>\n",
       "      <td>23.7</td>\n",
       "      <td>Scavenged</td>\n",
       "      <td>DBM</td>\n",
       "      <td>...</td>\n",
       "      <td>N</td>\n",
       "      <td>Y</td>\n",
       "      <td>N</td>\n",
       "      <td>2</td>\n",
       "      <td>Scavenged Feeding Tube</td>\n",
       "      <td>Female</td>\n",
       "      <td>850</td>\n",
       "      <td>34.0</td>\n",
       "      <td>24.0</td>\n",
       "      <td>130</td>\n",
       "    </tr>\n",
       "    <tr>\n",
       "      <th>2</th>\n",
       "      <td>NB00003</td>\n",
       "      <td>Y</td>\n",
       "      <td>NB00003_M_2</td>\n",
       "      <td>29.0</td>\n",
       "      <td>22</td>\n",
       "      <td>1005</td>\n",
       "      <td>36.0</td>\n",
       "      <td>24.4</td>\n",
       "      <td>Scavenged</td>\n",
       "      <td>DBM</td>\n",
       "      <td>...</td>\n",
       "      <td>N</td>\n",
       "      <td>Y</td>\n",
       "      <td>N</td>\n",
       "      <td>1</td>\n",
       "      <td>Scavenged Feeding Tube</td>\n",
       "      <td>Female</td>\n",
       "      <td>850</td>\n",
       "      <td>34.0</td>\n",
       "      <td>24.0</td>\n",
       "      <td>130</td>\n",
       "    </tr>\n",
       "    <tr>\n",
       "      <th>3</th>\n",
       "      <td>NB00003</td>\n",
       "      <td>Y</td>\n",
       "      <td>NB00003_M_3</td>\n",
       "      <td>29.3</td>\n",
       "      <td>25</td>\n",
       "      <td>1065</td>\n",
       "      <td>36.0</td>\n",
       "      <td>24.3</td>\n",
       "      <td>Scavenged</td>\n",
       "      <td>DBM</td>\n",
       "      <td>...</td>\n",
       "      <td>N</td>\n",
       "      <td>Y</td>\n",
       "      <td>N</td>\n",
       "      <td>1</td>\n",
       "      <td>Scavenged Feeding Tube</td>\n",
       "      <td>Female</td>\n",
       "      <td>850</td>\n",
       "      <td>34.0</td>\n",
       "      <td>24.0</td>\n",
       "      <td>130</td>\n",
       "    </tr>\n",
       "    <tr>\n",
       "      <th>4</th>\n",
       "      <td>NB00354</td>\n",
       "      <td>N</td>\n",
       "      <td>NB00354_M_1</td>\n",
       "      <td>29.4</td>\n",
       "      <td>12</td>\n",
       "      <td>1005</td>\n",
       "      <td>34.0</td>\n",
       "      <td>34.5</td>\n",
       "      <td>Scavenged</td>\n",
       "      <td>MBM</td>\n",
       "      <td>...</td>\n",
       "      <td>Y</td>\n",
       "      <td>NaN</td>\n",
       "      <td>N</td>\n",
       "      <td>7</td>\n",
       "      <td>Residual from Milk Prep Room</td>\n",
       "      <td>Male</td>\n",
       "      <td>950</td>\n",
       "      <td>34.0</td>\n",
       "      <td>34.5</td>\n",
       "      <td>97</td>\n",
       "    </tr>\n",
       "    <tr>\n",
       "      <th>...</th>\n",
       "      <td>...</td>\n",
       "      <td>...</td>\n",
       "      <td>...</td>\n",
       "      <td>...</td>\n",
       "      <td>...</td>\n",
       "      <td>...</td>\n",
       "      <td>...</td>\n",
       "      <td>...</td>\n",
       "      <td>...</td>\n",
       "      <td>...</td>\n",
       "      <td>...</td>\n",
       "      <td>...</td>\n",
       "      <td>...</td>\n",
       "      <td>...</td>\n",
       "      <td>...</td>\n",
       "      <td>...</td>\n",
       "      <td>...</td>\n",
       "      <td>...</td>\n",
       "      <td>...</td>\n",
       "      <td>...</td>\n",
       "      <td>...</td>\n",
       "    </tr>\n",
       "    <tr>\n",
       "      <th>129</th>\n",
       "      <td>NB00007</td>\n",
       "      <td>Y</td>\n",
       "      <td>NB00007_M_3</td>\n",
       "      <td>39.2</td>\n",
       "      <td>17</td>\n",
       "      <td>2340</td>\n",
       "      <td>44.0</td>\n",
       "      <td>33.0</td>\n",
       "      <td>Scavenged</td>\n",
       "      <td>MBM</td>\n",
       "      <td>...</td>\n",
       "      <td>NaN</td>\n",
       "      <td>NaN</td>\n",
       "      <td>N</td>\n",
       "      <td>6 (~0.8)</td>\n",
       "      <td>Residual from Milk Prep Room</td>\n",
       "      <td>Male</td>\n",
       "      <td>2170</td>\n",
       "      <td>43.0</td>\n",
       "      <td>32.0</td>\n",
       "      <td>44</td>\n",
       "    </tr>\n",
       "    <tr>\n",
       "      <th>130</th>\n",
       "      <td>NB00007</td>\n",
       "      <td>Y</td>\n",
       "      <td>NB00007_M_4</td>\n",
       "      <td>39.3</td>\n",
       "      <td>18</td>\n",
       "      <td>2380</td>\n",
       "      <td>44.0</td>\n",
       "      <td>33.0</td>\n",
       "      <td>Scavenged</td>\n",
       "      <td>MBM</td>\n",
       "      <td>...</td>\n",
       "      <td>NaN</td>\n",
       "      <td>NaN</td>\n",
       "      <td>N</td>\n",
       "      <td>7</td>\n",
       "      <td>Residual from Milk Prep Room</td>\n",
       "      <td>Male</td>\n",
       "      <td>2170</td>\n",
       "      <td>43.0</td>\n",
       "      <td>32.0</td>\n",
       "      <td>44</td>\n",
       "    </tr>\n",
       "    <tr>\n",
       "      <th>131</th>\n",
       "      <td>NB00379</td>\n",
       "      <td>Y</td>\n",
       "      <td>NB00379_M_1</td>\n",
       "      <td>39.6</td>\n",
       "      <td>98</td>\n",
       "      <td>3073</td>\n",
       "      <td>45.0</td>\n",
       "      <td>33.2</td>\n",
       "      <td>Scavenged</td>\n",
       "      <td>MBM</td>\n",
       "      <td>...</td>\n",
       "      <td>N</td>\n",
       "      <td>NaN</td>\n",
       "      <td>N</td>\n",
       "      <td>7</td>\n",
       "      <td>Residual from Milk Prep Room - Baby not on NG ...</td>\n",
       "      <td>Female</td>\n",
       "      <td>860</td>\n",
       "      <td>32.0</td>\n",
       "      <td>24.0</td>\n",
       "      <td>4</td>\n",
       "    </tr>\n",
       "    <tr>\n",
       "      <th>132</th>\n",
       "      <td>NB00007</td>\n",
       "      <td>Y</td>\n",
       "      <td>NB00007_M_5</td>\n",
       "      <td>40.0</td>\n",
       "      <td>23</td>\n",
       "      <td>2430</td>\n",
       "      <td>45.0</td>\n",
       "      <td>34.5</td>\n",
       "      <td>Scavenged</td>\n",
       "      <td>MBM</td>\n",
       "      <td>...</td>\n",
       "      <td>NaN</td>\n",
       "      <td>NaN</td>\n",
       "      <td>N</td>\n",
       "      <td>2</td>\n",
       "      <td>Residual from Milk Prep Room</td>\n",
       "      <td>Male</td>\n",
       "      <td>2170</td>\n",
       "      <td>43.0</td>\n",
       "      <td>32.0</td>\n",
       "      <td>44</td>\n",
       "    </tr>\n",
       "    <tr>\n",
       "      <th>133</th>\n",
       "      <td>NB00007</td>\n",
       "      <td>Y</td>\n",
       "      <td>NB00007_M_7</td>\n",
       "      <td>40.2</td>\n",
       "      <td>23</td>\n",
       "      <td>2400</td>\n",
       "      <td>45.0</td>\n",
       "      <td>34.5</td>\n",
       "      <td>Scavenged</td>\n",
       "      <td>MBM</td>\n",
       "      <td>...</td>\n",
       "      <td>NaN</td>\n",
       "      <td>NaN</td>\n",
       "      <td>N</td>\n",
       "      <td>6</td>\n",
       "      <td>Residual from Milk Prep Room</td>\n",
       "      <td>Male</td>\n",
       "      <td>2170</td>\n",
       "      <td>43.0</td>\n",
       "      <td>32.0</td>\n",
       "      <td>44</td>\n",
       "    </tr>\n",
       "  </tbody>\n",
       "</table>\n",
       "<p>134 rows × 21 columns</p>\n",
       "</div>"
      ],
      "text/plain": [
       "    Subject ID Patient Consented Sample Type_#   CGA  DOL  Current Weight  \\\n",
       "0      NB00012                 N   NB00012_M_1  28.4   27            1430   \n",
       "1      NB00003                 Y   NB00003_M_1  29.0   22             995   \n",
       "2      NB00003                 Y   NB00003_M_2  29.0   22            1005   \n",
       "3      NB00003                 Y   NB00003_M_3  29.3   25            1065   \n",
       "4      NB00354                 N   NB00354_M_1  29.4   12            1005   \n",
       "..         ...               ...           ...   ...  ...             ...   \n",
       "129    NB00007                 Y   NB00007_M_3  39.2   17            2340   \n",
       "130    NB00007                 Y   NB00007_M_4  39.3   18            2380   \n",
       "131    NB00379                 Y   NB00379_M_1  39.6   98            3073   \n",
       "132    NB00007                 Y   NB00007_M_5  40.0   23            2430   \n",
       "133    NB00007                 Y   NB00007_M_7  40.2   23            2400   \n",
       "\n",
       "     Current Height  Current HC Scavenged/Fresh?   MBM/DMB?  ... TPN Y/N?  \\\n",
       "0              32.0        26.0       Scavenged   MBM + DBM  ...      NaN   \n",
       "1              35.7        23.7       Scavenged         DBM  ...        N   \n",
       "2              36.0        24.4       Scavenged         DBM  ...        N   \n",
       "3              36.0        24.3       Scavenged         DBM  ...        N   \n",
       "4              34.0        34.5       Scavenged         MBM  ...        Y   \n",
       "..              ...         ...              ...        ...  ...      ...   \n",
       "129            44.0        33.0       Scavenged         MBM  ...      NaN   \n",
       "130            44.0        33.0       Scavenged         MBM  ...      NaN   \n",
       "131            45.0        33.2       Scavenged         MBM  ...        N   \n",
       "132            45.0        34.5       Scavenged        MBM   ...      NaN   \n",
       "133            45.0        34.5       Scavenged        MBM   ...      NaN   \n",
       "\n",
       "    Iron Y/N? Linked? # Aliquots  \\\n",
       "0         NaN       N   5 (~0.8)   \n",
       "1           Y       N          2   \n",
       "2           Y       N          1   \n",
       "3           Y       N          1   \n",
       "4         NaN       N          7   \n",
       "..        ...     ...        ...   \n",
       "129       NaN       N   6 (~0.8)   \n",
       "130       NaN       N          7   \n",
       "131       NaN       N          7   \n",
       "132       NaN       N          2   \n",
       "133       NaN       N          6   \n",
       "\n",
       "                                   Additional Comments Infant Sex  \\\n",
       "0               Residual from Milk Prep Room & B2 Full       Male   \n",
       "1                               Scavenged Feeding Tube     Female   \n",
       "2                               Scavenged Feeding Tube     Female   \n",
       "3                               Scavenged Feeding Tube     Female   \n",
       "4                         Residual from Milk Prep Room       Male   \n",
       "..                                                 ...        ...   \n",
       "129                       Residual from Milk Prep Room       Male   \n",
       "130                       Residual from Milk Prep Room       Male   \n",
       "131  Residual from Milk Prep Room - Baby not on NG ...     Female   \n",
       "132                       Residual from Milk Prep Room       Male   \n",
       "133                       Residual from Milk Prep Room       Male   \n",
       "\n",
       "    Birth Weight (g)  Birth Length (cm)  Birth HC (cm)  LOS (days)  \n",
       "0                790               32.0           23.8          31  \n",
       "1                850               34.0           24.0         130  \n",
       "2                850               34.0           24.0         130  \n",
       "3                850               34.0           24.0         130  \n",
       "4                950               34.0           34.5          97  \n",
       "..               ...                ...            ...         ...  \n",
       "129             2170               43.0           32.0          44  \n",
       "130             2170               43.0           32.0          44  \n",
       "131              860               32.0           24.0           4  \n",
       "132             2170               43.0           32.0          44  \n",
       "133             2170               43.0           32.0          44  \n",
       "\n",
       "[134 rows x 21 columns]"
      ]
     },
     "execution_count": 9,
     "metadata": {},
     "output_type": "execute_result"
    }
   ],
   "source": [
    "df"
   ]
  },
  {
   "cell_type": "code",
   "execution_count": 10,
   "id": "c613c3e2",
   "metadata": {},
   "outputs": [],
   "source": [
    "# Rename columns for consistency\n",
    "\n",
    "df = df.rename(columns={\"Sample Type_#\": \"sample_unique_id\"})\n",
    "\n"
   ]
  },
  {
   "cell_type": "code",
   "execution_count": 11,
   "id": "6e7d4f88",
   "metadata": {},
   "outputs": [],
   "source": [
    "df[\"sample_unique_id\"] = df[\"sample_unique_id\"].astype(str).str.strip()  # Ensure sample_unique_id is a string and strip whitespace\n"
   ]
  },
  {
   "cell_type": "markdown",
   "id": "9e81225d",
   "metadata": {},
   "source": [
    "#### Merge the Metadata and Area Counts DataFrames\n",
    "- inner join = samples that exist in both DataFrames"
   ]
  },
  {
   "cell_type": "code",
   "execution_count": 12,
   "id": "d7c28e9f",
   "metadata": {},
   "outputs": [],
   "source": [
    "merged = df.copy()"
   ]
  },
  {
   "cell_type": "code",
   "execution_count": 13,
   "id": "dddf918f",
   "metadata": {},
   "outputs": [
    {
     "name": "stdout",
     "output_type": "stream",
     "text": [
      "(134, 21)\n"
     ]
    }
   ],
   "source": [
    "print(merged.shape) #number of rows is the number of samples that exist in both DataFrames, 128"
   ]
  },
  {
   "cell_type": "code",
   "execution_count": 14,
   "id": "64c9dfbd",
   "metadata": {},
   "outputs": [
    {
     "data": {
      "text/plain": [
       "Index(['Subject ID', 'Patient Consented', 'sample_unique_id', 'CGA', 'DOL',\n",
       "       'Current Weight', 'Current Height', 'Current HC', 'Scavenged/Fresh?',\n",
       "       'MBM/DMB?', 'HMF Y/N?', 'TPN Y/N?', 'Iron Y/N?', 'Linked?',\n",
       "       '# Aliquots', 'Additional Comments', 'Infant Sex', 'Birth Weight (g)',\n",
       "       'Birth Length (cm)', 'Birth HC (cm)', 'LOS (days)'],\n",
       "      dtype='object')"
      ]
     },
     "execution_count": 14,
     "metadata": {},
     "output_type": "execute_result"
    }
   ],
   "source": [
    "merged.columns"
   ]
  },
  {
   "cell_type": "markdown",
   "id": "3f834bcf",
   "metadata": {},
   "source": [
    "#### Sample Inconsistencies?"
   ]
  },
  {
   "cell_type": "markdown",
   "id": "948a6016",
   "metadata": {},
   "source": [
    "### Clean Contents of Merged DataFrame"
   ]
  },
  {
   "cell_type": "code",
   "execution_count": 15,
   "id": "89fe5a6d",
   "metadata": {},
   "outputs": [
    {
     "data": {
      "application/vnd.microsoft.datawrangler.viewer.v0+json": {
       "columns": [
        {
         "name": "Scavenged/Fresh?",
         "rawType": "object",
         "type": "string"
        },
        {
         "name": "count",
         "rawType": "int64",
         "type": "integer"
        }
       ],
       "ref": "2a0cc854-a0db-4145-83a6-a689935bbe01",
       "rows": [
        [
         "Scavenged ",
         "114"
        ],
        [
         "Scavenged",
         "19"
        ],
        [
         "scavenged",
         "1"
        ]
       ],
       "shape": {
        "columns": 1,
        "rows": 3
       }
      },
      "text/plain": [
       "Scavenged/Fresh?\n",
       "Scavenged     114\n",
       "Scavenged      19\n",
       "scavenged       1\n",
       "Name: count, dtype: int64"
      ]
     },
     "execution_count": 15,
     "metadata": {},
     "output_type": "execute_result"
    }
   ],
   "source": [
    "# Remove all spelling and capitalization inconsistencies in the 'Scavenged/Fresh?' column\n",
    "\n",
    "merged[\"Scavenged/Fresh?\"].value_counts()"
   ]
  },
  {
   "cell_type": "code",
   "execution_count": 16,
   "id": "aab6021d",
   "metadata": {},
   "outputs": [],
   "source": [
    "def normalize_scavenged(value):\n",
    "    if isinstance(value, str) and value.strip().lower().startswith('scavenged'):\n",
    "        return 'Scavenged'\n",
    "    return value\n",
    "\n",
    "merged[\"Scavenged/Fresh?\"] = merged[\"Scavenged/Fresh?\"].apply(normalize_scavenged)"
   ]
  },
  {
   "cell_type": "code",
   "execution_count": 17,
   "id": "f78b6982",
   "metadata": {},
   "outputs": [
    {
     "data": {
      "application/vnd.microsoft.datawrangler.viewer.v0+json": {
       "columns": [
        {
         "name": "Scavenged/Fresh?",
         "rawType": "object",
         "type": "string"
        },
        {
         "name": "count",
         "rawType": "int64",
         "type": "integer"
        }
       ],
       "ref": "75201d14-a29b-448b-aa68-b4eccff79091",
       "rows": [
        [
         "Scavenged",
         "134"
        ]
       ],
       "shape": {
        "columns": 1,
        "rows": 1
       }
      },
      "text/plain": [
       "Scavenged/Fresh?\n",
       "Scavenged    134\n",
       "Name: count, dtype: int64"
      ]
     },
     "execution_count": 17,
     "metadata": {},
     "output_type": "execute_result"
    }
   ],
   "source": [
    "merged[\"Scavenged/Fresh?\"].value_counts()"
   ]
  },
  {
   "cell_type": "code",
   "execution_count": 18,
   "id": "fe4aa001",
   "metadata": {},
   "outputs": [
    {
     "data": {
      "application/vnd.microsoft.datawrangler.viewer.v0+json": {
       "columns": [
        {
         "name": "MBM/DMB?",
         "rawType": "object",
         "type": "string"
        },
        {
         "name": "count",
         "rawType": "int64",
         "type": "integer"
        }
       ],
       "ref": "02f004ba-21aa-4edd-8810-83621f1af871",
       "rows": [
        [
         "MBM",
         "89"
        ],
        [
         "DBM",
         "22"
        ],
        [
         "Switched to Fortifier ",
         "11"
        ],
        [
         "MBM ",
         "5"
        ],
        [
         "MBM + DBM",
         "2"
        ],
        [
         "MBM+DBM",
         "1"
        ],
        [
         "FBM/MBM",
         "1"
        ]
       ],
       "shape": {
        "columns": 1,
        "rows": 7
       }
      },
      "text/plain": [
       "MBM/DMB?\n",
       "MBM                       89\n",
       "DBM                       22\n",
       "Switched to Fortifier     11\n",
       "MBM                        5\n",
       "MBM + DBM                  2\n",
       "MBM+DBM                    1\n",
       "FBM/MBM                    1\n",
       "Name: count, dtype: int64"
      ]
     },
     "execution_count": 18,
     "metadata": {},
     "output_type": "execute_result"
    }
   ],
   "source": [
    "merged[\"MBM/DMB?\"].value_counts()"
   ]
  },
  {
   "cell_type": "code",
   "execution_count": 19,
   "id": "794d2b4a",
   "metadata": {},
   "outputs": [],
   "source": [
    " # Remove all spelling and capitalization inconsistencies in the 'MBM/DMB?' column\n",
    "\n",
    "def code_mbm(value):\n",
    "    if isinstance(value, str) and value.strip().lower().replace(' ', '') == 'mbm':\n",
    "        return 'MBM'\n",
    "    return value\n",
    "\n",
    "merged[\"MBM/DMB?\"] = merged[\"MBM/DMB?\"].apply(code_mbm)"
   ]
  },
  {
   "cell_type": "code",
   "execution_count": 20,
   "id": "4565888d",
   "metadata": {},
   "outputs": [
    {
     "data": {
      "application/vnd.microsoft.datawrangler.viewer.v0+json": {
       "columns": [
        {
         "name": "MBM/DMB?",
         "rawType": "object",
         "type": "string"
        },
        {
         "name": "count",
         "rawType": "int64",
         "type": "integer"
        }
       ],
       "ref": "e26baa85-9ced-43a6-9dce-6e9825987b4c",
       "rows": [
        [
         "MBM",
         "94"
        ],
        [
         "DBM",
         "22"
        ],
        [
         "Switched to Fortifier ",
         "11"
        ],
        [
         "MBM + DBM",
         "2"
        ],
        [
         "MBM+DBM",
         "1"
        ],
        [
         "FBM/MBM",
         "1"
        ]
       ],
       "shape": {
        "columns": 1,
        "rows": 6
       }
      },
      "text/plain": [
       "MBM/DMB?\n",
       "MBM                       94\n",
       "DBM                       22\n",
       "Switched to Fortifier     11\n",
       "MBM + DBM                  2\n",
       "MBM+DBM                    1\n",
       "FBM/MBM                    1\n",
       "Name: count, dtype: int64"
      ]
     },
     "execution_count": 20,
     "metadata": {},
     "output_type": "execute_result"
    }
   ],
   "source": [
    "merged[\"MBM/DMB?\"].value_counts()"
   ]
  },
  {
   "cell_type": "code",
   "execution_count": 26,
   "id": "3896e772",
   "metadata": {},
   "outputs": [],
   "source": [
    "# Update \"MBM/DMB?\" column values for clarity\n",
    "merged[\"MBM/DMB?\"] = merged[\"MBM/DMB?\"].replace({\n",
    "    \"MBM\": \"MOM\",\n",
    "    \"MBM + DBM\": \"MOM + DBM\",\n",
    "    \"Switched to Fortifier \": \"Switched to Formula\",\n",
    "    \"MBM+DBM\": \"MOM + DBM\"})"
   ]
  },
  {
   "cell_type": "code",
   "execution_count": 27,
   "id": "7eab11c3",
   "metadata": {},
   "outputs": [
    {
     "data": {
      "application/vnd.microsoft.datawrangler.viewer.v0+json": {
       "columns": [
        {
         "name": "MBM/DMB?",
         "rawType": "object",
         "type": "string"
        },
        {
         "name": "count",
         "rawType": "int64",
         "type": "integer"
        }
       ],
       "ref": "cf3fbc9d-cb75-487d-a5e5-34bf7725c54d",
       "rows": [
        [
         "MOM",
         "94"
        ],
        [
         "DBM",
         "22"
        ],
        [
         "Switched to Formula",
         "11"
        ],
        [
         "MOM + DBM",
         "3"
        ],
        [
         "FBM/MBM",
         "1"
        ]
       ],
       "shape": {
        "columns": 1,
        "rows": 5
       }
      },
      "text/plain": [
       "MBM/DMB?\n",
       "MOM                    94\n",
       "DBM                    22\n",
       "Switched to Formula    11\n",
       "MOM + DBM               3\n",
       "FBM/MBM                 1\n",
       "Name: count, dtype: int64"
      ]
     },
     "execution_count": 27,
     "metadata": {},
     "output_type": "execute_result"
    }
   ],
   "source": [
    "merged[\"MBM/DMB?\"].value_counts()"
   ]
  },
  {
   "cell_type": "code",
   "execution_count": 28,
   "id": "210a0f47",
   "metadata": {},
   "outputs": [
    {
     "data": {
      "application/vnd.microsoft.datawrangler.viewer.v0+json": {
       "columns": [
        {
         "name": "Iron Y/N?",
         "rawType": "object",
         "type": "string"
        },
        {
         "name": "count",
         "rawType": "int64",
         "type": "integer"
        }
       ],
       "ref": "936facb8-9dba-4476-b217-027b6497a99c",
       "rows": [
        [
         "Y",
         "51"
        ],
        [
         "N",
         "26"
        ]
       ],
       "shape": {
        "columns": 1,
        "rows": 2
       }
      },
      "text/plain": [
       "Iron Y/N?\n",
       "Y    51\n",
       "N    26\n",
       "Name: count, dtype: int64"
      ]
     },
     "execution_count": 28,
     "metadata": {},
     "output_type": "execute_result"
    }
   ],
   "source": [
    "merged[\"Iron Y/N?\"].value_counts()"
   ]
  },
  {
   "cell_type": "code",
   "execution_count": 29,
   "id": "a2cea9d1",
   "metadata": {},
   "outputs": [],
   "source": [
    "# Normalize the aliquots column to extract numeric values\n",
    "\n",
    "def extract_numeric_aliquots(value):\n",
    "    match = re.match(r'^\\d+', str(value))\n",
    "    return int(match.group()) if match else None\n",
    "\n",
    "merged['Aliquots_num'] = merged['# Aliquots'].apply(extract_numeric_aliquots)"
   ]
  },
  {
   "cell_type": "code",
   "execution_count": 30,
   "id": "61512e97",
   "metadata": {},
   "outputs": [
    {
     "data": {
      "application/vnd.microsoft.datawrangler.viewer.v0+json": {
       "columns": [
        {
         "name": "Aliquots_num",
         "rawType": "int64",
         "type": "integer"
        },
        {
         "name": "count",
         "rawType": "int64",
         "type": "integer"
        }
       ],
       "ref": "25b258e3-dc08-44a8-8b59-463ff5989b67",
       "rows": [
        [
         "1",
         "59"
        ],
        [
         "7",
         "12"
        ],
        [
         "5",
         "10"
        ],
        [
         "2",
         "9"
        ],
        [
         "3",
         "9"
        ],
        [
         "9",
         "8"
        ],
        [
         "6",
         "7"
        ],
        [
         "4",
         "7"
        ],
        [
         "8",
         "6"
        ],
        [
         "10",
         "3"
        ],
        [
         "13",
         "2"
        ],
        [
         "14",
         "1"
        ],
        [
         "11",
         "1"
        ]
       ],
       "shape": {
        "columns": 1,
        "rows": 13
       }
      },
      "text/plain": [
       "Aliquots_num\n",
       "1     59\n",
       "7     12\n",
       "5     10\n",
       "2      9\n",
       "3      9\n",
       "9      8\n",
       "6      7\n",
       "4      7\n",
       "8      6\n",
       "10     3\n",
       "13     2\n",
       "14     1\n",
       "11     1\n",
       "Name: count, dtype: int64"
      ]
     },
     "execution_count": 30,
     "metadata": {},
     "output_type": "execute_result"
    }
   ],
   "source": [
    "merged[\"Aliquots_num\"].value_counts()"
   ]
  },
  {
   "cell_type": "code",
   "execution_count": 31,
   "id": "95967db9",
   "metadata": {},
   "outputs": [],
   "source": [
    "merged = merged.drop(columns=[\"# Aliquots\"])"
   ]
  },
  {
   "cell_type": "code",
   "execution_count": 32,
   "id": "df9fba50",
   "metadata": {},
   "outputs": [
    {
     "data": {
      "text/plain": [
       "Index(['Subject ID', 'Patient Consented', 'sample_unique_id', 'CGA', 'DOL',\n",
       "       'Current Weight', 'Current Height', 'Current HC', 'Scavenged/Fresh?',\n",
       "       'MBM/DMB?', 'HMF Y/N?', 'TPN Y/N?', 'Iron Y/N?', 'Linked?',\n",
       "       'Additional Comments', 'Infant Sex', 'Birth Weight (g)',\n",
       "       'Birth Length (cm)', 'Birth HC (cm)', 'LOS (days)', 'Aliquots_num'],\n",
       "      dtype='object')"
      ]
     },
     "execution_count": 32,
     "metadata": {},
     "output_type": "execute_result"
    }
   ],
   "source": [
    "merged.columns"
   ]
  },
  {
   "cell_type": "markdown",
   "id": "b0e795ca",
   "metadata": {},
   "source": [
    "#### Additional Comments Cleaning"
   ]
  },
  {
   "cell_type": "code",
   "execution_count": 33,
   "id": "6ac0882d",
   "metadata": {},
   "outputs": [
    {
     "data": {
      "application/vnd.microsoft.datawrangler.viewer.v0+json": {
       "columns": [
        {
         "name": "Additional Comments",
         "rawType": "object",
         "type": "string"
        },
        {
         "name": "count",
         "rawType": "int64",
         "type": "integer"
        }
       ],
       "ref": "e4550cf2-a73a-42ed-a7f3-199d5b6ac771",
       "rows": [
        [
         "Residual from Milk Prep Room",
         "70"
        ],
        [
         "Scavenged Feeding Tube",
         "51"
        ],
        [
         "Scavenged Feeding Tube + NaCl Oral Solution",
         "3"
        ],
        [
         "Residual from Milk Prep Room & B2 Full",
         "1"
        ],
        [
         "Scavenged Feeding Tube - Nurse needed to feed extra 1 mL",
         "1"
        ],
        [
         "Scavenged Feeding Tube - also started on sodium chloride oral solution 6/15/24 ",
         "1"
        ],
        [
         "Scanvenged Feeding Tube - Collected Outside of 4 hr Window ",
         "1"
        ],
        [
         "Scavenged Feeding Tube + NaCl Oral Solution - Pt intubated 6/25 & is NPO ",
         "1"
        ],
        [
         "Scavenged Feeding Tube - Outside 4-hr .indo. by 2 hours",
         "1"
        ],
        [
         "Scavenged Feeding Tube - Intubated 6/25 - NPO, restarted NG feeds 7/2",
         "1"
        ],
        [
         "Scavenged Feeding Tube - Parenteral Nutrition Stopped",
         "1"
        ],
        [
         "Scavenged Feeding Tube - Last NG Feed 7/2",
         "1"
        ],
        [
         "Residual from Milk Prep Room - Baby not on NG Feeds no linked sample",
         "1"
        ]
       ],
       "shape": {
        "columns": 1,
        "rows": 13
       }
      },
      "text/plain": [
       "Additional Comments\n",
       "Residual from Milk Prep Room                                                       70\n",
       "Scavenged Feeding Tube                                                             51\n",
       "Scavenged Feeding Tube + NaCl Oral Solution                                         3\n",
       "Residual from Milk Prep Room & B2 Full                                              1\n",
       "Scavenged Feeding Tube - Nurse needed to feed extra 1 mL                            1\n",
       "Scavenged Feeding Tube - also started on sodium chloride oral solution 6/15/24      1\n",
       "Scanvenged Feeding Tube - Collected Outside of 4 hr Window                          1\n",
       "Scavenged Feeding Tube + NaCl Oral Solution - Pt intubated 6/25 & is NPO            1\n",
       "Scavenged Feeding Tube - Outside 4-hr .indo. by 2 hours                             1\n",
       "Scavenged Feeding Tube - Intubated 6/25 - NPO, restarted NG feeds 7/2               1\n",
       "Scavenged Feeding Tube - Parenteral Nutrition Stopped                               1\n",
       "Scavenged Feeding Tube - Last NG Feed 7/2                                           1\n",
       "Residual from Milk Prep Room - Baby not on NG Feeds no linked sample                1\n",
       "Name: count, dtype: int64"
      ]
     },
     "execution_count": 33,
     "metadata": {},
     "output_type": "execute_result"
    }
   ],
   "source": [
    "merged[\"Additional Comments\"].value_counts()"
   ]
  },
  {
   "cell_type": "code",
   "execution_count": 34,
   "id": "d9066a6c",
   "metadata": {},
   "outputs": [],
   "source": [
    "# Extract scavenged notes from the 'Additional Comments' column\n",
    "\n",
    "def extract_scavenged_notes(comment):\n",
    "    if isinstance(comment, str) and \"scavenged feeding tube\" in comment.lower():\n",
    "        # Look for + or - and any text after it\n",
    "        match = re.search(r\"(scavenged feeding tube.*?)([+-].*)\", comment, re.IGNORECASE)\n",
    "        if match:\n",
    "            return match.group(2).strip()\n",
    "    return None\n",
    "\n",
    "merged[\"scavenged notes\"] = merged[\"Additional Comments\"].apply(extract_scavenged_notes)"
   ]
  },
  {
   "cell_type": "code",
   "execution_count": 35,
   "id": "18a56f8a",
   "metadata": {},
   "outputs": [
    {
     "data": {
      "application/vnd.microsoft.datawrangler.viewer.v0+json": {
       "columns": [
        {
         "name": "scavenged notes",
         "rawType": "object",
         "type": "string"
        },
        {
         "name": "count",
         "rawType": "int64",
         "type": "integer"
        }
       ],
       "ref": "dda4bc22-2f22-4544-8053-7c5ff66047f2",
       "rows": [
        [
         "+ NaCl Oral Solution",
         "3"
        ],
        [
         "- Nurse needed to feed extra 1 mL",
         "1"
        ],
        [
         "- also started on sodium chloride oral solution 6/15/24",
         "1"
        ],
        [
         "+ NaCl Oral Solution - Pt intubated 6/25 & is NPO",
         "1"
        ],
        [
         "- Outside 4-hr .indo. by 2 hours",
         "1"
        ],
        [
         "- Intubated 6/25 - NPO, restarted NG feeds 7/2",
         "1"
        ],
        [
         "- Parenteral Nutrition Stopped",
         "1"
        ],
        [
         "- Last NG Feed 7/2",
         "1"
        ]
       ],
       "shape": {
        "columns": 1,
        "rows": 8
       }
      },
      "text/plain": [
       "scavenged notes\n",
       "+ NaCl Oral Solution                                       3\n",
       "- Nurse needed to feed extra 1 mL                          1\n",
       "- also started on sodium chloride oral solution 6/15/24    1\n",
       "+ NaCl Oral Solution - Pt intubated 6/25 & is NPO          1\n",
       "- Outside 4-hr .indo. by 2 hours                           1\n",
       "- Intubated 6/25 - NPO, restarted NG feeds 7/2             1\n",
       "- Parenteral Nutrition Stopped                             1\n",
       "- Last NG Feed 7/2                                         1\n",
       "Name: count, dtype: int64"
      ]
     },
     "execution_count": 35,
     "metadata": {},
     "output_type": "execute_result"
    }
   ],
   "source": [
    "merged[\"scavenged notes\"].value_counts()"
   ]
  },
  {
   "cell_type": "code",
   "execution_count": 36,
   "id": "b9615ae1",
   "metadata": {},
   "outputs": [],
   "source": [
    "# Remove leading '+', '-', or spaces from 'scavenged notes'\n",
    "merged[\"scavenged notes\"] = merged[\"scavenged notes\"].str.lstrip('+- ').replace('', None)"
   ]
  },
  {
   "cell_type": "code",
   "execution_count": 37,
   "id": "9ebbbafc",
   "metadata": {},
   "outputs": [],
   "source": [
    "def clean_scavenged_feeding_tube(comment):\n",
    "    if isinstance(comment, str):\n",
    "        # Find 'scavenged feeding tube' and remove everything after it (including +, -, or any text)\n",
    "        match = re.search(r\"(scavenged feeding tube)\", comment, re.IGNORECASE)\n",
    "        if match:\n",
    "            return comment[:match.end()].strip()\n",
    "    return comment\n",
    "\n",
    "merged[\"Additional Comments\"] = merged[\"Additional Comments\"].apply(clean_scavenged_feeding_tube)"
   ]
  },
  {
   "cell_type": "code",
   "execution_count": 38,
   "id": "44a16780",
   "metadata": {},
   "outputs": [
    {
     "data": {
      "application/vnd.microsoft.datawrangler.viewer.v0+json": {
       "columns": [
        {
         "name": "Additional Comments",
         "rawType": "object",
         "type": "string"
        },
        {
         "name": "count",
         "rawType": "int64",
         "type": "integer"
        }
       ],
       "ref": "d1f619d7-2471-43bf-a2a5-e30d31030350",
       "rows": [
        [
         "Residual from Milk Prep Room",
         "70"
        ],
        [
         "Scavenged Feeding Tube",
         "61"
        ],
        [
         "Residual from Milk Prep Room & B2 Full",
         "1"
        ],
        [
         "Scanvenged Feeding Tube - Collected Outside of 4 hr Window ",
         "1"
        ],
        [
         "Residual from Milk Prep Room - Baby not on NG Feeds no linked sample",
         "1"
        ]
       ],
       "shape": {
        "columns": 1,
        "rows": 5
       }
      },
      "text/plain": [
       "Additional Comments\n",
       "Residual from Milk Prep Room                                            70\n",
       "Scavenged Feeding Tube                                                  61\n",
       "Residual from Milk Prep Room & B2 Full                                   1\n",
       "Scanvenged Feeding Tube - Collected Outside of 4 hr Window               1\n",
       "Residual from Milk Prep Room - Baby not on NG Feeds no linked sample     1\n",
       "Name: count, dtype: int64"
      ]
     },
     "execution_count": 38,
     "metadata": {},
     "output_type": "execute_result"
    }
   ],
   "source": [
    "merged[\"Additional Comments\"].value_counts()"
   ]
  },
  {
   "cell_type": "code",
   "execution_count": 39,
   "id": "a66f7b66",
   "metadata": {},
   "outputs": [],
   "source": [
    "# Update \"Residual from Milk Prep Room & B2 Full\" to \"Residual from Milk Prep Room\" in 'Additional Comments'\n",
    "merged[\"Additional Comments\"] = merged[\"Additional Comments\"].replace(\n",
    "    \"Residual from Milk Prep Room & B2 Full\", \"Residual from Milk Prep Room\"\n",
    ")"
   ]
  },
  {
   "cell_type": "code",
   "execution_count": 40,
   "id": "1fb3baa1",
   "metadata": {},
   "outputs": [
    {
     "data": {
      "application/vnd.microsoft.datawrangler.viewer.v0+json": {
       "columns": [
        {
         "name": "Additional Comments",
         "rawType": "object",
         "type": "string"
        },
        {
         "name": "count",
         "rawType": "int64",
         "type": "integer"
        }
       ],
       "ref": "dd2222ca-a664-49e5-983c-5fc4175ba6d0",
       "rows": [
        [
         "Residual from Milk Prep Room",
         "71"
        ],
        [
         "Scavenged Feeding Tube",
         "61"
        ],
        [
         "Scanvenged Feeding Tube - Collected Outside of 4 hr Window ",
         "1"
        ],
        [
         "Residual from Milk Prep Room - Baby not on NG Feeds no linked sample",
         "1"
        ]
       ],
       "shape": {
        "columns": 1,
        "rows": 4
       }
      },
      "text/plain": [
       "Additional Comments\n",
       "Residual from Milk Prep Room                                            71\n",
       "Scavenged Feeding Tube                                                  61\n",
       "Scanvenged Feeding Tube - Collected Outside of 4 hr Window               1\n",
       "Residual from Milk Prep Room - Baby not on NG Feeds no linked sample     1\n",
       "Name: count, dtype: int64"
      ]
     },
     "execution_count": 40,
     "metadata": {},
     "output_type": "execute_result"
    }
   ],
   "source": [
    "merged[\"Additional Comments\"].value_counts()"
   ]
  },
  {
   "cell_type": "code",
   "execution_count": 41,
   "id": "5c0bfeaf",
   "metadata": {},
   "outputs": [],
   "source": [
    "merged[\"Additional Comments\"] = merged[\"Additional Comments\"].replace(\n",
    "    \"Scanvenged Feeding Tube - Collected Outside of 4 hr Window \", \"Scavenged Feeding Tube\"\n",
    ")"
   ]
  },
  {
   "cell_type": "code",
   "execution_count": 42,
   "id": "dc6498cc",
   "metadata": {},
   "outputs": [
    {
     "data": {
      "application/vnd.microsoft.datawrangler.viewer.v0+json": {
       "columns": [
        {
         "name": "Additional Comments",
         "rawType": "object",
         "type": "string"
        },
        {
         "name": "count",
         "rawType": "int64",
         "type": "integer"
        }
       ],
       "ref": "0a6f7e5c-013b-4cb3-9fbf-c844a82872b6",
       "rows": [
        [
         "Residual from Milk Prep Room",
         "71"
        ],
        [
         "Scavenged Feeding Tube",
         "62"
        ],
        [
         "Residual from Milk Prep Room - Baby not on NG Feeds no linked sample",
         "1"
        ]
       ],
       "shape": {
        "columns": 1,
        "rows": 3
       }
      },
      "text/plain": [
       "Additional Comments\n",
       "Residual from Milk Prep Room                                            71\n",
       "Scavenged Feeding Tube                                                  62\n",
       "Residual from Milk Prep Room - Baby not on NG Feeds no linked sample     1\n",
       "Name: count, dtype: int64"
      ]
     },
     "execution_count": 42,
     "metadata": {},
     "output_type": "execute_result"
    }
   ],
   "source": [
    "merged[\"Additional Comments\"].value_counts()"
   ]
  },
  {
   "cell_type": "code",
   "execution_count": 43,
   "id": "c107d291",
   "metadata": {},
   "outputs": [],
   "source": [
    "merged[\"Additional Comments\"] = merged[\"Additional Comments\"].replace(\n",
    "    \"Residual from Milk Prep Room - Baby not on NG Feeds no linked sample\", \"Residual from Milk Prep Room\"\n",
    ")"
   ]
  },
  {
   "cell_type": "code",
   "execution_count": 44,
   "id": "c678c5e0",
   "metadata": {},
   "outputs": [
    {
     "data": {
      "application/vnd.microsoft.datawrangler.viewer.v0+json": {
       "columns": [
        {
         "name": "Additional Comments",
         "rawType": "object",
         "type": "string"
        },
        {
         "name": "count",
         "rawType": "int64",
         "type": "integer"
        }
       ],
       "ref": "c0087014-b244-4efc-88aa-a5c13fc5dce1",
       "rows": [
        [
         "Residual from Milk Prep Room",
         "72"
        ],
        [
         "Scavenged Feeding Tube",
         "62"
        ]
       ],
       "shape": {
        "columns": 1,
        "rows": 2
       }
      },
      "text/plain": [
       "Additional Comments\n",
       "Residual from Milk Prep Room    72\n",
       "Scavenged Feeding Tube          62\n",
       "Name: count, dtype: int64"
      ]
     },
     "execution_count": 44,
     "metadata": {},
     "output_type": "execute_result"
    }
   ],
   "source": [
    "merged[\"Additional Comments\"].value_counts()"
   ]
  },
  {
   "cell_type": "code",
   "execution_count": 45,
   "id": "19b80448",
   "metadata": {},
   "outputs": [],
   "source": [
    "merged[\"Additional Comments\"] = merged[\"Additional Comments\"].replace(\n",
    "    \"Residual from Milk Prep Room\", \"Prepped in Milk Room\"\n",
    ")"
   ]
  },
  {
   "cell_type": "code",
   "execution_count": 46,
   "id": "527f94b8",
   "metadata": {},
   "outputs": [
    {
     "data": {
      "application/vnd.microsoft.datawrangler.viewer.v0+json": {
       "columns": [
        {
         "name": "Additional Comments",
         "rawType": "object",
         "type": "string"
        },
        {
         "name": "count",
         "rawType": "int64",
         "type": "integer"
        }
       ],
       "ref": "0a8e26e2-62be-4893-a896-b35cc4957077",
       "rows": [
        [
         "Prepped in Milk Room",
         "72"
        ],
        [
         "Scavenged Feeding Tube",
         "62"
        ]
       ],
       "shape": {
        "columns": 1,
        "rows": 2
       }
      },
      "text/plain": [
       "Additional Comments\n",
       "Prepped in Milk Room      72\n",
       "Scavenged Feeding Tube    62\n",
       "Name: count, dtype: int64"
      ]
     },
     "execution_count": 46,
     "metadata": {},
     "output_type": "execute_result"
    }
   ],
   "source": [
    "merged[\"Additional Comments\"].value_counts()"
   ]
  },
  {
   "cell_type": "code",
   "execution_count": 47,
   "id": "2bbecf8c",
   "metadata": {},
   "outputs": [
    {
     "data": {
      "application/vnd.microsoft.datawrangler.viewer.v0+json": {
       "columns": [
        {
         "name": "index",
         "rawType": "int64",
         "type": "integer"
        },
        {
         "name": "Additional Comments",
         "rawType": "object",
         "type": "string"
        },
        {
         "name": "scavenged notes",
         "rawType": "object",
         "type": "unknown"
        }
       ],
       "ref": "091b6003-eae8-4d44-a746-88987f95c896",
       "rows": [
        [
         "0",
         "Prepped in Milk Room",
         null
        ],
        [
         "1",
         "Scavenged Feeding Tube",
         null
        ],
        [
         "2",
         "Scavenged Feeding Tube",
         null
        ],
        [
         "3",
         "Scavenged Feeding Tube",
         null
        ],
        [
         "4",
         "Prepped in Milk Room",
         null
        ],
        [
         "5",
         "Scavenged Feeding Tube",
         null
        ],
        [
         "6",
         "Scavenged Feeding Tube",
         "Nurse needed to feed extra 1 mL"
        ],
        [
         "7",
         "Scavenged Feeding Tube",
         "also started on sodium chloride oral solution 6/15/24"
        ],
        [
         "8",
         "Scavenged Feeding Tube",
         "NaCl Oral Solution"
        ],
        [
         "9",
         "Scavenged Feeding Tube",
         null
        ],
        [
         "10",
         "Scavenged Feeding Tube",
         null
        ],
        [
         "11",
         "Scavenged Feeding Tube",
         "NaCl Oral Solution"
        ],
        [
         "12",
         "Prepped in Milk Room",
         null
        ],
        [
         "13",
         "Scavenged Feeding Tube",
         null
        ],
        [
         "14",
         "Scavenged Feeding Tube",
         "NaCl Oral Solution"
        ],
        [
         "15",
         "Prepped in Milk Room",
         null
        ],
        [
         "16",
         "Prepped in Milk Room",
         null
        ],
        [
         "17",
         "Prepped in Milk Room",
         null
        ],
        [
         "18",
         "Prepped in Milk Room",
         null
        ],
        [
         "19",
         "Scavenged Feeding Tube",
         "NaCl Oral Solution - Pt intubated 6/25 & is NPO"
        ],
        [
         "20",
         "Prepped in Milk Room",
         null
        ],
        [
         "21",
         "Scavenged Feeding Tube",
         null
        ],
        [
         "22",
         "Scavenged Feeding Tube",
         null
        ],
        [
         "23",
         "Prepped in Milk Room",
         null
        ],
        [
         "24",
         "Scavenged Feeding Tube",
         null
        ],
        [
         "25",
         "Prepped in Milk Room",
         null
        ],
        [
         "26",
         "Prepped in Milk Room",
         null
        ],
        [
         "27",
         "Prepped in Milk Room",
         null
        ],
        [
         "28",
         "Prepped in Milk Room",
         null
        ],
        [
         "29",
         "Prepped in Milk Room",
         null
        ],
        [
         "30",
         "Scavenged Feeding Tube",
         null
        ],
        [
         "31",
         "Prepped in Milk Room",
         null
        ],
        [
         "32",
         "Prepped in Milk Room",
         null
        ],
        [
         "33",
         "Prepped in Milk Room",
         null
        ],
        [
         "34",
         "Prepped in Milk Room",
         null
        ],
        [
         "35",
         "Scavenged Feeding Tube",
         null
        ],
        [
         "36",
         "Scavenged Feeding Tube",
         null
        ],
        [
         "37",
         "Scavenged Feeding Tube",
         "Outside 4-hr .indo. by 2 hours"
        ],
        [
         "38",
         "Prepped in Milk Room",
         null
        ],
        [
         "39",
         "Prepped in Milk Room",
         null
        ],
        [
         "40",
         "Scavenged Feeding Tube",
         null
        ],
        [
         "41",
         "Scavenged Feeding Tube",
         null
        ],
        [
         "42",
         "Prepped in Milk Room",
         null
        ],
        [
         "43",
         "Prepped in Milk Room",
         null
        ],
        [
         "44",
         "Prepped in Milk Room",
         null
        ],
        [
         "45",
         "Prepped in Milk Room",
         null
        ],
        [
         "46",
         "Scavenged Feeding Tube",
         null
        ],
        [
         "47",
         "Scavenged Feeding Tube",
         "Intubated 6/25 - NPO, restarted NG feeds 7/2"
        ],
        [
         "48",
         "Prepped in Milk Room",
         null
        ],
        [
         "49",
         "Prepped in Milk Room",
         null
        ]
       ],
       "shape": {
        "columns": 2,
        "rows": 134
       }
      },
      "text/html": [
       "<div>\n",
       "<style scoped>\n",
       "    .dataframe tbody tr th:only-of-type {\n",
       "        vertical-align: middle;\n",
       "    }\n",
       "\n",
       "    .dataframe tbody tr th {\n",
       "        vertical-align: top;\n",
       "    }\n",
       "\n",
       "    .dataframe thead th {\n",
       "        text-align: right;\n",
       "    }\n",
       "</style>\n",
       "<table border=\"1\" class=\"dataframe\">\n",
       "  <thead>\n",
       "    <tr style=\"text-align: right;\">\n",
       "      <th></th>\n",
       "      <th>Additional Comments</th>\n",
       "      <th>scavenged notes</th>\n",
       "    </tr>\n",
       "  </thead>\n",
       "  <tbody>\n",
       "    <tr>\n",
       "      <th>0</th>\n",
       "      <td>Prepped in Milk Room</td>\n",
       "      <td>None</td>\n",
       "    </tr>\n",
       "    <tr>\n",
       "      <th>1</th>\n",
       "      <td>Scavenged Feeding Tube</td>\n",
       "      <td>None</td>\n",
       "    </tr>\n",
       "    <tr>\n",
       "      <th>2</th>\n",
       "      <td>Scavenged Feeding Tube</td>\n",
       "      <td>None</td>\n",
       "    </tr>\n",
       "    <tr>\n",
       "      <th>3</th>\n",
       "      <td>Scavenged Feeding Tube</td>\n",
       "      <td>None</td>\n",
       "    </tr>\n",
       "    <tr>\n",
       "      <th>4</th>\n",
       "      <td>Prepped in Milk Room</td>\n",
       "      <td>None</td>\n",
       "    </tr>\n",
       "    <tr>\n",
       "      <th>...</th>\n",
       "      <td>...</td>\n",
       "      <td>...</td>\n",
       "    </tr>\n",
       "    <tr>\n",
       "      <th>129</th>\n",
       "      <td>Prepped in Milk Room</td>\n",
       "      <td>None</td>\n",
       "    </tr>\n",
       "    <tr>\n",
       "      <th>130</th>\n",
       "      <td>Prepped in Milk Room</td>\n",
       "      <td>None</td>\n",
       "    </tr>\n",
       "    <tr>\n",
       "      <th>131</th>\n",
       "      <td>Prepped in Milk Room</td>\n",
       "      <td>None</td>\n",
       "    </tr>\n",
       "    <tr>\n",
       "      <th>132</th>\n",
       "      <td>Prepped in Milk Room</td>\n",
       "      <td>None</td>\n",
       "    </tr>\n",
       "    <tr>\n",
       "      <th>133</th>\n",
       "      <td>Prepped in Milk Room</td>\n",
       "      <td>None</td>\n",
       "    </tr>\n",
       "  </tbody>\n",
       "</table>\n",
       "<p>134 rows × 2 columns</p>\n",
       "</div>"
      ],
      "text/plain": [
       "        Additional Comments scavenged notes\n",
       "0      Prepped in Milk Room            None\n",
       "1    Scavenged Feeding Tube            None\n",
       "2    Scavenged Feeding Tube            None\n",
       "3    Scavenged Feeding Tube            None\n",
       "4      Prepped in Milk Room            None\n",
       "..                      ...             ...\n",
       "129    Prepped in Milk Room            None\n",
       "130    Prepped in Milk Room            None\n",
       "131    Prepped in Milk Room            None\n",
       "132    Prepped in Milk Room            None\n",
       "133    Prepped in Milk Room            None\n",
       "\n",
       "[134 rows x 2 columns]"
      ]
     },
     "execution_count": 47,
     "metadata": {},
     "output_type": "execute_result"
    }
   ],
   "source": [
    "merged[[\"Additional Comments\", \"scavenged notes\"]]"
   ]
  },
  {
   "cell_type": "code",
   "execution_count": 48,
   "id": "c5bc6dc1",
   "metadata": {},
   "outputs": [
    {
     "data": {
      "application/vnd.microsoft.datawrangler.viewer.v0+json": {
       "columns": [
        {
         "name": "Additional Comments",
         "rawType": "object",
         "type": "string"
        },
        {
         "name": "count",
         "rawType": "int64",
         "type": "integer"
        }
       ],
       "ref": "a8c8ea37-64d1-4619-9ca4-642dd7136083",
       "rows": [
        [
         "Prepped in Milk Room",
         "72"
        ],
        [
         "Scavenged Feeding Tube",
         "62"
        ]
       ],
       "shape": {
        "columns": 1,
        "rows": 2
       }
      },
      "text/plain": [
       "Additional Comments\n",
       "Prepped in Milk Room      72\n",
       "Scavenged Feeding Tube    62\n",
       "Name: count, dtype: int64"
      ]
     },
     "execution_count": 48,
     "metadata": {},
     "output_type": "execute_result"
    }
   ],
   "source": [
    "merged[\"Additional Comments\"].value_counts()"
   ]
  },
  {
   "cell_type": "code",
   "execution_count": 49,
   "id": "7831e8ad",
   "metadata": {},
   "outputs": [],
   "source": [
    "def classify_sample_method(comment):\n",
    "    if isinstance(comment, str):\n",
    "        if \"scavenged\" in comment.lower():\n",
    "            return \"Scavenged\"\n",
    "        elif \"milk room\" in comment.lower():\n",
    "            return \"Prepped in Milk Room\"\n",
    "    return \"Other\"\n",
    "\n",
    "merged[\"Sample Source\"] = merged[\"Additional Comments\"].apply(classify_sample_method)\n"
   ]
  },
  {
   "cell_type": "code",
   "execution_count": 50,
   "id": "3c3b58b7",
   "metadata": {},
   "outputs": [
    {
     "data": {
      "application/vnd.microsoft.datawrangler.viewer.v0+json": {
       "columns": [
        {
         "name": "Sample Source",
         "rawType": "object",
         "type": "string"
        },
        {
         "name": "count",
         "rawType": "int64",
         "type": "integer"
        }
       ],
       "ref": "8606c3a1-b204-4984-85db-a3e934905fd9",
       "rows": [
        [
         "Prepped in Milk Room",
         "72"
        ],
        [
         "Scavenged",
         "62"
        ]
       ],
       "shape": {
        "columns": 1,
        "rows": 2
       }
      },
      "text/plain": [
       "Sample Source\n",
       "Prepped in Milk Room    72\n",
       "Scavenged               62\n",
       "Name: count, dtype: int64"
      ]
     },
     "execution_count": 50,
     "metadata": {},
     "output_type": "execute_result"
    }
   ],
   "source": [
    "merged[\"Sample Source\"].value_counts()"
   ]
  },
  {
   "cell_type": "code",
   "execution_count": 51,
   "id": "6505f399",
   "metadata": {},
   "outputs": [],
   "source": [
    "merged = merged.drop(columns=[\"Additional Comments\"])"
   ]
  },
  {
   "cell_type": "code",
   "execution_count": 53,
   "id": "b90162bf",
   "metadata": {},
   "outputs": [
    {
     "data": {
      "text/plain": [
       "Index(['Subject ID', 'Patient Consented', 'sample_unique_id', 'CGA', 'DOL',\n",
       "       'Current Weight', 'Current Height', 'Current HC', 'Scavenged/Fresh?',\n",
       "       'MBM/DMB?', 'HMF Y/N?', 'TPN Y/N?', 'Iron Y/N?', 'Linked?',\n",
       "       'Infant Sex', 'Birth Weight (g)', 'Birth Length (cm)', 'Birth HC (cm)',\n",
       "       'LOS (days)', 'Aliquots_num', 'scavenged notes', 'Sample Source'],\n",
       "      dtype='object')"
      ]
     },
     "execution_count": 53,
     "metadata": {},
     "output_type": "execute_result"
    }
   ],
   "source": [
    "merged.columns"
   ]
  },
  {
   "cell_type": "code",
   "execution_count": 54,
   "id": "03fac543",
   "metadata": {},
   "outputs": [],
   "source": [
    "# Rename columns to remove '?' and 'Y/N' for clarity\n",
    "merged = merged.rename(columns={\n",
    "    \"Scavenged/Fresh?\": \"Scavenged or Fresh\",\n",
    "    \"MBM/DMB?\": \"Type of Milk\",\n",
    "    \"HMF Y/N?\": \"HMF\",\n",
    "    \"TPN Y/N?\": \"TPN\",\n",
    "    \"Iron Y/N?\": \"Iron\",\n",
    "    \"Linked?\": \"Linked\"\n",
    "})\n"
   ]
  },
  {
   "cell_type": "code",
   "execution_count": null,
   "id": "e102b5f3",
   "metadata": {},
   "outputs": [],
   "source": [
    "merged"
   ]
  },
  {
   "cell_type": "markdown",
   "id": "96300ae8",
   "metadata": {},
   "source": [
    "## Download the cleaned and merged DataFrame"
   ]
  },
  {
   "cell_type": "code",
   "execution_count": 56,
   "id": "247b86a1",
   "metadata": {},
   "outputs": [],
   "source": [
    "merged.to_excel('Cleaned Data/cleaned_unlinked_updated.xlsx', index=False)"
   ]
  },
  {
   "cell_type": "markdown",
   "id": "3956c4d5",
   "metadata": {},
   "source": [
    "#### want to make a new column with the mother's secretor status for each sample based on the first MBM sample for each subject"
   ]
  }
 ],
 "metadata": {
  "kernelspec": {
   "display_name": ".hmo-kernel (3.13.5)",
   "language": "python",
   "name": "python3"
  },
  "language_info": {
   "codemirror_mode": {
    "name": "ipython",
    "version": 3
   },
   "file_extension": ".py",
   "mimetype": "text/x-python",
   "name": "python",
   "nbconvert_exporter": "python",
   "pygments_lexer": "ipython3",
   "version": "3.13.5"
  }
 },
 "nbformat": 4,
 "nbformat_minor": 5
}
