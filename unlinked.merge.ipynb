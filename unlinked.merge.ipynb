{
 "cells": [
  {
   "cell_type": "code",
   "execution_count": 1,
   "id": "42ef3949",
   "metadata": {},
   "outputs": [],
   "source": [
    "# import necessary libraries\n",
    "import pandas as pd\n",
    "import numpy as np\n",
    "import re\n",
    "import plotly.express as px\n"
   ]
  },
  {
   "cell_type": "markdown",
   "id": "6e0ba065",
   "metadata": {},
   "source": [
    "#### Import Data Sheets\n",
    "- Metadata = df\n",
    "- Area counts = AC"
   ]
  },
  {
   "cell_type": "code",
   "execution_count": 2,
   "id": "ce7cc891",
   "metadata": {},
   "outputs": [
    {
     "data": {
      "application/vnd.microsoft.datawrangler.viewer.v0+json": {
       "columns": [
        {
         "name": "index",
         "rawType": "int64",
         "type": "integer"
        },
        {
         "name": "Subject ID",
         "rawType": "object",
         "type": "string"
        },
        {
         "name": "Patient Consented",
         "rawType": "object",
         "type": "string"
        },
        {
         "name": "Sample Type_#",
         "rawType": "object",
         "type": "string"
        },
        {
         "name": "CGA",
         "rawType": "float64",
         "type": "float"
        },
        {
         "name": "DOL ",
         "rawType": "int64",
         "type": "integer"
        },
        {
         "name": "Current Weight",
         "rawType": "int64",
         "type": "integer"
        },
        {
         "name": "Current Height",
         "rawType": "float64",
         "type": "float"
        },
        {
         "name": "Current HC",
         "rawType": "float64",
         "type": "float"
        },
        {
         "name": "Scavenged/Fresh?",
         "rawType": "object",
         "type": "string"
        },
        {
         "name": "MBM/DMB?",
         "rawType": "object",
         "type": "string"
        },
        {
         "name": "HMF Y/N?",
         "rawType": "object",
         "type": "string"
        },
        {
         "name": "TPN Y/N?",
         "rawType": "object",
         "type": "unknown"
        },
        {
         "name": "Iron Y/N? ",
         "rawType": "object",
         "type": "unknown"
        },
        {
         "name": "Linked? ",
         "rawType": "object",
         "type": "string"
        },
        {
         "name": "# Aliquots ",
         "rawType": "object",
         "type": "unknown"
        },
        {
         "name": "Additional Comments",
         "rawType": "object",
         "type": "string"
        }
       ],
       "ref": "83ba6002-d72f-4c93-89bf-495d7c42ce64",
       "rows": [
        [
         "0",
         "NB00012",
         "N",
         "NB00012_M_1",
         "28.4",
         "27",
         "1430",
         "32.0",
         "26.0",
         "Scavenged ",
         "MBM + DBM",
         "Y",
         null,
         null,
         "N",
         "5 (~0.8)",
         "Residual from Milk Prep Room & B2 Full"
        ],
        [
         "1",
         "NB00003",
         "Y",
         "NB00003_M_1",
         "29.0",
         "22",
         "995",
         "35.7",
         "23.7",
         "Scavenged ",
         "DBM",
         "Y",
         "N",
         "Y",
         "N",
         "2",
         "Scavenged Feeding Tube"
        ],
        [
         "2",
         "NB00003",
         "Y",
         "NB00003_M_2",
         "29.0",
         "22",
         "1005",
         "36.0",
         "24.4",
         "Scavenged ",
         "DBM",
         "Y",
         "N",
         "Y",
         "N",
         "1",
         "Scavenged Feeding Tube"
        ],
        [
         "3",
         "NB00003",
         "Y",
         "NB00003_M_3",
         "29.3",
         "25",
         "1065",
         "36.0",
         "24.3",
         "Scavenged ",
         "DBM",
         "Y",
         "N",
         "Y",
         "N",
         "1",
         "Scavenged Feeding Tube"
        ],
        [
         "4",
         "NB00354",
         "N",
         "NB00354_M_1",
         "29.4",
         "12",
         "1005",
         "34.0",
         "34.5",
         "Scavenged ",
         "MBM",
         "Y",
         "Y",
         null,
         "N",
         "7",
         "Residual from Milk Prep Room"
        ]
       ],
       "shape": {
        "columns": 16,
        "rows": 5
       }
      },
      "text/html": [
       "<div>\n",
       "<style scoped>\n",
       "    .dataframe tbody tr th:only-of-type {\n",
       "        vertical-align: middle;\n",
       "    }\n",
       "\n",
       "    .dataframe tbody tr th {\n",
       "        vertical-align: top;\n",
       "    }\n",
       "\n",
       "    .dataframe thead th {\n",
       "        text-align: right;\n",
       "    }\n",
       "</style>\n",
       "<table border=\"1\" class=\"dataframe\">\n",
       "  <thead>\n",
       "    <tr style=\"text-align: right;\">\n",
       "      <th></th>\n",
       "      <th>Subject ID</th>\n",
       "      <th>Patient Consented</th>\n",
       "      <th>Sample Type_#</th>\n",
       "      <th>CGA</th>\n",
       "      <th>DOL</th>\n",
       "      <th>Current Weight</th>\n",
       "      <th>Current Height</th>\n",
       "      <th>Current HC</th>\n",
       "      <th>Scavenged/Fresh?</th>\n",
       "      <th>MBM/DMB?</th>\n",
       "      <th>HMF Y/N?</th>\n",
       "      <th>TPN Y/N?</th>\n",
       "      <th>Iron Y/N?</th>\n",
       "      <th>Linked?</th>\n",
       "      <th># Aliquots</th>\n",
       "      <th>Additional Comments</th>\n",
       "    </tr>\n",
       "  </thead>\n",
       "  <tbody>\n",
       "    <tr>\n",
       "      <th>0</th>\n",
       "      <td>NB00012</td>\n",
       "      <td>N</td>\n",
       "      <td>NB00012_M_1</td>\n",
       "      <td>28.4</td>\n",
       "      <td>27</td>\n",
       "      <td>1430</td>\n",
       "      <td>32.0</td>\n",
       "      <td>26.0</td>\n",
       "      <td>Scavenged</td>\n",
       "      <td>MBM + DBM</td>\n",
       "      <td>Y</td>\n",
       "      <td>NaN</td>\n",
       "      <td>NaN</td>\n",
       "      <td>N</td>\n",
       "      <td>5 (~0.8)</td>\n",
       "      <td>Residual from Milk Prep Room &amp; B2 Full</td>\n",
       "    </tr>\n",
       "    <tr>\n",
       "      <th>1</th>\n",
       "      <td>NB00003</td>\n",
       "      <td>Y</td>\n",
       "      <td>NB00003_M_1</td>\n",
       "      <td>29.0</td>\n",
       "      <td>22</td>\n",
       "      <td>995</td>\n",
       "      <td>35.7</td>\n",
       "      <td>23.7</td>\n",
       "      <td>Scavenged</td>\n",
       "      <td>DBM</td>\n",
       "      <td>Y</td>\n",
       "      <td>N</td>\n",
       "      <td>Y</td>\n",
       "      <td>N</td>\n",
       "      <td>2</td>\n",
       "      <td>Scavenged Feeding Tube</td>\n",
       "    </tr>\n",
       "    <tr>\n",
       "      <th>2</th>\n",
       "      <td>NB00003</td>\n",
       "      <td>Y</td>\n",
       "      <td>NB00003_M_2</td>\n",
       "      <td>29.0</td>\n",
       "      <td>22</td>\n",
       "      <td>1005</td>\n",
       "      <td>36.0</td>\n",
       "      <td>24.4</td>\n",
       "      <td>Scavenged</td>\n",
       "      <td>DBM</td>\n",
       "      <td>Y</td>\n",
       "      <td>N</td>\n",
       "      <td>Y</td>\n",
       "      <td>N</td>\n",
       "      <td>1</td>\n",
       "      <td>Scavenged Feeding Tube</td>\n",
       "    </tr>\n",
       "    <tr>\n",
       "      <th>3</th>\n",
       "      <td>NB00003</td>\n",
       "      <td>Y</td>\n",
       "      <td>NB00003_M_3</td>\n",
       "      <td>29.3</td>\n",
       "      <td>25</td>\n",
       "      <td>1065</td>\n",
       "      <td>36.0</td>\n",
       "      <td>24.3</td>\n",
       "      <td>Scavenged</td>\n",
       "      <td>DBM</td>\n",
       "      <td>Y</td>\n",
       "      <td>N</td>\n",
       "      <td>Y</td>\n",
       "      <td>N</td>\n",
       "      <td>1</td>\n",
       "      <td>Scavenged Feeding Tube</td>\n",
       "    </tr>\n",
       "    <tr>\n",
       "      <th>4</th>\n",
       "      <td>NB00354</td>\n",
       "      <td>N</td>\n",
       "      <td>NB00354_M_1</td>\n",
       "      <td>29.4</td>\n",
       "      <td>12</td>\n",
       "      <td>1005</td>\n",
       "      <td>34.0</td>\n",
       "      <td>34.5</td>\n",
       "      <td>Scavenged</td>\n",
       "      <td>MBM</td>\n",
       "      <td>Y</td>\n",
       "      <td>Y</td>\n",
       "      <td>NaN</td>\n",
       "      <td>N</td>\n",
       "      <td>7</td>\n",
       "      <td>Residual from Milk Prep Room</td>\n",
       "    </tr>\n",
       "  </tbody>\n",
       "</table>\n",
       "</div>"
      ],
      "text/plain": [
       "  Subject ID Patient Consented Sample Type_#   CGA  DOL   Current Weight  \\\n",
       "0    NB00012                 N   NB00012_M_1  28.4    27            1430   \n",
       "1    NB00003                 Y   NB00003_M_1  29.0    22             995   \n",
       "2    NB00003                 Y   NB00003_M_2  29.0    22            1005   \n",
       "3    NB00003                 Y   NB00003_M_3  29.3    25            1065   \n",
       "4    NB00354                 N   NB00354_M_1  29.4    12            1005   \n",
       "\n",
       "   Current Height  Current HC Scavenged/Fresh?   MBM/DMB? HMF Y/N? TPN Y/N?  \\\n",
       "0            32.0        26.0       Scavenged   MBM + DBM        Y      NaN   \n",
       "1            35.7        23.7       Scavenged         DBM        Y        N   \n",
       "2            36.0        24.4       Scavenged         DBM        Y        N   \n",
       "3            36.0        24.3       Scavenged         DBM        Y        N   \n",
       "4            34.0        34.5       Scavenged         MBM        Y        Y   \n",
       "\n",
       "  Iron Y/N?  Linked?  # Aliquots                      Additional Comments  \n",
       "0        NaN        N    5 (~0.8)  Residual from Milk Prep Room & B2 Full  \n",
       "1          Y        N           2                  Scavenged Feeding Tube  \n",
       "2          Y        N           1                  Scavenged Feeding Tube  \n",
       "3          Y        N           1                  Scavenged Feeding Tube  \n",
       "4        NaN        N           7            Residual from Milk Prep Room  "
      ]
     },
     "execution_count": 2,
     "metadata": {},
     "output_type": "execute_result"
    }
   ],
   "source": [
    "df = pd.read_excel('Data/Unlinked Metadata 0625.xlsx')\n",
    "df.head()"
   ]
  },
  {
   "cell_type": "code",
   "execution_count": 3,
   "id": "c892ab2b",
   "metadata": {},
   "outputs": [],
   "source": [
    "df.columns = df.columns.str.strip()  # Remove leading/trailing whitespace from column names"
   ]
  },
  {
   "cell_type": "code",
   "execution_count": 4,
   "id": "287dbb5d",
   "metadata": {},
   "outputs": [
    {
     "data": {
      "text/plain": [
       "Index(['Subject ID', 'Patient Consented', 'Sample Type_#', 'CGA', 'DOL',\n",
       "       'Current Weight', 'Current Height', 'Current HC', 'Scavenged/Fresh?',\n",
       "       'MBM/DMB?', 'HMF Y/N?', 'TPN Y/N?', 'Iron Y/N?', 'Linked?',\n",
       "       '# Aliquots', 'Additional Comments'],\n",
       "      dtype='object')"
      ]
     },
     "execution_count": 4,
     "metadata": {},
     "output_type": "execute_result"
    }
   ],
   "source": [
    "df.columns"
   ]
  },
  {
   "cell_type": "code",
   "execution_count": 5,
   "id": "9ad0c2fd",
   "metadata": {},
   "outputs": [
    {
     "data": {
      "application/vnd.microsoft.datawrangler.viewer.v0+json": {
       "columns": [
        {
         "name": "index",
         "rawType": "int64",
         "type": "integer"
        },
        {
         "name": "sample ID",
         "rawType": "object",
         "type": "string"
        },
        {
         "name": "inj vol",
         "rawType": "int64",
         "type": "integer"
        },
        {
         "name": "2'FL",
         "rawType": "float64",
         "type": "float"
        },
        {
         "name": "DFLAC",
         "rawType": "float64",
         "type": "float"
        },
        {
         "name": "3'SL",
         "rawType": "float64",
         "type": "float"
        },
        {
         "name": "6'SL",
         "rawType": "float64",
         "type": "float"
        },
        {
         "name": "LNT",
         "rawType": "float64",
         "type": "float"
        },
        {
         "name": "LNnT",
         "rawType": "float64",
         "type": "float"
        },
        {
         "name": "LNFPI",
         "rawType": "float64",
         "type": "float"
        },
        {
         "name": "LNFPII",
         "rawType": "float64",
         "type": "float"
        },
        {
         "name": "LNFPIII",
         "rawType": "float64",
         "type": "float"
        },
        {
         "name": "LSTc",
         "rawType": "float64",
         "type": "float"
        },
        {
         "name": "DFLNT",
         "rawType": "float64",
         "type": "float"
        },
        {
         "name": "DSLNT",
         "rawType": "float64",
         "type": "float"
        },
        {
         "name": "DFLNH",
         "rawType": "float64",
         "type": "float"
        },
        {
         "name": "FDSLNH",
         "rawType": "float64",
         "type": "float"
        },
        {
         "name": "DSLNH",
         "rawType": "float64",
         "type": "float"
        }
       ],
       "ref": "ed9eddb3-a768-436c-96a4-a1be306877e1",
       "rows": [
        [
         "0",
         "NB00003_M_27",
         "15",
         null,
         null,
         null,
         null,
         null,
         null,
         null,
         null,
         null,
         null,
         null,
         null,
         null,
         null,
         null
        ],
        [
         "1",
         "NB00003_M_26",
         "15",
         "0.1490675970931857",
         "0.025539296987577627",
         "0.03624021250389728",
         "0.048251757612899494",
         "0.032743819468760316",
         "0.015477406842065012",
         "0.03736730642423458",
         "0.029172717349526364",
         "0.014387376680289476",
         "0.02933585411582981",
         "0.024441990447873183",
         "0.024050453835836372",
         "0.014162361936552337",
         "0.02440275466666819",
         "0.014275104227623623"
        ],
        [
         "2",
         "NB00010_M_4",
         "15",
         "3.2023513616990837",
         "0.21106336990164132",
         "0.20206552916560724",
         "0.7932084210607965",
         "1.2885687070930933",
         "0.09960946803167899",
         "0.8968221498220168",
         "0.8380558695383391",
         "0.026299275418686735",
         "0.19838505325445482",
         "0.8163584260277468",
         "0.29337451743623816",
         "0.06469449421052188",
         "0.1166989190265669",
         "0.1588498152833378"
        ],
        [
         "3",
         "NB00004_M_4",
         "15",
         "4.533413070954661",
         "0.015644483830597647",
         "0.10918640624909647",
         "0.5164479939244757",
         "0.978175714354076",
         "0.23523723334327576",
         "2.135244425116606",
         "0.025099792900701964",
         "0.028134673500816967",
         "0.27354438918722745",
         "0.06687655385239764",
         "0.15937560209144316",
         "0.057802905395862345",
         "0.03301530354832925",
         "0.06996939315448392"
        ],
        [
         "4",
         "NB00014_M_1",
         "15",
         "6.61632294992316",
         "0.9970306908481358",
         "0.2863338927532669",
         "0.7435929247762234",
         "1.0715908215839247",
         "0.3373549637174481",
         "2.2180693146854997",
         "0.3674151885312366",
         "0.051010445769534146",
         "0.6595499152674331",
         "0.7953953235745653",
         "0.26153134013162055",
         "0.03831670269891975",
         "0.04824288958930441",
         "0.14831873160814882"
        ]
       ],
       "shape": {
        "columns": 17,
        "rows": 5
       }
      },
      "text/html": [
       "<div>\n",
       "<style scoped>\n",
       "    .dataframe tbody tr th:only-of-type {\n",
       "        vertical-align: middle;\n",
       "    }\n",
       "\n",
       "    .dataframe tbody tr th {\n",
       "        vertical-align: top;\n",
       "    }\n",
       "\n",
       "    .dataframe thead th {\n",
       "        text-align: right;\n",
       "    }\n",
       "</style>\n",
       "<table border=\"1\" class=\"dataframe\">\n",
       "  <thead>\n",
       "    <tr style=\"text-align: right;\">\n",
       "      <th></th>\n",
       "      <th>sample ID</th>\n",
       "      <th>inj vol</th>\n",
       "      <th>2'FL</th>\n",
       "      <th>DFLAC</th>\n",
       "      <th>3'SL</th>\n",
       "      <th>6'SL</th>\n",
       "      <th>LNT</th>\n",
       "      <th>LNnT</th>\n",
       "      <th>LNFPI</th>\n",
       "      <th>LNFPII</th>\n",
       "      <th>LNFPIII</th>\n",
       "      <th>LSTc</th>\n",
       "      <th>DFLNT</th>\n",
       "      <th>DSLNT</th>\n",
       "      <th>DFLNH</th>\n",
       "      <th>FDSLNH</th>\n",
       "      <th>DSLNH</th>\n",
       "    </tr>\n",
       "  </thead>\n",
       "  <tbody>\n",
       "    <tr>\n",
       "      <th>0</th>\n",
       "      <td>NB00003_M_27</td>\n",
       "      <td>15</td>\n",
       "      <td>NaN</td>\n",
       "      <td>NaN</td>\n",
       "      <td>NaN</td>\n",
       "      <td>NaN</td>\n",
       "      <td>NaN</td>\n",
       "      <td>NaN</td>\n",
       "      <td>NaN</td>\n",
       "      <td>NaN</td>\n",
       "      <td>NaN</td>\n",
       "      <td>NaN</td>\n",
       "      <td>NaN</td>\n",
       "      <td>NaN</td>\n",
       "      <td>NaN</td>\n",
       "      <td>NaN</td>\n",
       "      <td>NaN</td>\n",
       "    </tr>\n",
       "    <tr>\n",
       "      <th>1</th>\n",
       "      <td>NB00003_M_26</td>\n",
       "      <td>15</td>\n",
       "      <td>0.149068</td>\n",
       "      <td>0.025539</td>\n",
       "      <td>0.036240</td>\n",
       "      <td>0.048252</td>\n",
       "      <td>0.032744</td>\n",
       "      <td>0.015477</td>\n",
       "      <td>0.037367</td>\n",
       "      <td>0.029173</td>\n",
       "      <td>0.014387</td>\n",
       "      <td>0.029336</td>\n",
       "      <td>0.024442</td>\n",
       "      <td>0.024050</td>\n",
       "      <td>0.014162</td>\n",
       "      <td>0.024403</td>\n",
       "      <td>0.014275</td>\n",
       "    </tr>\n",
       "    <tr>\n",
       "      <th>2</th>\n",
       "      <td>NB00010_M_4</td>\n",
       "      <td>15</td>\n",
       "      <td>3.202351</td>\n",
       "      <td>0.211063</td>\n",
       "      <td>0.202066</td>\n",
       "      <td>0.793208</td>\n",
       "      <td>1.288569</td>\n",
       "      <td>0.099609</td>\n",
       "      <td>0.896822</td>\n",
       "      <td>0.838056</td>\n",
       "      <td>0.026299</td>\n",
       "      <td>0.198385</td>\n",
       "      <td>0.816358</td>\n",
       "      <td>0.293375</td>\n",
       "      <td>0.064694</td>\n",
       "      <td>0.116699</td>\n",
       "      <td>0.158850</td>\n",
       "    </tr>\n",
       "    <tr>\n",
       "      <th>3</th>\n",
       "      <td>NB00004_M_4</td>\n",
       "      <td>15</td>\n",
       "      <td>4.533413</td>\n",
       "      <td>0.015644</td>\n",
       "      <td>0.109186</td>\n",
       "      <td>0.516448</td>\n",
       "      <td>0.978176</td>\n",
       "      <td>0.235237</td>\n",
       "      <td>2.135244</td>\n",
       "      <td>0.025100</td>\n",
       "      <td>0.028135</td>\n",
       "      <td>0.273544</td>\n",
       "      <td>0.066877</td>\n",
       "      <td>0.159376</td>\n",
       "      <td>0.057803</td>\n",
       "      <td>0.033015</td>\n",
       "      <td>0.069969</td>\n",
       "    </tr>\n",
       "    <tr>\n",
       "      <th>4</th>\n",
       "      <td>NB00014_M_1</td>\n",
       "      <td>15</td>\n",
       "      <td>6.616323</td>\n",
       "      <td>0.997031</td>\n",
       "      <td>0.286334</td>\n",
       "      <td>0.743593</td>\n",
       "      <td>1.071591</td>\n",
       "      <td>0.337355</td>\n",
       "      <td>2.218069</td>\n",
       "      <td>0.367415</td>\n",
       "      <td>0.051010</td>\n",
       "      <td>0.659550</td>\n",
       "      <td>0.795395</td>\n",
       "      <td>0.261531</td>\n",
       "      <td>0.038317</td>\n",
       "      <td>0.048243</td>\n",
       "      <td>0.148319</td>\n",
       "    </tr>\n",
       "  </tbody>\n",
       "</table>\n",
       "</div>"
      ],
      "text/plain": [
       "      sample ID  inj vol      2'FL     DFLAC      3'SL      6'SL       LNT  \\\n",
       "0  NB00003_M_27       15       NaN       NaN       NaN       NaN       NaN   \n",
       "1  NB00003_M_26       15  0.149068  0.025539  0.036240  0.048252  0.032744   \n",
       "2   NB00010_M_4       15  3.202351  0.211063  0.202066  0.793208  1.288569   \n",
       "3   NB00004_M_4       15  4.533413  0.015644  0.109186  0.516448  0.978176   \n",
       "4   NB00014_M_1       15  6.616323  0.997031  0.286334  0.743593  1.071591   \n",
       "\n",
       "       LNnT     LNFPI    LNFPII   LNFPIII      LSTc     DFLNT     DSLNT  \\\n",
       "0       NaN       NaN       NaN       NaN       NaN       NaN       NaN   \n",
       "1  0.015477  0.037367  0.029173  0.014387  0.029336  0.024442  0.024050   \n",
       "2  0.099609  0.896822  0.838056  0.026299  0.198385  0.816358  0.293375   \n",
       "3  0.235237  2.135244  0.025100  0.028135  0.273544  0.066877  0.159376   \n",
       "4  0.337355  2.218069  0.367415  0.051010  0.659550  0.795395  0.261531   \n",
       "\n",
       "      DFLNH    FDSLNH     DSLNH  \n",
       "0       NaN       NaN       NaN  \n",
       "1  0.014162  0.024403  0.014275  \n",
       "2  0.064694  0.116699  0.158850  \n",
       "3  0.057803  0.033015  0.069969  \n",
       "4  0.038317  0.048243  0.148319  "
      ]
     },
     "execution_count": 5,
     "metadata": {},
     "output_type": "execute_result"
    }
   ],
   "source": [
    "AC = pd.read_excel('Data/NeoBank Unlinked AC.xlsx')\n",
    "AC.head()"
   ]
  },
  {
   "cell_type": "code",
   "execution_count": 6,
   "id": "d4701250",
   "metadata": {},
   "outputs": [
    {
     "data": {
      "text/plain": [
       "Index(['sample ID', 'inj vol', '2'FL', 'DFLAC', '3'SL', '6'SL', 'LNT', 'LNnT',\n",
       "       'LNFPI', 'LNFPII', 'LNFPIII', 'LSTc', 'DFLNT', 'DSLNT', 'DFLNH',\n",
       "       'FDSLNH', 'DSLNH'],\n",
       "      dtype='object')"
      ]
     },
     "execution_count": 6,
     "metadata": {},
     "output_type": "execute_result"
    }
   ],
   "source": [
    "AC.columns"
   ]
  },
  {
   "cell_type": "code",
   "execution_count": 7,
   "id": "e25d1f5a",
   "metadata": {},
   "outputs": [],
   "source": [
    "# rename columns without the \"'\"\n",
    "AC = AC.rename(columns={\"2'FL\": \"2FL\", \"3'SL\": \"3SL\", \"6'SL\": \"6SL\"})"
   ]
  },
  {
   "cell_type": "code",
   "execution_count": 8,
   "id": "c613c3e2",
   "metadata": {},
   "outputs": [],
   "source": [
    "# Rename columns for consistency\n",
    "\n",
    "df = df.rename(columns={\"Sample Type_#\": \"sample_unique_id\"})\n",
    "AC = AC.rename(columns={\"sample ID\": \"sample_unique_id\"})\n"
   ]
  },
  {
   "cell_type": "code",
   "execution_count": 9,
   "id": "6e7d4f88",
   "metadata": {},
   "outputs": [],
   "source": [
    "df[\"sample_unique_id\"] = df[\"sample_unique_id\"].astype(str).str.strip()  # Ensure sample_unique_id is a string and strip whitespace\n",
    "AC[\"sample_unique_id\"] = AC[\"sample_unique_id\"].astype(str).str.strip()"
   ]
  },
  {
   "cell_type": "markdown",
   "id": "9e81225d",
   "metadata": {},
   "source": [
    "#### Merge the Metadata and Area Counts DataFrames\n",
    "- inner join = samples that exist in both DataFrames"
   ]
  },
  {
   "cell_type": "code",
   "execution_count": 10,
   "id": "ff81278c",
   "metadata": {},
   "outputs": [],
   "source": [
    "merged = pd.merge(df, AC, on=\"sample_unique_id\", how=\"inner\")"
   ]
  },
  {
   "cell_type": "code",
   "execution_count": 11,
   "id": "d7c28e9f",
   "metadata": {},
   "outputs": [
    {
     "data": {
      "application/vnd.microsoft.datawrangler.viewer.v0+json": {
       "columns": [
        {
         "name": "index",
         "rawType": "int64",
         "type": "integer"
        },
        {
         "name": "Subject ID",
         "rawType": "object",
         "type": "string"
        },
        {
         "name": "Patient Consented",
         "rawType": "object",
         "type": "string"
        },
        {
         "name": "sample_unique_id",
         "rawType": "object",
         "type": "string"
        },
        {
         "name": "CGA",
         "rawType": "float64",
         "type": "float"
        },
        {
         "name": "DOL",
         "rawType": "int64",
         "type": "integer"
        },
        {
         "name": "Current Weight",
         "rawType": "int64",
         "type": "integer"
        },
        {
         "name": "Current Height",
         "rawType": "float64",
         "type": "float"
        },
        {
         "name": "Current HC",
         "rawType": "float64",
         "type": "float"
        },
        {
         "name": "Scavenged/Fresh?",
         "rawType": "object",
         "type": "string"
        },
        {
         "name": "MBM/DMB?",
         "rawType": "object",
         "type": "unknown"
        },
        {
         "name": "HMF Y/N?",
         "rawType": "object",
         "type": "unknown"
        },
        {
         "name": "TPN Y/N?",
         "rawType": "object",
         "type": "unknown"
        },
        {
         "name": "Iron Y/N?",
         "rawType": "object",
         "type": "unknown"
        },
        {
         "name": "Linked?",
         "rawType": "object",
         "type": "string"
        },
        {
         "name": "# Aliquots",
         "rawType": "object",
         "type": "unknown"
        },
        {
         "name": "Additional Comments",
         "rawType": "object",
         "type": "string"
        },
        {
         "name": "inj vol",
         "rawType": "int64",
         "type": "integer"
        },
        {
         "name": "2FL",
         "rawType": "float64",
         "type": "float"
        },
        {
         "name": "DFLAC",
         "rawType": "float64",
         "type": "float"
        },
        {
         "name": "3SL",
         "rawType": "float64",
         "type": "float"
        },
        {
         "name": "6SL",
         "rawType": "float64",
         "type": "float"
        },
        {
         "name": "LNT",
         "rawType": "float64",
         "type": "float"
        },
        {
         "name": "LNnT",
         "rawType": "float64",
         "type": "float"
        },
        {
         "name": "LNFPI",
         "rawType": "float64",
         "type": "float"
        },
        {
         "name": "LNFPII",
         "rawType": "float64",
         "type": "float"
        },
        {
         "name": "LNFPIII",
         "rawType": "float64",
         "type": "float"
        },
        {
         "name": "LSTc",
         "rawType": "float64",
         "type": "float"
        },
        {
         "name": "DFLNT",
         "rawType": "float64",
         "type": "float"
        },
        {
         "name": "DSLNT",
         "rawType": "float64",
         "type": "float"
        },
        {
         "name": "DFLNH",
         "rawType": "float64",
         "type": "float"
        },
        {
         "name": "FDSLNH",
         "rawType": "float64",
         "type": "float"
        },
        {
         "name": "DSLNH",
         "rawType": "float64",
         "type": "float"
        }
       ],
       "ref": "f08a3913-23c3-436c-8652-ec3ef63ffba1",
       "rows": [
        [
         "0",
         "NB00012",
         "N",
         "NB00012_M_1",
         "28.4",
         "27",
         "1430",
         "32.0",
         "26.0",
         "Scavenged ",
         "MBM + DBM",
         "Y",
         null,
         null,
         "N",
         "5 (~0.8)",
         "Residual from Milk Prep Room & B2 Full",
         "15",
         "1.811912330958749",
         "0.07707060113782115",
         "0.22792587565789774",
         "0.7197879275065755",
         "0.6333856279207701",
         "0.0896225683853419",
         "0.47025646823663464",
         "1.2053693879631586",
         "0.014793279266584445",
         "0.23957165782894155",
         "0.2819989086851648",
         "0.1732450637080497",
         "0.21513802826755643",
         "0.3487438575241787",
         "0.38466497819276657"
        ],
        [
         "1",
         "NB00003",
         "Y",
         "NB00003_M_1",
         "29.0",
         "22",
         "995",
         "35.7",
         "23.7",
         "Scavenged ",
         "DBM",
         "Y",
         "N",
         "Y",
         "N",
         "2",
         "Scavenged Feeding Tube",
         "15",
         "2.9419132303851763",
         "0.364108399458998",
         "0.1826473612446314",
         "0.1616098464476313",
         "0.35843755791754234",
         "0.054805570627876006",
         "0.3374475781423452",
         "0.3529796196111095",
         "0.011569695799612707",
         "0.07586959954658233",
         "0.3751906952121366",
         "0.06606687741901666",
         "0.044498123791850676",
         "0.038670285035030276",
         "0.03409487766197261"
        ],
        [
         "2",
         "NB00003",
         "Y",
         "NB00003_M_2",
         "29.0",
         "22",
         "1005",
         "36.0",
         "24.4",
         "Scavenged ",
         "DBM",
         "Y",
         "N",
         "Y",
         "N",
         "1",
         "Scavenged Feeding Tube",
         "15",
         "3.023054612052171",
         "0.18368733374218318",
         "0.10962584349405209",
         "0.17186182620178275",
         "0.3586415578882244",
         "0.11372755056384538",
         "0.5089292454536027",
         "0.38407271543167604",
         "0.00934197010540663",
         "0.08231887720347097",
         "0.29611810499105423",
         "0.06314209966015955",
         "0.07326092326392106",
         "0.057760570963968215",
         "0.057419207434635466"
        ],
        [
         "3",
         "NB00003",
         "Y",
         "NB00003_M_3",
         "29.3",
         "25",
         "1065",
         "36.0",
         "24.3",
         "Scavenged ",
         "DBM",
         "Y",
         "N",
         "Y",
         "N",
         "1",
         "Scavenged Feeding Tube",
         "15",
         "2.109768943615606",
         "0.07141635928465956",
         "0.1102328669268251",
         "0.33226393278692906",
         "0.4194248571763661",
         "0.07886126229990406",
         "0.5796393119314601",
         "0.38161726479079416",
         "0.012010699898123093",
         "0.08042837719545666",
         "0.18184402960795745",
         "0.06115928302016862",
         "0.05297330643287098",
         "0.09072214160492156",
         "0.052794135516815555"
        ],
        [
         "4",
         "NB00354",
         "N",
         "NB00354_M_1",
         "29.4",
         "12",
         "1005",
         "34.0",
         "34.5",
         "Scavenged ",
         "MBM",
         "Y",
         "Y",
         null,
         "N",
         "7",
         "Residual from Milk Prep Room",
         "15",
         "0.31973492959216626",
         "0.022607705563542344",
         "0.20316178211830185",
         "0.9210525321617933",
         "1.2912157398860233",
         "0.049258495922953775",
         "0.1087941875434792",
         "1.0396031274544355",
         "0.024322886091102613",
         "0.25874979008883314",
         "0.1385555646152558",
         "0.16419986057093655",
         "0.20309889215883603",
         "0.34276962017723295",
         "0.36443777577382075"
        ],
        [
         "5",
         "NB00354",
         "N",
         "NB00354_M_2",
         "29.4",
         "12",
         "1005",
         "34.0",
         "34.5",
         "Scavenged ",
         "MBM",
         "Y",
         "Y",
         "N",
         "N",
         "1",
         "Scavenged Feeding Tube",
         "15",
         "0.2949974011437965",
         "0.01168706937601261",
         "0.19879007683469238",
         "0.830289210817917",
         "1.2940011900725363",
         "0.042170096624406316",
         "0.11108529151281683",
         "0.9953054928716623",
         "0.020519541988501557",
         "0.25536650657365567",
         "0.13339788748623962",
         "0.15233815912289725",
         "0.14335013221418638",
         "0.3830186126268753",
         "0.35030868375785823"
        ],
        [
         "6",
         "NB00002",
         "Y",
         "NB00002_M_1",
         "30.0",
         "9",
         "1045",
         "35.5",
         "26.0",
         "Scavenged ",
         "MBM",
         "N",
         "Y",
         "N",
         "N",
         "1 (~1mL)",
         "Scavenged Feeding Tube - Nurse needed to feed extra 1 mL",
         "15",
         "0.30861938461663985",
         "0.01804625621304028",
         "0.36608589099178823",
         "0.9846247973499805",
         "1.8634343553701318",
         "0.19451012920699604",
         "0.15145421448472268",
         "1.7544745370629888",
         "0.03841920747004992",
         "0.4628113747370057",
         "0.286181205827767",
         "0.2762989903709971",
         "0.07344897746735825",
         "0.0833187281104808",
         "0.17796811946448116"
        ],
        [
         "7",
         "NB00003",
         "Y",
         "NB00003_M_4",
         "30.0",
         "29",
         "1150",
         "36.0",
         "24.5",
         "Scavenged ",
         "DBM",
         "Y",
         "N",
         "Y",
         "N",
         "1",
         "Scavenged Feeding Tube - also started on sodium chloride oral solution 6/15/24 ",
         "15",
         "1.8098676326206744",
         "0.05742944790067217",
         "0.09167010577546421",
         "0.1707488175461107",
         "0.48906377551405067",
         "0.06590360021989618",
         "0.5221296602263976",
         "0.3298574316968838",
         "0.011591379716336577",
         "0.07275388595044185",
         "0.15277279365230712",
         "0.05262972443885513",
         "0.043324944956735174",
         "0.07688806730154686",
         "0.04849744094552301"
        ],
        [
         "8",
         "NB00002",
         "Y",
         "NB00002_M_2",
         "30.2",
         "11",
         "1090",
         "35.5",
         "26.0",
         "Scavenged ",
         "MBM",
         "Y",
         "Y",
         "N",
         "N",
         "1",
         "Scanvenged Feeding Tube - Collected Outside of 4 hr Window ",
         "15",
         "0.27241472508634834",
         "0.02673182274217201",
         "0.4108805014130961",
         "0.5286133449375511",
         "1.1626992335510449",
         "0.22731505729222168",
         "0.11139231068874485",
         "1.521846867345852",
         "0.028058006886937478",
         "0.3696088950938631",
         "0.2075909820687395",
         "0.23461926874324351",
         "0.07456677988477818",
         "0.048427369309698196",
         "0.12899856528868994"
        ],
        [
         "9",
         "NB00002",
         "Y",
         "NB00002_M_3",
         "30.3",
         "12",
         "1105",
         "36.5",
         "25.0",
         "Scavenged ",
         "MBM",
         "Y",
         "Y",
         "N",
         "N",
         "1",
         "Scavenged Feeding Tube",
         "15",
         "0.1635465021794089",
         "0.02099357396465713",
         "0.21864546177656943",
         "0.6520679803115023",
         "1.3931631559844457",
         "0.10317146193315041",
         "0.1417893537302228",
         "1.3098125539995027",
         "0.030698635472516028",
         "0.4463645179024698",
         "0.44707517458434226",
         "0.2831823729107955",
         "0.08284820440504298",
         "0.05130052501125178",
         "0.3511286820309752"
        ],
        [
         "10",
         "NB00003",
         "Y",
         "NB00003_M_6",
         "30.3",
         "32",
         "1165",
         "37.0",
         "24.7",
         "Scavenged ",
         "DBM",
         "Y",
         "N",
         "Y",
         "N",
         "1",
         "Scavenged Feeding Tube + NaCl Oral Solution",
         "15",
         "3.578442408408733",
         "0.21846947751790943",
         "0.1213040506149983",
         "0.22115177804986572",
         "0.7216714818913276",
         "0.09396468448716762",
         "0.643247942297562",
         "0.32871244402702676",
         "0.015870545500177753",
         "0.13278559996863576",
         "0.35515847767833236",
         "0.06899227522651845",
         "0.0605848004756302",
         "0.03484211251658096",
         "0.0840207971202835"
        ],
        [
         "11",
         "NB00014",
         "N",
         "NB00014_M_1",
         "30.3",
         "10",
         "990",
         "35.0",
         "23.5",
         "Scavenged ",
         "MBM",
         "Y",
         null,
         null,
         "N",
         "3",
         "Residual from Milk Prep Room",
         "15",
         "6.61632294992316",
         "0.9970306908481358",
         "0.2863338927532669",
         "0.7435929247762234",
         "1.0715908215839247",
         "0.3373549637174481",
         "2.2180693146854997",
         "0.3674151885312366",
         "0.051010445769534146",
         "0.6595499152674331",
         "0.7953953235745653",
         "0.26153134013162055",
         "0.03831670269891975",
         "0.04824288958930441",
         "0.14831873160814882"
        ],
        [
         "12",
         "NB00002",
         "Y",
         "NB00002_M_4",
         "30.4",
         "13",
         "1125",
         "36.5",
         "25.0",
         "Scavenged ",
         "MBM",
         "Y",
         "Y",
         "N",
         "N",
         "1",
         "Scavenged Feeding Tube",
         "15",
         "0.2162701847085042",
         "0.010991394790686873",
         "0.19175131773259294",
         "0.7774183724417802",
         "1.4380992746833545",
         "0.07538774418131834",
         "0.14444837687169962",
         "1.2688636872534353",
         "0.027962122854968293",
         "0.3715421437238501",
         "0.2982593968588741",
         "0.2547197683170904",
         "0.08592194895253386",
         "0.06455678136888064",
         "0.2611379062919771"
        ],
        [
         "13",
         "NB00003",
         "Y",
         "NB00003_M_7",
         "30.4",
         "33",
         "1165",
         "37.0",
         "24.7",
         "Scavenged ",
         "DBM",
         "Y",
         "N",
         "Y",
         "N",
         "1",
         "Scavenged Feeding Tube + NaCl Oral Solution",
         "15",
         "3.764595734448112",
         "0.2147087322138755",
         "0.1367632064049055",
         "0.2776786978993204",
         "0.7069464650382584",
         "0.09994172318233101",
         "0.6569198183579968",
         "0.34537077437432895",
         "0.016303820479290042",
         "0.12228701817238295",
         "0.37649579573662834",
         "0.07484777955575705",
         "0.056855046019945794",
         "0.03911228101556835",
         "0.08483467688161306"
        ],
        [
         "14",
         "NB00354",
         "N",
         "NB00354_M_13",
         "30.4",
         "19",
         "1185",
         "36.5",
         "25.5",
         "Scavenged",
         "MBM",
         "Y",
         "N",
         null,
         "N",
         "7",
         "Residual from Milk Prep Room",
         "15",
         "0.2909644105247797",
         "0.01402986607938183",
         "0.18028801570259256",
         "1.102694218375306",
         "1.501238472184328",
         "0.127535073444977",
         "0.11732758454961019",
         "1.0262122661670512",
         "0.040566188205551135",
         "0.3567514837291102",
         "0.08343534445695547",
         "0.1715885599437252",
         "0.08460561397786424",
         "0.18463850468834087",
         "0.21946838144411776"
        ],
        [
         "15",
         "NB00006",
         "N",
         "NB00006_M_1",
         "30.6",
         "13",
         "1545",
         "40.0",
         "27.0",
         "Scavenged ",
         "MBM",
         "Y",
         null,
         null,
         "N",
         "5",
         "Residual from Milk Prep Room",
         "15",
         "3.6473348555793823",
         "0.26549961748643547",
         "0.14720041657881722",
         "0.24020765376726386",
         "0.40720778615559045",
         "0.09948814248466352",
         "0.553810167482633",
         "0.5855116376120353",
         "0.008663768257488333",
         "0.0687872837599841",
         "0.3558934626975292",
         "0.06565372531980884",
         "0.08489663534425536",
         "0.052552145617546786",
         "0.049488700812090496"
        ],
        [
         "16",
         "NB00008",
         "N",
         "NB00008_M_1",
         "30.6",
         "13",
         "1545",
         "40.0",
         "27.0",
         "Scavenged ",
         "MBM",
         "Y",
         null,
         null,
         "N",
         "8",
         "Residual from Milk Prep Room",
         "15",
         "7.416957800538314",
         "1.0637808062591916",
         "0.7834383910855826",
         "0.7738688651721551",
         "1.1777967327446117",
         "0.2560847844939349",
         "1.8478247973930266",
         "0.6848435950124933",
         "0.030680516387877527",
         "0.7041514759639215",
         "1.5599185509247435",
         "0.3115412814096771",
         "0.047249561797756974",
         "0.041791501720217165",
         "0.3974787803378197"
        ],
        [
         "17",
         "NB00400",
         "N",
         "NB00400_M_3",
         "30.6",
         "38",
         "1110",
         "33.0",
         "24.5",
         "Scavenged",
         "MBM",
         "Y",
         "Y",
         "N",
         "N",
         "6",
         "Residual from Milk Prep Room",
         "15",
         "0.35666319603265556",
         "0.012678013502568879",
         "0.13763119008430286",
         "0.6151175843400941",
         "0.9085312454996394",
         "0.05804366896798685",
         "0.10415925989145504",
         "1.1089444953916228",
         "0.015564168891003708",
         "0.17410297134275912",
         "0.14914653061902342",
         "0.10891719654573967",
         "0.16454053739770327",
         "0.2598756481093508",
         "0.242781742135864"
        ],
        [
         "18",
         "NB00003",
         "Y",
         "NB00003_M_8",
         "31.0",
         "36",
         "1275",
         "37.0",
         "26.0",
         "Scavenged ",
         "DBM",
         "Y",
         "N",
         "Y",
         "N",
         "1",
         "Scavenged Feeding Tube + NaCl Oral Solution - Pt intubated 6/25 & is NPO ",
         "15",
         "3.8940920198521103",
         "0.2154328105413317",
         "0.14324512905877643",
         "0.2978505500104888",
         "0.719653786807846",
         "0.10639317347633165",
         "0.6862021528622225",
         "0.35799376566218544",
         "0.016547592339526098",
         "0.1371423880265395",
         "0.3861557445291706",
         "0.07621613598948578",
         "0.05700613231532405",
         "0.04274187149724411",
         "0.08447351878660848"
        ],
        [
         "19",
         "NB00380",
         "N",
         "NB00380_M_3",
         "31.0",
         "15",
         "1515",
         "40.7",
         "28.0",
         "Scavenged",
         "MBM",
         "Y",
         "N",
         null,
         "N",
         "6",
         "Residual from Milk Prep Room",
         "15",
         "0.31656390406620727",
         "0.017094243392099244",
         "0.28137283194870394",
         "0.7542933293304641",
         "1.5220410219808964",
         "0.3798395405507254",
         "0.15512146004831426",
         "1.523026491183793",
         "0.020155381326746446",
         "0.3974485848672131",
         "0.21924580796586637",
         "0.16643434401256446",
         "0.1199470387168421",
         "0.27973037933928646",
         "0.28925130914866565"
        ],
        [
         "20",
         "NB00002",
         "Y",
         "NB00002_M_5",
         "31.1",
         "17",
         "1135",
         "37.5",
         "26.0",
         "Scavenged ",
         "MBM",
         "Y",
         "Y",
         "N",
         "N",
         "1",
         "Scavenged Feeding Tube",
         "15",
         "3.418565428217386",
         "0.18639065942561706",
         "0.13510890651218666",
         "0.20297018990636473",
         "0.6951901785032322",
         "0.09300616382416599",
         "0.6118039737661489",
         "0.3144103298293674",
         "0.01335752141271964",
         "0.11982279031956211",
         "0.33427139745118234",
         "0.060907548767549856",
         "0.06376080272857508",
         "0.03146946283582233",
         "0.07557574653436254"
        ],
        [
         "21",
         "NB00002",
         "Y",
         "NB00002_M_5",
         "31.1",
         "17",
         "1135",
         "37.5",
         "26.0",
         "Scavenged ",
         "MBM",
         "Y",
         "Y",
         "N",
         "N",
         "1",
         "Scavenged Feeding Tube",
         "15",
         "0.2793530695057932",
         "0.010351268427998411",
         "0.22660298395204023",
         "1.1846525322866441",
         "2.1000877950936263",
         "0.06505290355033551",
         "0.22316072844385587",
         "1.6958458549290638",
         "0.035507103172716985",
         "0.29896919138627115",
         "0.30765204329446105",
         "0.31795632529237194",
         "0.07214986405145518",
         "0.08342934382924115",
         "0.1541768035464317"
        ],
        [
         "22",
         "NB00002",
         "Y",
         "NB00002_M_6",
         "31.3",
         "19",
         "1230",
         "37.5",
         "26.0",
         "Scavenged ",
         "MBM",
         "Y",
         "Y",
         "N",
         "N",
         "1 (~0.4 mL)",
         "Scavenged Feeding Tube",
         "15",
         "0.2575600438061713",
         "0.016630797854426345",
         "0.22609531741679667",
         "0.7810005957561614",
         "2.6377448363951475",
         "0.06261667322928088",
         "0.23243632791033428",
         "1.751152612289401",
         "0.034272702529193864",
         "0.2617165870096918",
         "0.331115652996092",
         "0.3112664119387133",
         "0.08285702026420146",
         "0.08774384393787249",
         "0.1274106284120369"
        ],
        [
         "23",
         "NB00414",
         "N",
         "NB00414_M_5",
         "31.3",
         "12",
         "1280",
         "38.0",
         "27.2",
         "Scavenged",
         "MBM",
         "Y",
         "N",
         "N",
         "N",
         "7",
         "Residual from Milk Prep Room",
         "15",
         "3.6604603850948783",
         "0.19129650720507232",
         "0.3534866858288711",
         "1.3673437829287511",
         "3.3451883287696624",
         "0.5208437188817955",
         "2.578849308427004",
         "0.8139672190949864",
         "0.08775162218200305",
         "0.8146555106508085",
         "1.0535509520665272",
         "0.31064035078605035",
         "0.02987830544669532",
         "0.02991285630005934",
         "0.13821128788620407"
        ],
        [
         "24",
         "NB00008",
         "N",
         "NB00008_M_2",
         "31.4",
         "18",
         "1660",
         "41.5",
         "29.0",
         "Scavenged ",
         "MBM",
         "Y",
         null,
         null,
         "N",
         "4 (~0.75)",
         "Residual from Milk Prep Room",
         "15",
         "6.007611249488327",
         "1.034395607270845",
         "0.34643207531247006",
         "1.3850936100258575",
         "1.2541702460916253",
         "0.2347657077322242",
         "2.049549750802032",
         "0.7908071087391855",
         "0.03424417884782224",
         "0.4897468155773765",
         "1.5008010755418475",
         "0.30434075185465936",
         "0.06731463145189548",
         "0.03788890980328151",
         "0.34941914373341604"
        ],
        [
         "25",
         "NB00013",
         "N",
         "NB00013_M_1",
         "31.4",
         "13",
         "1215",
         "39.0",
         "26.5",
         "Scavenged ",
         "DBM",
         "Y",
         null,
         null,
         "N",
         "5",
         "Residual from Milk Prep Room",
         "15",
         "4.030331930018349",
         "0.17365002436472807",
         "0.12179862152524558",
         "0.17908131912999858",
         "0.48934877257024506",
         "0.07153888509623081",
         "0.7529757254947851",
         "0.35459922139771016",
         "0.009274617016249646",
         "0.0754375602448113",
         "0.1270648467273191",
         "0.05085799748435275",
         "0.06709944263574565",
         "0.03086868574054376",
         "0.0485257217521561"
        ],
        [
         "26",
         "NB00008",
         "N",
         "NB00008_M_3",
         "31.5",
         "19",
         "1660",
         "41.5",
         "29.8",
         "Scavenged ",
         "DBM",
         "Y",
         null,
         null,
         "N",
         "8 (~0.9)",
         "Residual from Milk Prep Room",
         "15",
         "3.168154267836569",
         "0.2574592408194597",
         "0.14749087093755217",
         "0.341555111794463",
         "0.7757971699135178",
         "0.1298916768284895",
         "0.6438936145418928",
         "0.6037920813134282",
         "0.01693018585813871",
         "0.15925650523444349",
         "0.4387132692095953",
         "0.10076195541836955",
         "0.12417611334454337",
         "0.04433012897443782",
         "0.1054566056319628"
        ],
        [
         "27",
         "NB00380",
         "N",
         "NB00380_M_4",
         "31.5",
         "20",
         "1720",
         "40.7",
         "28.0",
         "Scavenged",
         "MBM",
         "Y",
         "N",
         null,
         "N",
         "9",
         "Residual from Milk Prep Room",
         "15",
         "0.2998090905952167",
         "0.022839543100773622",
         "0.2629279503019768",
         "0.623884443650354",
         "1.2589962174770517",
         "0.2386457248912476",
         "0.1324759735409737",
         "1.5740538879557213",
         "0.018574721292155805",
         "0.35940838781886786",
         "0.4573031547477839",
         "0.16612699987719093",
         "0.12109814889074397",
         "0.24633590627928784",
         "0.4507300166067955"
        ],
        [
         "28",
         "NB00359",
         "N",
         "NB00359_M_1",
         "31.6",
         "11",
         "1230",
         "39.0",
         "26.0",
         "Scavenged ",
         "MBM",
         "Y",
         "N",
         "N",
         "N",
         "7",
         "Residual from Milk Prep Room",
         "15",
         "0.3215012679368031",
         "0.018488401506148392",
         "0.2769554371937395",
         "0.8204289376730238",
         "2.617561954110445",
         "0.1535245783466699",
         "0.19138472086740613",
         "1.4905397264708902",
         "0.04752172587909452",
         "0.3585408143820001",
         "0.12222899916436365",
         "0.22190352626569776",
         "0.10873106055350215",
         "0.18231827637696152",
         "0.17049410275210009"
        ],
        [
         "29",
         "NB00359",
         "N",
         "NB00359_M_2",
         "31.6",
         "11",
         "1230",
         "39.0",
         "26.0",
         "Scavenged ",
         "MBM",
         "Y",
         "N",
         "N",
         "N",
         "2 (0.4)",
         "Scavenged Feeding Tube",
         "15",
         "0.29682289009563506",
         "0.02554007778200639",
         "0.237423393214414",
         "0.9487515883382551",
         "2.1656077609614544",
         "0.17555175004210863",
         "0.1372819575319574",
         "1.3546970258013056",
         "0.04596962218909199",
         "0.3064504082259415",
         "0.10856262641622123",
         "0.18580543142989372",
         "0.10504334240264797",
         "0.18860434077747562",
         "0.14743692448231493"
        ],
        [
         "30",
         "NB00380",
         "N",
         "NB00380_M_5",
         "31.6",
         "21",
         "1790",
         "40.7",
         "28.0",
         "Scavenged",
         "MBM",
         "Y",
         "N",
         null,
         "N",
         "6",
         "Residual from Milk Prep Room",
         "15",
         "0.30426992766335786",
         "0.011897400368608861",
         "0.2630963115595433",
         "0.8201886654160632",
         "1.3058357686623663",
         "0.3354918159742772",
         "0.1321255087319449",
         "1.3804115664193386",
         "0.01723287576315165",
         "0.37837380819840627",
         "0.17839687347713326",
         "0.14912784853636954",
         "0.0999984507441405",
         "0.24674402683266014",
         "0.24928919981159942"
        ],
        [
         "31",
         "NB00438",
         "N",
         "NB00438_M_3",
         "31.6",
         "17",
         "1670",
         "42.3",
         "28.5",
         "Scavenged",
         null,
         null,
         null,
         null,
         "N",
         "9",
         "Residual from Milk Prep Room",
         "15",
         "4.197055751225332",
         "0.3535570091804773",
         "0.21011207110754898",
         "0.5104622859752596",
         "0.8375674560399025",
         "0.17672006687915784",
         "1.5044018980676583",
         "0.39141476303411515",
         "0.01931060914636566",
         "0.30094572815281606",
         "0.5870133309426885",
         "0.10385459820356686",
         "0.04382786960668306",
         "0.0380373352717607",
         "0.11656333074411922"
        ],
        [
         "32",
         "NB00008",
         "N",
         "NB00008_M_4",
         "32.0",
         "21",
         "2045",
         "41.1",
         "30.2",
         "Scavenged ",
         "MBM + DBM",
         "Y",
         null,
         null,
         "N",
         "5",
         "Residual from Milk Prep Room",
         "15",
         "3.4456845285157964",
         "0.3952905669576334",
         "0.1437605276525403",
         "0.5316653705720512",
         "0.8756187655184848",
         "0.11119316022817982",
         "0.9075144238329944",
         "0.6453941620325657",
         "0.016272765043194283",
         "0.20668541593932083",
         "0.7446948029665917",
         "0.12565496429241083",
         "0.05905175624447104",
         "0.10909560299111175",
         "0.14642521580526616"
        ],
        [
         "33",
         "NB00359",
         "N",
         "NB00359_M_3",
         "32.0",
         "12",
         "1250",
         "39.0",
         "26.0",
         "Scavenged ",
         "MBM",
         "Y",
         "N",
         "N",
         "N",
         "10",
         "Residual from Milk Prep Room",
         "15",
         "0.2933426910191971",
         "0.05449279605562053",
         "0.19421564440916764",
         "0.9984605218290212",
         "2.0809937626727404",
         "0.12735309960393523",
         "0.16333252652553368",
         "1.3996380594921978",
         "0.041019457219249905",
         "0.2858634812025897",
         "0.120849171778614",
         "0.19432118519055552",
         "0.09880706209625041",
         "0.21084847713566632",
         "0.1718586906697678"
        ],
        [
         "34",
         "NB00359",
         "N",
         "NB00359_M_4",
         "32.0",
         "12",
         "1250",
         "39.0",
         "26.0",
         "Scavenged ",
         "MBM",
         "Y",
         "N",
         "N",
         "N",
         "1",
         "Scavenged Feeding Tube",
         "15",
         "1.1991004773101814",
         "0.45686469092796006",
         "1.3340588072712936",
         "39.38268429645175",
         "88.52056608657152",
         "3.8371715102726",
         "6.4790085186165625",
         "59.17090406621229",
         "1.7078652217952395",
         "11.990393894981759",
         "5.203788596979053",
         "8.41947351195586",
         "4.922887015164898",
         "9.960026327473312",
         "7.939355153178425"
        ],
        [
         "35",
         "NB00002",
         "Y",
         "NB00002_M_8",
         "32.1",
         "24",
         "1290",
         "38.0",
         "26.5",
         "Scavenged ",
         "MBM",
         "Y",
         "N",
         "N",
         "N",
         "1",
         "Scavenged Feeding Tube",
         "15",
         "0.23549891359658567",
         "0.009681366378785215",
         "0.29456457900825844",
         "0.46810237853447534",
         "1.0586960569942285",
         "0.15274055643823753",
         "0.10786278938845315",
         "1.1805604484659322",
         "0.03203431350743828",
         "0.35380344664533714",
         "0.2169148661417356",
         "0.19931078016756093",
         "0.07676916258715558",
         "0.05293475385801211",
         "0.11591449449920421"
        ],
        [
         "36",
         "NB00002",
         "Y",
         "NB00002_M_9",
         "32.2",
         "25",
         "1370",
         "38.0",
         "26.5",
         "Scavenged ",
         "MBM",
         "Y",
         "N",
         "N",
         "N",
         "1",
         "Scavenged Feeding Tube - Outside 4-hr .indo. by 2 hours",
         "15",
         "0.23232559758080448",
         "0.013104736164313699",
         "0.2065315188239045",
         "0.8927799035039043",
         "1.9199055099983073",
         "0.06740657661650334",
         "0.20977211748800267",
         "1.6547805821001849",
         "0.03260417650078049",
         "0.30915806393715867",
         "0.47891286417993817",
         "0.32598018150510166",
         "0.05701773775503804",
         "0.09212853786363849",
         "0.17949133079559132"
        ],
        [
         "37",
         "NB00008",
         "N",
         "NB00008_M_5",
         "32.4",
         "25",
         "1870",
         "41.1",
         "32.3",
         "Scavenged ",
         "MBM ",
         "Y",
         null,
         null,
         "N",
         "2",
         "Residual from Milk Prep Room",
         "15",
         "4.363350937031149",
         "0.3171139535646897",
         "0.2345114702133588",
         "0.9720388918122437",
         "1.7309023793960516",
         "0.16320188629338653",
         "1.8533437666680406",
         "0.692736935605723",
         "0.02559894063708239",
         "0.32933499707542313",
         "1.1980639451550776",
         "0.1948286773309529",
         "0.05573150808581261",
         "0.04177053833914584",
         "0.2012029599371627"
        ],
        [
         "38",
         "NB00002",
         "Y",
         "NB00002_M_10",
         "32.6",
         "30",
         "1540",
         "39.5",
         "28.4",
         "Scavenged ",
         "MBM",
         "Y",
         "N",
         "Y",
         "N",
         "1",
         "Scavenged Feeding Tube",
         "15",
         "0.21331357844196885",
         "0.025120876476538986",
         "0.13860678955225392",
         "0.7158945357335771",
         "1.5744545423927485",
         "0.018473075167562733",
         "0.2086658409627616",
         "1.1510615225415317",
         "0.024117532712850408",
         "0.1609214229747949",
         "0.204363713459916",
         "0.20918700860714848",
         "0.04675688068298539",
         "0.06589828377620537",
         "0.07072629732188937"
        ],
        [
         "39",
         "NB00003",
         "Y",
         "NB00003_M_9",
         "32.6",
         "50",
         "1755",
         "41.0",
         "27.5",
         "Scavenged ",
         "DBM",
         "Y",
         "Y",
         "Y",
         "N",
         "1",
         "Scavenged Feeding Tube",
         "15",
         "2.300915880290834",
         "0.194863634504468",
         "0.13953180293339257",
         "0.3688074313040499",
         "0.8990974538258194",
         "0.10473334494353376",
         "0.4461081809079917",
         "0.7853005342753601",
         "0.015877643723539038",
         "0.11256277701728087",
         "0.32105866293342017",
         "0.12365675890614847",
         "0.0988185076001473",
         "0.10528238628298767",
         "0.10426732124665031"
        ],
        [
         "40",
         "NB00004",
         "N",
         "NB00004_M_1",
         "32.6",
         "33",
         "1705",
         "39.0",
         "27.5",
         "Scavenged ",
         "MBM",
         "Y",
         "N",
         "Y",
         "N",
         "8",
         "Residual from Milk Prep Room",
         "15",
         "5.587165330787414",
         "0.021496974299738174",
         "0.16214359949386484",
         "1.196212154534303",
         "0.9847544323811968",
         "0.2125358331271595",
         "2.9875709575684706",
         "0.032285992962860485",
         "0.03664759155019657",
         "0.3103879917383964",
         "0.07923885811265681",
         "0.25661965735759545",
         "0.03808278937360094",
         "0.07745084942541373",
         "0.11464284436529618"
        ],
        [
         "41",
         "NB00237",
         "Y",
         "NB00237_M_1",
         "32.6",
         "60",
         "1780",
         "43.0",
         "27.0",
         "Scavenged ",
         "MBM",
         "Y",
         "N",
         null,
         "N",
         "10",
         "Residual from Milk Prep Room",
         "15",
         "3.805570048081036",
         "0.13514607084174496",
         "0.28286726954394653",
         "0.44595879957495665",
         "0.2046595717948656",
         "0.07875145093008443",
         "0.39198794970396617",
         "0.14651359108211348",
         "0.02182899986028908",
         "0.20277110027834297",
         "0.22455702162751018",
         "0.05487888425255843",
         "0.056255482306997916",
         "0.035913147991033706",
         "0.1012852334364776"
        ],
        [
         "42",
         "NB00378",
         "N",
         "NB00378_M_3",
         "32.6",
         "7",
         "2110",
         "47.0",
         "32.0",
         "Scavenged",
         "MBM",
         "Y",
         "Y",
         null,
         "N",
         "3 (1.0)",
         "Residual from Milk Prep Room",
         "15",
         "4.9819755520529005",
         "0.34950253406017046",
         "0.15698616398048384",
         "0.5993676080019579",
         "1.3602619153506044",
         "0.5076574562688756",
         "2.1309792260664873",
         "0.4663343731269287",
         "0.06390287055113524",
         "0.566809469416457",
         "1.3163638591698323",
         "0.20373183045995663",
         "0.03181162538383595",
         "0.03767952282155619",
         "0.08984319459206802"
        ],
        [
         "43",
         "NB00393",
         "N",
         "NB00393_M_1",
         "33.0",
         "11",
         "1340",
         "40.5",
         "26.5",
         "Scavenged",
         "MBM",
         "Y",
         "N",
         null,
         "N",
         "8",
         "Residual from Milk Prep Room",
         "15",
         "4.829257184602821",
         "0.19724902989094562",
         "0.20804494958378544",
         "0.9342553998059079",
         "0.9463375802005138",
         "0.2667886516114001",
         "1.7538858683801848",
         "0.31578606928635866",
         "0.07140616046862429",
         "0.5797909415586329",
         "0.6974859096102776",
         "0.20551805381182087",
         "0.02287789377579632",
         "0.025647359830514863",
         "0.08814451873147859"
        ],
        [
         "44",
         "NB00002",
         "Y",
         "NB00002_M_11",
         "33.1",
         "31",
         "1570",
         "39.5",
         "28.4",
         "Scavenged ",
         "MBM",
         "Y",
         "N",
         "Y",
         "N",
         "1",
         "Scavenged Feeding Tube",
         "15",
         "0.2545940143794967",
         "0.019403440237518627",
         "0.15669466368928858",
         "0.5781384752632998",
         "2.12788902687656",
         "0.028999793226732226",
         "0.2413987619357058",
         "1.3209628082521219",
         "0.028211593785125232",
         "0.20876317166326752",
         "0.24550760858739112",
         "0.2552600170336937",
         "0.04474726407087222",
         "0.09865698496709528",
         "0.08367031703093082"
        ],
        [
         "45",
         "NB00003",
         "Y",
         "NB00003_M_10",
         "33.1",
         "51",
         "1785",
         "41.0",
         "27.6",
         "Scavenged ",
         "DBM",
         "Y",
         "Y",
         "Y",
         "N",
         "1",
         "Scavenged Feeding Tube - Intubated 6/25 - NPO, restarted NG feeds 7/2",
         "15",
         "2.1776199233180744",
         "0.17741472449026333",
         "0.14828044120088926",
         "0.5616766839962003",
         "0.8103818070657416",
         "0.09249433927577",
         "0.4058279402088484",
         "0.8359472197680254",
         "0.018358922218311573",
         "0.11821671520308345",
         "0.32111414020775575",
         "0.12982464870530258",
         "0.08787279492009806",
         "0.12077595359129875",
         "0.1052551529842104"
        ],
        [
         "46",
         "NB00004",
         "N",
         "NB00004_M_2",
         "33.1",
         "12",
         "1765",
         "39.0",
         "27.5",
         "Scavenged ",
         "MBM",
         "Y",
         "N",
         "Y",
         "N",
         "3",
         "Residual from Milk Prep Room",
         "15",
         "5.443268206629487",
         "0.02502045997102328",
         "0.1495587815711396",
         "0.7670355050811495",
         "1.1434360900267322",
         "0.20534850562701695",
         "2.6188557856110126",
         "0.03771444666369373",
         "0.03788240898452278",
         "0.32162190640731475",
         "0.08116808706971688",
         "0.23352441686502945",
         "0.04473093839257828",
         "0.0626630226597957",
         "0.10999669032758727"
        ],
        [
         "47",
         "NB00010",
         "N",
         "NB00010_M_1",
         "33.1",
         "12",
         "1130",
         "32.8",
         "26.3",
         "Scavenged ",
         "MBM",
         "Y",
         null,
         null,
         "N",
         "4",
         "Residual from Milk Prep Room",
         "15",
         "6.753688192068494",
         "0.01758735088851946",
         "0.1866371473579523",
         "1.2244745126484953",
         "1.1040559715099092",
         "0.2503025271371244",
         "3.1319559375806536",
         "0.02956973101264603",
         "0.030548412726589133",
         "0.27469410397477695",
         "0.07743387630053977",
         "0.2663484332271006",
         "0.030372228539398926",
         "0.07617335949095956",
         "0.09313585639047883"
        ],
        [
         "48",
         "NB00002",
         "Y",
         "NB00002_M_12",
         "33.2",
         "32",
         "1620",
         "39.5",
         "28.4",
         "Scavenged ",
         "MBM",
         "Y",
         "N",
         "Y",
         "N",
         "2 (2nd ~0.5)",
         "Scavenged Feeding Tube",
         "15",
         "0.20283383851892026",
         "0.012871981626118464",
         "0.15593500208259142",
         "0.6417742186956336",
         "2.0765223512777737",
         "0.04041644816612227",
         "0.2638893168970978",
         "1.3950951412892119",
         "0.026656730498899373",
         "0.1915828624914152",
         "0.2676146636356759",
         "0.26574247757437824",
         "0.04717831356708725",
         "0.08486159236918824",
         "0.09603741828987099"
        ],
        [
         "49",
         "NB00003",
         "Y",
         "NB00003_M_11",
         "33.2",
         "52",
         "1835",
         "41.0",
         "27.8",
         "Scavenged ",
         "DBM",
         "Y",
         "N",
         "Y",
         "N",
         "1",
         "Scavenged Feeding Tube - Parenteral Nutrition Stopped",
         "15",
         "4.291085993178833",
         "0.1381489875054618",
         "0.14636283395708177",
         "0.2531269627202043",
         "0.4470371075119489",
         "0.07425740747060525",
         "0.8697593932860263",
         "0.32837984225443007",
         "0.013572228318141435",
         "0.0805789263592969",
         "0.08808513508843711",
         "0.05782159642704536",
         "0.07973816672055144",
         "0.024993804487221122",
         "0.04704843287843483"
        ]
       ],
       "shape": {
        "columns": 32,
        "rows": 128
       }
      },
      "text/html": [
       "<div>\n",
       "<style scoped>\n",
       "    .dataframe tbody tr th:only-of-type {\n",
       "        vertical-align: middle;\n",
       "    }\n",
       "\n",
       "    .dataframe tbody tr th {\n",
       "        vertical-align: top;\n",
       "    }\n",
       "\n",
       "    .dataframe thead th {\n",
       "        text-align: right;\n",
       "    }\n",
       "</style>\n",
       "<table border=\"1\" class=\"dataframe\">\n",
       "  <thead>\n",
       "    <tr style=\"text-align: right;\">\n",
       "      <th></th>\n",
       "      <th>Subject ID</th>\n",
       "      <th>Patient Consented</th>\n",
       "      <th>sample_unique_id</th>\n",
       "      <th>CGA</th>\n",
       "      <th>DOL</th>\n",
       "      <th>Current Weight</th>\n",
       "      <th>Current Height</th>\n",
       "      <th>Current HC</th>\n",
       "      <th>Scavenged/Fresh?</th>\n",
       "      <th>MBM/DMB?</th>\n",
       "      <th>...</th>\n",
       "      <th>LNnT</th>\n",
       "      <th>LNFPI</th>\n",
       "      <th>LNFPII</th>\n",
       "      <th>LNFPIII</th>\n",
       "      <th>LSTc</th>\n",
       "      <th>DFLNT</th>\n",
       "      <th>DSLNT</th>\n",
       "      <th>DFLNH</th>\n",
       "      <th>FDSLNH</th>\n",
       "      <th>DSLNH</th>\n",
       "    </tr>\n",
       "  </thead>\n",
       "  <tbody>\n",
       "    <tr>\n",
       "      <th>0</th>\n",
       "      <td>NB00012</td>\n",
       "      <td>N</td>\n",
       "      <td>NB00012_M_1</td>\n",
       "      <td>28.4</td>\n",
       "      <td>27</td>\n",
       "      <td>1430</td>\n",
       "      <td>32.0</td>\n",
       "      <td>26.0</td>\n",
       "      <td>Scavenged</td>\n",
       "      <td>MBM + DBM</td>\n",
       "      <td>...</td>\n",
       "      <td>0.089623</td>\n",
       "      <td>0.470256</td>\n",
       "      <td>1.205369</td>\n",
       "      <td>0.014793</td>\n",
       "      <td>0.239572</td>\n",
       "      <td>0.281999</td>\n",
       "      <td>0.173245</td>\n",
       "      <td>0.215138</td>\n",
       "      <td>0.348744</td>\n",
       "      <td>0.384665</td>\n",
       "    </tr>\n",
       "    <tr>\n",
       "      <th>1</th>\n",
       "      <td>NB00003</td>\n",
       "      <td>Y</td>\n",
       "      <td>NB00003_M_1</td>\n",
       "      <td>29.0</td>\n",
       "      <td>22</td>\n",
       "      <td>995</td>\n",
       "      <td>35.7</td>\n",
       "      <td>23.7</td>\n",
       "      <td>Scavenged</td>\n",
       "      <td>DBM</td>\n",
       "      <td>...</td>\n",
       "      <td>0.054806</td>\n",
       "      <td>0.337448</td>\n",
       "      <td>0.352980</td>\n",
       "      <td>0.011570</td>\n",
       "      <td>0.075870</td>\n",
       "      <td>0.375191</td>\n",
       "      <td>0.066067</td>\n",
       "      <td>0.044498</td>\n",
       "      <td>0.038670</td>\n",
       "      <td>0.034095</td>\n",
       "    </tr>\n",
       "    <tr>\n",
       "      <th>2</th>\n",
       "      <td>NB00003</td>\n",
       "      <td>Y</td>\n",
       "      <td>NB00003_M_2</td>\n",
       "      <td>29.0</td>\n",
       "      <td>22</td>\n",
       "      <td>1005</td>\n",
       "      <td>36.0</td>\n",
       "      <td>24.4</td>\n",
       "      <td>Scavenged</td>\n",
       "      <td>DBM</td>\n",
       "      <td>...</td>\n",
       "      <td>0.113728</td>\n",
       "      <td>0.508929</td>\n",
       "      <td>0.384073</td>\n",
       "      <td>0.009342</td>\n",
       "      <td>0.082319</td>\n",
       "      <td>0.296118</td>\n",
       "      <td>0.063142</td>\n",
       "      <td>0.073261</td>\n",
       "      <td>0.057761</td>\n",
       "      <td>0.057419</td>\n",
       "    </tr>\n",
       "    <tr>\n",
       "      <th>3</th>\n",
       "      <td>NB00003</td>\n",
       "      <td>Y</td>\n",
       "      <td>NB00003_M_3</td>\n",
       "      <td>29.3</td>\n",
       "      <td>25</td>\n",
       "      <td>1065</td>\n",
       "      <td>36.0</td>\n",
       "      <td>24.3</td>\n",
       "      <td>Scavenged</td>\n",
       "      <td>DBM</td>\n",
       "      <td>...</td>\n",
       "      <td>0.078861</td>\n",
       "      <td>0.579639</td>\n",
       "      <td>0.381617</td>\n",
       "      <td>0.012011</td>\n",
       "      <td>0.080428</td>\n",
       "      <td>0.181844</td>\n",
       "      <td>0.061159</td>\n",
       "      <td>0.052973</td>\n",
       "      <td>0.090722</td>\n",
       "      <td>0.052794</td>\n",
       "    </tr>\n",
       "    <tr>\n",
       "      <th>4</th>\n",
       "      <td>NB00354</td>\n",
       "      <td>N</td>\n",
       "      <td>NB00354_M_1</td>\n",
       "      <td>29.4</td>\n",
       "      <td>12</td>\n",
       "      <td>1005</td>\n",
       "      <td>34.0</td>\n",
       "      <td>34.5</td>\n",
       "      <td>Scavenged</td>\n",
       "      <td>MBM</td>\n",
       "      <td>...</td>\n",
       "      <td>0.049258</td>\n",
       "      <td>0.108794</td>\n",
       "      <td>1.039603</td>\n",
       "      <td>0.024323</td>\n",
       "      <td>0.258750</td>\n",
       "      <td>0.138556</td>\n",
       "      <td>0.164200</td>\n",
       "      <td>0.203099</td>\n",
       "      <td>0.342770</td>\n",
       "      <td>0.364438</td>\n",
       "    </tr>\n",
       "    <tr>\n",
       "      <th>...</th>\n",
       "      <td>...</td>\n",
       "      <td>...</td>\n",
       "      <td>...</td>\n",
       "      <td>...</td>\n",
       "      <td>...</td>\n",
       "      <td>...</td>\n",
       "      <td>...</td>\n",
       "      <td>...</td>\n",
       "      <td>...</td>\n",
       "      <td>...</td>\n",
       "      <td>...</td>\n",
       "      <td>...</td>\n",
       "      <td>...</td>\n",
       "      <td>...</td>\n",
       "      <td>...</td>\n",
       "      <td>...</td>\n",
       "      <td>...</td>\n",
       "      <td>...</td>\n",
       "      <td>...</td>\n",
       "      <td>...</td>\n",
       "      <td>...</td>\n",
       "    </tr>\n",
       "    <tr>\n",
       "      <th>123</th>\n",
       "      <td>NB00007</td>\n",
       "      <td>Y</td>\n",
       "      <td>NB00007_M_2</td>\n",
       "      <td>38.4</td>\n",
       "      <td>12</td>\n",
       "      <td>2190</td>\n",
       "      <td>44.0</td>\n",
       "      <td>32.5</td>\n",
       "      <td>Scavenged</td>\n",
       "      <td>MBM</td>\n",
       "      <td>...</td>\n",
       "      <td>0.197148</td>\n",
       "      <td>1.031503</td>\n",
       "      <td>0.691480</td>\n",
       "      <td>0.038184</td>\n",
       "      <td>0.353092</td>\n",
       "      <td>0.681753</td>\n",
       "      <td>0.194094</td>\n",
       "      <td>0.063247</td>\n",
       "      <td>0.092453</td>\n",
       "      <td>0.154003</td>\n",
       "    </tr>\n",
       "    <tr>\n",
       "      <th>124</th>\n",
       "      <td>NB00007</td>\n",
       "      <td>Y</td>\n",
       "      <td>NB00007_M_3</td>\n",
       "      <td>39.2</td>\n",
       "      <td>17</td>\n",
       "      <td>2340</td>\n",
       "      <td>44.0</td>\n",
       "      <td>33.0</td>\n",
       "      <td>Scavenged</td>\n",
       "      <td>MBM</td>\n",
       "      <td>...</td>\n",
       "      <td>0.093871</td>\n",
       "      <td>0.826393</td>\n",
       "      <td>0.565923</td>\n",
       "      <td>0.023937</td>\n",
       "      <td>0.160066</td>\n",
       "      <td>0.732057</td>\n",
       "      <td>0.248158</td>\n",
       "      <td>0.140775</td>\n",
       "      <td>0.036514</td>\n",
       "      <td>0.117773</td>\n",
       "    </tr>\n",
       "    <tr>\n",
       "      <th>125</th>\n",
       "      <td>NB00007</td>\n",
       "      <td>Y</td>\n",
       "      <td>NB00007_M_4</td>\n",
       "      <td>39.3</td>\n",
       "      <td>18</td>\n",
       "      <td>2380</td>\n",
       "      <td>44.0</td>\n",
       "      <td>33.0</td>\n",
       "      <td>Scavenged</td>\n",
       "      <td>MBM</td>\n",
       "      <td>...</td>\n",
       "      <td>0.062626</td>\n",
       "      <td>0.250724</td>\n",
       "      <td>1.749928</td>\n",
       "      <td>0.062896</td>\n",
       "      <td>0.362996</td>\n",
       "      <td>0.159926</td>\n",
       "      <td>0.227344</td>\n",
       "      <td>0.067247</td>\n",
       "      <td>0.204275</td>\n",
       "      <td>0.226578</td>\n",
       "    </tr>\n",
       "    <tr>\n",
       "      <th>126</th>\n",
       "      <td>NB00379</td>\n",
       "      <td>Y</td>\n",
       "      <td>NB00379_M_1</td>\n",
       "      <td>39.6</td>\n",
       "      <td>98</td>\n",
       "      <td>3073</td>\n",
       "      <td>45.0</td>\n",
       "      <td>33.2</td>\n",
       "      <td>Scavenged</td>\n",
       "      <td>MBM</td>\n",
       "      <td>...</td>\n",
       "      <td>0.074441</td>\n",
       "      <td>1.492769</td>\n",
       "      <td>0.211561</td>\n",
       "      <td>0.009555</td>\n",
       "      <td>0.160130</td>\n",
       "      <td>0.005741</td>\n",
       "      <td>0.066606</td>\n",
       "      <td>0.061999</td>\n",
       "      <td>0.013559</td>\n",
       "      <td>0.146605</td>\n",
       "    </tr>\n",
       "    <tr>\n",
       "      <th>127</th>\n",
       "      <td>NB00007</td>\n",
       "      <td>Y</td>\n",
       "      <td>NB00007_M_5</td>\n",
       "      <td>40.0</td>\n",
       "      <td>23</td>\n",
       "      <td>2430</td>\n",
       "      <td>45.0</td>\n",
       "      <td>34.5</td>\n",
       "      <td>Scavenged</td>\n",
       "      <td>MBM</td>\n",
       "      <td>...</td>\n",
       "      <td>0.101503</td>\n",
       "      <td>0.756176</td>\n",
       "      <td>0.861343</td>\n",
       "      <td>0.024187</td>\n",
       "      <td>0.165676</td>\n",
       "      <td>0.767132</td>\n",
       "      <td>0.270879</td>\n",
       "      <td>0.059874</td>\n",
       "      <td>0.098085</td>\n",
       "      <td>0.144319</td>\n",
       "    </tr>\n",
       "  </tbody>\n",
       "</table>\n",
       "<p>128 rows × 32 columns</p>\n",
       "</div>"
      ],
      "text/plain": [
       "    Subject ID Patient Consented sample_unique_id   CGA  DOL  Current Weight  \\\n",
       "0      NB00012                 N      NB00012_M_1  28.4   27            1430   \n",
       "1      NB00003                 Y      NB00003_M_1  29.0   22             995   \n",
       "2      NB00003                 Y      NB00003_M_2  29.0   22            1005   \n",
       "3      NB00003                 Y      NB00003_M_3  29.3   25            1065   \n",
       "4      NB00354                 N      NB00354_M_1  29.4   12            1005   \n",
       "..         ...               ...              ...   ...  ...             ...   \n",
       "123    NB00007                 Y      NB00007_M_2  38.4   12            2190   \n",
       "124    NB00007                 Y      NB00007_M_3  39.2   17            2340   \n",
       "125    NB00007                 Y      NB00007_M_4  39.3   18            2380   \n",
       "126    NB00379                 Y      NB00379_M_1  39.6   98            3073   \n",
       "127    NB00007                 Y      NB00007_M_5  40.0   23            2430   \n",
       "\n",
       "     Current Height  Current HC Scavenged/Fresh?   MBM/DMB?  ...      LNnT  \\\n",
       "0              32.0        26.0       Scavenged   MBM + DBM  ...  0.089623   \n",
       "1              35.7        23.7       Scavenged         DBM  ...  0.054806   \n",
       "2              36.0        24.4       Scavenged         DBM  ...  0.113728   \n",
       "3              36.0        24.3       Scavenged         DBM  ...  0.078861   \n",
       "4              34.0        34.5       Scavenged         MBM  ...  0.049258   \n",
       "..              ...         ...              ...        ...  ...       ...   \n",
       "123            44.0        32.5       Scavenged         MBM  ...  0.197148   \n",
       "124            44.0        33.0       Scavenged         MBM  ...  0.093871   \n",
       "125            44.0        33.0       Scavenged         MBM  ...  0.062626   \n",
       "126            45.0        33.2       Scavenged         MBM  ...  0.074441   \n",
       "127            45.0        34.5       Scavenged        MBM   ...  0.101503   \n",
       "\n",
       "        LNFPI    LNFPII   LNFPIII      LSTc     DFLNT     DSLNT     DFLNH  \\\n",
       "0    0.470256  1.205369  0.014793  0.239572  0.281999  0.173245  0.215138   \n",
       "1    0.337448  0.352980  0.011570  0.075870  0.375191  0.066067  0.044498   \n",
       "2    0.508929  0.384073  0.009342  0.082319  0.296118  0.063142  0.073261   \n",
       "3    0.579639  0.381617  0.012011  0.080428  0.181844  0.061159  0.052973   \n",
       "4    0.108794  1.039603  0.024323  0.258750  0.138556  0.164200  0.203099   \n",
       "..        ...       ...       ...       ...       ...       ...       ...   \n",
       "123  1.031503  0.691480  0.038184  0.353092  0.681753  0.194094  0.063247   \n",
       "124  0.826393  0.565923  0.023937  0.160066  0.732057  0.248158  0.140775   \n",
       "125  0.250724  1.749928  0.062896  0.362996  0.159926  0.227344  0.067247   \n",
       "126  1.492769  0.211561  0.009555  0.160130  0.005741  0.066606  0.061999   \n",
       "127  0.756176  0.861343  0.024187  0.165676  0.767132  0.270879  0.059874   \n",
       "\n",
       "       FDSLNH     DSLNH  \n",
       "0    0.348744  0.384665  \n",
       "1    0.038670  0.034095  \n",
       "2    0.057761  0.057419  \n",
       "3    0.090722  0.052794  \n",
       "4    0.342770  0.364438  \n",
       "..        ...       ...  \n",
       "123  0.092453  0.154003  \n",
       "124  0.036514  0.117773  \n",
       "125  0.204275  0.226578  \n",
       "126  0.013559  0.146605  \n",
       "127  0.098085  0.144319  \n",
       "\n",
       "[128 rows x 32 columns]"
      ]
     },
     "execution_count": 11,
     "metadata": {},
     "output_type": "execute_result"
    }
   ],
   "source": [
    "merged"
   ]
  },
  {
   "cell_type": "code",
   "execution_count": 12,
   "id": "dddf918f",
   "metadata": {},
   "outputs": [
    {
     "name": "stdout",
     "output_type": "stream",
     "text": [
      "(128, 32)\n"
     ]
    }
   ],
   "source": [
    "print(merged.shape) #number of rows is the number of samples that exist in both DataFrames, 127"
   ]
  },
  {
   "cell_type": "code",
   "execution_count": 13,
   "id": "64c9dfbd",
   "metadata": {},
   "outputs": [
    {
     "data": {
      "text/plain": [
       "Index(['Subject ID', 'Patient Consented', 'sample_unique_id', 'CGA', 'DOL',\n",
       "       'Current Weight', 'Current Height', 'Current HC', 'Scavenged/Fresh?',\n",
       "       'MBM/DMB?', 'HMF Y/N?', 'TPN Y/N?', 'Iron Y/N?', 'Linked?',\n",
       "       '# Aliquots', 'Additional Comments', 'inj vol', '2FL', 'DFLAC', '3SL',\n",
       "       '6SL', 'LNT', 'LNnT', 'LNFPI', 'LNFPII', 'LNFPIII', 'LSTc', 'DFLNT',\n",
       "       'DSLNT', 'DFLNH', 'FDSLNH', 'DSLNH'],\n",
       "      dtype='object')"
      ]
     },
     "execution_count": 13,
     "metadata": {},
     "output_type": "execute_result"
    }
   ],
   "source": [
    "merged.columns"
   ]
  },
  {
   "cell_type": "markdown",
   "id": "3f834bcf",
   "metadata": {},
   "source": [
    "#### Sample Inconsistencies?"
   ]
  },
  {
   "cell_type": "code",
   "execution_count": 14,
   "id": "0ffaec11",
   "metadata": {},
   "outputs": [
    {
     "name": "stdout",
     "output_type": "stream",
     "text": [
      "Number of samples in metadata but not in area counts: 7\n"
     ]
    }
   ],
   "source": [
    "#list of IDs in the metadata but not the AC file\n",
    "\n",
    "meta_only = set(df['sample_unique_id']) - set(AC['sample_unique_id'])\n",
    "print(f\"Number of samples in metadata but not in area counts: {len(meta_only)}\")"
   ]
  },
  {
   "cell_type": "code",
   "execution_count": 15,
   "id": "52b10b3e",
   "metadata": {},
   "outputs": [
    {
     "name": "stdout",
     "output_type": "stream",
     "text": [
      "Number of samples in area counts but not in metadata: 7\n"
     ]
    }
   ],
   "source": [
    "#list of IDs in the AC file but not in the metadata\n",
    "\n",
    "AC_only = set(AC['sample_unique_id']) - set(df['sample_unique_id'])\n",
    "print(f\"Number of samples in area counts but not in metadata: {len(AC_only)}\")"
   ]
  },
  {
   "cell_type": "code",
   "execution_count": 16,
   "id": "8638eb31",
   "metadata": {},
   "outputs": [
    {
     "name": "stdout",
     "output_type": "stream",
     "text": [
      "IDs in Metadata Only: {'NB00003_M_5', 'NB00423_M_1', 'NB00003_M_24', 'NB00002_M_7', 'NB00007_M_7', 'NB00003_M_25', 'NB00001_M_8'}\n",
      "IDs in Area Counts Only: {'NB00002_M_9 ?', 'NB00008_M_6', 'NB00001_M_2', 'NB00101_M_1', 'NB00361_M_6', 'NB00007_M_6', 'NB00361_M_7'}\n"
     ]
    }
   ],
   "source": [
    "print(f\"IDs in Metadata Only: {meta_only}\")\n",
    "print(f\"IDs in Area Counts Only: {AC_only}\")"
   ]
  },
  {
   "cell_type": "markdown",
   "id": "948a6016",
   "metadata": {},
   "source": [
    "### Clean Contents of Merged DataFrame"
   ]
  },
  {
   "cell_type": "code",
   "execution_count": 17,
   "id": "89fe5a6d",
   "metadata": {},
   "outputs": [
    {
     "data": {
      "application/vnd.microsoft.datawrangler.viewer.v0+json": {
       "columns": [
        {
         "name": "Scavenged/Fresh?",
         "rawType": "object",
         "type": "string"
        },
        {
         "name": "count",
         "rawType": "int64",
         "type": "integer"
        }
       ],
       "ref": "6ee774a6-021e-4a92-984a-6052666ae09c",
       "rows": [
        [
         "Scavenged ",
         "109"
        ],
        [
         "Scavenged",
         "18"
        ],
        [
         "scavenged",
         "1"
        ]
       ],
       "shape": {
        "columns": 1,
        "rows": 3
       }
      },
      "text/plain": [
       "Scavenged/Fresh?\n",
       "Scavenged     109\n",
       "Scavenged      18\n",
       "scavenged       1\n",
       "Name: count, dtype: int64"
      ]
     },
     "execution_count": 17,
     "metadata": {},
     "output_type": "execute_result"
    }
   ],
   "source": [
    "# Remove all spelling and capitalization inconsistencies in the 'Scavenged/Fresh?' column\n",
    "\n",
    "merged[\"Scavenged/Fresh?\"].value_counts()"
   ]
  },
  {
   "cell_type": "code",
   "execution_count": 18,
   "id": "aab6021d",
   "metadata": {},
   "outputs": [],
   "source": [
    "def normalize_scavenged(value):\n",
    "    if isinstance(value, str) and value.strip().lower().startswith('scavenged'):\n",
    "        return 'Scavenged'\n",
    "    return value\n",
    "\n",
    "merged[\"Scavenged/Fresh?\"] = merged[\"Scavenged/Fresh?\"].apply(normalize_scavenged)"
   ]
  },
  {
   "cell_type": "code",
   "execution_count": 19,
   "id": "f78b6982",
   "metadata": {},
   "outputs": [
    {
     "data": {
      "application/vnd.microsoft.datawrangler.viewer.v0+json": {
       "columns": [
        {
         "name": "Scavenged/Fresh?",
         "rawType": "object",
         "type": "string"
        },
        {
         "name": "count",
         "rawType": "int64",
         "type": "integer"
        }
       ],
       "ref": "093b050b-4cda-4cd0-8ff5-d27c3a1391c8",
       "rows": [
        [
         "Scavenged",
         "128"
        ]
       ],
       "shape": {
        "columns": 1,
        "rows": 1
       }
      },
      "text/plain": [
       "Scavenged/Fresh?\n",
       "Scavenged    128\n",
       "Name: count, dtype: int64"
      ]
     },
     "execution_count": 19,
     "metadata": {},
     "output_type": "execute_result"
    }
   ],
   "source": [
    "merged[\"Scavenged/Fresh?\"].value_counts()"
   ]
  },
  {
   "cell_type": "code",
   "execution_count": 20,
   "id": "fe4aa001",
   "metadata": {},
   "outputs": [
    {
     "data": {
      "application/vnd.microsoft.datawrangler.viewer.v0+json": {
       "columns": [
        {
         "name": "MBM/DMB?",
         "rawType": "object",
         "type": "string"
        },
        {
         "name": "count",
         "rawType": "int64",
         "type": "integer"
        }
       ],
       "ref": "c78c6b2d-c546-48f3-8847-191acd5bf1c9",
       "rows": [
        [
         "MBM",
         "88"
        ],
        [
         "DBM",
         "21"
        ],
        [
         "Switched to Fortifier ",
         "9"
        ],
        [
         "MBM ",
         "4"
        ],
        [
         "MBM + DBM",
         "2"
        ],
        [
         "FBM/MBM",
         "1"
        ]
       ],
       "shape": {
        "columns": 1,
        "rows": 6
       }
      },
      "text/plain": [
       "MBM/DMB?\n",
       "MBM                       88\n",
       "DBM                       21\n",
       "Switched to Fortifier      9\n",
       "MBM                        4\n",
       "MBM + DBM                  2\n",
       "FBM/MBM                    1\n",
       "Name: count, dtype: int64"
      ]
     },
     "execution_count": 20,
     "metadata": {},
     "output_type": "execute_result"
    }
   ],
   "source": [
    "merged[\"MBM/DMB?\"].value_counts()"
   ]
  },
  {
   "cell_type": "code",
   "execution_count": 21,
   "id": "794d2b4a",
   "metadata": {},
   "outputs": [],
   "source": [
    " # Remove all spelling and capitalization inconsistencies in the 'MBM/DMB?' column\n",
    "\n",
    "def code_mbm(value):\n",
    "    if isinstance(value, str) and value.strip().lower().replace(' ', '') == 'mbm':\n",
    "        return 'MBM'\n",
    "    return value\n",
    "\n",
    "merged[\"MBM/DMB?\"] = merged[\"MBM/DMB?\"].apply(code_mbm)"
   ]
  },
  {
   "cell_type": "code",
   "execution_count": 22,
   "id": "4565888d",
   "metadata": {},
   "outputs": [
    {
     "data": {
      "application/vnd.microsoft.datawrangler.viewer.v0+json": {
       "columns": [
        {
         "name": "MBM/DMB?",
         "rawType": "object",
         "type": "string"
        },
        {
         "name": "count",
         "rawType": "int64",
         "type": "integer"
        }
       ],
       "ref": "53321395-95e5-41a2-b6ec-69258b89ec6c",
       "rows": [
        [
         "MBM",
         "92"
        ],
        [
         "DBM",
         "21"
        ],
        [
         "Switched to Fortifier ",
         "9"
        ],
        [
         "MBM + DBM",
         "2"
        ],
        [
         "FBM/MBM",
         "1"
        ]
       ],
       "shape": {
        "columns": 1,
        "rows": 5
       }
      },
      "text/plain": [
       "MBM/DMB?\n",
       "MBM                       92\n",
       "DBM                       21\n",
       "Switched to Fortifier      9\n",
       "MBM + DBM                  2\n",
       "FBM/MBM                    1\n",
       "Name: count, dtype: int64"
      ]
     },
     "execution_count": 22,
     "metadata": {},
     "output_type": "execute_result"
    }
   ],
   "source": [
    "merged[\"MBM/DMB?\"].value_counts()"
   ]
  },
  {
   "cell_type": "code",
   "execution_count": 23,
   "id": "210a0f47",
   "metadata": {},
   "outputs": [
    {
     "data": {
      "application/vnd.microsoft.datawrangler.viewer.v0+json": {
       "columns": [
        {
         "name": "Iron Y/N?",
         "rawType": "object",
         "type": "string"
        },
        {
         "name": "count",
         "rawType": "int64",
         "type": "integer"
        }
       ],
       "ref": "0df71722-3336-4d73-bd94-49c86689739d",
       "rows": [
        [
         "Y",
         "48"
        ],
        [
         "N",
         "25"
        ]
       ],
       "shape": {
        "columns": 1,
        "rows": 2
       }
      },
      "text/plain": [
       "Iron Y/N?\n",
       "Y    48\n",
       "N    25\n",
       "Name: count, dtype: int64"
      ]
     },
     "execution_count": 23,
     "metadata": {},
     "output_type": "execute_result"
    }
   ],
   "source": [
    "merged[\"Iron Y/N?\"].value_counts()"
   ]
  },
  {
   "cell_type": "code",
   "execution_count": 24,
   "id": "a2cea9d1",
   "metadata": {},
   "outputs": [],
   "source": [
    "# Normalize the aliquots column to extract numeric values\n",
    "\n",
    "def extract_numeric_aliquots(value):\n",
    "    match = re.match(r'^\\d+', str(value))\n",
    "    return int(match.group()) if match else None\n",
    "\n",
    "merged['Aliquots_num'] = merged['# Aliquots'].apply(extract_numeric_aliquots)"
   ]
  },
  {
   "cell_type": "code",
   "execution_count": 25,
   "id": "61512e97",
   "metadata": {},
   "outputs": [
    {
     "data": {
      "application/vnd.microsoft.datawrangler.viewer.v0+json": {
       "columns": [
        {
         "name": "Aliquots_num",
         "rawType": "int64",
         "type": "integer"
        },
        {
         "name": "count",
         "rawType": "int64",
         "type": "integer"
        }
       ],
       "ref": "c698ba8b-d3fa-48fc-85b6-c4ff64dc5137",
       "rows": [
        [
         "1",
         "54"
        ],
        [
         "7",
         "12"
        ],
        [
         "5",
         "10"
        ],
        [
         "2",
         "9"
        ],
        [
         "3",
         "9"
        ],
        [
         "9",
         "8"
        ],
        [
         "4",
         "7"
        ],
        [
         "8",
         "6"
        ],
        [
         "6",
         "6"
        ],
        [
         "10",
         "3"
        ],
        [
         "13",
         "2"
        ],
        [
         "14",
         "1"
        ],
        [
         "11",
         "1"
        ]
       ],
       "shape": {
        "columns": 1,
        "rows": 13
       }
      },
      "text/plain": [
       "Aliquots_num\n",
       "1     54\n",
       "7     12\n",
       "5     10\n",
       "2      9\n",
       "3      9\n",
       "9      8\n",
       "4      7\n",
       "8      6\n",
       "6      6\n",
       "10     3\n",
       "13     2\n",
       "14     1\n",
       "11     1\n",
       "Name: count, dtype: int64"
      ]
     },
     "execution_count": 25,
     "metadata": {},
     "output_type": "execute_result"
    }
   ],
   "source": [
    "merged[\"Aliquots_num\"].value_counts()"
   ]
  },
  {
   "cell_type": "code",
   "execution_count": 26,
   "id": "df9fba50",
   "metadata": {},
   "outputs": [
    {
     "data": {
      "text/plain": [
       "Index(['Subject ID', 'Patient Consented', 'sample_unique_id', 'CGA', 'DOL',\n",
       "       'Current Weight', 'Current Height', 'Current HC', 'Scavenged/Fresh?',\n",
       "       'MBM/DMB?', 'HMF Y/N?', 'TPN Y/N?', 'Iron Y/N?', 'Linked?',\n",
       "       '# Aliquots', 'Additional Comments', 'inj vol', '2FL', 'DFLAC', '3SL',\n",
       "       '6SL', 'LNT', 'LNnT', 'LNFPI', 'LNFPII', 'LNFPIII', 'LSTc', 'DFLNT',\n",
       "       'DSLNT', 'DFLNH', 'FDSLNH', 'DSLNH', 'Aliquots_num'],\n",
       "      dtype='object')"
      ]
     },
     "execution_count": 26,
     "metadata": {},
     "output_type": "execute_result"
    }
   ],
   "source": [
    "merged.columns"
   ]
  },
  {
   "cell_type": "markdown",
   "id": "e0cd1ca1",
   "metadata": {},
   "source": [
    "#### Check concentration distribution for 2'FL - UPDATE WITH CORRECTED AC FRAME"
   ]
  },
  {
   "cell_type": "code",
   "execution_count": 27,
   "id": "88153435",
   "metadata": {},
   "outputs": [
    {
     "data": {
      "application/vnd.microsoft.datawrangler.viewer.v0+json": {
       "columns": [
        {
         "name": "index",
         "rawType": "object",
         "type": "string"
        },
        {
         "name": "2FL",
         "rawType": "float64",
         "type": "float"
        }
       ],
       "ref": "704f6e2e-9899-4e8f-9a63-0138b172e238",
       "rows": [
        [
         "count",
         "126.0"
        ],
        [
         "mean",
         "2.6685611684962507"
        ],
        [
         "std",
         "2.210266368610543"
        ],
        [
         "min",
         "0.03498492461186571"
        ],
        [
         "25%",
         "0.3003944452424604"
        ],
        [
         "50%",
         "2.904018335062721"
        ],
        [
         "75%",
         "4.311702820251364"
        ],
        [
         "max",
         "8.572129934063982"
        ]
       ],
       "shape": {
        "columns": 1,
        "rows": 8
       }
      },
      "text/plain": [
       "count    126.000000\n",
       "mean       2.668561\n",
       "std        2.210266\n",
       "min        0.034985\n",
       "25%        0.300394\n",
       "50%        2.904018\n",
       "75%        4.311703\n",
       "max        8.572130\n",
       "Name: 2FL, dtype: float64"
      ]
     },
     "execution_count": 27,
     "metadata": {},
     "output_type": "execute_result"
    }
   ],
   "source": [
    "merged[\"2FL\"].describe()"
   ]
  },
  {
   "cell_type": "code",
   "execution_count": 28,
   "id": "026eec94",
   "metadata": {},
   "outputs": [
    {
     "data": {
      "application/vnd.plotly.v1+json": {
       "config": {
        "plotlyServerURL": "https://plot.ly"
       },
       "data": [
        {
         "bingroup": "x",
         "hovertemplate": "2FL=%{x}<br>count=%{y}<extra></extra>",
         "legendgroup": "",
         "marker": {
          "color": "#636efa",
          "pattern": {
           "shape": ""
          }
         },
         "name": "",
         "nbinsx": 40,
         "orientation": "v",
         "showlegend": false,
         "type": "histogram",
         "x": {
          "bdata": "xf3KyJf9/D9yZMHNCYkHQNBJpkE3LwhAYJA3is7gAECPLn9+iXbUP4tTlMc84dI/bMT1hGvA0z+nHUPDN/X8P+p1zCs+b9E/Ly0efxfvxD8/4dVppqAMQOHGBl0ddxpAvyE2zb2uyz8K7VBe5B0OQAg/4DApn9I/1DGS5b0tDUAhf1T89qodQPdpqd6R09Y/AQmHtxknD0CCvcM/lULUP3Rwy9Q4WQtAWiJksuvg0T9n2Dkf3XvQP95JUnSfSA1AR4lOPssHGEBA0F1VDx8QQL1TyENhWAlA5ZjJdxIw0z+CT9oNepPUP5+Oam8l/9I/KRsekyh50z+NAZz7yMkQQNx30gzDkAtAaq0cbCDG0j+9pGr7gy/zP98HEhLUJM4/Fw3RXdi8zT83FJ5EEnQRQPC5mf3bTcs/yJHFlUZoAkDQTlTeQVkWQF0pmbXOcQ5AryfG/4rtE0BdXp/LKFETQFAbYbFES9A/PCeO/sNrAUAkUssZ6MUVQB9DYdbGAxtABf96j3X2yT9pG1RyEioRQKk23rPAMhJA4vuxesia/D+AAgEB0tocQEvuATbbP/k/3yrlNlMZ9z+cPezdqDMBQAiltfvQWhJA74H2WNMEEUAhvPc27iQhQNtwqoOjGQhANAkPklnvF0Duxkp80XgdQLwoHFXZQdI//hdG1piNzj9rCTwJNyISQJljBmRqnglAivzcCU8X2D/6+j5AIh3MP+Muy8vutQNA3cDs51xtFkAFBpkmhpbSP4Kt+xcTvgJA55rPBdGfE0D5QOnO57fTP9Un6oa9S9Y//6YZM9d6zT+7Dv+ZGOgJQF5kSiwFuxRAYbZbSkhCDED7PKtfFd/xP/uxRxGE9cQ/9TpYYKGuEkB1j2GG9wgKQLolOFn0L8Y/GhHYPu5ZC0C3BrPcUHbMPzO85zXLRMQ/nnsE3saNFECdQeTGsJ3SP4Y6xU8XQBFALiswWrstFkCWq8zcL6wVQEed2hZvVtM/MdZuovDEwj9mo2fQBm/iP7yaGcCnrsE/k56WN77h0j/ZklQZRpECQCn1s8OGBRlAcyJzPxy1C0A54cdZR8IJQFI5hhWJHRRAPvgVJZIGwT81g3eaTHnVPwAAAAAAAPh/QfLvPQ8JEkCUH2EpdjwRQNqzvDZ3EL8/Z9fiKKESFECMwa6i5fIKQOo5H0aL6aE/obwbQWn1EUDrHchHXMAQQJRQWCnokglAVvxufeqdD0CSFpX+2jDUP5JWHCcRjRVA7bxttdXaDkCNcZ/h4NESQPNKNKOlFMM/AAAAAAAA+H8QDnNtnDkOQEmrs2+u9wRA1ZLoidiMDkAk3j8g0u0GQDGZCSppRdQ/aBRWMgcPGkDbdJupPXgGQA==",
          "dtype": "f8"
         },
         "xaxis": "x",
         "yaxis": "y"
        }
       ],
       "layout": {
        "barmode": "relative",
        "legend": {
         "tracegroupgap": 0
        },
        "template": {
         "data": {
          "bar": [
           {
            "error_x": {
             "color": "#2a3f5f"
            },
            "error_y": {
             "color": "#2a3f5f"
            },
            "marker": {
             "line": {
              "color": "#E5ECF6",
              "width": 0.5
             },
             "pattern": {
              "fillmode": "overlay",
              "size": 10,
              "solidity": 0.2
             }
            },
            "type": "bar"
           }
          ],
          "barpolar": [
           {
            "marker": {
             "line": {
              "color": "#E5ECF6",
              "width": 0.5
             },
             "pattern": {
              "fillmode": "overlay",
              "size": 10,
              "solidity": 0.2
             }
            },
            "type": "barpolar"
           }
          ],
          "carpet": [
           {
            "aaxis": {
             "endlinecolor": "#2a3f5f",
             "gridcolor": "white",
             "linecolor": "white",
             "minorgridcolor": "white",
             "startlinecolor": "#2a3f5f"
            },
            "baxis": {
             "endlinecolor": "#2a3f5f",
             "gridcolor": "white",
             "linecolor": "white",
             "minorgridcolor": "white",
             "startlinecolor": "#2a3f5f"
            },
            "type": "carpet"
           }
          ],
          "choropleth": [
           {
            "colorbar": {
             "outlinewidth": 0,
             "ticks": ""
            },
            "type": "choropleth"
           }
          ],
          "contour": [
           {
            "colorbar": {
             "outlinewidth": 0,
             "ticks": ""
            },
            "colorscale": [
             [
              0,
              "#0d0887"
             ],
             [
              0.1111111111111111,
              "#46039f"
             ],
             [
              0.2222222222222222,
              "#7201a8"
             ],
             [
              0.3333333333333333,
              "#9c179e"
             ],
             [
              0.4444444444444444,
              "#bd3786"
             ],
             [
              0.5555555555555556,
              "#d8576b"
             ],
             [
              0.6666666666666666,
              "#ed7953"
             ],
             [
              0.7777777777777778,
              "#fb9f3a"
             ],
             [
              0.8888888888888888,
              "#fdca26"
             ],
             [
              1,
              "#f0f921"
             ]
            ],
            "type": "contour"
           }
          ],
          "contourcarpet": [
           {
            "colorbar": {
             "outlinewidth": 0,
             "ticks": ""
            },
            "type": "contourcarpet"
           }
          ],
          "heatmap": [
           {
            "colorbar": {
             "outlinewidth": 0,
             "ticks": ""
            },
            "colorscale": [
             [
              0,
              "#0d0887"
             ],
             [
              0.1111111111111111,
              "#46039f"
             ],
             [
              0.2222222222222222,
              "#7201a8"
             ],
             [
              0.3333333333333333,
              "#9c179e"
             ],
             [
              0.4444444444444444,
              "#bd3786"
             ],
             [
              0.5555555555555556,
              "#d8576b"
             ],
             [
              0.6666666666666666,
              "#ed7953"
             ],
             [
              0.7777777777777778,
              "#fb9f3a"
             ],
             [
              0.8888888888888888,
              "#fdca26"
             ],
             [
              1,
              "#f0f921"
             ]
            ],
            "type": "heatmap"
           }
          ],
          "histogram": [
           {
            "marker": {
             "pattern": {
              "fillmode": "overlay",
              "size": 10,
              "solidity": 0.2
             }
            },
            "type": "histogram"
           }
          ],
          "histogram2d": [
           {
            "colorbar": {
             "outlinewidth": 0,
             "ticks": ""
            },
            "colorscale": [
             [
              0,
              "#0d0887"
             ],
             [
              0.1111111111111111,
              "#46039f"
             ],
             [
              0.2222222222222222,
              "#7201a8"
             ],
             [
              0.3333333333333333,
              "#9c179e"
             ],
             [
              0.4444444444444444,
              "#bd3786"
             ],
             [
              0.5555555555555556,
              "#d8576b"
             ],
             [
              0.6666666666666666,
              "#ed7953"
             ],
             [
              0.7777777777777778,
              "#fb9f3a"
             ],
             [
              0.8888888888888888,
              "#fdca26"
             ],
             [
              1,
              "#f0f921"
             ]
            ],
            "type": "histogram2d"
           }
          ],
          "histogram2dcontour": [
           {
            "colorbar": {
             "outlinewidth": 0,
             "ticks": ""
            },
            "colorscale": [
             [
              0,
              "#0d0887"
             ],
             [
              0.1111111111111111,
              "#46039f"
             ],
             [
              0.2222222222222222,
              "#7201a8"
             ],
             [
              0.3333333333333333,
              "#9c179e"
             ],
             [
              0.4444444444444444,
              "#bd3786"
             ],
             [
              0.5555555555555556,
              "#d8576b"
             ],
             [
              0.6666666666666666,
              "#ed7953"
             ],
             [
              0.7777777777777778,
              "#fb9f3a"
             ],
             [
              0.8888888888888888,
              "#fdca26"
             ],
             [
              1,
              "#f0f921"
             ]
            ],
            "type": "histogram2dcontour"
           }
          ],
          "mesh3d": [
           {
            "colorbar": {
             "outlinewidth": 0,
             "ticks": ""
            },
            "type": "mesh3d"
           }
          ],
          "parcoords": [
           {
            "line": {
             "colorbar": {
              "outlinewidth": 0,
              "ticks": ""
             }
            },
            "type": "parcoords"
           }
          ],
          "pie": [
           {
            "automargin": true,
            "type": "pie"
           }
          ],
          "scatter": [
           {
            "fillpattern": {
             "fillmode": "overlay",
             "size": 10,
             "solidity": 0.2
            },
            "type": "scatter"
           }
          ],
          "scatter3d": [
           {
            "line": {
             "colorbar": {
              "outlinewidth": 0,
              "ticks": ""
             }
            },
            "marker": {
             "colorbar": {
              "outlinewidth": 0,
              "ticks": ""
             }
            },
            "type": "scatter3d"
           }
          ],
          "scattercarpet": [
           {
            "marker": {
             "colorbar": {
              "outlinewidth": 0,
              "ticks": ""
             }
            },
            "type": "scattercarpet"
           }
          ],
          "scattergeo": [
           {
            "marker": {
             "colorbar": {
              "outlinewidth": 0,
              "ticks": ""
             }
            },
            "type": "scattergeo"
           }
          ],
          "scattergl": [
           {
            "marker": {
             "colorbar": {
              "outlinewidth": 0,
              "ticks": ""
             }
            },
            "type": "scattergl"
           }
          ],
          "scattermap": [
           {
            "marker": {
             "colorbar": {
              "outlinewidth": 0,
              "ticks": ""
             }
            },
            "type": "scattermap"
           }
          ],
          "scattermapbox": [
           {
            "marker": {
             "colorbar": {
              "outlinewidth": 0,
              "ticks": ""
             }
            },
            "type": "scattermapbox"
           }
          ],
          "scatterpolar": [
           {
            "marker": {
             "colorbar": {
              "outlinewidth": 0,
              "ticks": ""
             }
            },
            "type": "scatterpolar"
           }
          ],
          "scatterpolargl": [
           {
            "marker": {
             "colorbar": {
              "outlinewidth": 0,
              "ticks": ""
             }
            },
            "type": "scatterpolargl"
           }
          ],
          "scatterternary": [
           {
            "marker": {
             "colorbar": {
              "outlinewidth": 0,
              "ticks": ""
             }
            },
            "type": "scatterternary"
           }
          ],
          "surface": [
           {
            "colorbar": {
             "outlinewidth": 0,
             "ticks": ""
            },
            "colorscale": [
             [
              0,
              "#0d0887"
             ],
             [
              0.1111111111111111,
              "#46039f"
             ],
             [
              0.2222222222222222,
              "#7201a8"
             ],
             [
              0.3333333333333333,
              "#9c179e"
             ],
             [
              0.4444444444444444,
              "#bd3786"
             ],
             [
              0.5555555555555556,
              "#d8576b"
             ],
             [
              0.6666666666666666,
              "#ed7953"
             ],
             [
              0.7777777777777778,
              "#fb9f3a"
             ],
             [
              0.8888888888888888,
              "#fdca26"
             ],
             [
              1,
              "#f0f921"
             ]
            ],
            "type": "surface"
           }
          ],
          "table": [
           {
            "cells": {
             "fill": {
              "color": "#EBF0F8"
             },
             "line": {
              "color": "white"
             }
            },
            "header": {
             "fill": {
              "color": "#C8D4E3"
             },
             "line": {
              "color": "white"
             }
            },
            "type": "table"
           }
          ]
         },
         "layout": {
          "annotationdefaults": {
           "arrowcolor": "#2a3f5f",
           "arrowhead": 0,
           "arrowwidth": 1
          },
          "autotypenumbers": "strict",
          "coloraxis": {
           "colorbar": {
            "outlinewidth": 0,
            "ticks": ""
           }
          },
          "colorscale": {
           "diverging": [
            [
             0,
             "#8e0152"
            ],
            [
             0.1,
             "#c51b7d"
            ],
            [
             0.2,
             "#de77ae"
            ],
            [
             0.3,
             "#f1b6da"
            ],
            [
             0.4,
             "#fde0ef"
            ],
            [
             0.5,
             "#f7f7f7"
            ],
            [
             0.6,
             "#e6f5d0"
            ],
            [
             0.7,
             "#b8e186"
            ],
            [
             0.8,
             "#7fbc41"
            ],
            [
             0.9,
             "#4d9221"
            ],
            [
             1,
             "#276419"
            ]
           ],
           "sequential": [
            [
             0,
             "#0d0887"
            ],
            [
             0.1111111111111111,
             "#46039f"
            ],
            [
             0.2222222222222222,
             "#7201a8"
            ],
            [
             0.3333333333333333,
             "#9c179e"
            ],
            [
             0.4444444444444444,
             "#bd3786"
            ],
            [
             0.5555555555555556,
             "#d8576b"
            ],
            [
             0.6666666666666666,
             "#ed7953"
            ],
            [
             0.7777777777777778,
             "#fb9f3a"
            ],
            [
             0.8888888888888888,
             "#fdca26"
            ],
            [
             1,
             "#f0f921"
            ]
           ],
           "sequentialminus": [
            [
             0,
             "#0d0887"
            ],
            [
             0.1111111111111111,
             "#46039f"
            ],
            [
             0.2222222222222222,
             "#7201a8"
            ],
            [
             0.3333333333333333,
             "#9c179e"
            ],
            [
             0.4444444444444444,
             "#bd3786"
            ],
            [
             0.5555555555555556,
             "#d8576b"
            ],
            [
             0.6666666666666666,
             "#ed7953"
            ],
            [
             0.7777777777777778,
             "#fb9f3a"
            ],
            [
             0.8888888888888888,
             "#fdca26"
            ],
            [
             1,
             "#f0f921"
            ]
           ]
          },
          "colorway": [
           "#636efa",
           "#EF553B",
           "#00cc96",
           "#ab63fa",
           "#FFA15A",
           "#19d3f3",
           "#FF6692",
           "#B6E880",
           "#FF97FF",
           "#FECB52"
          ],
          "font": {
           "color": "#2a3f5f"
          },
          "geo": {
           "bgcolor": "white",
           "lakecolor": "white",
           "landcolor": "#E5ECF6",
           "showlakes": true,
           "showland": true,
           "subunitcolor": "white"
          },
          "hoverlabel": {
           "align": "left"
          },
          "hovermode": "closest",
          "mapbox": {
           "style": "light"
          },
          "paper_bgcolor": "white",
          "plot_bgcolor": "#E5ECF6",
          "polar": {
           "angularaxis": {
            "gridcolor": "white",
            "linecolor": "white",
            "ticks": ""
           },
           "bgcolor": "#E5ECF6",
           "radialaxis": {
            "gridcolor": "white",
            "linecolor": "white",
            "ticks": ""
           }
          },
          "scene": {
           "xaxis": {
            "backgroundcolor": "#E5ECF6",
            "gridcolor": "white",
            "gridwidth": 2,
            "linecolor": "white",
            "showbackground": true,
            "ticks": "",
            "zerolinecolor": "white"
           },
           "yaxis": {
            "backgroundcolor": "#E5ECF6",
            "gridcolor": "white",
            "gridwidth": 2,
            "linecolor": "white",
            "showbackground": true,
            "ticks": "",
            "zerolinecolor": "white"
           },
           "zaxis": {
            "backgroundcolor": "#E5ECF6",
            "gridcolor": "white",
            "gridwidth": 2,
            "linecolor": "white",
            "showbackground": true,
            "ticks": "",
            "zerolinecolor": "white"
           }
          },
          "shapedefaults": {
           "line": {
            "color": "#2a3f5f"
           }
          },
          "ternary": {
           "aaxis": {
            "gridcolor": "white",
            "linecolor": "white",
            "ticks": ""
           },
           "baxis": {
            "gridcolor": "white",
            "linecolor": "white",
            "ticks": ""
           },
           "bgcolor": "#E5ECF6",
           "caxis": {
            "gridcolor": "white",
            "linecolor": "white",
            "ticks": ""
           }
          },
          "title": {
           "x": 0.05
          },
          "xaxis": {
           "automargin": true,
           "gridcolor": "white",
           "linecolor": "white",
           "ticks": "",
           "title": {
            "standoff": 15
           },
           "zerolinecolor": "white",
           "zerolinewidth": 2
          },
          "yaxis": {
           "automargin": true,
           "gridcolor": "white",
           "linecolor": "white",
           "ticks": "",
           "title": {
            "standoff": 15
           },
           "zerolinecolor": "white",
           "zerolinewidth": 2
          }
         }
        },
        "title": {
         "text": "2fl Concentration Distribution"
        },
        "xaxis": {
         "anchor": "y",
         "domain": [
          0,
          1
         ],
         "title": {
          "text": "2FL"
         }
        },
        "yaxis": {
         "anchor": "x",
         "domain": [
          0,
          1
         ],
         "title": {
          "text": "count"
         }
        }
       }
      }
     },
     "metadata": {},
     "output_type": "display_data"
    }
   ],
   "source": [
    "fig = px.histogram(merged, x=\"2FL\", nbins=40, title='2fl Concentration Distribution')\n",
    "fig"
   ]
  },
  {
   "cell_type": "code",
   "execution_count": 29,
   "id": "a7a717b9",
   "metadata": {},
   "outputs": [],
   "source": [
    "# Classify secretor status using 5M AUC cutoff\n",
    "merged[\"Secretor Status\"] = merged[\"2FL\"].apply(\n",
    "    lambda x: \"Secretor\" if x >= .5 else \"Non-Secretor\"\n",
    ")"
   ]
  },
  {
   "cell_type": "code",
   "execution_count": 30,
   "id": "2a98d3a9",
   "metadata": {},
   "outputs": [
    {
     "data": {
      "application/vnd.microsoft.datawrangler.viewer.v0+json": {
       "columns": [
        {
         "name": "Secretor Status",
         "rawType": "object",
         "type": "string"
        },
        {
         "name": "count",
         "rawType": "int64",
         "type": "integer"
        }
       ],
       "ref": "2721fb98-0b4e-49f8-bf07-9204298448be",
       "rows": [
        [
         "Secretor",
         "81"
        ],
        [
         "Non-Secretor",
         "47"
        ]
       ],
       "shape": {
        "columns": 1,
        "rows": 2
       }
      },
      "text/plain": [
       "Secretor Status\n",
       "Secretor        81\n",
       "Non-Secretor    47\n",
       "Name: count, dtype: int64"
      ]
     },
     "execution_count": 30,
     "metadata": {},
     "output_type": "execute_result"
    }
   ],
   "source": [
    "merged[\"Secretor Status\"].value_counts()"
   ]
  },
  {
   "cell_type": "code",
   "execution_count": 31,
   "id": "6dc076d1",
   "metadata": {},
   "outputs": [
    {
     "data": {
      "text/plain": [
       "Index(['Subject ID', 'Patient Consented', 'sample_unique_id', 'CGA', 'DOL',\n",
       "       'Current Weight', 'Current Height', 'Current HC', 'Scavenged/Fresh?',\n",
       "       'MBM/DMB?', 'HMF Y/N?', 'TPN Y/N?', 'Iron Y/N?', 'Linked?',\n",
       "       '# Aliquots', 'Additional Comments', 'inj vol', '2FL', 'DFLAC', '3SL',\n",
       "       '6SL', 'LNT', 'LNnT', 'LNFPI', 'LNFPII', 'LNFPIII', 'LSTc', 'DFLNT',\n",
       "       'DSLNT', 'DFLNH', 'FDSLNH', 'DSLNH', 'Aliquots_num', 'Secretor Status'],\n",
       "      dtype='object')"
      ]
     },
     "execution_count": 31,
     "metadata": {},
     "output_type": "execute_result"
    }
   ],
   "source": [
    "merged.columns"
   ]
  },
  {
   "cell_type": "markdown",
   "id": "b0e795ca",
   "metadata": {},
   "source": [
    "#### Additional Comments Cleaning"
   ]
  },
  {
   "cell_type": "code",
   "execution_count": 32,
   "id": "6ac0882d",
   "metadata": {},
   "outputs": [
    {
     "data": {
      "application/vnd.microsoft.datawrangler.viewer.v0+json": {
       "columns": [
        {
         "name": "Additional Comments",
         "rawType": "object",
         "type": "string"
        },
        {
         "name": "count",
         "rawType": "int64",
         "type": "integer"
        }
       ],
       "ref": "fc9b1bb4-639f-40a3-b1a0-791aad2ee0a7",
       "rows": [
        [
         "Residual from Milk Prep Room",
         "68"
        ],
        [
         "Scavenged Feeding Tube",
         "48"
        ],
        [
         "Scavenged Feeding Tube + NaCl Oral Solution",
         "2"
        ],
        [
         "Residual from Milk Prep Room & B2 Full",
         "1"
        ],
        [
         "Scavenged Feeding Tube - Nurse needed to feed extra 1 mL",
         "1"
        ],
        [
         "Scavenged Feeding Tube - also started on sodium chloride oral solution 6/15/24 ",
         "1"
        ],
        [
         "Scanvenged Feeding Tube - Collected Outside of 4 hr Window ",
         "1"
        ],
        [
         "Scavenged Feeding Tube + NaCl Oral Solution - Pt intubated 6/25 & is NPO ",
         "1"
        ],
        [
         "Scavenged Feeding Tube - Outside 4-hr .indo. by 2 hours",
         "1"
        ],
        [
         "Scavenged Feeding Tube - Intubated 6/25 - NPO, restarted NG feeds 7/2",
         "1"
        ],
        [
         "Scavenged Feeding Tube - Parenteral Nutrition Stopped",
         "1"
        ],
        [
         "Scavenged Feeding Tube - Last NG Feed 7/2",
         "1"
        ],
        [
         "Residual from Milk Prep Room - Baby not on NG Feeds no linked sample",
         "1"
        ]
       ],
       "shape": {
        "columns": 1,
        "rows": 13
       }
      },
      "text/plain": [
       "Additional Comments\n",
       "Residual from Milk Prep Room                                                       68\n",
       "Scavenged Feeding Tube                                                             48\n",
       "Scavenged Feeding Tube + NaCl Oral Solution                                         2\n",
       "Residual from Milk Prep Room & B2 Full                                              1\n",
       "Scavenged Feeding Tube - Nurse needed to feed extra 1 mL                            1\n",
       "Scavenged Feeding Tube - also started on sodium chloride oral solution 6/15/24      1\n",
       "Scanvenged Feeding Tube - Collected Outside of 4 hr Window                          1\n",
       "Scavenged Feeding Tube + NaCl Oral Solution - Pt intubated 6/25 & is NPO            1\n",
       "Scavenged Feeding Tube - Outside 4-hr .indo. by 2 hours                             1\n",
       "Scavenged Feeding Tube - Intubated 6/25 - NPO, restarted NG feeds 7/2               1\n",
       "Scavenged Feeding Tube - Parenteral Nutrition Stopped                               1\n",
       "Scavenged Feeding Tube - Last NG Feed 7/2                                           1\n",
       "Residual from Milk Prep Room - Baby not on NG Feeds no linked sample                1\n",
       "Name: count, dtype: int64"
      ]
     },
     "execution_count": 32,
     "metadata": {},
     "output_type": "execute_result"
    }
   ],
   "source": [
    "merged[\"Additional Comments\"].value_counts()"
   ]
  },
  {
   "cell_type": "code",
   "execution_count": 33,
   "id": "d9066a6c",
   "metadata": {},
   "outputs": [],
   "source": [
    "# Extract scavenged notes from the 'Additional Comments' column\n",
    "\n",
    "def extract_scavenged_notes(comment):\n",
    "    if isinstance(comment, str) and \"scavenged feeding tube\" in comment.lower():\n",
    "        # Look for + or - and any text after it\n",
    "        match = re.search(r\"(scavenged feeding tube.*?)([+-].*)\", comment, re.IGNORECASE)\n",
    "        if match:\n",
    "            return match.group(2).strip()\n",
    "    return None\n",
    "\n",
    "merged[\"scavenged notes\"] = merged[\"Additional Comments\"].apply(extract_scavenged_notes)"
   ]
  },
  {
   "cell_type": "code",
   "execution_count": 34,
   "id": "18a56f8a",
   "metadata": {},
   "outputs": [
    {
     "data": {
      "application/vnd.microsoft.datawrangler.viewer.v0+json": {
       "columns": [
        {
         "name": "scavenged notes",
         "rawType": "object",
         "type": "string"
        },
        {
         "name": "count",
         "rawType": "int64",
         "type": "integer"
        }
       ],
       "ref": "8992d456-1d1a-464f-b0c5-d751eee3c187",
       "rows": [
        [
         "+ NaCl Oral Solution",
         "2"
        ],
        [
         "- Nurse needed to feed extra 1 mL",
         "1"
        ],
        [
         "- also started on sodium chloride oral solution 6/15/24",
         "1"
        ],
        [
         "+ NaCl Oral Solution - Pt intubated 6/25 & is NPO",
         "1"
        ],
        [
         "- Outside 4-hr .indo. by 2 hours",
         "1"
        ],
        [
         "- Intubated 6/25 - NPO, restarted NG feeds 7/2",
         "1"
        ],
        [
         "- Parenteral Nutrition Stopped",
         "1"
        ],
        [
         "- Last NG Feed 7/2",
         "1"
        ]
       ],
       "shape": {
        "columns": 1,
        "rows": 8
       }
      },
      "text/plain": [
       "scavenged notes\n",
       "+ NaCl Oral Solution                                       2\n",
       "- Nurse needed to feed extra 1 mL                          1\n",
       "- also started on sodium chloride oral solution 6/15/24    1\n",
       "+ NaCl Oral Solution - Pt intubated 6/25 & is NPO          1\n",
       "- Outside 4-hr .indo. by 2 hours                           1\n",
       "- Intubated 6/25 - NPO, restarted NG feeds 7/2             1\n",
       "- Parenteral Nutrition Stopped                             1\n",
       "- Last NG Feed 7/2                                         1\n",
       "Name: count, dtype: int64"
      ]
     },
     "execution_count": 34,
     "metadata": {},
     "output_type": "execute_result"
    }
   ],
   "source": [
    "merged[\"scavenged notes\"].value_counts()"
   ]
  },
  {
   "cell_type": "code",
   "execution_count": 35,
   "id": "b9615ae1",
   "metadata": {},
   "outputs": [],
   "source": [
    "# Remove leading '+', '-', or spaces from 'scavenged notes'\n",
    "merged[\"scavenged notes\"] = merged[\"scavenged notes\"].str.lstrip('+- ').replace('', None)"
   ]
  },
  {
   "cell_type": "code",
   "execution_count": 36,
   "id": "9ebbbafc",
   "metadata": {},
   "outputs": [],
   "source": [
    "def clean_scavenged_feeding_tube(comment):\n",
    "    if isinstance(comment, str):\n",
    "        # Find 'scavenged feeding tube' and remove everything after it (including +, -, or any text)\n",
    "        match = re.search(r\"(scavenged feeding tube)\", comment, re.IGNORECASE)\n",
    "        if match:\n",
    "            return comment[:match.end()].strip()\n",
    "    return comment\n",
    "\n",
    "merged[\"Additional Comments\"] = merged[\"Additional Comments\"].apply(clean_scavenged_feeding_tube)"
   ]
  },
  {
   "cell_type": "code",
   "execution_count": 37,
   "id": "44a16780",
   "metadata": {},
   "outputs": [
    {
     "data": {
      "application/vnd.microsoft.datawrangler.viewer.v0+json": {
       "columns": [
        {
         "name": "Additional Comments",
         "rawType": "object",
         "type": "string"
        },
        {
         "name": "count",
         "rawType": "int64",
         "type": "integer"
        }
       ],
       "ref": "c7c0c838-955a-4415-ad74-afafabe24064",
       "rows": [
        [
         "Residual from Milk Prep Room",
         "68"
        ],
        [
         "Scavenged Feeding Tube",
         "57"
        ],
        [
         "Residual from Milk Prep Room & B2 Full",
         "1"
        ],
        [
         "Scanvenged Feeding Tube - Collected Outside of 4 hr Window ",
         "1"
        ],
        [
         "Residual from Milk Prep Room - Baby not on NG Feeds no linked sample",
         "1"
        ]
       ],
       "shape": {
        "columns": 1,
        "rows": 5
       }
      },
      "text/plain": [
       "Additional Comments\n",
       "Residual from Milk Prep Room                                            68\n",
       "Scavenged Feeding Tube                                                  57\n",
       "Residual from Milk Prep Room & B2 Full                                   1\n",
       "Scanvenged Feeding Tube - Collected Outside of 4 hr Window               1\n",
       "Residual from Milk Prep Room - Baby not on NG Feeds no linked sample     1\n",
       "Name: count, dtype: int64"
      ]
     },
     "execution_count": 37,
     "metadata": {},
     "output_type": "execute_result"
    }
   ],
   "source": [
    "merged[\"Additional Comments\"].value_counts()"
   ]
  },
  {
   "cell_type": "code",
   "execution_count": 38,
   "id": "a66f7b66",
   "metadata": {},
   "outputs": [],
   "source": [
    "# Update \"Residual from Milk Prep Room & B2 Full\" to \"Residual from Milk Prep Room\" in 'Additional Comments'\n",
    "merged[\"Additional Comments\"] = merged[\"Additional Comments\"].replace(\n",
    "    \"Residual from Milk Prep Room & B2 Full\", \"Residual from Milk Prep Room\"\n",
    ")"
   ]
  },
  {
   "cell_type": "code",
   "execution_count": 39,
   "id": "1fb3baa1",
   "metadata": {},
   "outputs": [
    {
     "data": {
      "application/vnd.microsoft.datawrangler.viewer.v0+json": {
       "columns": [
        {
         "name": "Additional Comments",
         "rawType": "object",
         "type": "string"
        },
        {
         "name": "count",
         "rawType": "int64",
         "type": "integer"
        }
       ],
       "ref": "2da4a4ef-ab50-4114-ba81-2cd81e9577de",
       "rows": [
        [
         "Residual from Milk Prep Room",
         "69"
        ],
        [
         "Scavenged Feeding Tube",
         "57"
        ],
        [
         "Scanvenged Feeding Tube - Collected Outside of 4 hr Window ",
         "1"
        ],
        [
         "Residual from Milk Prep Room - Baby not on NG Feeds no linked sample",
         "1"
        ]
       ],
       "shape": {
        "columns": 1,
        "rows": 4
       }
      },
      "text/plain": [
       "Additional Comments\n",
       "Residual from Milk Prep Room                                            69\n",
       "Scavenged Feeding Tube                                                  57\n",
       "Scanvenged Feeding Tube - Collected Outside of 4 hr Window               1\n",
       "Residual from Milk Prep Room - Baby not on NG Feeds no linked sample     1\n",
       "Name: count, dtype: int64"
      ]
     },
     "execution_count": 39,
     "metadata": {},
     "output_type": "execute_result"
    }
   ],
   "source": [
    "merged[\"Additional Comments\"].value_counts()"
   ]
  },
  {
   "cell_type": "code",
   "execution_count": 40,
   "id": "5c0bfeaf",
   "metadata": {},
   "outputs": [],
   "source": [
    "merged[\"Additional Comments\"] = merged[\"Additional Comments\"].replace(\n",
    "    \"Scanvenged Feeding Tube - Collected Outside of 4 hr Window \", \"Scavenged Feeding Tube\"\n",
    ")"
   ]
  },
  {
   "cell_type": "code",
   "execution_count": 41,
   "id": "dc6498cc",
   "metadata": {},
   "outputs": [
    {
     "data": {
      "application/vnd.microsoft.datawrangler.viewer.v0+json": {
       "columns": [
        {
         "name": "Additional Comments",
         "rawType": "object",
         "type": "string"
        },
        {
         "name": "count",
         "rawType": "int64",
         "type": "integer"
        }
       ],
       "ref": "98d2c434-0590-436f-922b-6f5cc15ea62d",
       "rows": [
        [
         "Residual from Milk Prep Room",
         "69"
        ],
        [
         "Scavenged Feeding Tube",
         "58"
        ],
        [
         "Residual from Milk Prep Room - Baby not on NG Feeds no linked sample",
         "1"
        ]
       ],
       "shape": {
        "columns": 1,
        "rows": 3
       }
      },
      "text/plain": [
       "Additional Comments\n",
       "Residual from Milk Prep Room                                            69\n",
       "Scavenged Feeding Tube                                                  58\n",
       "Residual from Milk Prep Room - Baby not on NG Feeds no linked sample     1\n",
       "Name: count, dtype: int64"
      ]
     },
     "execution_count": 41,
     "metadata": {},
     "output_type": "execute_result"
    }
   ],
   "source": [
    "merged[\"Additional Comments\"].value_counts()"
   ]
  },
  {
   "cell_type": "code",
   "execution_count": 42,
   "id": "c107d291",
   "metadata": {},
   "outputs": [],
   "source": [
    "merged[\"Additional Comments\"] = merged[\"Additional Comments\"].replace(\n",
    "    \"Residual from Milk Prep Room - Baby not on NG Feeds no linked sample\", \"Residual from Milk Prep Room\"\n",
    ")"
   ]
  },
  {
   "cell_type": "code",
   "execution_count": 43,
   "id": "c678c5e0",
   "metadata": {},
   "outputs": [
    {
     "data": {
      "application/vnd.microsoft.datawrangler.viewer.v0+json": {
       "columns": [
        {
         "name": "Additional Comments",
         "rawType": "object",
         "type": "string"
        },
        {
         "name": "count",
         "rawType": "int64",
         "type": "integer"
        }
       ],
       "ref": "1c632ea0-2e25-4387-acc8-0140b069b2bc",
       "rows": [
        [
         "Residual from Milk Prep Room",
         "70"
        ],
        [
         "Scavenged Feeding Tube",
         "58"
        ]
       ],
       "shape": {
        "columns": 1,
        "rows": 2
       }
      },
      "text/plain": [
       "Additional Comments\n",
       "Residual from Milk Prep Room    70\n",
       "Scavenged Feeding Tube          58\n",
       "Name: count, dtype: int64"
      ]
     },
     "execution_count": 43,
     "metadata": {},
     "output_type": "execute_result"
    }
   ],
   "source": [
    "merged[\"Additional Comments\"].value_counts()"
   ]
  },
  {
   "cell_type": "code",
   "execution_count": 44,
   "id": "19b80448",
   "metadata": {},
   "outputs": [],
   "source": [
    "merged[\"Additional Comments\"] = merged[\"Additional Comments\"].replace(\n",
    "    \"Residual from Milk Prep Room\", \"Prepped in Milk Room\"\n",
    ")"
   ]
  },
  {
   "cell_type": "code",
   "execution_count": 45,
   "id": "527f94b8",
   "metadata": {},
   "outputs": [
    {
     "data": {
      "application/vnd.microsoft.datawrangler.viewer.v0+json": {
       "columns": [
        {
         "name": "Additional Comments",
         "rawType": "object",
         "type": "string"
        },
        {
         "name": "count",
         "rawType": "int64",
         "type": "integer"
        }
       ],
       "ref": "24e59f23-8561-4485-9722-7cf9e656d4c6",
       "rows": [
        [
         "Prepped in Milk Room",
         "70"
        ],
        [
         "Scavenged Feeding Tube",
         "58"
        ]
       ],
       "shape": {
        "columns": 1,
        "rows": 2
       }
      },
      "text/plain": [
       "Additional Comments\n",
       "Prepped in Milk Room      70\n",
       "Scavenged Feeding Tube    58\n",
       "Name: count, dtype: int64"
      ]
     },
     "execution_count": 45,
     "metadata": {},
     "output_type": "execute_result"
    }
   ],
   "source": [
    "merged[\"Additional Comments\"].value_counts()"
   ]
  },
  {
   "cell_type": "code",
   "execution_count": 46,
   "id": "2bbecf8c",
   "metadata": {},
   "outputs": [
    {
     "data": {
      "application/vnd.microsoft.datawrangler.viewer.v0+json": {
       "columns": [
        {
         "name": "index",
         "rawType": "int64",
         "type": "integer"
        },
        {
         "name": "Additional Comments",
         "rawType": "object",
         "type": "string"
        },
        {
         "name": "scavenged notes",
         "rawType": "object",
         "type": "unknown"
        }
       ],
       "ref": "3074e791-67d5-459a-9872-0251681056ae",
       "rows": [
        [
         "0",
         "Prepped in Milk Room",
         null
        ],
        [
         "1",
         "Scavenged Feeding Tube",
         null
        ],
        [
         "2",
         "Scavenged Feeding Tube",
         null
        ],
        [
         "3",
         "Scavenged Feeding Tube",
         null
        ],
        [
         "4",
         "Prepped in Milk Room",
         null
        ],
        [
         "5",
         "Scavenged Feeding Tube",
         null
        ],
        [
         "6",
         "Scavenged Feeding Tube",
         "Nurse needed to feed extra 1 mL"
        ],
        [
         "7",
         "Scavenged Feeding Tube",
         "also started on sodium chloride oral solution 6/15/24"
        ],
        [
         "8",
         "Scavenged Feeding Tube",
         null
        ],
        [
         "9",
         "Scavenged Feeding Tube",
         null
        ],
        [
         "10",
         "Scavenged Feeding Tube",
         "NaCl Oral Solution"
        ],
        [
         "11",
         "Prepped in Milk Room",
         null
        ],
        [
         "12",
         "Scavenged Feeding Tube",
         null
        ],
        [
         "13",
         "Scavenged Feeding Tube",
         "NaCl Oral Solution"
        ],
        [
         "14",
         "Prepped in Milk Room",
         null
        ],
        [
         "15",
         "Prepped in Milk Room",
         null
        ],
        [
         "16",
         "Prepped in Milk Room",
         null
        ],
        [
         "17",
         "Prepped in Milk Room",
         null
        ],
        [
         "18",
         "Scavenged Feeding Tube",
         "NaCl Oral Solution - Pt intubated 6/25 & is NPO"
        ],
        [
         "19",
         "Prepped in Milk Room",
         null
        ],
        [
         "20",
         "Scavenged Feeding Tube",
         null
        ],
        [
         "21",
         "Scavenged Feeding Tube",
         null
        ],
        [
         "22",
         "Scavenged Feeding Tube",
         null
        ],
        [
         "23",
         "Prepped in Milk Room",
         null
        ],
        [
         "24",
         "Prepped in Milk Room",
         null
        ],
        [
         "25",
         "Prepped in Milk Room",
         null
        ],
        [
         "26",
         "Prepped in Milk Room",
         null
        ],
        [
         "27",
         "Prepped in Milk Room",
         null
        ],
        [
         "28",
         "Prepped in Milk Room",
         null
        ],
        [
         "29",
         "Scavenged Feeding Tube",
         null
        ],
        [
         "30",
         "Prepped in Milk Room",
         null
        ],
        [
         "31",
         "Prepped in Milk Room",
         null
        ],
        [
         "32",
         "Prepped in Milk Room",
         null
        ],
        [
         "33",
         "Prepped in Milk Room",
         null
        ],
        [
         "34",
         "Scavenged Feeding Tube",
         null
        ],
        [
         "35",
         "Scavenged Feeding Tube",
         null
        ],
        [
         "36",
         "Scavenged Feeding Tube",
         "Outside 4-hr .indo. by 2 hours"
        ],
        [
         "37",
         "Prepped in Milk Room",
         null
        ],
        [
         "38",
         "Scavenged Feeding Tube",
         null
        ],
        [
         "39",
         "Scavenged Feeding Tube",
         null
        ],
        [
         "40",
         "Prepped in Milk Room",
         null
        ],
        [
         "41",
         "Prepped in Milk Room",
         null
        ],
        [
         "42",
         "Prepped in Milk Room",
         null
        ],
        [
         "43",
         "Prepped in Milk Room",
         null
        ],
        [
         "44",
         "Scavenged Feeding Tube",
         null
        ],
        [
         "45",
         "Scavenged Feeding Tube",
         "Intubated 6/25 - NPO, restarted NG feeds 7/2"
        ],
        [
         "46",
         "Prepped in Milk Room",
         null
        ],
        [
         "47",
         "Prepped in Milk Room",
         null
        ],
        [
         "48",
         "Scavenged Feeding Tube",
         null
        ],
        [
         "49",
         "Scavenged Feeding Tube",
         "Parenteral Nutrition Stopped"
        ]
       ],
       "shape": {
        "columns": 2,
        "rows": 128
       }
      },
      "text/html": [
       "<div>\n",
       "<style scoped>\n",
       "    .dataframe tbody tr th:only-of-type {\n",
       "        vertical-align: middle;\n",
       "    }\n",
       "\n",
       "    .dataframe tbody tr th {\n",
       "        vertical-align: top;\n",
       "    }\n",
       "\n",
       "    .dataframe thead th {\n",
       "        text-align: right;\n",
       "    }\n",
       "</style>\n",
       "<table border=\"1\" class=\"dataframe\">\n",
       "  <thead>\n",
       "    <tr style=\"text-align: right;\">\n",
       "      <th></th>\n",
       "      <th>Additional Comments</th>\n",
       "      <th>scavenged notes</th>\n",
       "    </tr>\n",
       "  </thead>\n",
       "  <tbody>\n",
       "    <tr>\n",
       "      <th>0</th>\n",
       "      <td>Prepped in Milk Room</td>\n",
       "      <td>None</td>\n",
       "    </tr>\n",
       "    <tr>\n",
       "      <th>1</th>\n",
       "      <td>Scavenged Feeding Tube</td>\n",
       "      <td>None</td>\n",
       "    </tr>\n",
       "    <tr>\n",
       "      <th>2</th>\n",
       "      <td>Scavenged Feeding Tube</td>\n",
       "      <td>None</td>\n",
       "    </tr>\n",
       "    <tr>\n",
       "      <th>3</th>\n",
       "      <td>Scavenged Feeding Tube</td>\n",
       "      <td>None</td>\n",
       "    </tr>\n",
       "    <tr>\n",
       "      <th>4</th>\n",
       "      <td>Prepped in Milk Room</td>\n",
       "      <td>None</td>\n",
       "    </tr>\n",
       "    <tr>\n",
       "      <th>...</th>\n",
       "      <td>...</td>\n",
       "      <td>...</td>\n",
       "    </tr>\n",
       "    <tr>\n",
       "      <th>123</th>\n",
       "      <td>Prepped in Milk Room</td>\n",
       "      <td>None</td>\n",
       "    </tr>\n",
       "    <tr>\n",
       "      <th>124</th>\n",
       "      <td>Prepped in Milk Room</td>\n",
       "      <td>None</td>\n",
       "    </tr>\n",
       "    <tr>\n",
       "      <th>125</th>\n",
       "      <td>Prepped in Milk Room</td>\n",
       "      <td>None</td>\n",
       "    </tr>\n",
       "    <tr>\n",
       "      <th>126</th>\n",
       "      <td>Prepped in Milk Room</td>\n",
       "      <td>None</td>\n",
       "    </tr>\n",
       "    <tr>\n",
       "      <th>127</th>\n",
       "      <td>Prepped in Milk Room</td>\n",
       "      <td>None</td>\n",
       "    </tr>\n",
       "  </tbody>\n",
       "</table>\n",
       "<p>128 rows × 2 columns</p>\n",
       "</div>"
      ],
      "text/plain": [
       "        Additional Comments scavenged notes\n",
       "0      Prepped in Milk Room            None\n",
       "1    Scavenged Feeding Tube            None\n",
       "2    Scavenged Feeding Tube            None\n",
       "3    Scavenged Feeding Tube            None\n",
       "4      Prepped in Milk Room            None\n",
       "..                      ...             ...\n",
       "123    Prepped in Milk Room            None\n",
       "124    Prepped in Milk Room            None\n",
       "125    Prepped in Milk Room            None\n",
       "126    Prepped in Milk Room            None\n",
       "127    Prepped in Milk Room            None\n",
       "\n",
       "[128 rows x 2 columns]"
      ]
     },
     "execution_count": 46,
     "metadata": {},
     "output_type": "execute_result"
    }
   ],
   "source": [
    "merged[[\"Additional Comments\", \"scavenged notes\"]]"
   ]
  },
  {
   "cell_type": "code",
   "execution_count": 47,
   "id": "b90335f0",
   "metadata": {},
   "outputs": [
    {
     "data": {
      "application/vnd.microsoft.datawrangler.viewer.v0+json": {
       "columns": [
        {
         "name": "scavenged notes",
         "rawType": "object",
         "type": "string"
        },
        {
         "name": "count",
         "rawType": "int64",
         "type": "integer"
        }
       ],
       "ref": "46e58273-0566-41f8-a487-7ecba2125f34",
       "rows": [
        [
         "NaCl Oral Solution",
         "2"
        ],
        [
         "Nurse needed to feed extra 1 mL",
         "1"
        ],
        [
         "also started on sodium chloride oral solution 6/15/24",
         "1"
        ],
        [
         "NaCl Oral Solution - Pt intubated 6/25 & is NPO",
         "1"
        ],
        [
         "Outside 4-hr .indo. by 2 hours",
         "1"
        ],
        [
         "Intubated 6/25 - NPO, restarted NG feeds 7/2",
         "1"
        ],
        [
         "Parenteral Nutrition Stopped",
         "1"
        ],
        [
         "Last NG Feed 7/2",
         "1"
        ]
       ],
       "shape": {
        "columns": 1,
        "rows": 8
       }
      },
      "text/plain": [
       "scavenged notes\n",
       "NaCl Oral Solution                                       2\n",
       "Nurse needed to feed extra 1 mL                          1\n",
       "also started on sodium chloride oral solution 6/15/24    1\n",
       "NaCl Oral Solution - Pt intubated 6/25 & is NPO          1\n",
       "Outside 4-hr .indo. by 2 hours                           1\n",
       "Intubated 6/25 - NPO, restarted NG feeds 7/2             1\n",
       "Parenteral Nutrition Stopped                             1\n",
       "Last NG Feed 7/2                                         1\n",
       "Name: count, dtype: int64"
      ]
     },
     "execution_count": 47,
     "metadata": {},
     "output_type": "execute_result"
    }
   ],
   "source": [
    "merged[\"scavenged notes\"].value_counts()"
   ]
  },
  {
   "cell_type": "code",
   "execution_count": 48,
   "id": "c5bc6dc1",
   "metadata": {},
   "outputs": [
    {
     "data": {
      "application/vnd.microsoft.datawrangler.viewer.v0+json": {
       "columns": [
        {
         "name": "Additional Comments",
         "rawType": "object",
         "type": "string"
        },
        {
         "name": "count",
         "rawType": "int64",
         "type": "integer"
        }
       ],
       "ref": "9a616935-3387-4a3c-8700-67c7bf7036e1",
       "rows": [
        [
         "Prepped in Milk Room",
         "70"
        ],
        [
         "Scavenged Feeding Tube",
         "58"
        ]
       ],
       "shape": {
        "columns": 1,
        "rows": 2
       }
      },
      "text/plain": [
       "Additional Comments\n",
       "Prepped in Milk Room      70\n",
       "Scavenged Feeding Tube    58\n",
       "Name: count, dtype: int64"
      ]
     },
     "execution_count": 48,
     "metadata": {},
     "output_type": "execute_result"
    }
   ],
   "source": [
    "merged[\"Additional Comments\"].value_counts()"
   ]
  },
  {
   "cell_type": "code",
   "execution_count": 49,
   "id": "7831e8ad",
   "metadata": {},
   "outputs": [],
   "source": [
    "def classify_sample_method(comment):\n",
    "    if isinstance(comment, str):\n",
    "        if \"scavenged\" in comment.lower():\n",
    "            return \"Scavenged\"\n",
    "        elif \"milk room\" in comment.lower():\n",
    "            return \"Prepped in Milk Room\"\n",
    "    return \"Other\"\n",
    "\n",
    "merged[\"Sample Source\"] = merged[\"Additional Comments\"].apply(classify_sample_method)\n"
   ]
  },
  {
   "cell_type": "code",
   "execution_count": 50,
   "id": "3c3b58b7",
   "metadata": {},
   "outputs": [
    {
     "data": {
      "application/vnd.microsoft.datawrangler.viewer.v0+json": {
       "columns": [
        {
         "name": "Sample Source",
         "rawType": "object",
         "type": "string"
        },
        {
         "name": "count",
         "rawType": "int64",
         "type": "integer"
        }
       ],
       "ref": "0a5e08ae-ec5f-4b26-8996-68d5fa015921",
       "rows": [
        [
         "Prepped in Milk Room",
         "70"
        ],
        [
         "Scavenged",
         "58"
        ]
       ],
       "shape": {
        "columns": 1,
        "rows": 2
       }
      },
      "text/plain": [
       "Sample Source\n",
       "Prepped in Milk Room    70\n",
       "Scavenged               58\n",
       "Name: count, dtype: int64"
      ]
     },
     "execution_count": 50,
     "metadata": {},
     "output_type": "execute_result"
    }
   ],
   "source": [
    "merged[\"Sample Source\"].value_counts()"
   ]
  },
  {
   "cell_type": "markdown",
   "id": "3956c4d5",
   "metadata": {},
   "source": [
    "#### want to make a new column with the mother's secretor status for each sample based on the first MBM sample for each subject"
   ]
  },
  {
   "cell_type": "code",
   "execution_count": 51,
   "id": "b976662b",
   "metadata": {},
   "outputs": [],
   "source": [
    "# Make sure columns are clean\n",
    "merged.columns = merged.columns.str.strip()\n",
    "\n",
    "# Step 1. Filter to only MBM rows\n",
    "merged_mbm = merged[merged[\"MBM/DMB?\"] == \"MBM\"].copy()\n",
    "\n",
    "# Step 2. Get the *first MBM row* per subject\n",
    "first_mbm = (\n",
    "   merged_mbm.sort_values([\"Subject ID\", \"DOL\"])   # sort by day of life so \"first\" makes sense\n",
    "          .groupby(\"Subject ID\", as_index=False)\n",
    "          .first()[[\"Subject ID\", \"Secretor Status\"]]\n",
    ")\n",
    "\n",
    "# Step 3. Rename the column\n",
    "first_mbm.rename(columns={\"Secretor Status\": \"secretorstatus_mom\"}, inplace=True)\n",
    "\n",
    "# Step 4. Merge back to main df\n",
    "merged = merged.merge(first_mbm, on=\"Subject ID\", how=\"left\")"
   ]
  },
  {
   "cell_type": "code",
   "execution_count": 52,
   "id": "6fd39981",
   "metadata": {},
   "outputs": [],
   "source": [
    "merged[\"secretorstatus_mom\"] = merged[\"secretorstatus_mom\"].fillna(\"No MBM\")"
   ]
  },
  {
   "cell_type": "code",
   "execution_count": 53,
   "id": "d6b69e4d",
   "metadata": {},
   "outputs": [
    {
     "data": {
      "application/vnd.microsoft.datawrangler.viewer.v0+json": {
       "columns": [
        {
         "name": "index",
         "rawType": "int64",
         "type": "integer"
        },
        {
         "name": "Subject ID",
         "rawType": "object",
         "type": "string"
        },
        {
         "name": "MBM/DMB?",
         "rawType": "object",
         "type": "unknown"
        },
        {
         "name": "Secretor Status",
         "rawType": "object",
         "type": "string"
        },
        {
         "name": "secretorstatus_mom",
         "rawType": "object",
         "type": "string"
        }
       ],
       "ref": "8c9307f2-4d10-4338-ba04-f5af9698fea9",
       "rows": [
        [
         "0",
         "NB00012",
         "MBM + DBM",
         "Secretor",
         "No MBM"
        ],
        [
         "1",
         "NB00003",
         "DBM",
         "Secretor",
         "No MBM"
        ],
        [
         "2",
         "NB00003",
         "DBM",
         "Secretor",
         "No MBM"
        ],
        [
         "3",
         "NB00003",
         "DBM",
         "Secretor",
         "No MBM"
        ],
        [
         "4",
         "NB00354",
         "MBM",
         "Non-Secretor",
         "Non-Secretor"
        ],
        [
         "5",
         "NB00354",
         "MBM",
         "Non-Secretor",
         "Non-Secretor"
        ],
        [
         "6",
         "NB00002",
         "MBM",
         "Non-Secretor",
         "Non-Secretor"
        ],
        [
         "7",
         "NB00003",
         "DBM",
         "Secretor",
         "No MBM"
        ],
        [
         "8",
         "NB00002",
         "MBM",
         "Non-Secretor",
         "Non-Secretor"
        ],
        [
         "9",
         "NB00002",
         "MBM",
         "Non-Secretor",
         "Non-Secretor"
        ],
        [
         "10",
         "NB00003",
         "DBM",
         "Secretor",
         "No MBM"
        ],
        [
         "11",
         "NB00014",
         "MBM",
         "Secretor",
         "Secretor"
        ],
        [
         "12",
         "NB00002",
         "MBM",
         "Non-Secretor",
         "Non-Secretor"
        ],
        [
         "13",
         "NB00003",
         "DBM",
         "Secretor",
         "No MBM"
        ],
        [
         "14",
         "NB00354",
         "MBM",
         "Non-Secretor",
         "Non-Secretor"
        ],
        [
         "15",
         "NB00006",
         "MBM",
         "Secretor",
         "Secretor"
        ],
        [
         "16",
         "NB00008",
         "MBM",
         "Secretor",
         "Secretor"
        ],
        [
         "17",
         "NB00400",
         "MBM",
         "Non-Secretor",
         "Non-Secretor"
        ],
        [
         "18",
         "NB00003",
         "DBM",
         "Secretor",
         "No MBM"
        ],
        [
         "19",
         "NB00380",
         "MBM",
         "Non-Secretor",
         "Non-Secretor"
        ],
        [
         "20",
         "NB00002",
         "MBM",
         "Secretor",
         "Non-Secretor"
        ],
        [
         "21",
         "NB00002",
         "MBM",
         "Non-Secretor",
         "Non-Secretor"
        ],
        [
         "22",
         "NB00002",
         "MBM",
         "Non-Secretor",
         "Non-Secretor"
        ],
        [
         "23",
         "NB00414",
         "MBM",
         "Secretor",
         "Secretor"
        ],
        [
         "24",
         "NB00008",
         "MBM",
         "Secretor",
         "Secretor"
        ],
        [
         "25",
         "NB00013",
         "DBM",
         "Secretor",
         "No MBM"
        ],
        [
         "26",
         "NB00008",
         "DBM",
         "Secretor",
         "Secretor"
        ],
        [
         "27",
         "NB00380",
         "MBM",
         "Non-Secretor",
         "Non-Secretor"
        ],
        [
         "28",
         "NB00359",
         "MBM",
         "Non-Secretor",
         "Non-Secretor"
        ],
        [
         "29",
         "NB00359",
         "MBM",
         "Non-Secretor",
         "Non-Secretor"
        ],
        [
         "30",
         "NB00380",
         "MBM",
         "Non-Secretor",
         "Non-Secretor"
        ],
        [
         "31",
         "NB00438",
         null,
         "Secretor",
         "No MBM"
        ],
        [
         "32",
         "NB00008",
         "MBM + DBM",
         "Secretor",
         "Secretor"
        ],
        [
         "33",
         "NB00359",
         "MBM",
         "Non-Secretor",
         "Non-Secretor"
        ],
        [
         "34",
         "NB00359",
         "MBM",
         "Secretor",
         "Non-Secretor"
        ],
        [
         "35",
         "NB00002",
         "MBM",
         "Non-Secretor",
         "Non-Secretor"
        ],
        [
         "36",
         "NB00002",
         "MBM",
         "Non-Secretor",
         "Non-Secretor"
        ],
        [
         "37",
         "NB00008",
         "MBM",
         "Secretor",
         "Secretor"
        ],
        [
         "38",
         "NB00002",
         "MBM",
         "Non-Secretor",
         "Non-Secretor"
        ],
        [
         "39",
         "NB00003",
         "DBM",
         "Secretor",
         "No MBM"
        ],
        [
         "40",
         "NB00004",
         "MBM",
         "Secretor",
         "Secretor"
        ],
        [
         "41",
         "NB00237",
         "MBM",
         "Secretor",
         "Secretor"
        ],
        [
         "42",
         "NB00378",
         "MBM",
         "Secretor",
         "Secretor"
        ],
        [
         "43",
         "NB00393",
         "MBM",
         "Secretor",
         "Secretor"
        ],
        [
         "44",
         "NB00002",
         "MBM",
         "Non-Secretor",
         "Non-Secretor"
        ],
        [
         "45",
         "NB00003",
         "DBM",
         "Secretor",
         "No MBM"
        ],
        [
         "46",
         "NB00004",
         "MBM",
         "Secretor",
         "Secretor"
        ],
        [
         "47",
         "NB00010",
         "MBM",
         "Secretor",
         "Secretor"
        ],
        [
         "48",
         "NB00002",
         "MBM",
         "Non-Secretor",
         "Non-Secretor"
        ],
        [
         "49",
         "NB00003",
         "DBM",
         "Secretor",
         "No MBM"
        ]
       ],
       "shape": {
        "columns": 4,
        "rows": 128
       }
      },
      "text/html": [
       "<div>\n",
       "<style scoped>\n",
       "    .dataframe tbody tr th:only-of-type {\n",
       "        vertical-align: middle;\n",
       "    }\n",
       "\n",
       "    .dataframe tbody tr th {\n",
       "        vertical-align: top;\n",
       "    }\n",
       "\n",
       "    .dataframe thead th {\n",
       "        text-align: right;\n",
       "    }\n",
       "</style>\n",
       "<table border=\"1\" class=\"dataframe\">\n",
       "  <thead>\n",
       "    <tr style=\"text-align: right;\">\n",
       "      <th></th>\n",
       "      <th>Subject ID</th>\n",
       "      <th>MBM/DMB?</th>\n",
       "      <th>Secretor Status</th>\n",
       "      <th>secretorstatus_mom</th>\n",
       "    </tr>\n",
       "  </thead>\n",
       "  <tbody>\n",
       "    <tr>\n",
       "      <th>0</th>\n",
       "      <td>NB00012</td>\n",
       "      <td>MBM + DBM</td>\n",
       "      <td>Secretor</td>\n",
       "      <td>No MBM</td>\n",
       "    </tr>\n",
       "    <tr>\n",
       "      <th>1</th>\n",
       "      <td>NB00003</td>\n",
       "      <td>DBM</td>\n",
       "      <td>Secretor</td>\n",
       "      <td>No MBM</td>\n",
       "    </tr>\n",
       "    <tr>\n",
       "      <th>2</th>\n",
       "      <td>NB00003</td>\n",
       "      <td>DBM</td>\n",
       "      <td>Secretor</td>\n",
       "      <td>No MBM</td>\n",
       "    </tr>\n",
       "    <tr>\n",
       "      <th>3</th>\n",
       "      <td>NB00003</td>\n",
       "      <td>DBM</td>\n",
       "      <td>Secretor</td>\n",
       "      <td>No MBM</td>\n",
       "    </tr>\n",
       "    <tr>\n",
       "      <th>4</th>\n",
       "      <td>NB00354</td>\n",
       "      <td>MBM</td>\n",
       "      <td>Non-Secretor</td>\n",
       "      <td>Non-Secretor</td>\n",
       "    </tr>\n",
       "    <tr>\n",
       "      <th>...</th>\n",
       "      <td>...</td>\n",
       "      <td>...</td>\n",
       "      <td>...</td>\n",
       "      <td>...</td>\n",
       "    </tr>\n",
       "    <tr>\n",
       "      <th>123</th>\n",
       "      <td>NB00007</td>\n",
       "      <td>MBM</td>\n",
       "      <td>Secretor</td>\n",
       "      <td>Secretor</td>\n",
       "    </tr>\n",
       "    <tr>\n",
       "      <th>124</th>\n",
       "      <td>NB00007</td>\n",
       "      <td>MBM</td>\n",
       "      <td>Secretor</td>\n",
       "      <td>Secretor</td>\n",
       "    </tr>\n",
       "    <tr>\n",
       "      <th>125</th>\n",
       "      <td>NB00007</td>\n",
       "      <td>MBM</td>\n",
       "      <td>Non-Secretor</td>\n",
       "      <td>Secretor</td>\n",
       "    </tr>\n",
       "    <tr>\n",
       "      <th>126</th>\n",
       "      <td>NB00379</td>\n",
       "      <td>MBM</td>\n",
       "      <td>Secretor</td>\n",
       "      <td>Secretor</td>\n",
       "    </tr>\n",
       "    <tr>\n",
       "      <th>127</th>\n",
       "      <td>NB00007</td>\n",
       "      <td>MBM</td>\n",
       "      <td>Secretor</td>\n",
       "      <td>Secretor</td>\n",
       "    </tr>\n",
       "  </tbody>\n",
       "</table>\n",
       "<p>128 rows × 4 columns</p>\n",
       "</div>"
      ],
      "text/plain": [
       "    Subject ID   MBM/DMB? Secretor Status secretorstatus_mom\n",
       "0      NB00012  MBM + DBM        Secretor             No MBM\n",
       "1      NB00003        DBM        Secretor             No MBM\n",
       "2      NB00003        DBM        Secretor             No MBM\n",
       "3      NB00003        DBM        Secretor             No MBM\n",
       "4      NB00354        MBM    Non-Secretor       Non-Secretor\n",
       "..         ...        ...             ...                ...\n",
       "123    NB00007        MBM        Secretor           Secretor\n",
       "124    NB00007        MBM        Secretor           Secretor\n",
       "125    NB00007        MBM    Non-Secretor           Secretor\n",
       "126    NB00379        MBM        Secretor           Secretor\n",
       "127    NB00007        MBM        Secretor           Secretor\n",
       "\n",
       "[128 rows x 4 columns]"
      ]
     },
     "execution_count": 53,
     "metadata": {},
     "output_type": "execute_result"
    }
   ],
   "source": [
    "merged[[\"Subject ID\", \"MBM/DMB?\", \"Secretor Status\", \"secretorstatus_mom\"]]"
   ]
  },
  {
   "cell_type": "code",
   "execution_count": 54,
   "id": "d608f3fe",
   "metadata": {},
   "outputs": [
    {
     "data": {
      "application/vnd.microsoft.datawrangler.viewer.v0+json": {
       "columns": [
        {
         "name": "secretorstatus_mom",
         "rawType": "object",
         "type": "string"
        },
        {
         "name": "count",
         "rawType": "int64",
         "type": "integer"
        }
       ],
       "ref": "96bdc819-e432-4d7c-840f-d51db024c6f3",
       "rows": [
        [
         "Secretor",
         "57"
        ],
        [
         "Non-Secretor",
         "42"
        ],
        [
         "No MBM",
         "29"
        ]
       ],
       "shape": {
        "columns": 1,
        "rows": 3
       }
      },
      "text/plain": [
       "secretorstatus_mom\n",
       "Secretor        57\n",
       "Non-Secretor    42\n",
       "No MBM          29\n",
       "Name: count, dtype: int64"
      ]
     },
     "execution_count": 54,
     "metadata": {},
     "output_type": "execute_result"
    }
   ],
   "source": [
    "merged.secretorstatus_mom.value_counts()"
   ]
  },
  {
   "cell_type": "code",
   "execution_count": 55,
   "id": "bf3c2a2e",
   "metadata": {},
   "outputs": [
    {
     "name": "stdout",
     "output_type": "stream",
     "text": [
      "Number of unique subjects in summary: 28\n"
     ]
    },
    {
     "data": {
      "application/vnd.microsoft.datawrangler.viewer.v0+json": {
       "columns": [
        {
         "name": "index",
         "rawType": "int64",
         "type": "integer"
        },
        {
         "name": "Subject ID",
         "rawType": "object",
         "type": "string"
        },
        {
         "name": "secretorstatus_mom",
         "rawType": "object",
         "type": "string"
        },
        {
         "name": "Change Flag",
         "rawType": "object",
         "type": "string"
        }
       ],
       "ref": "0ab35ebf-35f1-467e-b3bd-13469709e046",
       "rows": [
        [
         "0",
         "NB00001",
         "Non-Secretor",
         "No Change"
        ],
        [
         "1",
         "NB00002",
         "Non-Secretor",
         "Changed"
        ],
        [
         "2",
         "NB00004",
         "Secretor",
         "No Change"
        ],
        [
         "3",
         "NB00005",
         "Secretor",
         "No Change"
        ],
        [
         "4",
         "NB00006",
         "Secretor",
         "No Change"
        ],
        [
         "5",
         "NB00007",
         "Secretor",
         "Changed"
        ],
        [
         "6",
         "NB00008",
         "Secretor",
         "No Change"
        ],
        [
         "7",
         "NB00009",
         "Secretor",
         "No Change"
        ],
        [
         "8",
         "NB00010",
         "Secretor",
         "No Change"
        ],
        [
         "9",
         "NB00011",
         "Secretor",
         "Changed"
        ],
        [
         "10",
         "NB00014",
         "Secretor",
         "No Change"
        ],
        [
         "11",
         "NB00015",
         "Secretor",
         "No Change"
        ],
        [
         "12",
         "NB00237",
         "Secretor",
         "No Change"
        ],
        [
         "13",
         "NB00238",
         "Secretor",
         "No Change"
        ],
        [
         "14",
         "NB00354",
         "Non-Secretor",
         "No Change"
        ],
        [
         "15",
         "NB00359",
         "Non-Secretor",
         "Changed"
        ],
        [
         "16",
         "NB00360",
         "Non-Secretor",
         "No Change"
        ],
        [
         "17",
         "NB00361",
         "Secretor",
         "No Change"
        ],
        [
         "18",
         "NB00362",
         "Secretor",
         "No Change"
        ],
        [
         "19",
         "NB00365",
         "Secretor",
         "No Change"
        ],
        [
         "20",
         "NB00378",
         "Secretor",
         "No Change"
        ],
        [
         "21",
         "NB00379",
         "Secretor",
         "No Change"
        ],
        [
         "22",
         "NB00380",
         "Non-Secretor",
         "No Change"
        ],
        [
         "23",
         "NB00393",
         "Secretor",
         "No Change"
        ],
        [
         "24",
         "NB00398",
         "Secretor",
         "No Change"
        ],
        [
         "25",
         "NB00400",
         "Non-Secretor",
         "No Change"
        ],
        [
         "26",
         "NB00414",
         "Secretor",
         "No Change"
        ],
        [
         "27",
         "NB00457",
         "Secretor",
         "No Change"
        ]
       ],
       "shape": {
        "columns": 3,
        "rows": 28
       }
      },
      "text/html": [
       "<div>\n",
       "<style scoped>\n",
       "    .dataframe tbody tr th:only-of-type {\n",
       "        vertical-align: middle;\n",
       "    }\n",
       "\n",
       "    .dataframe tbody tr th {\n",
       "        vertical-align: top;\n",
       "    }\n",
       "\n",
       "    .dataframe thead th {\n",
       "        text-align: right;\n",
       "    }\n",
       "</style>\n",
       "<table border=\"1\" class=\"dataframe\">\n",
       "  <thead>\n",
       "    <tr style=\"text-align: right;\">\n",
       "      <th></th>\n",
       "      <th>Subject ID</th>\n",
       "      <th>secretorstatus_mom</th>\n",
       "      <th>Change Flag</th>\n",
       "    </tr>\n",
       "  </thead>\n",
       "  <tbody>\n",
       "    <tr>\n",
       "      <th>0</th>\n",
       "      <td>NB00001</td>\n",
       "      <td>Non-Secretor</td>\n",
       "      <td>No Change</td>\n",
       "    </tr>\n",
       "    <tr>\n",
       "      <th>1</th>\n",
       "      <td>NB00002</td>\n",
       "      <td>Non-Secretor</td>\n",
       "      <td>Changed</td>\n",
       "    </tr>\n",
       "    <tr>\n",
       "      <th>2</th>\n",
       "      <td>NB00004</td>\n",
       "      <td>Secretor</td>\n",
       "      <td>No Change</td>\n",
       "    </tr>\n",
       "    <tr>\n",
       "      <th>3</th>\n",
       "      <td>NB00005</td>\n",
       "      <td>Secretor</td>\n",
       "      <td>No Change</td>\n",
       "    </tr>\n",
       "    <tr>\n",
       "      <th>4</th>\n",
       "      <td>NB00006</td>\n",
       "      <td>Secretor</td>\n",
       "      <td>No Change</td>\n",
       "    </tr>\n",
       "    <tr>\n",
       "      <th>5</th>\n",
       "      <td>NB00007</td>\n",
       "      <td>Secretor</td>\n",
       "      <td>Changed</td>\n",
       "    </tr>\n",
       "    <tr>\n",
       "      <th>6</th>\n",
       "      <td>NB00008</td>\n",
       "      <td>Secretor</td>\n",
       "      <td>No Change</td>\n",
       "    </tr>\n",
       "    <tr>\n",
       "      <th>7</th>\n",
       "      <td>NB00009</td>\n",
       "      <td>Secretor</td>\n",
       "      <td>No Change</td>\n",
       "    </tr>\n",
       "    <tr>\n",
       "      <th>8</th>\n",
       "      <td>NB00010</td>\n",
       "      <td>Secretor</td>\n",
       "      <td>No Change</td>\n",
       "    </tr>\n",
       "    <tr>\n",
       "      <th>9</th>\n",
       "      <td>NB00011</td>\n",
       "      <td>Secretor</td>\n",
       "      <td>Changed</td>\n",
       "    </tr>\n",
       "    <tr>\n",
       "      <th>10</th>\n",
       "      <td>NB00014</td>\n",
       "      <td>Secretor</td>\n",
       "      <td>No Change</td>\n",
       "    </tr>\n",
       "    <tr>\n",
       "      <th>11</th>\n",
       "      <td>NB00015</td>\n",
       "      <td>Secretor</td>\n",
       "      <td>No Change</td>\n",
       "    </tr>\n",
       "    <tr>\n",
       "      <th>12</th>\n",
       "      <td>NB00237</td>\n",
       "      <td>Secretor</td>\n",
       "      <td>No Change</td>\n",
       "    </tr>\n",
       "    <tr>\n",
       "      <th>13</th>\n",
       "      <td>NB00238</td>\n",
       "      <td>Secretor</td>\n",
       "      <td>No Change</td>\n",
       "    </tr>\n",
       "    <tr>\n",
       "      <th>14</th>\n",
       "      <td>NB00354</td>\n",
       "      <td>Non-Secretor</td>\n",
       "      <td>No Change</td>\n",
       "    </tr>\n",
       "    <tr>\n",
       "      <th>15</th>\n",
       "      <td>NB00359</td>\n",
       "      <td>Non-Secretor</td>\n",
       "      <td>Changed</td>\n",
       "    </tr>\n",
       "    <tr>\n",
       "      <th>16</th>\n",
       "      <td>NB00360</td>\n",
       "      <td>Non-Secretor</td>\n",
       "      <td>No Change</td>\n",
       "    </tr>\n",
       "    <tr>\n",
       "      <th>17</th>\n",
       "      <td>NB00361</td>\n",
       "      <td>Secretor</td>\n",
       "      <td>No Change</td>\n",
       "    </tr>\n",
       "    <tr>\n",
       "      <th>18</th>\n",
       "      <td>NB00362</td>\n",
       "      <td>Secretor</td>\n",
       "      <td>No Change</td>\n",
       "    </tr>\n",
       "    <tr>\n",
       "      <th>19</th>\n",
       "      <td>NB00365</td>\n",
       "      <td>Secretor</td>\n",
       "      <td>No Change</td>\n",
       "    </tr>\n",
       "    <tr>\n",
       "      <th>20</th>\n",
       "      <td>NB00378</td>\n",
       "      <td>Secretor</td>\n",
       "      <td>No Change</td>\n",
       "    </tr>\n",
       "    <tr>\n",
       "      <th>21</th>\n",
       "      <td>NB00379</td>\n",
       "      <td>Secretor</td>\n",
       "      <td>No Change</td>\n",
       "    </tr>\n",
       "    <tr>\n",
       "      <th>22</th>\n",
       "      <td>NB00380</td>\n",
       "      <td>Non-Secretor</td>\n",
       "      <td>No Change</td>\n",
       "    </tr>\n",
       "    <tr>\n",
       "      <th>23</th>\n",
       "      <td>NB00393</td>\n",
       "      <td>Secretor</td>\n",
       "      <td>No Change</td>\n",
       "    </tr>\n",
       "    <tr>\n",
       "      <th>24</th>\n",
       "      <td>NB00398</td>\n",
       "      <td>Secretor</td>\n",
       "      <td>No Change</td>\n",
       "    </tr>\n",
       "    <tr>\n",
       "      <th>25</th>\n",
       "      <td>NB00400</td>\n",
       "      <td>Non-Secretor</td>\n",
       "      <td>No Change</td>\n",
       "    </tr>\n",
       "    <tr>\n",
       "      <th>26</th>\n",
       "      <td>NB00414</td>\n",
       "      <td>Secretor</td>\n",
       "      <td>No Change</td>\n",
       "    </tr>\n",
       "    <tr>\n",
       "      <th>27</th>\n",
       "      <td>NB00457</td>\n",
       "      <td>Secretor</td>\n",
       "      <td>No Change</td>\n",
       "    </tr>\n",
       "  </tbody>\n",
       "</table>\n",
       "</div>"
      ],
      "text/plain": [
       "   Subject ID secretorstatus_mom Change Flag\n",
       "0     NB00001       Non-Secretor   No Change\n",
       "1     NB00002       Non-Secretor     Changed\n",
       "2     NB00004           Secretor   No Change\n",
       "3     NB00005           Secretor   No Change\n",
       "4     NB00006           Secretor   No Change\n",
       "5     NB00007           Secretor     Changed\n",
       "6     NB00008           Secretor   No Change\n",
       "7     NB00009           Secretor   No Change\n",
       "8     NB00010           Secretor   No Change\n",
       "9     NB00011           Secretor     Changed\n",
       "10    NB00014           Secretor   No Change\n",
       "11    NB00015           Secretor   No Change\n",
       "12    NB00237           Secretor   No Change\n",
       "13    NB00238           Secretor   No Change\n",
       "14    NB00354       Non-Secretor   No Change\n",
       "15    NB00359       Non-Secretor     Changed\n",
       "16    NB00360       Non-Secretor   No Change\n",
       "17    NB00361           Secretor   No Change\n",
       "18    NB00362           Secretor   No Change\n",
       "19    NB00365           Secretor   No Change\n",
       "20    NB00378           Secretor   No Change\n",
       "21    NB00379           Secretor   No Change\n",
       "22    NB00380       Non-Secretor   No Change\n",
       "23    NB00393           Secretor   No Change\n",
       "24    NB00398           Secretor   No Change\n",
       "25    NB00400       Non-Secretor   No Change\n",
       "26    NB00414           Secretor   No Change\n",
       "27    NB00457           Secretor   No Change"
      ]
     },
     "execution_count": 55,
     "metadata": {},
     "output_type": "execute_result"
    }
   ],
   "source": [
    "### per unique subject id\n",
    "results = []\n",
    "for subj, group in merged_mbm.groupby(\"Subject ID\"):\n",
    "    group = group.sort_values(\"DOL\")\n",
    "    first_status = group.iloc[0][\"Secretor Status\"]\n",
    "    changed = (group[\"Secretor Status\"] != first_status).any()\n",
    "    \n",
    "    results.append({\n",
    "        \"Subject ID\": subj,\n",
    "        \"secretorstatus_mom\": first_status,\n",
    "        \"Change Flag\": \"Changed\" if changed else \"No Change\"\n",
    "    })\n",
    "\n",
    "# ✅ This table has ONE ROW per subject\n",
    "status_check = pd.DataFrame(results)\n",
    "\n",
    "print(\"Number of unique subjects in summary:\", status_check[\"Subject ID\"].nunique())\n",
    "status_check\n"
   ]
  },
  {
   "cell_type": "markdown",
   "id": "4a143c76",
   "metadata": {},
   "source": [
    "##### Download Status_Check as a DF"
   ]
  },
  {
   "cell_type": "code",
   "execution_count": 56,
   "id": "ea3189da",
   "metadata": {},
   "outputs": [],
   "source": [
    "status_check.to_excel('Secretor_status_check.xlsx', index=False)"
   ]
  },
  {
   "cell_type": "markdown",
   "id": "96300ae8",
   "metadata": {},
   "source": [
    "### Download the cleaned and merged DataFrame"
   ]
  },
  {
   "cell_type": "code",
   "execution_count": null,
   "id": "a6263693",
   "metadata": {},
   "outputs": [],
   "source": [
    "merged.columns"
   ]
  },
  {
   "cell_type": "code",
   "execution_count": null,
   "id": "7d4e2d1a",
   "metadata": {},
   "outputs": [],
   "source": [
    "merged.to_excel('Unlinked_Merged.xlsx', index=False)"
   ]
  },
  {
   "cell_type": "code",
   "execution_count": null,
   "id": "e2e0d968",
   "metadata": {},
   "outputs": [],
   "source": [
    "merged"
   ]
  },
  {
   "cell_type": "markdown",
   "id": "9e0563a3",
   "metadata": {},
   "source": [
    "### is HMO concentration accosicated with metadata features?"
   ]
  },
  {
   "cell_type": "code",
   "execution_count": null,
   "id": "0cbb9034",
   "metadata": {},
   "outputs": [],
   "source": [
    "pip install scipy\n"
   ]
  },
  {
   "cell_type": "code",
   "execution_count": null,
   "id": "42485a6e",
   "metadata": {},
   "outputs": [],
   "source": [
    "merged"
   ]
  },
  {
   "cell_type": "markdown",
   "id": "be067adb",
   "metadata": {},
   "source": [
    "## Secretor Status via Type of Milk"
   ]
  },
  {
   "cell_type": "code",
   "execution_count": null,
   "id": "45a398af",
   "metadata": {},
   "outputs": [],
   "source": [
    "mbm_non = merged[\n",
    "    (merged[\"MBM/DMB?\"] == \"MBM\") & \n",
    "    (merged[\"Secretor Status\"] == \"Non-Secretor\")\n",
    "]\n",
    "\n",
    "count = len(mbm_non)\n",
    "count_non = mbm_non[\"Subject ID\"].nunique()\n",
    "count_non\n",
    "\n",
    "print(f\"Number of MBM samples from Non-Secretors: {count}\")\n",
    "print(f\"Number of unique Non-Secretor subjects with MBM samples: {count_non}\")"
   ]
  },
  {
   "cell_type": "code",
   "execution_count": null,
   "id": "fb8a2260",
   "metadata": {},
   "outputs": [],
   "source": [
    "mbm_sec = merged[\n",
    "    (merged[\"MBM/DMB?\"] == \"MBM\") & \n",
    "    (merged[\"Secretor Status\"] == \"Secretor\")\n",
    "]\n",
    "\n",
    "count_s = len(mbm_sec)\n",
    "count_sec = mbm_sec[\"Subject ID\"].nunique()\n",
    "\n",
    "print(f\"Number of MBM samples fromn Secretors: {count_s}\")\n",
    "print(f\"Number of unique Secretor subjects with MBM samples: {count_sec}\")"
   ]
  },
  {
   "cell_type": "code",
   "execution_count": null,
   "id": "c551393c",
   "metadata": {},
   "outputs": [],
   "source": [
    "per_non_mbm = count_non/(count_non + count_s)*100\n",
    "print(f\"Percent of Non-Secretor for MBM samples: {per_non_mbm:2f}%\")"
   ]
  },
  {
   "cell_type": "code",
   "execution_count": null,
   "id": "02f84ee6",
   "metadata": {},
   "outputs": [],
   "source": [
    "mbm_non = merged[\n",
    "    (merged[\"MBM/DMB?\"] == \"MBM\") & \n",
    "    (merged[\"Secretor Status\"] == \"Non-Secretor\")\n",
    "]\n",
    "\n",
    "count = len(mbm_non)\n",
    "count_non = mbm_non[\"sample_unique_id\"].nunique()\n",
    "count_non"
   ]
  },
  {
   "cell_type": "code",
   "execution_count": null,
   "id": "008a2458",
   "metadata": {},
   "outputs": [],
   "source": [
    "dbm_non = merged[\n",
    "    (merged[\"MBM/DMB?\"] == \"DBM\") & \n",
    "    (merged[\"Secretor Status\"] == \"Non-Secretor\")\n",
    "]\n",
    "\n",
    "count_d = len(dbm_non)\n",
    "count_dnon = dbm_non[\"Subject ID\"].nunique()\n",
    "\n",
    "print(f\"Number of DBM samples from Non-Secretors: {count_d}\")\n",
    "print(f\"Number of unique Non-Secretor subjects with DBM samples: {count_dnon}\")"
   ]
  },
  {
   "cell_type": "code",
   "execution_count": null,
   "id": "b0f51c66",
   "metadata": {},
   "outputs": [],
   "source": [
    "dbm_sec = merged[\n",
    "    (merged[\"MBM/DMB?\"] == \"DBM\") & \n",
    "    (merged[\"Secretor Status\"] == \"Secretor\")\n",
    "]\n",
    "\n",
    "count_d_s = len(dbm_sec)\n",
    "count_dsec = dbm_sec[\"Subject ID\"].nunique()\n",
    "\n",
    "print(f\"Number of DBM samples from Secretors: {count_d_s}\")\n",
    "print(f\"Number of unique Secretor subjects with DBM samples: {count_dsec}\")"
   ]
  },
  {
   "cell_type": "code",
   "execution_count": null,
   "id": "7280d763",
   "metadata": {},
   "outputs": [],
   "source": [
    "import seaborn as sns\n",
    "import matplotlib.pyplot as plt\n",
    "from scipy.stats import mannwhitneyu\n",
    "\n",
    "sns.boxplot(data=merged, x=\"TPN Y/N?\", y=\"2FL\")\n",
    "plt.title(\"2’FL Concentration by TPN Use\")\n",
    "plt.show()\n",
    "\n",
    "# Mann-Whitney U test (non-parametric)\n",
    "group1 = merged[merged[\"TPN Y/N?\"] == \"Y\"][\"2FL\"].dropna()\n",
    "group2 = merged[merged[\"TPN Y/N?\"] == \"N\"][\"2FL\"].dropna()\n",
    "\n",
    "stat, p = mannwhitneyu(group1, group2)\n",
    "print(f\"Mann-Whitney U test: U={stat:.2f}, p={p:.4f}\")\n"
   ]
  },
  {
   "cell_type": "markdown",
   "id": "8f8772a5",
   "metadata": {},
   "source": [
    "### Only with Subject IDs with more than 3 timepoints"
   ]
  },
  {
   "cell_type": "code",
   "execution_count": null,
   "id": "130f1e62",
   "metadata": {},
   "outputs": [],
   "source": [
    "subject_counts = merged[\"Subject ID\"].value_counts()\n",
    "longitudinal_subjects = subject_counts[subject_counts > 3].index\n",
    "\n",
    "filtered_df = merged[merged[\"Subject ID\"].isin(longitudinal_subjects)].copy()"
   ]
  },
  {
   "cell_type": "code",
   "execution_count": null,
   "id": "14979276",
   "metadata": {},
   "outputs": [],
   "source": [
    "filtered_df.columns = filtered_df.columns.str.strip()\n"
   ]
  },
  {
   "cell_type": "code",
   "execution_count": null,
   "id": "e41acbdc",
   "metadata": {},
   "outputs": [],
   "source": [
    "filtered_df[\"MBM/DMB?\"]"
   ]
  },
  {
   "cell_type": "code",
   "execution_count": null,
   "id": "5ef337d7",
   "metadata": {},
   "outputs": [],
   "source": [
    "filtered_df.columns"
   ]
  },
  {
   "cell_type": "code",
   "execution_count": null,
   "id": "1ac679b8",
   "metadata": {},
   "outputs": [],
   "source": [
    "df = merged.rename(columns=lambda x: x.strip())  # Remove trailing spaces\n",
    "df[\"DOL\"] = pd.to_numeric(df[\"DOL\"], errors=\"coerce\")"
   ]
  },
  {
   "cell_type": "code",
   "execution_count": null,
   "id": "1e055c7f",
   "metadata": {},
   "outputs": [],
   "source": [
    "import plotly.express as px\n",
    "\n",
    "fig = px.line(\n",
    "    df[df[\"Subject ID\"] == 'NB00003'],  # set selected_subject as needed\n",
    "    x=\"DOL\",\n",
    "    y=\"2FL\",\n",
    "    color=\"TPN Y/N?\",  # or \"TPN Y/N?\"\n",
    "    markers=True,\n",
    "    title=f\"2’FL over Time for {'NB00003'} by HMF Status\"\n",
    ")\n",
    "fig.update_layout(\n",
    "    plot_bgcolor=\"#1E1E1E\",\n",
    "    paper_bgcolor=\"#1E1E1E\",\n",
    "    font_color=\"white\"\n",
    ")\n",
    "fig.show()\n"
   ]
  },
  {
   "cell_type": "code",
   "execution_count": null,
   "id": "fb0ebf3e",
   "metadata": {},
   "outputs": [],
   "source": [
    "from scipy.stats import mannwhitneyu\n",
    "\n",
    "group1 = df[df[\"TPN Y/N?\"] == \"Y\"][\"2FL\"].dropna()\n",
    "group2 = df[df[\"TPN Y/N?\"] == \"N\"][\"2FL\"].dropna()\n",
    "\n",
    "stat, p = mannwhitneyu(group1, group2)\n",
    "print(f\"TPN Effect on 2’FL: U = {stat:.2f}, p = {p:.4f}\")\n"
   ]
  },
  {
   "cell_type": "code",
   "execution_count": null,
   "id": "e69de2f5",
   "metadata": {},
   "outputs": [],
   "source": [
    "df.columns"
   ]
  },
  {
   "cell_type": "code",
   "execution_count": null,
   "id": "0e0d601a",
   "metadata": {},
   "outputs": [],
   "source": [
    "df[\"hover_label\"] = (\n",
    "    \"TPN: \" + df[\"TPN Y/N?\"].astype(str) + \"<br>\" +\n",
    "    \"HMF: \" + df[\"HMF Y/N?\"].astype(str) + \"<br>\" +\n",
    "    \"Iron: \" + df[\"Iron Y/N\"].astype(str) + \"<br>\" +\n",
    "    \"Scavenged: \" + df[\"Scavenged/Fresh?\"].astype(str) + \"<br>\" +\n",
    "    \"Notes: \" + df[\"Additional Comments\"].astype(str)\n",
    ")"
   ]
  },
  {
   "cell_type": "code",
   "execution_count": null,
   "id": "e59a771e",
   "metadata": {},
   "outputs": [],
   "source": [
    "import plotly.express as px"
   ]
  },
  {
   "cell_type": "code",
   "execution_count": null,
   "id": "5ed819e2",
   "metadata": {},
   "outputs": [],
   "source": [
    "df[\"Iron Size\"] = df[\"Iron Y/N\"].map({\"Y\": 20, \"N\": 10})\n"
   ]
  },
  {
   "cell_type": "code",
   "execution_count": null,
   "id": "b3854868",
   "metadata": {},
   "outputs": [],
   "source": [
    "import plotly.express as px\n",
    "\n",
    "fig = px.scatter(\n",
    "    df[df[\"Subject ID\"] == \"NB00003\"],\n",
    "    x=\"DOL\",\n",
    "    y=\"2FL\",\n",
    "    color=\"TPN Y/N?\",\n",
    "    symbol=\"Scavenged/Fresh?\",\n",
    "    size=\"Iron Size\",\n",
    "    hover_name=\"DOL\",\n",
    "    hover_data={\n",
    "        \"TPN Y/N?\": True,\n",
    "        \"HMF Y/N?\": True,\n",
    "        \"Iron Y/N\": True,\n",
    "        \"Scavenged/Fresh?\": True,\n",
    "        \"Additional Comments\": True\n",
    "    },\n",
    "    text=\"HMF Y/N?\",\n",
    "    title=\"2’FL over Time for NB00003\"\n",
    ")\n",
    "\n",
    "\n",
    "fig.update_layout(\n",
    "    plot_bgcolor=\"#1E1E1E\",\n",
    "    paper_bgcolor=\"#1E1E1E\",\n",
    "    font_color=\"white\"\n",
    ")\n",
    "\n",
    "fig.show()\n"
   ]
  },
  {
   "cell_type": "markdown",
   "id": "dc549e1e",
   "metadata": {},
   "source": [
    "## Type of Milk Collected"
   ]
  },
  {
   "cell_type": "code",
   "execution_count": null,
   "id": "7975c387",
   "metadata": {},
   "outputs": [],
   "source": [
    "merged[\"Additional Comments\"].value_counts()"
   ]
  },
  {
   "cell_type": "code",
   "execution_count": null,
   "id": "f574d404",
   "metadata": {},
   "outputs": [],
   "source": [
    "filtered_merged = merged[\n",
    "    merged[\"Additional Comments\"].isin([\"Residual from Milk Prep Room\", \"Scavenged Feeding Tube\"])\n",
    "].copy()"
   ]
  },
  {
   "cell_type": "code",
   "execution_count": null,
   "id": "ae511176",
   "metadata": {},
   "outputs": [],
   "source": [
    "filtered_merged"
   ]
  },
  {
   "cell_type": "code",
   "execution_count": null,
   "id": "2d2d4b6d",
   "metadata": {},
   "outputs": [],
   "source": [
    "def classify_sample_method(comment):\n",
    "    if isinstance(comment, str):\n",
    "        if \"scavenged feeding tube\" in comment.lower():\n",
    "            return \"Scavenged\"\n",
    "        elif \"milk prep room\" in comment.lower():\n",
    "            return \"Residual\"\n",
    "    return \"Other\"\n",
    "\n",
    "filtered_merged[\"Sample Source\"] = filtered_merged[\"Additional Comments\"].apply(classify_sample_method)\n"
   ]
  },
  {
   "cell_type": "code",
   "execution_count": null,
   "id": "a0a07144",
   "metadata": {},
   "outputs": [],
   "source": [
    "filtered_merged[\"Sample Source\"].value_counts()"
   ]
  },
  {
   "cell_type": "code",
   "execution_count": null,
   "id": "7bb83e06",
   "metadata": {},
   "outputs": [],
   "source": [
    "filtered_merged[\"CGA\"].describe()"
   ]
  },
  {
   "cell_type": "code",
   "execution_count": null,
   "id": "5599e63f",
   "metadata": {},
   "outputs": [],
   "source": [
    "filtered_merged[\"CGA Bin\"] = pd.cut(\n",
    "    filtered_merged[\"CGA\"], \n",
    "    bins=[28, 32, 34, 36, 41], \n",
    "    labels=[\"Very Preterm (<32)\", \"Moderate Preterm (32-34)\", \"Late Preterm (34–36)\", \"Term (35–40)\"]\n",
    ")\n"
   ]
  }
 ],
 "metadata": {
  "kernelspec": {
   "display_name": ".hmo-kernel (3.13.5)",
   "language": "python",
   "name": "python3"
  },
  "language_info": {
   "codemirror_mode": {
    "name": "ipython",
    "version": 3
   },
   "file_extension": ".py",
   "mimetype": "text/x-python",
   "name": "python",
   "nbconvert_exporter": "python",
   "pygments_lexer": "ipython3",
   "version": "3.13.5"
  }
 },
 "nbformat": 4,
 "nbformat_minor": 5
}
